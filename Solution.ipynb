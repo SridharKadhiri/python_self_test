{
 "cells": [
  {
   "cell_type": "markdown",
   "id": "9f34656b",
   "metadata": {},
   "source": [
    "1. How do you create an empty list in Python?"
   ]
  },
  {
   "cell_type": "code",
   "execution_count": 1,
   "id": "45a3bfbd",
   "metadata": {},
   "outputs": [],
   "source": [
    "empty_list = []"
   ]
  },
  {
   "cell_type": "markdown",
   "id": "b223d527",
   "metadata": {},
   "source": [
    "2. How do you create a list with initial values in Python?"
   ]
  },
  {
   "cell_type": "code",
   "execution_count": null,
   "id": "67cb9969",
   "metadata": {},
   "outputs": [],
   "source": []
  },
  {
   "cell_type": "code",
   "execution_count": 2,
   "id": "107b48c7",
   "metadata": {},
   "outputs": [],
   "source": [
    "lista = [1,4,7]"
   ]
  },
  {
   "cell_type": "markdown",
   "id": "55f1a88c",
   "metadata": {},
   "source": [
    "3. How do you access the first element of a list in Python?"
   ]
  },
  {
   "cell_type": "code",
   "execution_count": 3,
   "id": "8ec02945",
   "metadata": {},
   "outputs": [
    {
     "data": {
      "text/plain": [
       "1"
      ]
     },
     "execution_count": 3,
     "metadata": {},
     "output_type": "execute_result"
    }
   ],
   "source": [
    "lista[0]"
   ]
  },
  {
   "cell_type": "markdown",
   "id": "6788db48",
   "metadata": {},
   "source": [
    "4. How do you access the last element of a list in Python?"
   ]
  },
  {
   "cell_type": "code",
   "execution_count": 4,
   "id": "d46537d4",
   "metadata": {},
   "outputs": [
    {
     "data": {
      "text/plain": [
       "7"
      ]
     },
     "execution_count": 4,
     "metadata": {},
     "output_type": "execute_result"
    }
   ],
   "source": [
    "lista[-1]"
   ]
  },
  {
   "cell_type": "markdown",
   "id": "a7e4da32",
   "metadata": {},
   "source": [
    "5. How do you access a specific element of a list in Python?"
   ]
  },
  {
   "cell_type": "code",
   "execution_count": 5,
   "id": "e5545924",
   "metadata": {},
   "outputs": [
    {
     "data": {
      "text/plain": [
       "4"
      ]
     },
     "execution_count": 5,
     "metadata": {},
     "output_type": "execute_result"
    }
   ],
   "source": [
    "lista[1]"
   ]
  },
  {
   "cell_type": "markdown",
   "id": "4b4c5444",
   "metadata": {},
   "source": [
    "6. How do you append an element to the end of a list in Python?"
   ]
  },
  {
   "cell_type": "code",
   "execution_count": 6,
   "id": "d85bc712",
   "metadata": {},
   "outputs": [],
   "source": [
    "lista.append(89)"
   ]
  },
  {
   "cell_type": "markdown",
   "id": "de2fe87d",
   "metadata": {},
   "source": [
    "7. How do you insert an element at a specific index in a list in Python?"
   ]
  },
  {
   "cell_type": "code",
   "execution_count": 7,
   "id": "97f483e7",
   "metadata": {},
   "outputs": [
    {
     "data": {
      "text/plain": [
       "[1, 'Inserted', 4, 7, 89]"
      ]
     },
     "execution_count": 7,
     "metadata": {},
     "output_type": "execute_result"
    }
   ],
   "source": [
    "lista.insert(1,'Inserted')\n",
    "lista"
   ]
  },
  {
   "cell_type": "markdown",
   "id": "6c683c8a",
   "metadata": {},
   "source": [
    "8. How do you remove an element from a list in Python?"
   ]
  },
  {
   "cell_type": "code",
   "execution_count": 8,
   "id": "15b60320",
   "metadata": {},
   "outputs": [
    {
     "data": {
      "text/plain": [
       "[1, 4, 7, 89]"
      ]
     },
     "execution_count": 8,
     "metadata": {},
     "output_type": "execute_result"
    }
   ],
   "source": [
    "lista.remove('Inserted')\n",
    "lista"
   ]
  },
  {
   "cell_type": "markdown",
   "id": "ef2b88a6",
   "metadata": {},
   "source": [
    "9. How do you remove the last element from a list in Python?"
   ]
  },
  {
   "cell_type": "code",
   "execution_count": 9,
   "id": "c5f88a96",
   "metadata": {},
   "outputs": [
    {
     "data": {
      "text/plain": [
       "[1, 4, 7]"
      ]
     },
     "execution_count": 9,
     "metadata": {},
     "output_type": "execute_result"
    }
   ],
   "source": [
    "lista.pop()\n",
    "lista"
   ]
  },
  {
   "cell_type": "markdown",
   "id": "4660d02d",
   "metadata": {},
   "source": [
    "\n",
    "10. How do you remove an element at a specific index from a list in Python?"
   ]
  },
  {
   "cell_type": "code",
   "execution_count": 10,
   "id": "09989b08",
   "metadata": {},
   "outputs": [
    {
     "data": {
      "text/plain": [
       "[1, 7]"
      ]
     },
     "execution_count": 10,
     "metadata": {},
     "output_type": "execute_result"
    }
   ],
   "source": [
    "lista.pop(1)\n",
    "lista"
   ]
  },
  {
   "cell_type": "markdown",
   "id": "c9e077a8",
   "metadata": {},
   "source": [
    "11. How do you check if an element is in a list in Python?"
   ]
  },
  {
   "cell_type": "code",
   "execution_count": 11,
   "id": "8999ad14",
   "metadata": {},
   "outputs": [
    {
     "data": {
      "text/plain": [
       "False"
      ]
     },
     "execution_count": 11,
     "metadata": {},
     "output_type": "execute_result"
    }
   ],
   "source": [
    "'Inserted' in lista"
   ]
  },
  {
   "cell_type": "markdown",
   "id": "078a4d0d",
   "metadata": {},
   "source": [
    "12. How do you count the number of occurrences of an element in a list in Python?"
   ]
  },
  {
   "cell_type": "code",
   "execution_count": 12,
   "id": "c56fd13c",
   "metadata": {},
   "outputs": [
    {
     "data": {
      "text/plain": [
       "6"
      ]
     },
     "execution_count": 12,
     "metadata": {},
     "output_type": "execute_result"
    }
   ],
   "source": [
    "lista = [1,2,3,4,5,6,1,2,1,2,1,1,1]\n",
    "lista.count(1)"
   ]
  },
  {
   "cell_type": "markdown",
   "id": "89297546",
   "metadata": {},
   "source": [
    "13. How do you find the index of the first occurrence of an element in a list in Python?"
   ]
  },
  {
   "cell_type": "code",
   "execution_count": 13,
   "id": "de1c3c19",
   "metadata": {},
   "outputs": [
    {
     "data": {
      "text/plain": [
       "4"
      ]
     },
     "execution_count": 13,
     "metadata": {},
     "output_type": "execute_result"
    }
   ],
   "source": [
    "lista.index(5)"
   ]
  },
  {
   "cell_type": "markdown",
   "id": "8c3b0d60",
   "metadata": {},
   "source": [
    "14. How do you find the index of the last occurrence of an element in a list in Python?"
   ]
  },
  {
   "cell_type": "code",
   "execution_count": 14,
   "id": "a7cc6902",
   "metadata": {},
   "outputs": [
    {
     "data": {
      "text/plain": [
       "3"
      ]
     },
     "execution_count": 14,
     "metadata": {},
     "output_type": "execute_result"
    }
   ],
   "source": [
    "lista[::-1].index(2)"
   ]
  },
  {
   "cell_type": "markdown",
   "id": "aae1f684",
   "metadata": {},
   "source": [
    "15. How do you reverse the order of a list in Python?"
   ]
  },
  {
   "cell_type": "code",
   "execution_count": 15,
   "id": "4114f2bc",
   "metadata": {},
   "outputs": [
    {
     "data": {
      "text/plain": [
       "[1, 1, 1, 2, 1, 2, 1, 6, 5, 4, 3, 2, 1]"
      ]
     },
     "execution_count": 15,
     "metadata": {},
     "output_type": "execute_result"
    }
   ],
   "source": [
    "lista.reverse()\n",
    "lista"
   ]
  },
  {
   "cell_type": "code",
   "execution_count": null,
   "id": "63660a89",
   "metadata": {},
   "outputs": [],
   "source": []
  },
  {
   "cell_type": "markdown",
   "id": "9486a1b7",
   "metadata": {},
   "source": [
    "16. How do you sort a list in Python?"
   ]
  },
  {
   "cell_type": "code",
   "execution_count": 16,
   "id": "19974660",
   "metadata": {},
   "outputs": [
    {
     "data": {
      "text/plain": [
       "[1, 1, 1, 1, 1, 1, 2, 2, 2, 3, 4, 5, 6]"
      ]
     },
     "execution_count": 16,
     "metadata": {},
     "output_type": "execute_result"
    }
   ],
   "source": [
    "lista.sort()\n",
    "lista"
   ]
  },
  {
   "cell_type": "markdown",
   "id": "79d36eb4",
   "metadata": {},
   "source": [
    "17. How do you sort a list in descending order in Python?"
   ]
  },
  {
   "cell_type": "code",
   "execution_count": 17,
   "id": "2205b834",
   "metadata": {},
   "outputs": [
    {
     "data": {
      "text/plain": [
       "[6, 5, 4, 3, 2, 2, 2, 1, 1, 1, 1, 1, 1]"
      ]
     },
     "execution_count": 17,
     "metadata": {},
     "output_type": "execute_result"
    }
   ],
   "source": [
    "lista.sort(reverse = True)\n",
    "lista"
   ]
  },
  {
   "cell_type": "markdown",
   "id": "7be1001d",
   "metadata": {},
   "source": [
    "18. How do you join two lists in Python?"
   ]
  },
  {
   "cell_type": "code",
   "execution_count": 18,
   "id": "b05286bc",
   "metadata": {},
   "outputs": [
    {
     "data": {
      "text/plain": [
       "[6, 5, 4, 3, 2, 2, 2, 1, 1, 1, 1, 1, 1, 'a', 'b', 'c']"
      ]
     },
     "execution_count": 18,
     "metadata": {},
     "output_type": "execute_result"
    }
   ],
   "source": [
    "listb = ['a','b','c']\n",
    "lista + listb"
   ]
  },
  {
   "cell_type": "markdown",
   "id": "5e29e267",
   "metadata": {},
   "source": [
    "19. How do you copy a list in Python?"
   ]
  },
  {
   "cell_type": "code",
   "execution_count": 19,
   "id": "e8a728dc",
   "metadata": {},
   "outputs": [
    {
     "data": {
      "text/plain": [
       "[6, 5, 4, 3, 2, 2, 2, 1, 1, 1, 1, 1, 1]"
      ]
     },
     "execution_count": 19,
     "metadata": {},
     "output_type": "execute_result"
    }
   ],
   "source": [
    "listc = lista.copy()\n",
    "listc"
   ]
  },
  {
   "cell_type": "markdown",
   "id": "480360dc",
   "metadata": {},
   "source": [
    "20. How do you check if two lists are equal in Python?"
   ]
  },
  {
   "cell_type": "code",
   "execution_count": 20,
   "id": "c11f071d",
   "metadata": {},
   "outputs": [
    {
     "name": "stdout",
     "output_type": "stream",
     "text": [
      "True\n",
      "False\n"
     ]
    }
   ],
   "source": [
    "print(listc == lista)\n",
    "print(listc == listb)"
   ]
  },
  {
   "cell_type": "markdown",
   "id": "f4ef5d05",
   "metadata": {},
   "source": [
    "21. How do you iterate over a list in Python?"
   ]
  },
  {
   "cell_type": "code",
   "execution_count": 21,
   "id": "5d5dde1f",
   "metadata": {},
   "outputs": [
    {
     "name": "stdout",
     "output_type": "stream",
     "text": [
      "6\n",
      "5\n",
      "4\n",
      "3\n",
      "2\n",
      "2\n",
      "2\n",
      "1\n",
      "1\n",
      "1\n",
      "1\n",
      "1\n",
      "1\n"
     ]
    }
   ],
   "source": [
    "for i in lista:\n",
    "    print(i)"
   ]
  },
  {
   "cell_type": "markdown",
   "id": "cd56c3f4",
   "metadata": {},
   "source": [
    "22. How do you iterate over a list in reverse order in Python?"
   ]
  },
  {
   "cell_type": "code",
   "execution_count": 22,
   "id": "1460e6a2",
   "metadata": {},
   "outputs": [
    {
     "name": "stdout",
     "output_type": "stream",
     "text": [
      "1\n",
      "1\n",
      "1\n",
      "1\n",
      "1\n",
      "1\n",
      "2\n",
      "2\n",
      "2\n",
      "3\n",
      "4\n",
      "5\n",
      "6\n"
     ]
    }
   ],
   "source": [
    "for i in lista[::-1]:\n",
    "    print(i)"
   ]
  },
  {
   "cell_type": "markdown",
   "id": "74197a63",
   "metadata": {},
   "source": [
    "23. How do you create a sublist from a list in Python?"
   ]
  },
  {
   "cell_type": "code",
   "execution_count": 23,
   "id": "b8562b75",
   "metadata": {},
   "outputs": [
    {
     "data": {
      "text/plain": [
       "[5, 4]"
      ]
     },
     "execution_count": 23,
     "metadata": {},
     "output_type": "execute_result"
    }
   ],
   "source": [
    "sb_lista = lista[1:3]\n",
    "sb_lista"
   ]
  },
  {
   "cell_type": "markdown",
   "id": "12158516",
   "metadata": {},
   "source": [
    "24. How do you concatenate a sublist to a list in Python?"
   ]
  },
  {
   "cell_type": "code",
   "execution_count": 24,
   "id": "0707c474",
   "metadata": {},
   "outputs": [],
   "source": [
    "lista.append(listb)"
   ]
  },
  {
   "cell_type": "code",
   "execution_count": 25,
   "id": "2543a82b",
   "metadata": {},
   "outputs": [
    {
     "data": {
      "text/plain": [
       "[6, 5, 4, 3, 2, 2, 2, 1, 1, 1, 1, 1, 1, ['a', 'b', 'c']]"
      ]
     },
     "execution_count": 25,
     "metadata": {},
     "output_type": "execute_result"
    }
   ],
   "source": [
    "lista"
   ]
  },
  {
   "cell_type": "markdown",
   "id": "fb1be872",
   "metadata": {},
   "source": [
    "25. How do you find the maximum value in a list in Python?"
   ]
  },
  {
   "cell_type": "code",
   "execution_count": 26,
   "id": "8ebe1ba9",
   "metadata": {},
   "outputs": [],
   "source": [
    "lista = [i for i in range(10)]\n",
    "from random import shuffle\n",
    "lista = shuffle(lista)\n",
    "lista"
   ]
  },
  {
   "cell_type": "code",
   "execution_count": 27,
   "id": "78a2b3f6",
   "metadata": {},
   "outputs": [
    {
     "name": "stdout",
     "output_type": "stream",
     "text": [
      "[9, 3, 7, 2, 4, 6, 1, 0, 5, 8]\n"
     ]
    }
   ],
   "source": [
    "import random\n",
    "lista = [i for i in range(10)]\n",
    "\n",
    "random.shuffle(lista)\n",
    "\n",
    "print(lista)\n",
    "\n",
    "lista.sort()"
   ]
  },
  {
   "cell_type": "code",
   "execution_count": 28,
   "id": "9c785b8b",
   "metadata": {},
   "outputs": [
    {
     "data": {
      "text/plain": [
       "9"
      ]
     },
     "execution_count": 28,
     "metadata": {},
     "output_type": "execute_result"
    }
   ],
   "source": [
    "lista[-1]"
   ]
  },
  {
   "cell_type": "markdown",
   "id": "691d2563",
   "metadata": {},
   "source": [
    "26. How do you find the minimum value in a list in Python?"
   ]
  },
  {
   "cell_type": "code",
   "execution_count": 29,
   "id": "8eac124c",
   "metadata": {},
   "outputs": [
    {
     "data": {
      "text/plain": [
       "0"
      ]
     },
     "execution_count": 29,
     "metadata": {},
     "output_type": "execute_result"
    }
   ],
   "source": [
    "min(lista)"
   ]
  },
  {
   "cell_type": "markdown",
   "id": "0566efd0",
   "metadata": {},
   "source": [
    "27. How do you find the sum of a list in Python?"
   ]
  },
  {
   "cell_type": "code",
   "execution_count": 30,
   "id": "f41c6af5",
   "metadata": {},
   "outputs": [
    {
     "data": {
      "text/plain": [
       "45"
      ]
     },
     "execution_count": 30,
     "metadata": {},
     "output_type": "execute_result"
    }
   ],
   "source": [
    "sum(lista)"
   ]
  },
  {
   "cell_type": "markdown",
   "id": "a6dcb78f",
   "metadata": {},
   "source": [
    "28. How do you find the average of a list in Python?"
   ]
  },
  {
   "cell_type": "code",
   "execution_count": 31,
   "id": "8a4db1fc",
   "metadata": {},
   "outputs": [
    {
     "data": {
      "text/plain": [
       "4.5"
      ]
     },
     "execution_count": 31,
     "metadata": {},
     "output_type": "execute_result"
    }
   ],
   "source": [
    "sum(lista) / len(lista)"
   ]
  },
  {
   "cell_type": "markdown",
   "id": "a6028a96",
   "metadata": {},
   "source": [
    "29. How do you remove duplicates from a list in Python?"
   ]
  },
  {
   "cell_type": "code",
   "execution_count": 32,
   "id": "a5d9354d",
   "metadata": {},
   "outputs": [
    {
     "data": {
      "text/plain": [
       "[0, 1, 2, 3, 4, 5, 6, 7, 8, 9]"
      ]
     },
     "execution_count": 32,
     "metadata": {},
     "output_type": "execute_result"
    }
   ],
   "source": [
    "dups = []\n",
    "\n",
    "for element in lista:\n",
    "    if element in dups:\n",
    "        lista.remove(element)\n",
    "    else:\n",
    "        dups.append(element)\n",
    "dups"
   ]
  },
  {
   "cell_type": "markdown",
   "id": "caea56db",
   "metadata": {},
   "source": [
    "30. How do you create a list of unique elements from two lists in Python?"
   ]
  },
  {
   "cell_type": "code",
   "execution_count": 33,
   "id": "f0f017a5",
   "metadata": {},
   "outputs": [
    {
     "data": {
      "text/plain": [
       "['a', 'b', 'c']"
      ]
     },
     "execution_count": 33,
     "metadata": {},
     "output_type": "execute_result"
    }
   ],
   "source": [
    "lista = lista+ lista\n",
    "listb"
   ]
  },
  {
   "cell_type": "code",
   "execution_count": 34,
   "id": "d937b977",
   "metadata": {},
   "outputs": [
    {
     "data": {
      "text/plain": [
       "[0, 1, 2, 3, 4, 5, 6, 7, 8, 9, 'a', 'b', 'c']"
      ]
     },
     "execution_count": 34,
     "metadata": {},
     "output_type": "execute_result"
    }
   ],
   "source": [
    "unq = []\n",
    "\n",
    "lista = lista +listb\n",
    "for element in lista:\n",
    "    if element not in unq:\n",
    "        unq.append(element)\n",
    "unq"
   ]
  },
  {
   "cell_type": "markdown",
   "id": "a09a41c0",
   "metadata": {},
   "source": [
    "31. How do you create a list of unique elements from multiple lists in Python?"
   ]
  },
  {
   "cell_type": "code",
   "execution_count": 35,
   "id": "bbaa74dd",
   "metadata": {},
   "outputs": [],
   "source": [
    "# convert to single list by adding the elements\n",
    "# Convert to a set onky uniques will be present\n",
    "# convert to a list"
   ]
  },
  {
   "cell_type": "markdown",
   "id": "a88a1669",
   "metadata": {},
   "source": [
    "32. How do you create a list of all combinations of elements from two lists in Python?"
   ]
  },
  {
   "cell_type": "code",
   "execution_count": 36,
   "id": "5ca02b40",
   "metadata": {},
   "outputs": [
    {
     "data": {
      "text/plain": [
       "36"
      ]
     },
     "execution_count": 36,
     "metadata": {},
     "output_type": "execute_result"
    }
   ],
   "source": [
    "lista = [1,2,3,4,5,6,6,67,90]\n",
    "listb = ['a','b','c','d']\n",
    "\n",
    "from itertools import product\n",
    "\n",
    "combinations = list(product(lista,listb))\n",
    "len(combinations)"
   ]
  },
  {
   "cell_type": "markdown",
   "id": "819d3a58",
   "metadata": {},
   "source": [
    "33. How do you create a list of all permutations of elements from a list in Python?"
   ]
  },
  {
   "cell_type": "code",
   "execution_count": 37,
   "id": "7a897e25",
   "metadata": {},
   "outputs": [
    {
     "data": {
      "text/plain": [
       "362880"
      ]
     },
     "execution_count": 37,
     "metadata": {},
     "output_type": "execute_result"
    }
   ],
   "source": [
    "from itertools import permutations\n",
    "\n",
    "permutations_list = list(permutations(lista))\n",
    "len(permutations_list)"
   ]
  },
  {
   "cell_type": "markdown",
   "id": "bada4300",
   "metadata": {},
   "source": [
    "34. How do you find the intersection of two lists in Python?"
   ]
  },
  {
   "cell_type": "code",
   "execution_count": 38,
   "id": "18246bd8",
   "metadata": {},
   "outputs": [
    {
     "data": {
      "text/plain": [
       "{4, 5}"
      ]
     },
     "execution_count": 38,
     "metadata": {},
     "output_type": "execute_result"
    }
   ],
   "source": [
    "lista = [1,2,3,4,5]\n",
    "listb = [4,5,6,7,8]\n",
    "\n",
    "inter = set(lista) & set(listb)\n",
    "inter"
   ]
  },
  {
   "cell_type": "markdown",
   "id": "ec9f33f4",
   "metadata": {},
   "source": [
    "35. How do you find the union of two lists in Python?"
   ]
  },
  {
   "cell_type": "code",
   "execution_count": 39,
   "id": "5d5674d3",
   "metadata": {},
   "outputs": [
    {
     "data": {
      "text/plain": [
       "{1, 2, 3, 4, 5, 6, 7, 8}"
      ]
     },
     "execution_count": 39,
     "metadata": {},
     "output_type": "execute_result"
    }
   ],
   "source": [
    "union = set(lista)| set(listb)\n",
    "union"
   ]
  },
  {
   "cell_type": "markdown",
   "id": "21d93476",
   "metadata": {},
   "source": [
    "36. How do you find the difference between two lists in Python?"
   ]
  },
  {
   "cell_type": "code",
   "execution_count": 40,
   "id": "3a5df91a",
   "metadata": {},
   "outputs": [
    {
     "data": {
      "text/plain": [
       "{1, 2, 3}"
      ]
     },
     "execution_count": 40,
     "metadata": {},
     "output_type": "execute_result"
    }
   ],
   "source": [
    "set(lista) -set(listb)"
   ]
  },
  {
   "cell_type": "markdown",
   "id": "9b486c04",
   "metadata": {},
   "source": [
    "37. How do you find the symmetric difference between two lists in Python?"
   ]
  },
  {
   "cell_type": "code",
   "execution_count": 41,
   "id": "3efd858a",
   "metadata": {},
   "outputs": [
    {
     "data": {
      "text/plain": [
       "{1, 2, 3, 6, 7, 8}"
      ]
     },
     "execution_count": 41,
     "metadata": {},
     "output_type": "execute_result"
    }
   ],
   "source": [
    "set(lista).symmetric_difference(set(listb))"
   ]
  },
  {
   "cell_type": "markdown",
   "id": "d1646eba",
   "metadata": {},
   "source": [
    "38. How do you check if a list is a subset of another list in Python?"
   ]
  },
  {
   "cell_type": "code",
   "execution_count": 42,
   "id": "dc5751d0",
   "metadata": {},
   "outputs": [
    {
     "name": "stdout",
     "output_type": "stream",
     "text": [
      "True,    False,    False,    False\n"
     ]
    }
   ],
   "source": [
    "listc = [4,5]\n",
    "listd = [45,78]\n",
    "\n",
    "print(\n",
    "f'{set(listc).issubset(lista)},\\\n",
    "    {set(listd).issubset(lista)},\\\n",
    "    {set(lista).issubset(listc)},\\\n",
    "    {set(lista).issubset(listd)}')"
   ]
  },
  {
   "cell_type": "markdown",
   "id": "e67b528f",
   "metadata": {},
   "source": [
    "39. How do you check if a list is a superset of another list in Python?"
   ]
  },
  {
   "cell_type": "code",
   "execution_count": 43,
   "id": "01f54ee8",
   "metadata": {},
   "outputs": [
    {
     "data": {
      "text/plain": [
       "False"
      ]
     },
     "execution_count": 43,
     "metadata": {},
     "output_type": "execute_result"
    }
   ],
   "source": [
    "set(lista).issuperset(set(listb))"
   ]
  },
  {
   "cell_type": "markdown",
   "id": "bd92aa52",
   "metadata": {},
   "source": [
    "40. How do you check if two lists have any common elements in Python?"
   ]
  },
  {
   "cell_type": "code",
   "execution_count": 44,
   "id": "662a1c38",
   "metadata": {},
   "outputs": [
    {
     "data": {
      "text/plain": [
       "True"
      ]
     },
     "execution_count": 44,
     "metadata": {},
     "output_type": "execute_result"
    }
   ],
   "source": [
    "bool(set(lista).intersection(set(listb)))"
   ]
  },
  {
   "cell_type": "markdown",
   "id": "f606abf6",
   "metadata": {},
   "source": [
    "41. How do you flatten a nested list in Python?"
   ]
  },
  {
   "cell_type": "code",
   "execution_count": 45,
   "id": "31ef6ec4",
   "metadata": {},
   "outputs": [
    {
     "data": {
      "text/plain": [
       "[1, 2, 3, 4, 5, 4, 5, 6, 7, 8, 4, 5, 45, 78]"
      ]
     },
     "execution_count": 45,
     "metadata": {},
     "output_type": "execute_result"
    }
   ],
   "source": [
    "listu = lista+listb+listc+listd\n",
    "listu"
   ]
  },
  {
   "cell_type": "code",
   "execution_count": 46,
   "id": "156e7670",
   "metadata": {},
   "outputs": [
    {
     "data": {
      "text/plain": [
       "True"
      ]
     },
     "execution_count": 46,
     "metadata": {},
     "output_type": "execute_result"
    }
   ],
   "source": [
    "set(listu).issuperset(set(lista))"
   ]
  },
  {
   "cell_type": "markdown",
   "id": "b94a7775",
   "metadata": {},
   "source": [
    "42. How do you group elements in a list by a certain criterion in Python?"
   ]
  },
  {
   "cell_type": "code",
   "execution_count": 47,
   "id": "94cc2cb0",
   "metadata": {},
   "outputs": [
    {
     "data": {
      "text/plain": [
       "[1, 2, 3, 4, 5, 4, 5, 6, 7, 8, 4, 5, 45, 78]"
      ]
     },
     "execution_count": 47,
     "metadata": {},
     "output_type": "execute_result"
    }
   ],
   "source": [
    "listu"
   ]
  },
  {
   "cell_type": "code",
   "execution_count": 48,
   "id": "e755046d",
   "metadata": {},
   "outputs": [
    {
     "data": {
      "text/plain": [
       "[2, 4, 4, 6, 8, 4, 78]"
      ]
     },
     "execution_count": 48,
     "metadata": {},
     "output_type": "execute_result"
    }
   ],
   "source": [
    "cond1 = [i for i in listu if i%2 == 0]\n",
    "cond1"
   ]
  },
  {
   "cell_type": "markdown",
   "id": "d5e3c853",
   "metadata": {},
   "source": [
    "43. How do you partition a list into two parts based on a condition in Python?"
   ]
  },
  {
   "cell_type": "code",
   "execution_count": null,
   "id": "c7ee006a",
   "metadata": {},
   "outputs": [],
   "source": []
  },
  {
   "cell_type": "markdown",
   "id": "aeb75c4d",
   "metadata": {},
   "source": [
    "44. How do you randomly shuffle the elements of a list in Python?"
   ]
  },
  {
   "cell_type": "code",
   "execution_count": 49,
   "id": "a58a97a5",
   "metadata": {},
   "outputs": [
    {
     "data": {
      "text/plain": [
       "[5, 7, 3, 6, 4, 4, 4, 1, 5, 5, 8, 45, 78, 2]"
      ]
     },
     "execution_count": 49,
     "metadata": {},
     "output_type": "execute_result"
    }
   ],
   "source": [
    "from random import shuffle\n",
    "shuffle(listu)\n",
    "listu"
   ]
  },
  {
   "cell_type": "markdown",
   "id": "f6f4ca75",
   "metadata": {},
   "source": [
    "45. How do you find the second largest element in a list in Python?"
   ]
  },
  {
   "cell_type": "code",
   "execution_count": 50,
   "id": "00813892",
   "metadata": {},
   "outputs": [
    {
     "data": {
      "text/plain": [
       "45"
      ]
     },
     "execution_count": 50,
     "metadata": {},
     "output_type": "execute_result"
    }
   ],
   "source": [
    "listu.sort()\n",
    "listu[-2]"
   ]
  },
  {
   "cell_type": "markdown",
   "id": "9b4c96c4",
   "metadata": {},
   "source": [
    "46. How do you find the second smallest element in a list in Python?"
   ]
  },
  {
   "cell_type": "code",
   "execution_count": 51,
   "id": "f8752cc4",
   "metadata": {},
   "outputs": [
    {
     "data": {
      "text/plain": [
       "2"
      ]
     },
     "execution_count": 51,
     "metadata": {},
     "output_type": "execute_result"
    }
   ],
   "source": [
    "listu[1]"
   ]
  },
  {
   "cell_type": "markdown",
   "id": "7fb5e4c5",
   "metadata": {},
   "source": [
    "47. How do you find the kth largest element in a list in Python?"
   ]
  },
  {
   "cell_type": "code",
   "execution_count": 52,
   "id": "e3391b5c",
   "metadata": {},
   "outputs": [
    {
     "name": "stdout",
     "output_type": "stream",
     "text": [
      "8\n"
     ]
    },
    {
     "data": {
      "text/plain": [
       "[1, 2, 3, 4, 4, 4, 5, 5, 5, 6, 7, 8, 45, 78]"
      ]
     },
     "execution_count": 52,
     "metadata": {},
     "output_type": "execute_result"
    }
   ],
   "source": [
    "\n",
    "def kth_largest(k, rec):\n",
    "    rec.sort()\n",
    "    return rec[len(rec)-k]\n",
    "\n",
    "print(kth_largest(3,listu))\n",
    "listu"
   ]
  },
  {
   "cell_type": "markdown",
   "id": "bbe71ed2",
   "metadata": {},
   "source": [
    "48. How do you find the kth smallest element in a list in Python?Bottom of Form"
   ]
  },
  {
   "cell_type": "code",
   "execution_count": 53,
   "id": "6ee79205",
   "metadata": {},
   "outputs": [
    {
     "name": "stdout",
     "output_type": "stream",
     "text": [
      "3\n"
     ]
    },
    {
     "data": {
      "text/plain": [
       "[1, 2, 3, 4, 4, 4, 5, 5, 5, 6, 7, 8, 45, 78]"
      ]
     },
     "execution_count": 53,
     "metadata": {},
     "output_type": "execute_result"
    }
   ],
   "source": [
    "def kth_smallest(k, rec):\n",
    "    rec.sort()\n",
    "    return rec[k]-1\n",
    "\n",
    "print(kth_smallest(3,listu))\n",
    "listu"
   ]
  },
  {
   "cell_type": "markdown",
   "id": "2f32c427",
   "metadata": {},
   "source": [
    "1. Create a tuple with three elements."
   ]
  },
  {
   "cell_type": "code",
   "execution_count": 54,
   "id": "71c2090b",
   "metadata": {},
   "outputs": [],
   "source": [
    "tup1 = (1,2,3)"
   ]
  },
  {
   "cell_type": "markdown",
   "id": "a32b5d61",
   "metadata": {},
   "source": [
    "2. Print the second element of the tuple."
   ]
  },
  {
   "cell_type": "code",
   "execution_count": 55,
   "id": "a6cea147",
   "metadata": {},
   "outputs": [
    {
     "data": {
      "text/plain": [
       "2"
      ]
     },
     "execution_count": 55,
     "metadata": {},
     "output_type": "execute_result"
    }
   ],
   "source": [
    "tup1[1]"
   ]
  },
  {
   "cell_type": "markdown",
   "id": "a0417fe6",
   "metadata": {},
   "source": [
    "3. Create a tuple of integers and convert it to a string. Tup = (1,2,3) à (‘1’, ‘2’, ‘3’)"
   ]
  },
  {
   "cell_type": "code",
   "execution_count": 56,
   "id": "d47304b5",
   "metadata": {},
   "outputs": [
    {
     "data": {
      "text/plain": [
       "('1', '2', '3')"
      ]
     },
     "execution_count": 56,
     "metadata": {},
     "output_type": "execute_result"
    }
   ],
   "source": [
    "tup1\n",
    "\n",
    "tup2 = tuple(str(element) for element in tup1)\n",
    "tup2"
   ]
  },
  {
   "cell_type": "markdown",
   "id": "f22c11c9",
   "metadata": {},
   "source": [
    "4. Concatenate two tuples."
   ]
  },
  {
   "cell_type": "code",
   "execution_count": 57,
   "id": "244a1ae1",
   "metadata": {},
   "outputs": [
    {
     "data": {
      "text/plain": [
       "(1, 2, 3, '1', '2', '3')"
      ]
     },
     "execution_count": 57,
     "metadata": {},
     "output_type": "execute_result"
    }
   ],
   "source": [
    "tup1+tup2"
   ]
  },
  {
   "cell_type": "markdown",
   "id": "3fd9fd2c",
   "metadata": {},
   "source": [
    "5. Find the length of a tuple."
   ]
  },
  {
   "cell_type": "code",
   "execution_count": 58,
   "id": "efad96ed",
   "metadata": {},
   "outputs": [
    {
     "data": {
      "text/plain": [
       "3"
      ]
     },
     "execution_count": 58,
     "metadata": {},
     "output_type": "execute_result"
    }
   ],
   "source": [
    "len(tup1)"
   ]
  },
  {
   "cell_type": "markdown",
   "id": "bdc19af1",
   "metadata": {},
   "source": [
    "6. Check if an element exists in a tuple."
   ]
  },
  {
   "cell_type": "code",
   "execution_count": 59,
   "id": "a3478cdc",
   "metadata": {},
   "outputs": [
    {
     "data": {
      "text/plain": [
       "True"
      ]
     },
     "execution_count": 59,
     "metadata": {},
     "output_type": "execute_result"
    }
   ],
   "source": [
    "2 in tup1"
   ]
  },
  {
   "cell_type": "markdown",
   "id": "743dd64f",
   "metadata": {},
   "source": [
    "7. Iterate over a tuple and print each element."
   ]
  },
  {
   "cell_type": "code",
   "execution_count": 60,
   "id": "fefc23ef",
   "metadata": {},
   "outputs": [
    {
     "name": "stdout",
     "output_type": "stream",
     "text": [
      "1\n",
      "2\n",
      "3\n"
     ]
    }
   ],
   "source": [
    "for i in tup1:\n",
    "    print(i)"
   ]
  },
  {
   "cell_type": "markdown",
   "id": "2c965242",
   "metadata": {},
   "source": [
    "8. Create a tuple with one element and print its type."
   ]
  },
  {
   "cell_type": "code",
   "execution_count": 61,
   "id": "1eefe994",
   "metadata": {},
   "outputs": [
    {
     "data": {
      "text/plain": [
       "int"
      ]
     },
     "execution_count": 61,
     "metadata": {},
     "output_type": "execute_result"
    }
   ],
   "source": [
    "tup1\n",
    "\n",
    "type(tup1[0])"
   ]
  },
  {
   "cell_type": "markdown",
   "id": "a7b95995",
   "metadata": {},
   "source": [
    "9. Create a tuple with repeated elements."
   ]
  },
  {
   "cell_type": "code",
   "execution_count": 62,
   "id": "72721cfe",
   "metadata": {},
   "outputs": [
    {
     "data": {
      "text/plain": [
       "(1, 1, 2, 3, 4, 6, 6, 7, 8, 9)"
      ]
     },
     "execution_count": 62,
     "metadata": {},
     "output_type": "execute_result"
    }
   ],
   "source": [
    "tup1 = (1,1,2,3,4,6,6,7,8,9)\n",
    "tup1"
   ]
  },
  {
   "cell_type": "markdown",
   "id": "17af68f5",
   "metadata": {},
   "source": [
    "10. Unpack a tuple into variables."
   ]
  },
  {
   "cell_type": "code",
   "execution_count": 63,
   "id": "477a19ff",
   "metadata": {},
   "outputs": [
    {
     "name": "stdout",
     "output_type": "stream",
     "text": [
      "1 2 3\n"
     ]
    }
   ],
   "source": [
    "a,b,c = tup2\n",
    "\n",
    "print(a,b,c)"
   ]
  },
  {
   "cell_type": "markdown",
   "id": "edebd14a",
   "metadata": {},
   "source": [
    "11. Create a nested tuple."
   ]
  },
  {
   "cell_type": "code",
   "execution_count": 64,
   "id": "f8c12769",
   "metadata": {},
   "outputs": [
    {
     "data": {
      "text/plain": [
       "(1, 2, 3, ('a', 'b', 'c'))"
      ]
     },
     "execution_count": 64,
     "metadata": {},
     "output_type": "execute_result"
    }
   ],
   "source": [
    "tup3 = (1,2,3,('a','b','c'))\n",
    "tup3"
   ]
  },
  {
   "cell_type": "markdown",
   "id": "482a03be",
   "metadata": {},
   "source": [
    "12. Access an element of a nested tuple."
   ]
  },
  {
   "cell_type": "code",
   "execution_count": 65,
   "id": "aae4e277",
   "metadata": {},
   "outputs": [
    {
     "data": {
      "text/plain": [
       "'b'"
      ]
     },
     "execution_count": 65,
     "metadata": {},
     "output_type": "execute_result"
    }
   ],
   "source": [
    "tup3[3][1]"
   ]
  },
  {
   "cell_type": "markdown",
   "id": "3dfb33ab",
   "metadata": {},
   "source": [
    "13. Create a tuple with mixed data types."
   ]
  },
  {
   "cell_type": "code",
   "execution_count": 66,
   "id": "dabbec9e",
   "metadata": {},
   "outputs": [],
   "source": [
    "tup_4 = (1,'a',True,1.34)"
   ]
  },
  {
   "cell_type": "markdown",
   "id": "b9b9ef4b",
   "metadata": {},
   "source": [
    "14. Check the data type of each element in a tuple."
   ]
  },
  {
   "cell_type": "code",
   "execution_count": 67,
   "id": "c681da0c",
   "metadata": {},
   "outputs": [
    {
     "name": "stdout",
     "output_type": "stream",
     "text": [
      "<class 'int'>\n",
      "<class 'str'>\n",
      "<class 'bool'>\n",
      "<class 'float'>\n"
     ]
    }
   ],
   "source": [
    "\n",
    "for i in tup_4:\n",
    "    print(type(i))"
   ]
  },
  {
   "cell_type": "markdown",
   "id": "c5b481f9",
   "metadata": {},
   "source": [
    "15. Create a tuple with a single element."
   ]
  },
  {
   "cell_type": "code",
   "execution_count": 68,
   "id": "0a9bb2e5",
   "metadata": {},
   "outputs": [
    {
     "data": {
      "text/plain": [
       "3"
      ]
     },
     "execution_count": 68,
     "metadata": {},
     "output_type": "execute_result"
    }
   ],
   "source": [
    "tup_1 = (3)\n",
    "tup_1"
   ]
  },
  {
   "cell_type": "markdown",
   "id": "13ef68c4",
   "metadata": {},
   "source": [
    "16. Compare two tuples."
   ]
  },
  {
   "cell_type": "code",
   "execution_count": 69,
   "id": "109e941c",
   "metadata": {},
   "outputs": [
    {
     "data": {
      "text/plain": [
       "False"
      ]
     },
     "execution_count": 69,
     "metadata": {},
     "output_type": "execute_result"
    }
   ],
   "source": [
    "tup3 == tup_4"
   ]
  },
  {
   "cell_type": "markdown",
   "id": "682910ff",
   "metadata": {},
   "source": [
    "17. Return the largest element in a tuple."
   ]
  },
  {
   "cell_type": "code",
   "execution_count": 70,
   "id": "2aa1e0d8",
   "metadata": {},
   "outputs": [
    {
     "data": {
      "text/plain": [
       "9"
      ]
     },
     "execution_count": 70,
     "metadata": {},
     "output_type": "execute_result"
    }
   ],
   "source": [
    "tup1 = tuple(i for i in range(10))\n",
    "max(tup1)"
   ]
  },
  {
   "cell_type": "markdown",
   "id": "ba85aa99",
   "metadata": {},
   "source": [
    "18. Return the smallest element in a tuple."
   ]
  },
  {
   "cell_type": "code",
   "execution_count": 71,
   "id": "d260b096",
   "metadata": {},
   "outputs": [
    {
     "data": {
      "text/plain": [
       "0"
      ]
     },
     "execution_count": 71,
     "metadata": {},
     "output_type": "execute_result"
    }
   ],
   "source": [
    "min(tup1)"
   ]
  },
  {
   "cell_type": "markdown",
   "id": "47c291b1",
   "metadata": {},
   "source": [
    "19. Remove an element from a tuple."
   ]
  },
  {
   "cell_type": "code",
   "execution_count": 72,
   "id": "82afad2e",
   "metadata": {},
   "outputs": [
    {
     "data": {
      "text/plain": [
       "(0, 1, 2, 4, 5, 6, 7, 8, 9)"
      ]
     },
     "execution_count": 72,
     "metadata": {},
     "output_type": "execute_result"
    }
   ],
   "source": [
    "# tup1  tuples are immutable\n",
    "\n",
    "tup2 = tuple(i for i in tup1 if i != 3)\n",
    "tup2"
   ]
  },
  {
   "cell_type": "markdown",
   "id": "9e13d12d",
   "metadata": {},
   "source": [
    "20. Reverse a tuple."
   ]
  },
  {
   "cell_type": "code",
   "execution_count": 73,
   "id": "76c29497",
   "metadata": {},
   "outputs": [
    {
     "data": {
      "text/plain": [
       "(9, 8, 7, 6, 5, 4, 2, 1, 0)"
      ]
     },
     "execution_count": 73,
     "metadata": {},
     "output_type": "execute_result"
    }
   ],
   "source": [
    "tup2[::-1]"
   ]
  },
  {
   "cell_type": "markdown",
   "id": "73088439",
   "metadata": {},
   "source": [
    "21. Count the number of occurrences of an element in a tuple."
   ]
  },
  {
   "cell_type": "code",
   "execution_count": 74,
   "id": "7a3c0784",
   "metadata": {},
   "outputs": [
    {
     "data": {
      "text/plain": [
       "9"
      ]
     },
     "execution_count": 74,
     "metadata": {},
     "output_type": "execute_result"
    }
   ],
   "source": [
    "len(tup2)"
   ]
  },
  {
   "cell_type": "markdown",
   "id": "c0c6e741",
   "metadata": {},
   "source": [
    "22. Check if all elements in a tuple are equal."
   ]
  },
  {
   "cell_type": "code",
   "execution_count": 75,
   "id": "25c3770c",
   "metadata": {},
   "outputs": [
    {
     "data": {
      "text/plain": [
       "True"
      ]
     },
     "execution_count": 75,
     "metadata": {},
     "output_type": "execute_result"
    }
   ],
   "source": [
    "tup3 = [2,2,2,2,2]\n",
    "tup2\n",
    "\n",
    "def all_elements_equal(tuple_to_check):\n",
    "    return all(element == tuple_to_check[0] for element in tuple_to_check)\n",
    "\n",
    "all_elements_equal(tup3)"
   ]
  },
  {
   "cell_type": "markdown",
   "id": "2a03b760",
   "metadata": {},
   "source": [
    "23. Find the index of an element in a tuple."
   ]
  },
  {
   "cell_type": "code",
   "execution_count": 76,
   "id": "d2ea0e58",
   "metadata": {},
   "outputs": [
    {
     "data": {
      "text/plain": [
       "2"
      ]
     },
     "execution_count": 76,
     "metadata": {},
     "output_type": "execute_result"
    }
   ],
   "source": [
    "tup2.index(2)"
   ]
  },
  {
   "cell_type": "markdown",
   "id": "44e79d19",
   "metadata": {},
   "source": [
    "24. Create a tuple from a list."
   ]
  },
  {
   "cell_type": "code",
   "execution_count": 77,
   "id": "8740ca7f",
   "metadata": {},
   "outputs": [
    {
     "data": {
      "text/plain": [
       "(1, 2, 3, 4, 5)"
      ]
     },
     "execution_count": 77,
     "metadata": {},
     "output_type": "execute_result"
    }
   ],
   "source": [
    "tup1 = tuple(lista)\n",
    "tup1"
   ]
  },
  {
   "cell_type": "markdown",
   "id": "ced8a650",
   "metadata": {},
   "source": [
    "25. Convert a tuple to a list."
   ]
  },
  {
   "cell_type": "code",
   "execution_count": 78,
   "id": "b06a87bf",
   "metadata": {},
   "outputs": [
    {
     "data": {
      "text/plain": [
       "[2, 2, 2, 2, 2]"
      ]
     },
     "execution_count": 78,
     "metadata": {},
     "output_type": "execute_result"
    }
   ],
   "source": [
    "list3 = list(tup3)\n",
    "list3"
   ]
  },
  {
   "cell_type": "markdown",
   "id": "2ca1a8a3",
   "metadata": {},
   "source": [
    "26. Convert a list of tuples to a list of strings."
   ]
  },
  {
   "cell_type": "code",
   "execution_count": 79,
   "id": "3a01a4c8",
   "metadata": {},
   "outputs": [
    {
     "name": "stdout",
     "output_type": "stream",
     "text": [
      "List of Tuples\t:\n",
      "[(1, 2, 3), (2, 4, 6), (1, 3, 5, 7, 9), ('a', 'b', 'c', 'd')]\n",
      "\n",
      "List of individual strings\t:\n",
      "['1', '2', '3', '2', '4', '6', '1', '3', '5', '7', '9', 'a', 'b', 'c', 'd']\n",
      "\n",
      "List of joined tuples\t:\n",
      "['123', '246', '13579', 'abcd']\n"
     ]
    }
   ],
   "source": [
    "tup1 = (1,2,3)\n",
    "tup2 = (2,4,6)\n",
    "tup3 = (1,3,5,7,9)\n",
    "tup4 = ('a','b','c','d')\n",
    "\n",
    "list_of_tup  = [tup1,tup2,tup3,tup4]\n",
    "print (\"List of Tuples\\t:\")\n",
    "print(list_of_tup)\n",
    "\n",
    "list_of_strings =  [str(item) for tup in list_of_tup for item in tup]\n",
    "print('\\nList of individual strings\\t:')\n",
    "print(list_of_strings)\n",
    "\n",
    "list_of_joined_str = [''.join(map(str,tup)) for tup in list_of_tup]\n",
    "print('\\nList of joined tuples\\t:')\n",
    "print(list_of_joined_str)"
   ]
  },
  {
   "cell_type": "markdown",
   "id": "d2f6a07f",
   "metadata": {},
   "source": [
    "27. Concatenate a tuple and a list."
   ]
  },
  {
   "cell_type": "code",
   "execution_count": 80,
   "id": "467f3622",
   "metadata": {},
   "outputs": [
    {
     "name": "stdout",
     "output_type": "stream",
     "text": [
      "(1, 2, 3)\n",
      "['a', 'b', 'c']\n"
     ]
    },
    {
     "data": {
      "text/plain": [
       "(1, 2, 3, 'a', 'b', 'c')"
      ]
     },
     "execution_count": 80,
     "metadata": {},
     "output_type": "execute_result"
    }
   ],
   "source": [
    "print(tup1)\n",
    "lista = ['a','b','c']\n",
    "print(lista)\n",
    "\n",
    "tup1 +tuple(lista)"
   ]
  },
  {
   "cell_type": "markdown",
   "id": "fd6425c6",
   "metadata": {},
   "source": [
    "28. Create a tuple from a string."
   ]
  },
  {
   "cell_type": "code",
   "execution_count": 81,
   "id": "b7c7ff2a",
   "metadata": {},
   "outputs": [
    {
     "data": {
      "text/plain": [
       "('S', 't', 'r', 'i', 'n', 'g')"
      ]
     },
     "execution_count": 81,
     "metadata": {},
     "output_type": "execute_result"
    }
   ],
   "source": [
    "str1 = 'String'\n",
    "tuple(str1)"
   ]
  },
  {
   "cell_type": "markdown",
   "id": "4330447a",
   "metadata": {},
   "source": [
    "29. Create a new tuple with only unique elements."
   ]
  },
  {
   "cell_type": "code",
   "execution_count": 82,
   "id": "e4daeddc",
   "metadata": {},
   "outputs": [
    {
     "data": {
      "text/plain": [
       "('s', 'd', ' ', 'S', 'i', 'o', 'c', 'e', 'G', 'U', 'r', 'h', 't', 'f', 'a')"
      ]
     },
     "execution_count": 82,
     "metadata": {},
     "output_type": "execute_result"
    }
   ],
   "source": [
    "str2= 'Sriidharr is the Ghhost of the Ucchiha'\n",
    "tuple(set(str2))"
   ]
  },
  {
   "cell_type": "markdown",
   "id": "d62309c6",
   "metadata": {},
   "source": [
    "30. Sort a tuple of numbers in descending order."
   ]
  },
  {
   "cell_type": "code",
   "execution_count": 83,
   "id": "575ad6ee",
   "metadata": {},
   "outputs": [
    {
     "name": "stdout",
     "output_type": "stream",
     "text": [
      "(9, 8, 15, 9, 12, 2, 13, 12, 11, 1, 9, 4, 4, 13, 5)\n"
     ]
    },
    {
     "data": {
      "text/plain": [
       "[15, 13, 13, 12, 12, 11, 9, 9, 9, 8, 5, 4, 4, 2, 1]"
      ]
     },
     "execution_count": 83,
     "metadata": {},
     "output_type": "execute_result"
    }
   ],
   "source": [
    "from random import randint\n",
    "tup1 = tuple(randint(1,15) for i in range(15))\n",
    "print(tup1)\n",
    "\n",
    "sorted(tup1,reverse=True)"
   ]
  },
  {
   "cell_type": "markdown",
   "id": "abbd54c2",
   "metadata": {},
   "source": [
    "31. Create a tuple with elements in reverse order."
   ]
  },
  {
   "cell_type": "code",
   "execution_count": 84,
   "id": "50dcc2e9",
   "metadata": {},
   "outputs": [
    {
     "name": "stdout",
     "output_type": "stream",
     "text": [
      "(5, 9, 4, 4, 7, 9, 2, 7, 3, 7, 4, 5, 8, 9, 8)\n",
      "(8, 9, 8, 5, 4, 7, 3, 7, 2, 9, 7, 4, 4, 9, 5)\n"
     ]
    }
   ],
   "source": [
    "from random import randint\n",
    "tup1 = tuple(randint(1,10) for i in range(15))\n",
    "print(tup1)\n",
    "reversed_tup1 = tup1[::-1]\n",
    "print(reversed_tup1)"
   ]
  },
  {
   "cell_type": "markdown",
   "id": "b8e14afe",
   "metadata": {},
   "source": [
    "32. Swap the first and last elements of a tuple."
   ]
  },
  {
   "cell_type": "code",
   "execution_count": 85,
   "id": "12aeb3df",
   "metadata": {},
   "outputs": [
    {
     "name": "stdout",
     "output_type": "stream",
     "text": [
      "(1, 2, 3, 4, 5)\n",
      "(5, 2, 3, 4, 1)\n"
     ]
    }
   ],
   "source": [
    "tup1 = tuple(i for i in range(1,6))\n",
    "print(tup1)\n",
    "swapped_tuple = (tup1[-1],)+ tup1[1:-1] + (tup1[0],)\n",
    "print(swapped_tuple)"
   ]
  },
  {
   "cell_type": "markdown",
   "id": "0a9bbe9b",
   "metadata": {},
   "source": [
    "33. Merge two sorted tuples into one sorted tuple."
   ]
  },
  {
   "cell_type": "code",
   "execution_count": 86,
   "id": "41f607ee",
   "metadata": {},
   "outputs": [
    {
     "name": "stdout",
     "output_type": "stream",
     "text": [
      "[1, 2, 3, 4, 5]\n",
      "[17, 31, 41, 43, 52, 60, 65]\n"
     ]
    },
    {
     "data": {
      "text/plain": [
       "[1, 2, 3, 4, 5, 17, 31, 41, 43, 52, 60, 65]"
      ]
     },
     "execution_count": 86,
     "metadata": {},
     "output_type": "execute_result"
    }
   ],
   "source": [
    "print(sorted(swapped_tuple)) \n",
    "unorderd_tup = tuple(randint(10,100) for i in range(7))\n",
    "print(sorted(unorderd_tup))\n",
    "\n",
    "sorted(swapped_tuple+unorderd_tup)"
   ]
  },
  {
   "cell_type": "markdown",
   "id": "e8d975e7",
   "metadata": {},
   "source": [
    "34. Find the second largest element in a tuple."
   ]
  },
  {
   "cell_type": "code",
   "execution_count": 87,
   "id": "0417a500",
   "metadata": {},
   "outputs": [
    {
     "data": {
      "text/plain": [
       "60"
      ]
     },
     "execution_count": 87,
     "metadata": {},
     "output_type": "execute_result"
    }
   ],
   "source": [
    "sorted(unorderd_tup)[-2]"
   ]
  },
  {
   "cell_type": "markdown",
   "id": "0dd64942",
   "metadata": {},
   "source": [
    "35. Find the second smallest element in a tuple."
   ]
  },
  {
   "cell_type": "code",
   "execution_count": 88,
   "id": "0c9ec954",
   "metadata": {},
   "outputs": [
    {
     "data": {
      "text/plain": [
       "31"
      ]
     },
     "execution_count": 88,
     "metadata": {},
     "output_type": "execute_result"
    }
   ],
   "source": [
    "sorted(unorderd_tup)[1]"
   ]
  },
  {
   "cell_type": "markdown",
   "id": "e107eb46",
   "metadata": {},
   "source": [
    "36. Find the sum of all elements in a tuple."
   ]
  },
  {
   "cell_type": "code",
   "execution_count": 89,
   "id": "fdd188bf",
   "metadata": {},
   "outputs": [
    {
     "data": {
      "text/plain": [
       "309"
      ]
     },
     "execution_count": 89,
     "metadata": {},
     "output_type": "execute_result"
    }
   ],
   "source": [
    "sum(unorderd_tup)"
   ]
  },
  {
   "cell_type": "markdown",
   "id": "f6f5d9e4",
   "metadata": {},
   "source": [
    "37. Multiply all elements in a tuple."
   ]
  },
  {
   "cell_type": "code",
   "execution_count": 90,
   "id": "2d77f160",
   "metadata": {},
   "outputs": [
    {
     "data": {
      "text/plain": [
       "188421682800"
      ]
     },
     "execution_count": 90,
     "metadata": {},
     "output_type": "execute_result"
    }
   ],
   "source": [
    "result = 1\n",
    "for element in unorderd_tup:\n",
    "    result *= element\n",
    "    \n",
    "result"
   ]
  },
  {
   "cell_type": "markdown",
   "id": "980b9b8a",
   "metadata": {},
   "source": [
    "38. Check if a tuple is empty."
   ]
  },
  {
   "cell_type": "code",
   "execution_count": 91,
   "id": "6c34b688",
   "metadata": {},
   "outputs": [
    {
     "data": {
      "text/plain": [
       "False"
      ]
     },
     "execution_count": 91,
     "metadata": {},
     "output_type": "execute_result"
    }
   ],
   "source": [
    "len(tup1) == 0"
   ]
  },
  {
   "cell_type": "markdown",
   "id": "a56fe307",
   "metadata": {},
   "source": [
    "39. Check if a tuple is a subset of another tuple."
   ]
  },
  {
   "cell_type": "code",
   "execution_count": 92,
   "id": "8bd1f6f3",
   "metadata": {},
   "outputs": [
    {
     "data": {
      "text/plain": [
       "True"
      ]
     },
     "execution_count": 92,
     "metadata": {},
     "output_type": "execute_result"
    }
   ],
   "source": [
    "tup3 = (1,2)\n",
    "tup1 = (1,2,3,4,5)\n",
    "set(tup3).issubset(tup1)"
   ]
  },
  {
   "cell_type": "markdown",
   "id": "b46a6a43",
   "metadata": {},
   "source": [
    "40. Check if a tuple is a superset of another tuple."
   ]
  },
  {
   "cell_type": "code",
   "execution_count": 93,
   "id": "65c20bac",
   "metadata": {},
   "outputs": [
    {
     "data": {
      "text/plain": [
       "True"
      ]
     },
     "execution_count": 93,
     "metadata": {},
     "output_type": "execute_result"
    }
   ],
   "source": [
    "set(tup1).issuperset(tup3)"
   ]
  },
  {
   "cell_type": "markdown",
   "id": "adcb56c0",
   "metadata": {},
   "source": [
    "41. Find the common elements between two tuples."
   ]
  },
  {
   "cell_type": "code",
   "execution_count": 94,
   "id": "9110c0ce",
   "metadata": {},
   "outputs": [
    {
     "data": {
      "text/plain": [
       "{1, 2}"
      ]
     },
     "execution_count": 94,
     "metadata": {},
     "output_type": "execute_result"
    }
   ],
   "source": [
    "set(tup1).intersection(tup3)"
   ]
  },
  {
   "cell_type": "markdown",
   "id": "bc102b22",
   "metadata": {},
   "source": [
    "42. Find the uncommon elements between two tuples."
   ]
  },
  {
   "cell_type": "code",
   "execution_count": 95,
   "id": "df679d7d",
   "metadata": {},
   "outputs": [
    {
     "data": {
      "text/plain": [
       "{1, 3, 5, 6}"
      ]
     },
     "execution_count": 95,
     "metadata": {},
     "output_type": "execute_result"
    }
   ],
   "source": [
    "set(tup1).symmetric_difference(tup2)"
   ]
  },
  {
   "cell_type": "markdown",
   "id": "008f7905",
   "metadata": {},
   "source": [
    "43. Check if two tuples have any common elements."
   ]
  },
  {
   "cell_type": "code",
   "execution_count": 96,
   "id": "3b805bc6",
   "metadata": {},
   "outputs": [
    {
     "data": {
      "text/plain": [
       "True"
      ]
     },
     "execution_count": 96,
     "metadata": {},
     "output_type": "execute_result"
    }
   ],
   "source": [
    "bool(set(tup1).intersection(tup2))"
   ]
  },
  {
   "cell_type": "markdown",
   "id": "16300047",
   "metadata": {},
   "source": [
    "44. Find the difference between two tuples."
   ]
  },
  {
   "cell_type": "code",
   "execution_count": 97,
   "id": "85d888ae",
   "metadata": {},
   "outputs": [
    {
     "data": {
      "text/plain": [
       "{1, 3, 5}"
      ]
     },
     "execution_count": 97,
     "metadata": {},
     "output_type": "execute_result"
    }
   ],
   "source": [
    "set(tup1) - set(tup2)"
   ]
  },
  {
   "cell_type": "markdown",
   "id": "7ea658a2",
   "metadata": {},
   "source": [
    "45. Find the intersection of two tuples."
   ]
  },
  {
   "cell_type": "code",
   "execution_count": 98,
   "id": "b1b35978",
   "metadata": {},
   "outputs": [
    {
     "data": {
      "text/plain": [
       "{2}"
      ]
     },
     "execution_count": 98,
     "metadata": {},
     "output_type": "execute_result"
    }
   ],
   "source": [
    "set(tup2).intersection(tup3)"
   ]
  },
  {
   "cell_type": "markdown",
   "id": "e46a2b87",
   "metadata": {},
   "source": [
    "46. Check if two tuples are disjoint."
   ]
  },
  {
   "cell_type": "code",
   "execution_count": 99,
   "id": "d81bb430",
   "metadata": {},
   "outputs": [
    {
     "data": {
      "text/plain": [
       "False"
      ]
     },
     "execution_count": 99,
     "metadata": {},
     "output_type": "execute_result"
    }
   ],
   "source": [
    "set(tup2).isdisjoint(tup3)"
   ]
  },
  {
   "cell_type": "markdown",
   "id": "aa6d132d",
   "metadata": {},
   "source": [
    "47. Concatenate a tuple of tuples into a single tuple."
   ]
  },
  {
   "cell_type": "code",
   "execution_count": 100,
   "id": "05c6ad57",
   "metadata": {},
   "outputs": [
    {
     "name": "stdout",
     "output_type": "stream",
     "text": [
      "((1, 2, 3, 4, 5), (2, 4, 6), (1, 2), ('a', 'b', 'c', 'd'))\n",
      "(1, 2, 3, 4, 5, 2, 4, 6, 1, 2, 'a', 'b', 'c', 'd')\n"
     ]
    }
   ],
   "source": [
    "tuple_of_tups = (tup1,tup2,tup3,tup4)\n",
    "print(tuple_of_tups)\n",
    "singletuple  = tup1+ tup2+ tup3 + tup4\n",
    "print(singletuple)"
   ]
  },
  {
   "cell_type": "markdown",
   "id": "0e2b00a4",
   "metadata": {},
   "source": [
    "48. Convert a tuple of tuples to a list of lists."
   ]
  },
  {
   "cell_type": "code",
   "execution_count": 101,
   "id": "e0e60d94",
   "metadata": {},
   "outputs": [
    {
     "name": "stdout",
     "output_type": "stream",
     "text": [
      "((1, 2, 3, 4, 5), (2, 4, 6), (1, 2), ('a', 'b', 'c', 'd'))\n",
      "[[1, 2, 3, 4, 5], [2, 4, 6], [1, 2], ['a', 'b', 'c', 'd']]\n"
     ]
    }
   ],
   "source": [
    "tuple_of_tups = (tup1,tup2,tup3,tup4)\n",
    "print(tuple_of_tups)\n",
    "list_of_lists = [list(inner_tuples) for inner_tuples in tuple_of_tups]\n",
    "print(list_of_lists)"
   ]
  },
  {
   "cell_type": "markdown",
   "id": "a777e825",
   "metadata": {},
   "source": [
    "49. Find the union of two tuples. Check if two tuples are identical."
   ]
  },
  {
   "cell_type": "code",
   "execution_count": 102,
   "id": "96fc1922",
   "metadata": {},
   "outputs": [
    {
     "data": {
      "text/plain": [
       "{1, 2, 3, 4, 5, 6}"
      ]
     },
     "execution_count": 102,
     "metadata": {},
     "output_type": "execute_result"
    }
   ],
   "source": [
    "set(tup1).union(tup2)"
   ]
  },
  {
   "cell_type": "markdown",
   "id": "2404cfdf",
   "metadata": {},
   "source": [
    "1. What is a set in Python? What is its purpose?"
   ]
  },
  {
   "cell_type": "code",
   "execution_count": 103,
   "id": "516936c1",
   "metadata": {},
   "outputs": [],
   "source": [
    "# A set is a mutable ,unordered collectin of elements. \n",
    "# The primary purpose of a set id to provide a datastructure to store distinctly and perform set operations like union, intersection, difference and more \n"
   ]
  },
  {
   "cell_type": "markdown",
   "id": "7d8e14bf",
   "metadata": {},
   "source": [
    "2. What is the difference between a set and a list in Python?"
   ]
  },
  {
   "cell_type": "code",
   "execution_count": 104,
   "id": "fbb92f2e",
   "metadata": {},
   "outputs": [],
   "source": [
    "# set\n",
    "# Set is a collection of unoredered elements\n",
    "# only distinct elements can be stored.\n",
    "\n",
    "# list \n",
    "# The emlents in a list can be ordered.\n",
    "# duplicate elements can be stored as a seperate element"
   ]
  },
  {
   "cell_type": "markdown",
   "id": "29bf0112",
   "metadata": {},
   "source": [
    "3. Can a set contain duplicate values?"
   ]
  },
  {
   "cell_type": "code",
   "execution_count": 105,
   "id": "51afe477",
   "metadata": {},
   "outputs": [],
   "source": [
    "# No, A set cannot contain duplicate values, It stores only unique elements."
   ]
  },
  {
   "cell_type": "markdown",
   "id": "1c2afb86",
   "metadata": {},
   "source": [
    "4. How do you create a set in Python?"
   ]
  },
  {
   "cell_type": "code",
   "execution_count": 106,
   "id": "36b2fbec",
   "metadata": {},
   "outputs": [
    {
     "data": {
      "text/plain": [
       "{1, 2, 3, 4, 5, 6, 7}"
      ]
     },
     "execution_count": 106,
     "metadata": {},
     "output_type": "execute_result"
    }
   ],
   "source": [
    "setA = {1,2,2,3,4,5,6,7,7,7}\n",
    "setA"
   ]
  },
  {
   "cell_type": "markdown",
   "id": "38c7a070",
   "metadata": {},
   "source": [
    "5. How do you add an element to a set in Python?"
   ]
  },
  {
   "cell_type": "code",
   "execution_count": 107,
   "id": "5f57c8c2",
   "metadata": {},
   "outputs": [
    {
     "data": {
      "text/plain": [
       "{1, 2, 3, 4, 5, 6, 7, 'a'}"
      ]
     },
     "execution_count": 107,
     "metadata": {},
     "output_type": "execute_result"
    }
   ],
   "source": [
    "setA.add('a')\n",
    "setA"
   ]
  },
  {
   "cell_type": "markdown",
   "id": "8eec91d6",
   "metadata": {},
   "source": [
    "6. How do you remove an element from a set in Python?"
   ]
  },
  {
   "cell_type": "code",
   "execution_count": 108,
   "id": "16606fc4",
   "metadata": {},
   "outputs": [
    {
     "data": {
      "text/plain": [
       "{1, 2, 3, 4, 5, 6, 7}"
      ]
     },
     "execution_count": 108,
     "metadata": {},
     "output_type": "execute_result"
    }
   ],
   "source": [
    "setA.remove('a')\n",
    "setA"
   ]
  },
  {
   "cell_type": "markdown",
   "id": "57c1da2f",
   "metadata": {},
   "source": [
    "7. What happens when you try to remove an element from a set that doesn't exist?"
   ]
  },
  {
   "cell_type": "code",
   "execution_count": 109,
   "id": "05f167a2",
   "metadata": {},
   "outputs": [],
   "source": [
    "# setA.remove('a')\n",
    "# KeyError is result when we try to remove an element which doesnot exist in set"
   ]
  },
  {
   "cell_type": "markdown",
   "id": "4f4bfb08",
   "metadata": {},
   "source": [
    "8. How do you check if an element is in a set in Python?"
   ]
  },
  {
   "cell_type": "code",
   "execution_count": 110,
   "id": "9b924247",
   "metadata": {},
   "outputs": [
    {
     "name": "stdout",
     "output_type": "stream",
     "text": [
      "False\n",
      "True\n"
     ]
    }
   ],
   "source": [
    "print('a' in setA)\n",
    "print(1 in setA)"
   ]
  },
  {
   "cell_type": "markdown",
   "id": "29275bc2",
   "metadata": {},
   "source": [
    "9. How do you iterate over the elements in a set in Python?"
   ]
  },
  {
   "cell_type": "code",
   "execution_count": 111,
   "id": "23b4cd4a",
   "metadata": {},
   "outputs": [
    {
     "name": "stdout",
     "output_type": "stream",
     "text": [
      "1\n",
      "2\n",
      "3\n",
      "4\n",
      "5\n",
      "6\n",
      "7\n"
     ]
    }
   ],
   "source": [
    "for i in setA:\n",
    "    print(i)"
   ]
  },
  {
   "cell_type": "markdown",
   "id": "0545bd8a",
   "metadata": {},
   "source": [
    "10. How do you find the length of a set in Python?"
   ]
  },
  {
   "cell_type": "code",
   "execution_count": 112,
   "id": "7aaa4d07",
   "metadata": {},
   "outputs": [
    {
     "data": {
      "text/plain": [
       "7"
      ]
     },
     "execution_count": 112,
     "metadata": {},
     "output_type": "execute_result"
    }
   ],
   "source": [
    "len(setA)"
   ]
  },
  {
   "cell_type": "markdown",
   "id": "1771fd5e",
   "metadata": {},
   "source": [
    "11. What is the union of two sets in Python?"
   ]
  },
  {
   "cell_type": "code",
   "execution_count": 113,
   "id": "faf19b0e",
   "metadata": {},
   "outputs": [
    {
     "data": {
      "text/plain": [
       "{0, 1, 2, 3, 4, 5, 6, 7, 8, 9}"
      ]
     },
     "execution_count": 113,
     "metadata": {},
     "output_type": "execute_result"
    }
   ],
   "source": [
    "setB = {5,6,7,8,9,0}\n",
    "\n",
    "# union returns the all the elements in both the sets\n",
    "setA.union(setB)"
   ]
  },
  {
   "cell_type": "markdown",
   "id": "bed20967",
   "metadata": {},
   "source": [
    "12. How do you find the union of multiple sets in Python?"
   ]
  },
  {
   "cell_type": "code",
   "execution_count": 114,
   "id": "be438c21",
   "metadata": {},
   "outputs": [
    {
     "data": {
      "text/plain": [
       "{0, 1, 2, 3, 4, 5, 6, 7, 8, 9}"
      ]
     },
     "execution_count": 114,
     "metadata": {},
     "output_type": "execute_result"
    }
   ],
   "source": [
    "setA.union(setB)"
   ]
  },
  {
   "cell_type": "markdown",
   "id": "5032e2be",
   "metadata": {},
   "source": [
    "13. What is the intersection of two sets in Python?"
   ]
  },
  {
   "cell_type": "code",
   "execution_count": 115,
   "id": "1acf3937",
   "metadata": {},
   "outputs": [
    {
     "data": {
      "text/plain": [
       "{5, 6, 7}"
      ]
     },
     "execution_count": 115,
     "metadata": {},
     "output_type": "execute_result"
    }
   ],
   "source": [
    "setA.intersection(setB)\n",
    "# intersection gives the common elements in both the sets "
   ]
  },
  {
   "cell_type": "markdown",
   "id": "e447bcab",
   "metadata": {},
   "source": [
    "14. How do you find the intersection of multiple sets in Python?"
   ]
  },
  {
   "cell_type": "code",
   "execution_count": 116,
   "id": "473c28c1",
   "metadata": {},
   "outputs": [
    {
     "data": {
      "text/plain": [
       "{5, 6, 7}"
      ]
     },
     "execution_count": 116,
     "metadata": {},
     "output_type": "execute_result"
    }
   ],
   "source": [
    "setA.intersection(setB)"
   ]
  },
  {
   "cell_type": "markdown",
   "id": "601bbd48",
   "metadata": {},
   "source": [
    "15. What is the difference between two sets in Python?"
   ]
  },
  {
   "cell_type": "code",
   "execution_count": 117,
   "id": "2394fb5c",
   "metadata": {},
   "outputs": [],
   "source": [
    "# it gives the uncommon emelents from the firt set\n",
    "setC = setA - setB"
   ]
  },
  {
   "cell_type": "markdown",
   "id": "228d4195",
   "metadata": {},
   "source": [
    "16. How do you find the difference between multiple sets in Python?"
   ]
  },
  {
   "cell_type": "code",
   "execution_count": 118,
   "id": "297b661a",
   "metadata": {},
   "outputs": [
    {
     "data": {
      "text/plain": [
       "{1, 2, 3, 4}"
      ]
     },
     "execution_count": 118,
     "metadata": {},
     "output_type": "execute_result"
    }
   ],
   "source": [
    "setA - setB"
   ]
  },
  {
   "cell_type": "markdown",
   "id": "cc1d5d68",
   "metadata": {},
   "source": [
    "17. What is the symmetric difference of two sets in Python?"
   ]
  },
  {
   "cell_type": "code",
   "execution_count": 119,
   "id": "171a7d8e",
   "metadata": {},
   "outputs": [],
   "source": [
    "# Symmetric difference gives the uncommon elements from both the sets "
   ]
  },
  {
   "cell_type": "markdown",
   "id": "3c0b21e6",
   "metadata": {},
   "source": [
    "18. How do you find the symmetric difference of multiple sets in Python?"
   ]
  },
  {
   "cell_type": "code",
   "execution_count": 120,
   "id": "da517d83",
   "metadata": {},
   "outputs": [
    {
     "data": {
      "text/plain": [
       "{0, 1, 2, 3, 4, 8, 9}"
      ]
     },
     "execution_count": 120,
     "metadata": {},
     "output_type": "execute_result"
    }
   ],
   "source": [
    "setA.symmetric_difference(setB)"
   ]
  },
  {
   "cell_type": "markdown",
   "id": "96db7df0",
   "metadata": {},
   "source": [
    "19. What is a subset in Python?"
   ]
  },
  {
   "cell_type": "code",
   "execution_count": 121,
   "id": "8f9d8b75",
   "metadata": {},
   "outputs": [
    {
     "data": {
      "text/plain": [
       "True"
      ]
     },
     "execution_count": 121,
     "metadata": {},
     "output_type": "execute_result"
    }
   ],
   "source": [
    "setC.issubset(setA)\n",
    "# here we are chec=king if all the elements in setC are in setA"
   ]
  },
  {
   "cell_type": "markdown",
   "id": "1cab6985",
   "metadata": {},
   "source": [
    "20. How do you check if one set is a subset of another in Python?"
   ]
  },
  {
   "cell_type": "code",
   "execution_count": 122,
   "id": "d826d0e3",
   "metadata": {},
   "outputs": [
    {
     "data": {
      "text/plain": [
       "True"
      ]
     },
     "execution_count": 122,
     "metadata": {},
     "output_type": "execute_result"
    }
   ],
   "source": [
    "setC.issubset(setA)"
   ]
  },
  {
   "cell_type": "markdown",
   "id": "2c304190",
   "metadata": {},
   "source": [
    "21. What is a superset in Python?"
   ]
  },
  {
   "cell_type": "code",
   "execution_count": null,
   "id": "4edf2f8b",
   "metadata": {},
   "outputs": [],
   "source": []
  },
  {
   "cell_type": "markdown",
   "id": "a88f69ac",
   "metadata": {},
   "source": [
    "22. How do you check if one set is a superset of another in Python?"
   ]
  },
  {
   "cell_type": "code",
   "execution_count": 123,
   "id": "524052ee",
   "metadata": {},
   "outputs": [
    {
     "data": {
      "text/plain": [
       "True"
      ]
     },
     "execution_count": 123,
     "metadata": {},
     "output_type": "execute_result"
    }
   ],
   "source": [
    "setA.issuperset(setC)"
   ]
  },
  {
   "cell_type": "markdown",
   "id": "b165f568",
   "metadata": {},
   "source": [
    "23. How do you update a set in Python with another set?"
   ]
  },
  {
   "cell_type": "code",
   "execution_count": 124,
   "id": "c8ef9296",
   "metadata": {},
   "outputs": [
    {
     "data": {
      "text/plain": [
       "{1, 2, 3, 4, 5, 6, 7}"
      ]
     },
     "execution_count": 124,
     "metadata": {},
     "output_type": "execute_result"
    }
   ],
   "source": [
    "setD = set()\n",
    "setD.update(setA)\n",
    "setD"
   ]
  },
  {
   "cell_type": "markdown",
   "id": "321c8cd8",
   "metadata": {},
   "source": [
    "24. How do you clear a set in Python?"
   ]
  },
  {
   "cell_type": "code",
   "execution_count": 125,
   "id": "0de66f13",
   "metadata": {},
   "outputs": [
    {
     "data": {
      "text/plain": [
       "set()"
      ]
     },
     "execution_count": 125,
     "metadata": {},
     "output_type": "execute_result"
    }
   ],
   "source": [
    "setD.clear()\n",
    "setD"
   ]
  },
  {
   "cell_type": "markdown",
   "id": "58e88983",
   "metadata": {},
   "source": [
    "25. How do you copy a set in Python?"
   ]
  },
  {
   "cell_type": "code",
   "execution_count": 126,
   "id": "4f03ac88",
   "metadata": {},
   "outputs": [
    {
     "data": {
      "text/plain": [
       "{1, 2, 3, 4, 5, 6, 7}"
      ]
     },
     "execution_count": 126,
     "metadata": {},
     "output_type": "execute_result"
    }
   ],
   "source": [
    "setD = setA.copy()\n",
    "setD"
   ]
  },
  {
   "cell_type": "markdown",
   "id": "38d86bc2",
   "metadata": {},
   "source": [
    "26. How do you remove all duplicates from a list in Python using a set?"
   ]
  },
  {
   "cell_type": "code",
   "execution_count": 127,
   "id": "a28b14f6",
   "metadata": {},
   "outputs": [
    {
     "data": {
      "text/plain": [
       "{2}"
      ]
     },
     "execution_count": 127,
     "metadata": {},
     "output_type": "execute_result"
    }
   ],
   "source": [
    "set3 = set(list3)\n",
    "set3"
   ]
  },
  {
   "cell_type": "markdown",
   "id": "dab731c9",
   "metadata": {},
   "source": [
    "27. How do you remove all duplicates from a list in Python while preserving the order?"
   ]
  },
  {
   "cell_type": "code",
   "execution_count": 128,
   "id": "6d00ee66",
   "metadata": {},
   "outputs": [
    {
     "name": "stdout",
     "output_type": "stream",
     "text": [
      "['H', 'o', 'w', ' ', 'd', 'y', 'u', 'r', 'e', 'm', 'v', 'a', 'l', 'p', 'i', 'c', 't', 's', 'f', 'n', 'P', 'h', 'g', '?']\n"
     ]
    }
   ],
   "source": [
    "str1 = 'How do you remove all duplicates from a list in Python while preserving the order?'\n",
    "# len(set(str1)) --> 24\n",
    "uniquelist = []\n",
    "seen = set()\n",
    "\n",
    "test_list = list(str1)\n",
    "\n",
    "for element in test_list:\n",
    "    if element not in seen:\n",
    "        seen.update(element)\n",
    "        uniquelist.append(element)\n",
    "        \n",
    "print(uniquelist)"
   ]
  },
  {
   "cell_type": "markdown",
   "id": "7fc5217d",
   "metadata": {},
   "source": [
    "28. How do you convert a list to a set in Python?"
   ]
  },
  {
   "cell_type": "code",
   "execution_count": 129,
   "id": "f586965e",
   "metadata": {},
   "outputs": [
    {
     "data": {
      "text/plain": [
       "{2}"
      ]
     },
     "execution_count": 129,
     "metadata": {},
     "output_type": "execute_result"
    }
   ],
   "source": [
    "list3\n",
    "set(list3)"
   ]
  },
  {
   "cell_type": "markdown",
   "id": "fcde46d8",
   "metadata": {},
   "source": [
    "29. How do you convert a set to a list in Python?"
   ]
  },
  {
   "cell_type": "code",
   "execution_count": 130,
   "id": "ccee4c4f",
   "metadata": {},
   "outputs": [
    {
     "data": {
      "text/plain": [
       "[1, 2, 3, 4, 5, 6, 7]"
      ]
     },
     "execution_count": 130,
     "metadata": {},
     "output_type": "execute_result"
    }
   ],
   "source": [
    "list(setA)"
   ]
  },
  {
   "cell_type": "markdown",
   "id": "98e16fd8",
   "metadata": {},
   "source": [
    "30. How do you find the maximum and minimum values in a set in Python?"
   ]
  },
  {
   "cell_type": "code",
   "execution_count": 131,
   "id": "19e34681",
   "metadata": {},
   "outputs": [
    {
     "data": {
      "text/plain": [
       "0"
      ]
     },
     "execution_count": 131,
     "metadata": {},
     "output_type": "execute_result"
    }
   ],
   "source": [
    "max(setA) ;min(setB)"
   ]
  },
  {
   "cell_type": "markdown",
   "id": "6848adcc",
   "metadata": {},
   "source": [
    "31. How do you find the sum of all elements in a set in Python?"
   ]
  },
  {
   "cell_type": "code",
   "execution_count": 132,
   "id": "55cbc6a2",
   "metadata": {},
   "outputs": [
    {
     "data": {
      "text/plain": [
       "28"
      ]
     },
     "execution_count": 132,
     "metadata": {},
     "output_type": "execute_result"
    }
   ],
   "source": [
    "sum(setA)"
   ]
  },
  {
   "cell_type": "markdown",
   "id": "235af378",
   "metadata": {},
   "source": [
    "32. How do you find the average of all elements in a set in Python?"
   ]
  },
  {
   "cell_type": "code",
   "execution_count": 133,
   "id": "b6592bd5",
   "metadata": {},
   "outputs": [
    {
     "name": "stdout",
     "output_type": "stream",
     "text": [
      "Mean of the set\t\t:\t4\n"
     ]
    }
   ],
   "source": [
    "import statistics\n",
    "\n",
    "# print(dir(statistics))\n",
    "\n",
    "print(f'Mean of the set\\t\\t:\\t{statistics.mean(setA)}')"
   ]
  },
  {
   "cell_type": "markdown",
   "id": "fcef347e",
   "metadata": {},
   "source": [
    "33. How do you find the median of all elements in a set in Python?"
   ]
  },
  {
   "cell_type": "code",
   "execution_count": 134,
   "id": "6e2da761",
   "metadata": {},
   "outputs": [
    {
     "name": "stdout",
     "output_type": "stream",
     "text": [
      "Median of the set\t:\t4\n"
     ]
    }
   ],
   "source": [
    "print(f'Median of the set\\t:\\t{statistics.median(setA)}')"
   ]
  },
  {
   "cell_type": "markdown",
   "id": "df358e55",
   "metadata": {},
   "source": [
    "34. How do you find the mode of all elements in a set in Python?"
   ]
  },
  {
   "cell_type": "code",
   "execution_count": 135,
   "id": "d130d948",
   "metadata": {},
   "outputs": [
    {
     "name": "stdout",
     "output_type": "stream",
     "text": [
      "Mode of the set\t\t:\t1\n"
     ]
    }
   ],
   "source": [
    "print(f'Mode of the set\\t\\t:\\t{statistics.mode(setA)}')"
   ]
  },
  {
   "cell_type": "markdown",
   "id": "aabd7541",
   "metadata": {},
   "source": [
    "35. How do you find the variance of all elements in a set in Python?"
   ]
  },
  {
   "cell_type": "code",
   "execution_count": 136,
   "id": "74ca55bd",
   "metadata": {},
   "outputs": [
    {
     "name": "stdout",
     "output_type": "stream",
     "text": [
      "Variance of the set\t\t:\t4.666666666666667\n"
     ]
    }
   ],
   "source": [
    "print(f'Variance of the set\\t\\t:\\t{statistics.variance(setA)}')"
   ]
  },
  {
   "cell_type": "markdown",
   "id": "03e26a75",
   "metadata": {},
   "source": [
    "36. How do you find the standard deviation of all elements in a set in Python?"
   ]
  },
  {
   "cell_type": "code",
   "execution_count": 137,
   "id": "77b5bf76",
   "metadata": {},
   "outputs": [
    {
     "name": "stdout",
     "output_type": "stream",
     "text": [
      "Standard Deviation of the set\t\t:\t2.160246899469287\n"
     ]
    }
   ],
   "source": [
    "print(f'Standard Deviation of the set\\t\\t:\\t{statistics.stdev(setA)}')"
   ]
  },
  {
   "cell_type": "markdown",
   "id": "4c82f92c",
   "metadata": {},
   "source": [
    "37. How do you find the frequency of each element in a set in Python?"
   ]
  },
  {
   "cell_type": "code",
   "execution_count": 138,
   "id": "34c078cd",
   "metadata": {},
   "outputs": [
    {
     "name": "stdout",
     "output_type": "stream",
     "text": [
      "Counter({'1': 2, '2': 2, '3': 2, '4': 1, '6': 1, '5': 1, '7': 1, '9': 1, 'a': 1, 'b': 1, 'c': 1, 'd': 1})\n"
     ]
    },
    {
     "data": {
      "text/plain": [
       "['1', '2', '3', '2', '4', '6', '1', '3', '5', '7', '9', 'a', 'b', 'c', 'd']"
      ]
     },
     "execution_count": 138,
     "metadata": {},
     "output_type": "execute_result"
    }
   ],
   "source": [
    "from collections import Counter\n",
    "print(Counter(list_of_strings))\n",
    "list_of_strings"
   ]
  },
  {
   "cell_type": "markdown",
   "id": "7918d805",
   "metadata": {},
   "source": [
    "38. How do you remove all elements from a set except for a specific set of elements in Python?"
   ]
  },
  {
   "cell_type": "code",
   "execution_count": 139,
   "id": "7a251966",
   "metadata": {},
   "outputs": [
    {
     "name": "stdout",
     "output_type": "stream",
     "text": [
      "{1, 2, 3, 4, 5, 6, 7}\n"
     ]
    },
    {
     "data": {
      "text/plain": [
       "{3, 4, 5}"
      ]
     },
     "execution_count": 139,
     "metadata": {},
     "output_type": "execute_result"
    }
   ],
   "source": [
    "print(setA)\n",
    "elm_to_keep = {3,4,5}\n",
    "setA.intersection_update(elm_to_keep)\n",
    "setA"
   ]
  },
  {
   "cell_type": "markdown",
   "id": "5d3a1fd5",
   "metadata": {},
   "source": [
    "39. How do you check if two sets are equal in Python?"
   ]
  },
  {
   "cell_type": "code",
   "execution_count": 140,
   "id": "4f359315",
   "metadata": {},
   "outputs": [
    {
     "data": {
      "text/plain": [
       "False"
      ]
     },
     "execution_count": 140,
     "metadata": {},
     "output_type": "execute_result"
    }
   ],
   "source": [
    "setA ==setB"
   ]
  },
  {
   "cell_type": "markdown",
   "id": "25df61e3",
   "metadata": {},
   "source": [
    "40. How do you check if two sets are not equal in Python?"
   ]
  },
  {
   "cell_type": "code",
   "execution_count": 141,
   "id": "7cd0245b",
   "metadata": {},
   "outputs": [
    {
     "data": {
      "text/plain": [
       "True"
      ]
     },
     "execution_count": 141,
     "metadata": {},
     "output_type": "execute_result"
    }
   ],
   "source": [
    "setA!=setB"
   ]
  },
  {
   "cell_type": "markdown",
   "id": "3ccacf7b",
   "metadata": {},
   "source": [
    "41. How do you find the common elements between two sets in Python?"
   ]
  },
  {
   "cell_type": "code",
   "execution_count": 142,
   "id": "15c5fa65",
   "metadata": {},
   "outputs": [
    {
     "data": {
      "text/plain": [
       "{5}"
      ]
     },
     "execution_count": 142,
     "metadata": {},
     "output_type": "execute_result"
    }
   ],
   "source": [
    "setA.intersection(setB)"
   ]
  },
  {
   "cell_type": "markdown",
   "id": "4fd5aad9",
   "metadata": {},
   "source": [
    "42. How do you find the unique elements between two sets in Python?"
   ]
  },
  {
   "cell_type": "code",
   "execution_count": 143,
   "id": "8a22cb59",
   "metadata": {},
   "outputs": [
    {
     "data": {
      "text/plain": [
       "{0, 3, 4, 6, 7, 8, 9}"
      ]
     },
     "execution_count": 143,
     "metadata": {},
     "output_type": "execute_result"
    }
   ],
   "source": [
    "setA.symmetric_difference(setB)"
   ]
  },
  {
   "cell_type": "markdown",
   "id": "c051b7ce",
   "metadata": {},
   "source": [
    "43. How do you find the difference between the common and unique elements between two sets in Python?"
   ]
  },
  {
   "cell_type": "code",
   "execution_count": 144,
   "id": "5c046be4",
   "metadata": {},
   "outputs": [
    {
     "name": "stdout",
     "output_type": "stream",
     "text": [
      "Common Elements in both set A and set B\n",
      "{5}\n",
      "unique elements in setA\n",
      "{3, 4}\n",
      "unique elements in set B\n",
      "{0, 6, 7, 8, 9}\n",
      "Unique elements in both sets\n",
      "{0, 3, 4, 6, 7, 8, 9}\n"
     ]
    }
   ],
   "source": [
    "print('Common Elements in both set A and set B')\n",
    "# trying to find the common elements in setA an setB\n",
    "common_elements = setA.intersection(setB)\n",
    "print(common_elements)\n",
    "\n",
    "#  trying to find the unique elements in setA\n",
    "print('unique elements in setA')\n",
    "print(setA -setB)\n",
    "\n",
    "#  trying to find the unique elements in setB\n",
    "print('unique elements in set B')\n",
    "print(setB - setA)\n",
    "\n",
    "# tyring to find all the unique elements\n",
    "print('Unique elements in both sets')\n",
    "print(setA.symmetric_difference(setB))"
   ]
  },
  {
   "cell_type": "markdown",
   "id": "cd4ccc5e",
   "metadata": {},
   "source": [
    "44. How do you find the elements that exist in one set but not in another in Python?"
   ]
  },
  {
   "cell_type": "code",
   "execution_count": 145,
   "id": "ff42cb87",
   "metadata": {},
   "outputs": [
    {
     "name": "stdout",
     "output_type": "stream",
     "text": [
      "{3, 4, 5}\n",
      "{0, 5, 6, 7, 8, 9}\n"
     ]
    },
    {
     "data": {
      "text/plain": [
       "{3, 4}"
      ]
     },
     "execution_count": 145,
     "metadata": {},
     "output_type": "execute_result"
    }
   ],
   "source": [
    "# finding the elements from seta and removing the common elements\n",
    "print(setA)\n",
    "print(setB)\n",
    "setA-setB"
   ]
  },
  {
   "cell_type": "markdown",
   "id": "9ffbdf18",
   "metadata": {},
   "source": [
    "45. How do you find the elements that exist in one or more sets in Python?"
   ]
  },
  {
   "cell_type": "code",
   "execution_count": 146,
   "id": "95d048e3",
   "metadata": {},
   "outputs": [
    {
     "data": {
      "text/plain": [
       "{5}"
      ]
     },
     "execution_count": 146,
     "metadata": {},
     "output_type": "execute_result"
    }
   ],
   "source": [
    "# common elemets (Intersection)\n",
    "setA.intersection(setB)"
   ]
  },
  {
   "cell_type": "markdown",
   "id": "3aaba4ff",
   "metadata": {},
   "source": [
    "46. How do you find the elements that exist in all sets in Python?"
   ]
  },
  {
   "cell_type": "code",
   "execution_count": 147,
   "id": "80211950",
   "metadata": {},
   "outputs": [
    {
     "data": {
      "text/plain": [
       "{0, 3, 4, 5, 6, 7, 8, 9}"
      ]
     },
     "execution_count": 147,
     "metadata": {},
     "output_type": "execute_result"
    }
   ],
   "source": [
    "# all elements in one set\n",
    "setA.union(setB)"
   ]
  },
  {
   "cell_type": "markdown",
   "id": "1c9046f1",
   "metadata": {},
   "source": [
    "47. How do you check if a set is empty in Python?"
   ]
  },
  {
   "cell_type": "code",
   "execution_count": 148,
   "id": "c95995d9",
   "metadata": {},
   "outputs": [
    {
     "data": {
      "text/plain": [
       "False"
      ]
     },
     "execution_count": 148,
     "metadata": {},
     "output_type": "execute_result"
    }
   ],
   "source": [
    "len(setA) == 0"
   ]
  },
  {
   "cell_type": "markdown",
   "id": "3db487a9",
   "metadata": {},
   "source": [
    "48. How do you find the largest n elements in a set in Python?"
   ]
  },
  {
   "cell_type": "code",
   "execution_count": 149,
   "id": "8f4b6911",
   "metadata": {},
   "outputs": [
    {
     "name": "stdout",
     "output_type": "stream",
     "text": [
      "{0, 1, 2, 3, 4, 5, 6, 7, 8, 9, 10, 11, 12, 13, 14, 15, 16, 17, 18, 19, 20, 21, 22, 23, 24}\n"
     ]
    },
    {
     "data": {
      "text/plain": [
       "[24, 23, 22, 21, 20]"
      ]
     },
     "execution_count": 149,
     "metadata": {},
     "output_type": "execute_result"
    }
   ],
   "source": [
    "# creating a sample test set\n",
    "setA = set(i for i in range(25))\n",
    "print(setA)\n",
    "\n",
    "# creating the main function\n",
    "def largest_n(n,set_):\n",
    "    \"\"\"\n",
    "    returns the largest n values from the supplied set_\n",
    "    \"\"\"\n",
    "    list1 = sorted(list(set_),reverse=True)\n",
    "    return list1[0:n]\n",
    "\n",
    "largest_n(5,setA)"
   ]
  },
  {
   "cell_type": "markdown",
   "id": "4f829cdb",
   "metadata": {},
   "source": [
    "\n",
    "49. How do you find the smallest n elements in a set in Python?"
   ]
  },
  {
   "cell_type": "code",
   "execution_count": 150,
   "id": "70a213b6",
   "metadata": {},
   "outputs": [
    {
     "data": {
      "text/plain": [
       "[0, 1, 2, 3, 4]"
      ]
     },
     "execution_count": 150,
     "metadata": {},
     "output_type": "execute_result"
    }
   ],
   "source": [
    "def smallest_n(n, set_):\n",
    "    \"\"\"\n",
    "    returns the smallest n values from the supplied set_\n",
    "    \"\"\"\n",
    "    list1 = sorted(list(set_))\n",
    "    return list1[0:n]\n",
    "\n",
    "smallest_n(5,setA)"
   ]
  },
  {
   "cell_type": "markdown",
   "id": "e142a891",
   "metadata": {},
   "source": [
    "   50. How do you find the nth largest or nth smallest element in a set in Python?"
   ]
  },
  {
   "cell_type": "code",
   "execution_count": 151,
   "id": "a348b5eb",
   "metadata": {},
   "outputs": [
    {
     "name": "stdout",
     "output_type": "stream",
     "text": [
      "Fifth smallest in the set \t:4\n",
      "Fifth largest in the set \t:20\n"
     ]
    }
   ],
   "source": [
    "def nth_smallest(n,set_):\n",
    "    return list(set_)[n-1]\n",
    "\n",
    "print(f'Fifth smallest in the set \\t:{nth_smallest(5,setA)}')\n",
    "\n",
    "\n",
    "def nth_largest(n,set_):\n",
    "    listA = sorted(list(set_),reverse=True)\n",
    "    return listA[n-1]\n",
    "\n",
    "print(f'Fifth largest in the set \\t:{nth_largest(5,setA)}')"
   ]
  },
  {
   "cell_type": "markdown",
   "id": "a214d960",
   "metadata": {},
   "source": [
    "1. What is a dictionary in Python?"
   ]
  },
  {
   "cell_type": "code",
   "execution_count": 152,
   "id": "d89d0c8f",
   "metadata": {},
   "outputs": [],
   "source": [
    "#  A dictionary is a collection of key-value pairs in python\n",
    "# The Keys in a dictionary are unique, each key holds A specic value\n",
    "# they are unordered usually after the python 3.7 it is assumed to record in the order of the time of insertion\n",
    "# the size of dictionary varies as the key-value pairs are added and removed to the dictionary\n",
    "# Dictionaries are mutable : means we can add, remmove or update a specific key-values in the dictionary\n"
   ]
  },
  {
   "cell_type": "markdown",
   "id": "69b150c8",
   "metadata": {},
   "source": [
    "2. How do you create an empty dictionary in Python?"
   ]
  },
  {
   "cell_type": "code",
   "execution_count": 153,
   "id": "9b70f3b2",
   "metadata": {},
   "outputs": [],
   "source": [
    "dict_1 = dict()"
   ]
  },
  {
   "cell_type": "markdown",
   "id": "21c088fc",
   "metadata": {},
   "source": [
    "3. How do you add a key-value pair to a dictionary in Python?"
   ]
  },
  {
   "cell_type": "code",
   "execution_count": 154,
   "id": "cfb39b82",
   "metadata": {},
   "outputs": [
    {
     "data": {
      "text/plain": [
       "{'age': 26,\n",
       " 'gender': 'Male',\n",
       " 'Occupation': 'Data Analyst',\n",
       " 'Education': 'B.Tech',\n",
       " 'Name': 'Sridhar'}"
      ]
     },
     "execution_count": 154,
     "metadata": {},
     "output_type": "execute_result"
    }
   ],
   "source": [
    "dict_1 = {\n",
    "    \"age\" : 26,\n",
    "    \"gender\" : 'Male',\n",
    "    'Occupation' : 'Data Analyst',\n",
    "    'Education' : 'B.Tech' \n",
    "}\n",
    "dict_1['Name'] = \"Sridhar\" \n",
    "\n",
    "dict_1"
   ]
  },
  {
   "cell_type": "markdown",
   "id": "157cbb70",
   "metadata": {},
   "source": [
    "4. How do you access a value in a dictionary using its key in Python?"
   ]
  },
  {
   "cell_type": "code",
   "execution_count": 155,
   "id": "0e36faca",
   "metadata": {},
   "outputs": [
    {
     "data": {
      "text/plain": [
       "'Sridhar'"
      ]
     },
     "execution_count": 155,
     "metadata": {},
     "output_type": "execute_result"
    }
   ],
   "source": [
    "dict_1['Name']"
   ]
  },
  {
   "cell_type": "markdown",
   "id": "7bac1734",
   "metadata": {},
   "source": [
    "5. How do you check if a key exists in a dictionary in Python?"
   ]
  },
  {
   "cell_type": "code",
   "execution_count": 156,
   "id": "92d2091e",
   "metadata": {},
   "outputs": [
    {
     "name": "stdout",
     "output_type": "stream",
     "text": [
      "True\n",
      "True\n"
     ]
    }
   ],
   "source": [
    "print('Sridhar' in dict_1.values())\n",
    "print('Name' in dict_1.keys())"
   ]
  },
  {
   "cell_type": "markdown",
   "id": "1a264f82",
   "metadata": {},
   "source": [
    "6. How do you remove a key-value pair from a dictionary in Python?"
   ]
  },
  {
   "cell_type": "code",
   "execution_count": 157,
   "id": "e57b4d3d",
   "metadata": {},
   "outputs": [
    {
     "data": {
      "text/plain": [
       "'Sridhar'"
      ]
     },
     "execution_count": 157,
     "metadata": {},
     "output_type": "execute_result"
    }
   ],
   "source": [
    "dict_1.pop('Name')"
   ]
  },
  {
   "cell_type": "code",
   "execution_count": 158,
   "id": "2e23a6c6",
   "metadata": {},
   "outputs": [
    {
     "data": {
      "text/plain": [
       "{'age': 26,\n",
       " 'gender': 'Male',\n",
       " 'Occupation': 'Data Analyst',\n",
       " 'Education': 'B.Tech'}"
      ]
     },
     "execution_count": 158,
     "metadata": {},
     "output_type": "execute_result"
    }
   ],
   "source": [
    "dict_1"
   ]
  },
  {
   "cell_type": "markdown",
   "id": "0a951b5a",
   "metadata": {},
   "source": [
    "7. How do you iterate over a dictionary in Python?"
   ]
  },
  {
   "cell_type": "code",
   "execution_count": 159,
   "id": "45923bfb",
   "metadata": {},
   "outputs": [
    {
     "name": "stdout",
     "output_type": "stream",
     "text": [
      "age 26\n",
      "gender Male\n",
      "Occupation Data Analyst\n",
      "Education B.Tech\n"
     ]
    }
   ],
   "source": [
    "for key,value in dict_1.items():\n",
    "    print(key,value)"
   ]
  },
  {
   "cell_type": "code",
   "execution_count": 160,
   "id": "3336cdea",
   "metadata": {},
   "outputs": [
    {
     "name": "stdout",
     "output_type": "stream",
     "text": [
      "age : 26\n",
      "gender : Male\n",
      "Occupation : Data Analyst\n",
      "Education : B.Tech\n"
     ]
    }
   ],
   "source": [
    "for key in dict_1:\n",
    "    print(key ,':',dict_1[key])"
   ]
  },
  {
   "cell_type": "markdown",
   "id": "53894467",
   "metadata": {},
   "source": [
    "8. How do you get the number of items in a dictionary in Python?"
   ]
  },
  {
   "cell_type": "code",
   "execution_count": 161,
   "id": "3dc628bd",
   "metadata": {},
   "outputs": [
    {
     "data": {
      "text/plain": [
       "4"
      ]
     },
     "execution_count": 161,
     "metadata": {},
     "output_type": "execute_result"
    }
   ],
   "source": [
    "len(dict_1)"
   ]
  },
  {
   "cell_type": "markdown",
   "id": "71c26058",
   "metadata": {},
   "source": [
    "9. How do you copy a dictionary in Python?"
   ]
  },
  {
   "cell_type": "code",
   "execution_count": 162,
   "id": "81084a40",
   "metadata": {},
   "outputs": [
    {
     "data": {
      "text/plain": [
       "{'age': 26,\n",
       " 'gender': 'Male',\n",
       " 'Occupation': 'Data Analyst',\n",
       " 'Education': 'B.Tech'}"
      ]
     },
     "execution_count": 162,
     "metadata": {},
     "output_type": "execute_result"
    }
   ],
   "source": [
    "dict_2 = dict_1.copy()\n",
    "dict_2"
   ]
  },
  {
   "cell_type": "markdown",
   "id": "ea71d7e0",
   "metadata": {},
   "source": [
    "10. How do you merge two dictionaries in Python?"
   ]
  },
  {
   "cell_type": "code",
   "execution_count": 163,
   "id": "b5de82f7",
   "metadata": {},
   "outputs": [
    {
     "data": {
      "text/plain": [
       "{'age': '24',\n",
       " 'gender': 'Female',\n",
       " 'Occupation': 'System Engineer',\n",
       " 'Education': 'B.Tech'}"
      ]
     },
     "execution_count": 163,
     "metadata": {},
     "output_type": "execute_result"
    }
   ],
   "source": [
    "dict_2 = {\n",
    "    'age' : '24',\n",
    "    'gender': 'Female',\n",
    "    'Occupation': 'System Engineer',\n",
    "    'Education': 'B.Tech'\n",
    "}\n",
    "\n",
    "merged_dict = {**dict_1,**dict_2}\n",
    "merged_dict\n"
   ]
  },
  {
   "cell_type": "markdown",
   "id": "6300ccae",
   "metadata": {},
   "source": [
    "\n",
    "11. How do you get a list of keys in a dictionary in Python?"
   ]
  },
  {
   "cell_type": "code",
   "execution_count": 164,
   "id": "f9e3acca",
   "metadata": {},
   "outputs": [
    {
     "data": {
      "text/plain": [
       "['age', 'gender', 'Occupation', 'Education']"
      ]
     },
     "execution_count": 164,
     "metadata": {},
     "output_type": "execute_result"
    }
   ],
   "source": [
    "list(dict_1.keys())"
   ]
  },
  {
   "cell_type": "markdown",
   "id": "605283f5",
   "metadata": {},
   "source": [
    "12. How do you get a list of values in a dictionary in Python?"
   ]
  },
  {
   "cell_type": "code",
   "execution_count": 165,
   "id": "328d620b",
   "metadata": {},
   "outputs": [
    {
     "data": {
      "text/plain": [
       "[26, 'Male', 'Data Analyst', 'B.Tech']"
      ]
     },
     "execution_count": 165,
     "metadata": {},
     "output_type": "execute_result"
    }
   ],
   "source": [
    "list(dict_1.values())"
   ]
  },
  {
   "cell_type": "markdown",
   "id": "d593fab8",
   "metadata": {},
   "source": [
    "13. How do you get a list of key-value pairs in a dictionary in Python?"
   ]
  },
  {
   "cell_type": "code",
   "execution_count": 166,
   "id": "26adcb83",
   "metadata": {},
   "outputs": [
    {
     "data": {
      "text/plain": [
       "[('age', 26),\n",
       " ('gender', 'Male'),\n",
       " ('Occupation', 'Data Analyst'),\n",
       " ('Education', 'B.Tech')]"
      ]
     },
     "execution_count": 166,
     "metadata": {},
     "output_type": "execute_result"
    }
   ],
   "source": [
    "list(dict_1.items())"
   ]
  },
  {
   "cell_type": "markdown",
   "id": "9dd1ac85",
   "metadata": {},
   "source": [
    "14. How do you sort a dictionary by its keys in Python?"
   ]
  },
  {
   "cell_type": "code",
   "execution_count": 167,
   "id": "6272e2fc",
   "metadata": {},
   "outputs": [
    {
     "data": {
      "text/plain": [
       "{'Education': 'B.Tech',\n",
       " 'Occupation': 'Data Analyst',\n",
       " 'age': 26,\n",
       " 'gender': 'Male'}"
      ]
     },
     "execution_count": 167,
     "metadata": {},
     "output_type": "execute_result"
    }
   ],
   "source": [
    "dict(sorted(dict_1.items()))"
   ]
  },
  {
   "cell_type": "markdown",
   "id": "054f2a72",
   "metadata": {},
   "source": [
    "15. How do you sort a dictionary by its values in Python?"
   ]
  },
  {
   "cell_type": "code",
   "execution_count": 168,
   "id": "5745c49d",
   "metadata": {},
   "outputs": [
    {
     "data": {
      "text/plain": [
       "{'age': 26,\n",
       " 'Education': 'B.Tech',\n",
       " 'Occupation': 'Data Analyst',\n",
       " 'gender': 'Male'}"
      ]
     },
     "execution_count": 168,
     "metadata": {},
     "output_type": "execute_result"
    }
   ],
   "source": [
    "dict(sorted(dict_1.items(),key = lambda item: str(item[1])))"
   ]
  },
  {
   "cell_type": "code",
   "execution_count": 169,
   "id": "ec1cf161",
   "metadata": {},
   "outputs": [],
   "source": [
    "# sorted(dict_1.items(),key = lambda item : "
   ]
  },
  {
   "cell_type": "markdown",
   "id": "410b6061",
   "metadata": {},
   "source": [
    "16. How do you create a dictionary from a list of keys and a list of values in Python?"
   ]
  },
  {
   "cell_type": "code",
   "execution_count": 170,
   "id": "a33797a8",
   "metadata": {},
   "outputs": [
    {
     "name": "stdout",
     "output_type": "stream",
     "text": [
      "{'name': 'Sridhar', 'age': 'Male', 'gender': 'India', 'location': 'Python'}\n"
     ]
    }
   ],
   "source": [
    "key_list = ['name','age','gender','location','skill']\n",
    "value_list = ['Sridhar','Male','India','Python']\n",
    "\n",
    "dict_1 = dict(zip(key_list,value_list))\n",
    "print(dict_1)"
   ]
  },
  {
   "cell_type": "markdown",
   "id": "2189e119",
   "metadata": {},
   "source": [
    "17. How do you create a dictionary from two lists in Python?"
   ]
  },
  {
   "cell_type": "code",
   "execution_count": 171,
   "id": "9bd69614",
   "metadata": {},
   "outputs": [
    {
     "data": {
      "text/plain": [
       "{'Name': 'Vamsi', 'age': 22, 'location': 'Visakhapatnam'}"
      ]
     },
     "execution_count": 171,
     "metadata": {},
     "output_type": "execute_result"
    }
   ],
   "source": [
    "key_list = ['Name','age','location']\n",
    "value_list = ['Vamsi',22,'Visakhapatnam']\n",
    "dict_1 = dict(zip(key_list,value_list))\n",
    "dict_1"
   ]
  },
  {
   "cell_type": "markdown",
   "id": "7a7d7dd6",
   "metadata": {},
   "source": [
    "18. How do you create a dictionary from a list of tuples in Python?"
   ]
  },
  {
   "cell_type": "code",
   "execution_count": 172,
   "id": "e4283181",
   "metadata": {},
   "outputs": [
    {
     "data": {
      "text/plain": [
       "{'Name': 'Sridhar', 'Age': 22, 'Gender': 'Male'}"
      ]
     },
     "execution_count": 172,
     "metadata": {},
     "output_type": "execute_result"
    }
   ],
   "source": [
    "list_of_tuples = [('Name','Sridhar'),\n",
    "                 ('Age',22),\n",
    "                 ('Gender','Male')]\n",
    "dict_2 = dict(list_of_tuples)\n",
    "dict_2"
   ]
  },
  {
   "cell_type": "markdown",
   "id": "4b17e367",
   "metadata": {},
   "source": [
    "19. How do you create a dictionary from a tuple of keys and a tuple of values in Python?"
   ]
  },
  {
   "cell_type": "code",
   "execution_count": 173,
   "id": "2c06b5d4",
   "metadata": {},
   "outputs": [
    {
     "data": {
      "text/plain": [
       "{'Name': 'Sridhar Kadhiri', 'age': 26, 'gender': 'M', 'Location': 'India'}"
      ]
     },
     "execution_count": 173,
     "metadata": {},
     "output_type": "execute_result"
    }
   ],
   "source": [
    "key_tuple = ('Name','age','gender','Location')\n",
    "value_tuple = ('Sridhar Kadhiri',26,'M','India')\n",
    "\n",
    "dict_3 = dict(zip(key_tuple,value_tuple))\n",
    "dict_3"
   ]
  },
  {
   "cell_type": "markdown",
   "id": "d4632719",
   "metadata": {},
   "source": [
    "20. How do you get the maximum key in a dictionary in Python?"
   ]
  },
  {
   "cell_type": "code",
   "execution_count": 174,
   "id": "d30630fd",
   "metadata": {},
   "outputs": [
    {
     "data": {
      "text/plain": [
       "'location'"
      ]
     },
     "execution_count": 174,
     "metadata": {},
     "output_type": "execute_result"
    }
   ],
   "source": [
    "max(list(dict_1.keys()))"
   ]
  },
  {
   "cell_type": "markdown",
   "id": "83707c70",
   "metadata": {},
   "source": [
    "21. How do you get the maximum value in a dictionary in Python?"
   ]
  },
  {
   "cell_type": "code",
   "execution_count": 175,
   "id": "98caa6ed",
   "metadata": {},
   "outputs": [
    {
     "data": {
      "text/plain": [
       "{1: 1, 2: 4, 3: 9, 4: 16, 5: 25, 6: 36, 7: 49, 8: 64, 9: 81}"
      ]
     },
     "execution_count": 175,
     "metadata": {},
     "output_type": "execute_result"
    }
   ],
   "source": [
    "list_1 = [1,2,3,4,5,6,7,8,9]\n",
    "list_2 = [1,4,9,16,25,36,49,64,81]\n",
    "\n",
    "dict_4 = dict(zip(list_1,list_2))\n",
    "dict_4"
   ]
  },
  {
   "cell_type": "markdown",
   "id": "3b43c794",
   "metadata": {},
   "source": [
    "22. How do you get the minimum key in a dictionary in Python?"
   ]
  },
  {
   "cell_type": "code",
   "execution_count": 176,
   "id": "7f984eca",
   "metadata": {},
   "outputs": [
    {
     "data": {
      "text/plain": [
       "9"
      ]
     },
     "execution_count": 176,
     "metadata": {},
     "output_type": "execute_result"
    }
   ],
   "source": [
    "max(dict_4)"
   ]
  },
  {
   "cell_type": "markdown",
   "id": "910b718b",
   "metadata": {},
   "source": [
    "23. How do you get the minimum value in a dictionary in Python?"
   ]
  },
  {
   "cell_type": "code",
   "execution_count": 177,
   "id": "b187c6da",
   "metadata": {},
   "outputs": [
    {
     "data": {
      "text/plain": [
       "1"
      ]
     },
     "execution_count": 177,
     "metadata": {},
     "output_type": "execute_result"
    }
   ],
   "source": [
    "min(dict_4)"
   ]
  },
  {
   "cell_type": "markdown",
   "id": "b1b49389",
   "metadata": {},
   "source": [
    "24. How do you check if a value exists in a dictionary in Python?"
   ]
  },
  {
   "cell_type": "code",
   "execution_count": 178,
   "id": "9acf23fc",
   "metadata": {},
   "outputs": [
    {
     "data": {
      "text/plain": [
       "True"
      ]
     },
     "execution_count": 178,
     "metadata": {},
     "output_type": "execute_result"
    }
   ],
   "source": [
    "4 in dict_4.values()"
   ]
  },
  {
   "cell_type": "markdown",
   "id": "5e271be0",
   "metadata": {},
   "source": [
    "25. How do you get a default value for a non-existing key in a dictionary in Python?"
   ]
  },
  {
   "cell_type": "code",
   "execution_count": 179,
   "id": "896ab398",
   "metadata": {},
   "outputs": [
    {
     "name": "stdout",
     "output_type": "stream",
     "text": [
      "30\n"
     ]
    }
   ],
   "source": [
    "# Example dictionary\n",
    "my_dict = {'name': 'John', 'age': 30, 'city': 'New York'}\n",
    "\n",
    "# Get the value for a key with a default value\n",
    "default_value = my_dict.get('age')\n",
    "\n",
    "# Display the result\n",
    "print(default_value)\n"
   ]
  },
  {
   "cell_type": "markdown",
   "id": "04663251",
   "metadata": {},
   "source": [
    "26. How do you clear all items in a dictionary in Python?"
   ]
  },
  {
   "cell_type": "code",
   "execution_count": 180,
   "id": "20b5e25b",
   "metadata": {},
   "outputs": [],
   "source": [
    "dict_1.clear()"
   ]
  },
  {
   "cell_type": "markdown",
   "id": "1356d5ff",
   "metadata": {},
   "source": [
    "27. How do you update a dictionary with another dictionary in Python?"
   ]
  },
  {
   "cell_type": "code",
   "execution_count": 181,
   "id": "d04ca56a",
   "metadata": {},
   "outputs": [
    {
     "name": "stdout",
     "output_type": "stream",
     "text": [
      "{'name': 'John', 'age': 30, 'city': 'New York'}\n"
     ]
    }
   ],
   "source": [
    "dict_1.update(my_dict)\n",
    "print(dict_1)"
   ]
  },
  {
   "cell_type": "markdown",
   "id": "7735e3ff",
   "metadata": {},
   "source": [
    "28. How do you create a dictionary with default values in Python?"
   ]
  },
  {
   "cell_type": "code",
   "execution_count": null,
   "id": "66e5584e",
   "metadata": {},
   "outputs": [],
   "source": []
  },
  {
   "cell_type": "markdown",
   "id": "2eb46387",
   "metadata": {},
   "source": [
    "29. How do you create a nested dictionary in Python?"
   ]
  },
  {
   "cell_type": "code",
   "execution_count": 182,
   "id": "e6a6279b",
   "metadata": {},
   "outputs": [
    {
     "data": {
      "text/plain": [
       "'Cristmas Eve'"
      ]
     },
     "execution_count": 182,
     "metadata": {},
     "output_type": "execute_result"
    }
   ],
   "source": [
    "holidays  = {\n",
    "    'Jan': {\n",
    "        26 : 'Republic Day',\n",
    "        27 : 'Republic Day',\n",
    "        28 : 'Republic Day'\n",
    "    },\n",
    "    'Mar' : {\n",
    "        23 : 'Saturday',\n",
    "        24 : 'Sunday',\n",
    "        25 : 'Holi',\n",
    "        26 : 'Leave',\n",
    "        27 : 'Leave',\n",
    "        28 : 'Leave',\n",
    "        29 : 'Good Friday',\n",
    "        30 : 'Saturday',\n",
    "        31 : 'Sunday'\n",
    "    },\n",
    "    'Apr' : {\n",
    "        6 : 'Saturday',\n",
    "        7 : 'Sunday',\n",
    "        8 : 'Leave',\n",
    "        9 : 'Ugadi',\n",
    "        10 : 'Leave',\n",
    "        11 : 'Ramzan',\n",
    "        12 : 'Leave',\n",
    "        13: 'Saturday',\n",
    "        14 : 'Sunday'\n",
    "    },\n",
    "    'May' : {\n",
    "        23 : 'Buddha Poornima',\n",
    "        24 : 'Leave',\n",
    "        25 : 'Saturday',\n",
    "        26 : 'Sunday'\n",
    "    },\n",
    "    'Jun' : {\n",
    "        15 : 'Saturday',\n",
    "        16 : 'Sunday',\n",
    "        17 : 'Bakrid'\n",
    "    },\n",
    "    'Aug' : {\n",
    "        15 : 'Independence Day',\n",
    "        16 : 'Leave',\n",
    "        17 : 'Saturday',\n",
    "        18: 'Sunday',\n",
    "        24 : 'Saturday',\n",
    "        25 : 'Sunday',\n",
    "        28 : 'Janmastami'\n",
    "    },\n",
    "    'Sep' : {\n",
    "        14 : 'Saturday',\n",
    "        15 : 'Sunday',\n",
    "        16 : 'Festival'\n",
    "    },\n",
    "    'Oct' : {\n",
    "        2: 'Gandhi Jayanthi',\n",
    "        3: 'Leave',\n",
    "        4: 'Leave',\n",
    "        5: 'Saturday',\n",
    "        6: 'Sunday'\n",
    "    },\n",
    "    'Nov' : {\n",
    "        1: 'Diwali',\n",
    "        2: 'Saturay',\n",
    "        3: 'Sunday',\n",
    "        4: 'Leave',\n",
    "        15: 'Gurunanak Jayanthi',\n",
    "        16: 'Saturday',\n",
    "        17: 'Sunday'\n",
    "    },\n",
    "    'Dec': {\n",
    "        21: 'Saturday',\n",
    "        22: 'Sunday',\n",
    "        23: 'Leave',\n",
    "        24: 'Cristmas Eve',\n",
    "        25: 'Christmas',\n",
    "        26: 'Leave',\n",
    "        27: 'Leave',\n",
    "        28: 'Saturday',\n",
    "        29: 'Sunday'\n",
    "    }\n",
    "}\n",
    "\n",
    "holidays['Dec'][24]"
   ]
  },
  {
   "cell_type": "code",
   "execution_count": 183,
   "id": "2aa42d5c",
   "metadata": {},
   "outputs": [],
   "source": [
    "# I want the months and number of holidays in each month\n",
    "# write a function to give all the holidays in that month\n",
    "# \n"
   ]
  },
  {
   "cell_type": "markdown",
   "id": "17427aa1",
   "metadata": {},
   "source": [
    "30. How do you access a value in a nested dictionary in Python?"
   ]
  },
  {
   "cell_type": "code",
   "execution_count": 184,
   "id": "308b63bd",
   "metadata": {},
   "outputs": [
    {
     "data": {
      "text/plain": [
       "'Cristmas Eve'"
      ]
     },
     "execution_count": 184,
     "metadata": {},
     "output_type": "execute_result"
    }
   ],
   "source": [
    "holidays['Dec'][24]"
   ]
  },
  {
   "cell_type": "markdown",
   "id": "9a47fe2d",
   "metadata": {},
   "source": [
    "31. How do you add a new key-value pair to a nested dictionary in Python?"
   ]
  },
  {
   "cell_type": "code",
   "execution_count": 185,
   "id": "59daa320",
   "metadata": {},
   "outputs": [
    {
     "data": {
      "text/plain": [
       "{2: 'Gandhi Jayanthi',\n",
       " 3: 'Leave',\n",
       " 4: 'Leave',\n",
       " 5: 'Saturday',\n",
       " 6: 'Sunday',\n",
       " 14: 'My Birthday'}"
      ]
     },
     "execution_count": 185,
     "metadata": {},
     "output_type": "execute_result"
    }
   ],
   "source": [
    "#  I want to add my birthday in oct as a holiday\n",
    "holidays['Oct'][14] = 'My Birthday'\n",
    "holidays['Oct']"
   ]
  },
  {
   "cell_type": "markdown",
   "id": "1cb77d15",
   "metadata": {},
   "source": [
    "32. How do you remove a key-value pair from a nested dictionary in Python?"
   ]
  },
  {
   "cell_type": "code",
   "execution_count": 186,
   "id": "63443ded",
   "metadata": {},
   "outputs": [
    {
     "name": "stdout",
     "output_type": "stream",
     "text": [
      "I want to add my birthday in oct as a holiday\n",
      "{2: 'Gandhi Jayanthi', 3: 'Leave', 4: 'Leave', 5: 'Saturday', 6: 'Sunday', 14: 'My Birthday'}\n",
      "\n",
      "I want to remove my Birthday using the pop method\n",
      "{2: 'Gandhi Jayanthi', 3: 'Leave', 4: 'Leave', 5: 'Saturday', 6: 'Sunday'}\n",
      "\n",
      "adding the new key-value pair\n",
      "{2: 'Gandhi Jayanthi', 3: 'Leave', 4: 'Leave', 5: 'Saturday', 6: 'Sunday', 14: 'My Birthday'}\n",
      "\n",
      "Using the del command\n",
      "{2: 'Gandhi Jayanthi', 3: 'Leave', 4: 'Leave', 5: 'Saturday', 6: 'Sunday'}\n"
     ]
    }
   ],
   "source": [
    "#  I want to add my birthday in oct as a holiday\n",
    "print('I want to add my birthday in oct as a holiday')\n",
    "holidays['Oct'][14] = 'My Birthday'\n",
    "print(holidays['Oct'])\n",
    "\n",
    "#  I want to remove my Birthday using the pop method\n",
    "print('\\nI want to remove my Birthday using the pop method')\n",
    "holidays['Oct'].pop(14)\n",
    "print(holidays['Oct'])\n",
    "\n",
    "# adding the new key-value pair\n",
    "print('\\nadding the new key-value pair')\n",
    "holidays['Oct'][14] = 'My Birthday'\n",
    "print(holidays['Oct'])\n",
    "\n",
    "\n",
    "# Using the del command\n",
    "print('\\nUsing the del command')\n",
    "del holidays['Oct'][14]\n",
    "print(holidays['Oct'])"
   ]
  },
  {
   "cell_type": "markdown",
   "id": "42905f07",
   "metadata": {},
   "source": [
    "33. How do you iterate over a nested dictionary in Python?"
   ]
  },
  {
   "cell_type": "code",
   "execution_count": 187,
   "id": "c703ab77",
   "metadata": {},
   "outputs": [
    {
     "name": "stdout",
     "output_type": "stream",
     "text": [
      "Jan\n",
      "26 Republic Day\n",
      "27 Republic Day\n",
      "28 Republic Day\n",
      "Mar\n",
      "23 Saturday\n",
      "24 Sunday\n",
      "25 Holi\n",
      "26 Leave\n",
      "27 Leave\n",
      "28 Leave\n",
      "29 Good Friday\n",
      "30 Saturday\n",
      "31 Sunday\n",
      "Apr\n",
      "6 Saturday\n",
      "7 Sunday\n",
      "8 Leave\n",
      "9 Ugadi\n",
      "10 Leave\n",
      "11 Ramzan\n",
      "12 Leave\n",
      "13 Saturday\n",
      "14 Sunday\n",
      "May\n",
      "23 Buddha Poornima\n",
      "24 Leave\n",
      "25 Saturday\n",
      "26 Sunday\n",
      "Jun\n",
      "15 Saturday\n",
      "16 Sunday\n",
      "17 Bakrid\n",
      "Aug\n",
      "15 Independence Day\n",
      "16 Leave\n",
      "17 Saturday\n",
      "18 Sunday\n",
      "24 Saturday\n",
      "25 Sunday\n",
      "28 Janmastami\n",
      "Sep\n",
      "14 Saturday\n",
      "15 Sunday\n",
      "16 Festival\n",
      "Oct\n",
      "2 Gandhi Jayanthi\n",
      "3 Leave\n",
      "4 Leave\n",
      "5 Saturday\n",
      "6 Sunday\n",
      "Nov\n",
      "1 Diwali\n",
      "2 Saturay\n",
      "3 Sunday\n",
      "4 Leave\n",
      "15 Gurunanak Jayanthi\n",
      "16 Saturday\n",
      "17 Sunday\n",
      "Dec\n",
      "21 Saturday\n",
      "22 Sunday\n",
      "23 Leave\n",
      "24 Cristmas Eve\n",
      "25 Christmas\n",
      "26 Leave\n",
      "27 Leave\n",
      "28 Saturday\n",
      "29 Sunday\n"
     ]
    }
   ],
   "source": [
    "for outer_key, inner_dict in holidays.items():\n",
    "    print(f'{outer_key}')\n",
    "    for inner_key, values in inner_dict.items():\n",
    "        print(inner_key, values)"
   ]
  },
  {
   "cell_type": "markdown",
   "id": "5571b448",
   "metadata": {},
   "source": [
    "34. How do you sort a nested dictionary by its keys in Python?"
   ]
  },
  {
   "cell_type": "code",
   "execution_count": 188,
   "id": "870c1578",
   "metadata": {},
   "outputs": [
    {
     "name": "stdout",
     "output_type": "stream",
     "text": [
      "{'Apr': {6: 'Saturday', 7: 'Sunday', 8: 'Leave', 9: 'Ugadi', 10: 'Leave', 11: 'Ramzan', 12: 'Leave', 13: 'Saturday', 14: 'Sunday'}, 'Aug': {15: 'Independence Day', 16: 'Leave', 17: 'Saturday', 18: 'Sunday', 24: 'Saturday', 25: 'Sunday', 28: 'Janmastami'}, 'Dec': {21: 'Saturday', 22: 'Sunday', 23: 'Leave', 24: 'Cristmas Eve', 25: 'Christmas', 26: 'Leave', 27: 'Leave', 28: 'Saturday', 29: 'Sunday'}, 'Jan': {26: 'Republic Day', 27: 'Republic Day', 28: 'Republic Day'}, 'Jun': {15: 'Saturday', 16: 'Sunday', 17: 'Bakrid'}, 'Mar': {23: 'Saturday', 24: 'Sunday', 25: 'Holi', 26: 'Leave', 27: 'Leave', 28: 'Leave', 29: 'Good Friday', 30: 'Saturday', 31: 'Sunday'}, 'May': {23: 'Buddha Poornima', 24: 'Leave', 25: 'Saturday', 26: 'Sunday'}, 'Nov': {1: 'Diwali', 2: 'Saturay', 3: 'Sunday', 4: 'Leave', 15: 'Gurunanak Jayanthi', 16: 'Saturday', 17: 'Sunday'}, 'Oct': {2: 'Gandhi Jayanthi', 3: 'Leave', 4: 'Leave', 5: 'Saturday', 6: 'Sunday'}, 'Sep': {14: 'Saturday', 15: 'Sunday', 16: 'Festival'}}\n"
     ]
    }
   ],
   "source": [
    "# sorting the nested dictionary based on the keys of outer dictionary \n",
    "sorted_outer_dict = dict(sorted(holidays.items()))\n",
    "\n",
    "for key, inner_dict in holidays.items():\n",
    "    sorted_outer_dict[key] = dict(sorted(inner_dict.items()))\n",
    "\n",
    "print(sorted_outer_dict)"
   ]
  },
  {
   "cell_type": "markdown",
   "id": "7fcb2631",
   "metadata": {},
   "source": [
    "35. How do you sort a nested dictionary by its values in Python?"
   ]
  },
  {
   "cell_type": "code",
   "execution_count": 189,
   "id": "7fcc738c",
   "metadata": {},
   "outputs": [
    {
     "data": {
      "text/plain": [
       "{'Apr': {8: 'Leave',\n",
       "  10: 'Leave',\n",
       "  12: 'Leave',\n",
       "  11: 'Ramzan',\n",
       "  6: 'Saturday',\n",
       "  13: 'Saturday',\n",
       "  7: 'Sunday',\n",
       "  14: 'Sunday',\n",
       "  9: 'Ugadi'},\n",
       " 'Aug': {15: 'Independence Day',\n",
       "  28: 'Janmastami',\n",
       "  16: 'Leave',\n",
       "  17: 'Saturday',\n",
       "  24: 'Saturday',\n",
       "  18: 'Sunday',\n",
       "  25: 'Sunday'},\n",
       " 'Dec': {25: 'Christmas',\n",
       "  24: 'Cristmas Eve',\n",
       "  23: 'Leave',\n",
       "  26: 'Leave',\n",
       "  27: 'Leave',\n",
       "  21: 'Saturday',\n",
       "  28: 'Saturday',\n",
       "  22: 'Sunday',\n",
       "  29: 'Sunday'},\n",
       " 'Jan': {26: 'Republic Day', 27: 'Republic Day', 28: 'Republic Day'},\n",
       " 'Jun': {17: 'Bakrid', 15: 'Saturday', 16: 'Sunday'},\n",
       " 'Mar': {29: 'Good Friday',\n",
       "  25: 'Holi',\n",
       "  26: 'Leave',\n",
       "  27: 'Leave',\n",
       "  28: 'Leave',\n",
       "  23: 'Saturday',\n",
       "  30: 'Saturday',\n",
       "  24: 'Sunday',\n",
       "  31: 'Sunday'},\n",
       " 'May': {23: 'Buddha Poornima', 24: 'Leave', 25: 'Saturday', 26: 'Sunday'},\n",
       " 'Nov': {1: 'Diwali',\n",
       "  15: 'Gurunanak Jayanthi',\n",
       "  4: 'Leave',\n",
       "  2: 'Saturay',\n",
       "  16: 'Saturday',\n",
       "  3: 'Sunday',\n",
       "  17: 'Sunday'},\n",
       " 'Oct': {2: 'Gandhi Jayanthi',\n",
       "  3: 'Leave',\n",
       "  4: 'Leave',\n",
       "  5: 'Saturday',\n",
       "  6: 'Sunday'},\n",
       " 'Sep': {16: 'Festival', 14: 'Saturday', 15: 'Sunday'}}"
      ]
     },
     "execution_count": 189,
     "metadata": {},
     "output_type": "execute_result"
    }
   ],
   "source": [
    "sorted_outer_dict = dict(sorted(holidays.items()))\n",
    "\n",
    "for key, inner_dict in holidays.items():\n",
    "    sorted_outer_dict[key] = dict(sorted(inner_dict.items() ,key = lambda item: str(item[1]) ))\n",
    "\n",
    "sorted_outer_dict"
   ]
  },
  {
   "cell_type": "markdown",
   "id": "bed89034",
   "metadata": {},
   "source": [
    "36. How do you convert a dictionary to a list of tuples in Python?"
   ]
  },
  {
   "cell_type": "code",
   "execution_count": 190,
   "id": "5f4bf0ca",
   "metadata": {},
   "outputs": [
    {
     "data": {
      "text/plain": [
       "[('name', 'John'), ('age', 30), ('city', 'New York')]"
      ]
     },
     "execution_count": 190,
     "metadata": {},
     "output_type": "execute_result"
    }
   ],
   "source": [
    "list(dict_1.items())"
   ]
  },
  {
   "cell_type": "markdown",
   "id": "4898d3ab",
   "metadata": {},
   "source": [
    "37. How do you convert a dictionary to a list of keys in Python?"
   ]
  },
  {
   "cell_type": "code",
   "execution_count": 191,
   "id": "9841c225",
   "metadata": {},
   "outputs": [
    {
     "data": {
      "text/plain": [
       "['name', 'age', 'city']"
      ]
     },
     "execution_count": 191,
     "metadata": {},
     "output_type": "execute_result"
    }
   ],
   "source": [
    "list(dict_1.keys())"
   ]
  },
  {
   "cell_type": "markdown",
   "id": "c4588606",
   "metadata": {},
   "source": [
    "38. How do you convert a dictionary to a list of values in Python?"
   ]
  },
  {
   "cell_type": "code",
   "execution_count": 192,
   "id": "0a135c0b",
   "metadata": {},
   "outputs": [
    {
     "data": {
      "text/plain": [
       "['John', 30, 'New York']"
      ]
     },
     "execution_count": 192,
     "metadata": {},
     "output_type": "execute_result"
    }
   ],
   "source": [
    "list(dict_1.values())"
   ]
  },
  {
   "cell_type": "markdown",
   "id": "0b4e8102",
   "metadata": {},
   "source": [
    "39. How do you convert a list of tuples to a dictionary in Python?"
   ]
  },
  {
   "cell_type": "code",
   "execution_count": 193,
   "id": "501e2cc6",
   "metadata": {},
   "outputs": [
    {
     "data": {
      "text/plain": [
       "{'Name': 'Sridhar', 'Age': '26', 'Father': 'Veera Raju'}"
      ]
     },
     "execution_count": 193,
     "metadata": {},
     "output_type": "execute_result"
    }
   ],
   "source": [
    "my_list  = [('Name', 'Sridhar'),('Age', '26'),('Father', 'Veera Raju')]\n",
    "\n",
    "dict(my_list)"
   ]
  },
  {
   "cell_type": "markdown",
   "id": "f04efbec",
   "metadata": {},
   "source": [
    "   40. How do you convert two lists to a dictionary in Python?"
   ]
  },
  {
   "cell_type": "code",
   "execution_count": 194,
   "id": "4c8c1f15",
   "metadata": {},
   "outputs": [
    {
     "data": {
      "text/plain": [
       "{'a': 4, 'b': 5, 'c': 6}"
      ]
     },
     "execution_count": 194,
     "metadata": {},
     "output_type": "execute_result"
    }
   ],
   "source": [
    "listb = [4,5,6]\n",
    "lista = ['a', 'b', 'c']\n",
    "\n",
    "my_dict  = dict(zip(lista,listb))\n",
    "my_dict"
   ]
  },
  {
   "cell_type": "markdown",
   "id": "25273222",
   "metadata": {},
   "source": [
    "# Functions "
   ]
  },
  {
   "cell_type": "markdown",
   "id": "df83b28f",
   "metadata": {},
   "source": [
    "1. Write a function that takes a number as input and returns its square."
   ]
  },
  {
   "cell_type": "code",
   "execution_count": 195,
   "id": "13b27ec2",
   "metadata": {},
   "outputs": [
    {
     "data": {
      "text/plain": [
       "25"
      ]
     },
     "execution_count": 195,
     "metadata": {},
     "output_type": "execute_result"
    }
   ],
   "source": [
    "def sqrt(x):\n",
    "    return x**2\n",
    "\n",
    "sqrt(5)"
   ]
  },
  {
   "cell_type": "markdown",
   "id": "d984ca8d",
   "metadata": {},
   "source": [
    "2. Write a function that takes two numbers as input and returns their sum."
   ]
  },
  {
   "cell_type": "code",
   "execution_count": 196,
   "id": "b09838f3",
   "metadata": {},
   "outputs": [
    {
     "data": {
      "text/plain": [
       "77"
      ]
     },
     "execution_count": 196,
     "metadata": {},
     "output_type": "execute_result"
    }
   ],
   "source": [
    "def add(x,y):\n",
    "    return x+y\n",
    "\n",
    "add(55 ,22)"
   ]
  },
  {
   "cell_type": "markdown",
   "id": "5fad4334",
   "metadata": {},
   "source": [
    "3. Write a function that takes a list of numbers as input and returns their average."
   ]
  },
  {
   "cell_type": "code",
   "execution_count": 197,
   "id": "ef396dc7",
   "metadata": {},
   "outputs": [
    {
     "name": "stdout",
     "output_type": "stream",
     "text": [
      "[0, 1, 2, 3, 4, 5, 6, 7, 8, 9, 10, 11, 12, 13, 14, 15, 16, 17, 18, 19, 20, 21, 22, 23, 24, 25, 26, 27, 28, 29, 30, 31, 32, 33, 34, 35, 36, 37, 38, 39, 40, 41, 42, 43, 44, 45, 46, 47, 48, 49, 50, 51, 52, 53, 54]\n"
     ]
    },
    {
     "data": {
      "text/plain": [
       "1485"
      ]
     },
     "execution_count": 197,
     "metadata": {},
     "output_type": "execute_result"
    }
   ],
   "source": [
    "def avg(my_list):\n",
    "    add = 0\n",
    "    for i in my_list:\n",
    "        add+=i\n",
    "    return add\n",
    "\n",
    "list_1 = [i for i in range(55)]\n",
    "print(list_1)\n",
    "\n",
    "avg(list_1)"
   ]
  },
  {
   "cell_type": "markdown",
   "id": "59a850bc",
   "metadata": {},
   "source": [
    "4. Write a function that takes a string as input and returns its length."
   ]
  },
  {
   "cell_type": "code",
   "execution_count": 198,
   "id": "58c5ab39",
   "metadata": {},
   "outputs": [
    {
     "data": {
      "text/plain": [
       "18"
      ]
     },
     "execution_count": 198,
     "metadata": {},
     "output_type": "execute_result"
    }
   ],
   "source": [
    "def length(mystr):\n",
    "    count = 0\n",
    "    for char in mystr:\n",
    "        count +=1\n",
    "    return count\n",
    "str_1 = 'My Name is Sridhar'\n",
    "length(str_1)"
   ]
  },
  {
   "cell_type": "markdown",
   "id": "c38e4d75",
   "metadata": {},
   "source": [
    "5. Write a function that takes two strings as input and returns the concatenation of the two strings."
   ]
  },
  {
   "cell_type": "code",
   "execution_count": 199,
   "id": "57c3fc72",
   "metadata": {},
   "outputs": [
    {
     "data": {
      "text/plain": [
       "'Hello World'"
      ]
     },
     "execution_count": 199,
     "metadata": {},
     "output_type": "execute_result"
    }
   ],
   "source": [
    "def concatenate(str1,str2):\n",
    "    return str(str1) + str(str2)\n",
    "\n",
    "str_1 = 'Hello'\n",
    "str_2 = ' World'\n",
    "\n",
    "concatenate(str_1,str_2)"
   ]
  },
  {
   "cell_type": "markdown",
   "id": "94f4381e",
   "metadata": {},
   "source": [
    "6. Write a function that takes a list of strings as input and returns the concatenation of all the strings in the list."
   ]
  },
  {
   "cell_type": "code",
   "execution_count": 200,
   "id": "eb344b53",
   "metadata": {},
   "outputs": [
    {
     "data": {
      "text/plain": [
       "'Jan Feb Mar April May Jun Jul Aug Sep Oct Nov Dec '"
      ]
     },
     "execution_count": 200,
     "metadata": {},
     "output_type": "execute_result"
    }
   ],
   "source": [
    "str_l = ['Jan','Feb','Mar','April','May','Jun','Jul','Aug','Sep','Oct','Nov','Dec']\n",
    "\n",
    "def concat(str_list):\n",
    "    result = ''\n",
    "    for element in str_list:\n",
    "        result += element\n",
    "        result += ' '\n",
    "\n",
    "    return result\n",
    "\n",
    "concat(str_l)"
   ]
  },
  {
   "cell_type": "markdown",
   "id": "99de71b3",
   "metadata": {},
   "source": [
    "7. Write a function that takes a list of numbers as input and returns the sum of all the even numbers in the list."
   ]
  },
  {
   "cell_type": "code",
   "execution_count": 201,
   "id": "e80a6b9e",
   "metadata": {},
   "outputs": [
    {
     "data": {
      "text/plain": [
       "600"
      ]
     },
     "execution_count": 201,
     "metadata": {},
     "output_type": "execute_result"
    }
   ],
   "source": [
    "def evens_sum(my_list):\n",
    "    add = 0\n",
    "    for i in my_list:\n",
    "        if i%2 == 0:\n",
    "            add+=i\n",
    "    return add\n",
    "\n",
    "my_list = list(i for i in range(50))\n",
    "\n",
    "evens_sum(my_list)"
   ]
  },
  {
   "cell_type": "markdown",
   "id": "027e5b60",
   "metadata": {},
   "source": [
    "8. Write a function that takes a list of strings as input and returns the number of strings in the list that are longer than 5 characters."
   ]
  },
  {
   "cell_type": "code",
   "execution_count": 202,
   "id": "c5a6c6bf",
   "metadata": {},
   "outputs": [
    {
     "data": {
      "text/plain": [
       "3"
      ]
     },
     "execution_count": 202,
     "metadata": {},
     "output_type": "execute_result"
    }
   ],
   "source": [
    "my_l = ['This','is','a','sample','string','we','get','what','we','are','deserved','for']\n",
    "\n",
    "\n",
    "def more_than_5(my_list):\n",
    "    count = 0\n",
    "    for word in my_list:\n",
    "        if len(word) >5:\n",
    "            count+=1\n",
    "    return count\n",
    "\n",
    "more_than_5(my_l)\n"
   ]
  },
  {
   "cell_type": "markdown",
   "id": "a6f0a396",
   "metadata": {},
   "source": [
    "9. Write a function that takes a list of numbers as input and returns the sum of all the numbers that are divisible by 3 or 5."
   ]
  },
  {
   "cell_type": "code",
   "execution_count": 203,
   "id": "8cee0859",
   "metadata": {},
   "outputs": [
    {
     "data": {
      "text/plain": [
       "23"
      ]
     },
     "execution_count": 203,
     "metadata": {},
     "output_type": "execute_result"
    }
   ],
   "source": [
    "my_l = [i for i in range(10)]\n",
    "\n",
    "def sum_of_all_divisible_by_3_or_5(my_list):\n",
    "    add = 0\n",
    "    for num in my_list:\n",
    "        if (num%3 == 0) or ( num%5 == 0):\n",
    "            add += num\n",
    "    return add\n",
    "\n",
    "sum_of_all_divisible_by_3_or_5(my_l)"
   ]
  },
  {
   "cell_type": "markdown",
   "id": "944396d4",
   "metadata": {},
   "source": [
    "10. Write a function that takes a list of integers as input and returns the product of all the integers in the list."
   ]
  },
  {
   "cell_type": "code",
   "execution_count": 204,
   "id": "19cd7440",
   "metadata": {},
   "outputs": [
    {
     "data": {
      "text/plain": [
       "362880"
      ]
     },
     "execution_count": 204,
     "metadata": {},
     "output_type": "execute_result"
    }
   ],
   "source": [
    "# my_l = [i for i in range(1,10)]\n",
    "my_l = [1, 2, 3, 4, 5, 6, 7, 8, 9]\n",
    "\n",
    "def productofnum(my_list):\n",
    "    product = 1\n",
    "    for num in my_list:\n",
    "        product = product*num\n",
    "    return product\n",
    "\n",
    "\n",
    "productofnum(my_l)\n"
   ]
  },
  {
   "cell_type": "markdown",
   "id": "8a7e5de1",
   "metadata": {},
   "source": [
    "11. Write a function that takes a list of strings as input and returns the first string in the list that contains the letter 'a'."
   ]
  },
  {
   "cell_type": "code",
   "execution_count": 205,
   "id": "e2f03cdc",
   "metadata": {},
   "outputs": [
    {
     "data": {
      "text/plain": [
       "'deserved'"
      ]
     },
     "execution_count": 205,
     "metadata": {},
     "output_type": "execute_result"
    }
   ],
   "source": [
    "list_1 = ['This','is','a','sample','string','we','get','what','we','are','deserved','for']\n",
    "\n",
    "def get_word_containing(tag, my_list):\n",
    "    result = []\n",
    "    for word in my_list:\n",
    "        if tag in word:\n",
    "            result.append(word)\n",
    "    return result[0]\n",
    "\n",
    "get_word_containing('d',list_1)"
   ]
  },
  {
   "cell_type": "markdown",
   "id": "0f561498",
   "metadata": {},
   "source": [
    "12. Write a function that takes a list of numbers as input and returns the second largest number in the list."
   ]
  },
  {
   "cell_type": "code",
   "execution_count": 206,
   "id": "55c560dc",
   "metadata": {},
   "outputs": [
    {
     "data": {
      "text/plain": [
       "385"
      ]
     },
     "execution_count": 206,
     "metadata": {},
     "output_type": "execute_result"
    }
   ],
   "source": [
    "from random import randint\n",
    "list_of_numbers = [randint(1,400) for i in range(100)]\n",
    "\n",
    "\n",
    "def second_largest(my_list):\n",
    "    return sorted(my_list,reverse=True)[1]\n",
    "\n",
    "second_largest(list_of_numbers)"
   ]
  },
  {
   "cell_type": "markdown",
   "id": "96ee6cb4",
   "metadata": {},
   "source": [
    "13. Write a function that takes a string as input and returns True if the string is a palindrome, False otherwise."
   ]
  },
  {
   "cell_type": "code",
   "execution_count": 207,
   "id": "4b876c7b",
   "metadata": {},
   "outputs": [
    {
     "name": "stdout",
     "output_type": "stream",
     "text": [
      "check_palindrome(my_string_1) -->  True\n",
      "check_palindrome(my_string_2) -->  False\n"
     ]
    }
   ],
   "source": [
    "my_string_1  = 'madam'\n",
    "my_string_2 = 'Hello'\n",
    "\n",
    "def check_palindrome(inp_str):\n",
    "    return inp_str == inp_str[::-1]\n",
    "\n",
    "print(f'check_palindrome(my_string_1) -->  {check_palindrome(my_string_1)}')\n",
    "\n",
    "print(f'check_palindrome(my_string_2) -->  {check_palindrome(my_string_2)}')"
   ]
  },
  {
   "cell_type": "markdown",
   "id": "a96b1295",
   "metadata": {},
   "source": [
    "14. Write a function that takes a list of strings as input and returns a new list containing only the strings that start with the letter 'a'."
   ]
  },
  {
   "cell_type": "code",
   "execution_count": 208,
   "id": "924446c8",
   "metadata": {},
   "outputs": [
    {
     "data": {
      "text/plain": [
       "['evening', 'embark']"
      ]
     },
     "execution_count": 208,
     "metadata": {},
     "output_type": "execute_result"
    }
   ],
   "source": [
    "#  I am trying to create a new long string using a para\n",
    "\n",
    "my_para = \"\"\"In the heart of the bustling city, where the sounds of traffic and hurried footsteps create a rhythmic urban symphony, there lies a quaint little bookstore. Its shelves, adorned with books of all shapes and sizes, tell stories of forgotten worlds and unexplored galaxies. As the evening sun sets, casting a warm glow on the city's skyscrapers, the bookstore becomes a refuge for those seeking solace in the pages of a good book. The scent of aged paper and the soft rustle of turning pages create a comforting atmosphere, inviting both avid readers and curious wanderers to embark on literary journeys that transcend time and space\"\"\"\n",
    "#  I have created a new list containing the words \n",
    "my_list_of_words = my_para.split()\n",
    "\n",
    "\n",
    "# function which filters the words from the list and returns the filtered list\n",
    "def filter_words(tag,my_list) :\n",
    "    result = []\n",
    "    for word in my_list:\n",
    "        if word[0] == tag:\n",
    "            result.append(word)\n",
    "    return result\n",
    "\n",
    "# Using the function \n",
    "result_list = filter_words('e',my_list_of_words)\n",
    "result_list"
   ]
  },
  {
   "cell_type": "markdown",
   "id": "3035fa92",
   "metadata": {},
   "source": [
    "15. Write a function that takes a list of numbers as input and returns the sum of the first and last numbers in the list."
   ]
  },
  {
   "cell_type": "code",
   "execution_count": 209,
   "id": "1432dfb4",
   "metadata": {},
   "outputs": [
    {
     "data": {
      "text/plain": [
       "7"
      ]
     },
     "execution_count": 209,
     "metadata": {},
     "output_type": "execute_result"
    }
   ],
   "source": [
    "def get_sum_of_first_and_last(my_list):\n",
    "    add = my_list[0] + my_list[-1]\n",
    "    return add\n",
    "\n",
    "my_list_1 = [1,2,3,4,5,6]\n",
    "\n",
    "get_sum_of_first_and_last(my_list_1)"
   ]
  },
  {
   "cell_type": "markdown",
   "id": "84d8b1d4",
   "metadata": {},
   "source": [
    "16. Write a function that takes a list of integers as input and returns a new list containing only the even numbers in the input list."
   ]
  },
  {
   "cell_type": "code",
   "execution_count": 210,
   "id": "43d29c2a",
   "metadata": {},
   "outputs": [
    {
     "data": {
      "text/plain": [
       "[2, 4, 6]"
      ]
     },
     "execution_count": 210,
     "metadata": {},
     "output_type": "execute_result"
    }
   ],
   "source": [
    "def filter_evens(my_list):\n",
    "    evens = []\n",
    "    for num in my_list:\n",
    "        if num%2 == 0:\n",
    "            evens.append(num)\n",
    "    return evens\n",
    "\n",
    "filter_evens(my_list_1)"
   ]
  },
  {
   "cell_type": "markdown",
   "id": "ce69d8b0",
   "metadata": {},
   "source": [
    "17. Write a function that takes a list of strings as input and returns a new list containing the reverse of each string in the input list."
   ]
  },
  {
   "cell_type": "code",
   "execution_count": 211,
   "id": "0aeeb95a",
   "metadata": {},
   "outputs": [
    {
     "data": {
      "text/plain": [
       "['nI',\n",
       " 'eht',\n",
       " 'traeh',\n",
       " 'fo',\n",
       " 'eht',\n",
       " 'gniltsub',\n",
       " ',ytic',\n",
       " 'erehw',\n",
       " 'eht',\n",
       " 'sdnuos',\n",
       " 'fo',\n",
       " 'ciffart',\n",
       " 'dna',\n",
       " 'deirruh',\n",
       " 'spetstoof',\n",
       " 'etaerc',\n",
       " 'a',\n",
       " 'cimhtyhr',\n",
       " 'nabru',\n",
       " ',ynohpmys',\n",
       " 'ereht',\n",
       " 'seil',\n",
       " 'a',\n",
       " 'tniauq',\n",
       " 'elttil',\n",
       " '.erotskoob',\n",
       " 'stI',\n",
       " ',sevlehs',\n",
       " 'denroda',\n",
       " 'htiw',\n",
       " 'skoob',\n",
       " 'fo',\n",
       " 'lla',\n",
       " 'sepahs',\n",
       " 'dna',\n",
       " ',sezis',\n",
       " 'llet',\n",
       " 'seirots',\n",
       " 'fo',\n",
       " 'nettogrof',\n",
       " 'sdlrow',\n",
       " 'dna',\n",
       " 'derolpxenu',\n",
       " '.seixalag',\n",
       " 'sA',\n",
       " 'eht',\n",
       " 'gnineve',\n",
       " 'nus',\n",
       " ',stes',\n",
       " 'gnitsac',\n",
       " 'a',\n",
       " 'mraw',\n",
       " 'wolg',\n",
       " 'no',\n",
       " 'eht',\n",
       " \"s'ytic\",\n",
       " ',sreparcsyks',\n",
       " 'eht',\n",
       " 'erotskoob',\n",
       " 'semoceb',\n",
       " 'a',\n",
       " 'egufer',\n",
       " 'rof',\n",
       " 'esoht',\n",
       " 'gnikees',\n",
       " 'ecalos',\n",
       " 'ni',\n",
       " 'eht',\n",
       " 'segap',\n",
       " 'fo',\n",
       " 'a',\n",
       " 'doog',\n",
       " '.koob',\n",
       " 'ehT',\n",
       " 'tnecs',\n",
       " 'fo',\n",
       " 'dega',\n",
       " 'repap',\n",
       " 'dna',\n",
       " 'eht',\n",
       " 'tfos',\n",
       " 'eltsur',\n",
       " 'fo',\n",
       " 'gninrut',\n",
       " 'segap',\n",
       " 'etaerc',\n",
       " 'a',\n",
       " 'gnitrofmoc',\n",
       " ',erehpsomta',\n",
       " 'gnitivni',\n",
       " 'htob',\n",
       " 'diva',\n",
       " 'sredaer',\n",
       " 'dna',\n",
       " 'suoiruc',\n",
       " 'srerednaw',\n",
       " 'ot',\n",
       " 'krabme',\n",
       " 'no',\n",
       " 'yraretil',\n",
       " 'syenruoj',\n",
       " 'taht',\n",
       " 'dnecsnart',\n",
       " 'emit',\n",
       " 'dna',\n",
       " 'ecaps']"
      ]
     },
     "execution_count": 211,
     "metadata": {},
     "output_type": "execute_result"
    }
   ],
   "source": [
    "def reverse_strings_in_list(my_list):\n",
    "    new_list = []\n",
    "    for word in my_list:\n",
    "        new_word = word[::-1]\n",
    "        new_list.append(new_word)\n",
    "    return new_list\n",
    "\n",
    "reverse_strings_in_list(my_list_of_words)"
   ]
  },
  {
   "cell_type": "markdown",
   "id": "53b64132",
   "metadata": {},
   "source": [
    "18. Write a function that takes a list of integers as input and returns a new list containing the square of each integer in the input list."
   ]
  },
  {
   "cell_type": "code",
   "execution_count": 212,
   "id": "21bf7dc4",
   "metadata": {},
   "outputs": [
    {
     "data": {
      "text/plain": [
       "[11449,\n",
       " 43264,\n",
       " 29929,\n",
       " 2601,\n",
       " 47524,\n",
       " 114244,\n",
       " 19044,\n",
       " 46656,\n",
       " 14884,\n",
       " 51076,\n",
       " 120409,\n",
       " 31329,\n",
       " 147456,\n",
       " 3025,\n",
       " 195364,\n",
       " 151321,\n",
       " 101761,\n",
       " 96100,\n",
       " 729,\n",
       " 22201,\n",
       " 51984,\n",
       " 2916,\n",
       " 48400,\n",
       " 20164,\n",
       " 25,\n",
       " 152881,\n",
       " 441,\n",
       " 175561,\n",
       " 168921,\n",
       " 38025,\n",
       " 7225,\n",
       " 22201,\n",
       " 156025,\n",
       " 17424,\n",
       " 109561,\n",
       " 11025,\n",
       " 81225,\n",
       " 4761,\n",
       " 43264,\n",
       " 230400,\n",
       " 112896,\n",
       " 23716,\n",
       " 31329,\n",
       " 29584,\n",
       " 44100,\n",
       " 16384,\n",
       " 188356,\n",
       " 15129,\n",
       " 11449,\n",
       " 72900]"
      ]
     },
     "execution_count": 212,
     "metadata": {},
     "output_type": "execute_result"
    }
   ],
   "source": [
    "list_1 = [randint(1,500) for i in range(50)]\n",
    "\n",
    "def sqaure(my_list):\n",
    "    new_list = []\n",
    "    for num in my_list:\n",
    "        value = num**2\n",
    "        new_list.append(value)\n",
    "    return new_list\n",
    "\n",
    "sqaure(list_1)"
   ]
  },
  {
   "cell_type": "markdown",
   "id": "45cdc3c8",
   "metadata": {},
   "source": [
    "19. Write a function that takes a list of strings as input and returns the number of strings in the list that start with a vowel."
   ]
  },
  {
   "cell_type": "code",
   "execution_count": 213,
   "id": "e9474608",
   "metadata": {},
   "outputs": [
    {
     "data": {
      "text/plain": [
       "['In',\n",
       " 'of',\n",
       " 'of',\n",
       " 'and',\n",
       " 'a',\n",
       " 'urban',\n",
       " 'a',\n",
       " 'Its',\n",
       " 'adorned',\n",
       " 'of',\n",
       " 'all',\n",
       " 'and',\n",
       " 'of',\n",
       " 'and',\n",
       " 'unexplored',\n",
       " 'As',\n",
       " 'evening',\n",
       " 'a',\n",
       " 'on',\n",
       " 'a',\n",
       " 'in',\n",
       " 'of',\n",
       " 'a',\n",
       " 'of',\n",
       " 'aged',\n",
       " 'and',\n",
       " 'of',\n",
       " 'a',\n",
       " 'atmosphere,',\n",
       " 'inviting',\n",
       " 'avid',\n",
       " 'and',\n",
       " 'embark',\n",
       " 'on',\n",
       " 'and']"
      ]
     },
     "execution_count": 213,
     "metadata": {},
     "output_type": "execute_result"
    }
   ],
   "source": [
    "def vowelsfirst(mylist):\n",
    "    new_list = []\n",
    "    vowels = ['a','e','i','o','u']\n",
    "    for word in mylist:\n",
    "        std_word = word.lower()\n",
    "        if std_word[0] in vowels:\n",
    "            new_list.append(word)\n",
    "    return new_list\n",
    "\n",
    "vowelsfirst(my_list_of_words)"
   ]
  },
  {
   "cell_type": "markdown",
   "id": "4739e486",
   "metadata": {},
   "source": [
    "20. Write a function that takes a list of numbers as input and returns the largest number in the list that is less than 100."
   ]
  },
  {
   "cell_type": "code",
   "execution_count": 214,
   "id": "f8477a06",
   "metadata": {},
   "outputs": [
    {
     "data": {
      "text/plain": [
       "85"
      ]
     },
     "execution_count": 214,
     "metadata": {},
     "output_type": "execute_result"
    }
   ],
   "source": [
    "def largest_under_100(my_list):\n",
    "    new_list = []\n",
    "    for num in my_list:\n",
    "        if num <=100:\n",
    "            new_list.append(num)\n",
    "    return max(new_list)\n",
    "\n",
    "largest_under_100(list_1)"
   ]
  },
  {
   "cell_type": "markdown",
   "id": "65e1ef72",
   "metadata": {},
   "source": [
    "21. Write a function that takes a list of strings as input and returns a new list containing only the strings that are palindromes."
   ]
  },
  {
   "cell_type": "code",
   "execution_count": 215,
   "id": "9cfe9af9",
   "metadata": {},
   "outputs": [
    {
     "data": {
      "text/plain": [
       "['a',\n",
       " 'a',\n",
       " 'level',\n",
       " 'civic',\n",
       " 'radar',\n",
       " 'did',\n",
       " 'kayak',\n",
       " 'civic',\n",
       " 'civic',\n",
       " 'refer',\n",
       " 'a']"
      ]
     },
     "execution_count": 215,
     "metadata": {},
     "output_type": "execute_result"
    }
   ],
   "source": [
    "para = \"\"\"In a serene racecar, Hannah sat quietly under a level moon, sipping her civic radar tea. Little did she know, the kayak she owned would be part of an unusual civic civic rotation. As she gazed at the refer red radar, she pondered the eclectic palindrome parade that unfolded before her eyes, creating a poetic symmetry in her otherwise normal day\"\"\"\n",
    "\n",
    "def get_palindromes(para):\n",
    "    \"\"\"\n",
    "    Finds palindromes from the given paragraph\n",
    "    \n",
    "    Parameters: \n",
    "    - paragraph (str) : The input paragraph\n",
    "    \n",
    "    Returns:\n",
    "    - list: A list of palindromes words found in the paragraph\n",
    "    \"\"\"\n",
    "    words_list = para.split(' ')\n",
    "    \n",
    "    palindromes = [word for word in words_list if word == word[::-1]]\n",
    "    \n",
    "    return palindromes\n",
    "\n",
    "get_palindromes(para)"
   ]
  },
  {
   "cell_type": "markdown",
   "id": "11e24ae1",
   "metadata": {},
   "source": [
    "22. Write a function that takes a list of integers as input and returns a new list containing the integers in sorted order."
   ]
  },
  {
   "cell_type": "code",
   "execution_count": 216,
   "id": "f9fd69df",
   "metadata": {},
   "outputs": [
    {
     "name": "stdout",
     "output_type": "stream",
     "text": [
      "The unsorted list\n",
      "[43, 30, 108, 425, 179, 149, 354, 255, 248, 394, 409, 28, 427, 104, 210]\n"
     ]
    },
    {
     "data": {
      "text/plain": [
       "[427, 425, 409, 394, 354, 255, 248, 210, 179, 149, 108, 104, 43, 30, 28]"
      ]
     },
     "execution_count": 216,
     "metadata": {},
     "output_type": "execute_result"
    }
   ],
   "source": [
    "list_1 = [randint(1,500) for i in range(15)]\n",
    "print('The unsorted list')\n",
    "print(list_1)\n",
    "\n",
    "def sort_list(my_list, ascending = True):\n",
    "    \"\"\"\n",
    "    Sorts the inout list in ascending order\n",
    "    \n",
    "    Parameters:\n",
    "    my_list (List) : The input list \n",
    "    ascending (bool) : True returns Ascending order (default), and False returns the list in descending order\n",
    "    \n",
    "    Returns:\n",
    "    the sorted list in ascending order\n",
    "    \"\"\"\n",
    "    return sorted(my_list, reverse=  not ascending)\n",
    "\n",
    "sort_list(list_1,ascending= False)"
   ]
  },
  {
   "cell_type": "markdown",
   "id": "1b10448f",
   "metadata": {},
   "source": [
    "23. Write a function that takes a string as input and returns a new string that is the reverse of the input string."
   ]
  },
  {
   "cell_type": "code",
   "execution_count": 217,
   "id": "1d988452",
   "metadata": {},
   "outputs": [
    {
     "data": {
      "text/plain": [
       "'rahdirS'"
      ]
     },
     "execution_count": 217,
     "metadata": {},
     "output_type": "execute_result"
    }
   ],
   "source": [
    "def reverse_string(my_string):\n",
    "    \"\"\"\n",
    "    Returns the reverse of the input string \n",
    "    \n",
    "    Parameters:\n",
    "    my_string (str): The input string \n",
    "    \n",
    "    Returns:\n",
    "    the reversed string \n",
    "    \n",
    "    example :\n",
    "    >> reverse_string('Sridhar')\n",
    "    \n",
    "    ## 'rahdirS'\n",
    "    \"\"\"\n",
    "    return my_string[::-1]\n",
    "\n",
    "reverse_string('Sridhar')"
   ]
  },
  {
   "cell_type": "markdown",
   "id": "c2d02873",
   "metadata": {},
   "source": [
    "24. Write a function that takes a list of strings as input and returns a new list containing the lengths of each string in the input list."
   ]
  },
  {
   "cell_type": "code",
   "execution_count": 218,
   "id": "c2081a4d",
   "metadata": {},
   "outputs": [
    {
     "name": "stdout",
     "output_type": "stream",
     "text": [
      "[2, 3, 5, 2, 3, 8, 5, 5, 3, 6, 2, 7, 3, 7, 9, 6, 1, 8, 5, 9, 5, 4, 1, 6, 6, 10, 3, 8, 7, 4, 5, 2, 3, 6, 3, 6, 4, 7, 2, 9, 6, 3, 10, 9, 2, 3, 7, 3, 5, 7, 1, 4, 4, 2, 3, 6, 12, 3, 9, 7, 1, 6, 3, 5, 7, 6, 2, 3, 5, 2, 1, 4, 5, 3, 5, 2, 4, 5, 3, 3, 4, 6, 2, 7, 5, 6, 1, 10, 11, 8, 4, 4, 7, 3, 7, 9, 2, 6, 2, 8, 8, 4, 9, 4, 3, 5]\n"
     ]
    }
   ],
   "source": [
    "def str_list_len(my_list):\n",
    "    \"\"\"\n",
    "    returns the list of string lengths from the list of strings passed as arguments\n",
    "    \n",
    "    Parameters :\n",
    "    my_list [List] : This list contains the strings for which we want to find the lengths\n",
    "    \n",
    "    Returns:\n",
    "    list of length of strings passed to it in the same order\n",
    "    \n",
    "    example:\n",
    "    >>>\n",
    "    str_list_len(['Hima',\"Nami\",\"Rin\",\"Tsunade\"])\n",
    "    \n",
    "    output:\n",
    "    [4, 4, 3, 7]\n",
    "    \n",
    "    \"\"\"\n",
    "    strlengths = []\n",
    "    \n",
    "    for my_string in my_list:\n",
    "        strlengths.append(len(my_string))\n",
    "        \n",
    "    return strlengths\n",
    "\n",
    "print(str_list_len(my_list_of_words))"
   ]
  },
  {
   "cell_type": "markdown",
   "id": "45255a76",
   "metadata": {},
   "source": [
    "25. Write a function that takes a list of numbers as input and returns a new list containing only the numbers that are perfect squares."
   ]
  },
  {
   "cell_type": "code",
   "execution_count": 219,
   "id": "fc70d2f5",
   "metadata": {},
   "outputs": [
    {
     "data": {
      "text/plain": [
       "[1, 4, 16, 25, 49, 64]"
      ]
     },
     "execution_count": 219,
     "metadata": {},
     "output_type": "execute_result"
    }
   ],
   "source": [
    "import math\n",
    "\n",
    "def check_perfect_square(my_list):\n",
    "    result = []\n",
    "    for num in my_list:\n",
    "        if math.isqrt(num)**2 == num:\n",
    "            result.append(num)\n",
    "    return result\n",
    "\n",
    "my_list_1  = [i for i in range(1,100,3)]\n",
    "\n",
    "check_perfect_square(my_list_1)"
   ]
  },
  {
   "cell_type": "markdown",
   "id": "11926416",
   "metadata": {},
   "source": [
    "26. Write a function that takes a list of strings as input and returns a new list containing only the strings that are longer than 10 characters."
   ]
  },
  {
   "cell_type": "code",
   "execution_count": 220,
   "id": "e81fe08e",
   "metadata": {},
   "outputs": [
    {
     "data": {
      "text/plain": [
       "['skyscrapers,', 'atmosphere,']"
      ]
     },
     "execution_count": 220,
     "metadata": {},
     "output_type": "execute_result"
    }
   ],
   "source": [
    "def str_more_than_10_char(my_list):\n",
    "    result = []\n",
    "    for word in my_list:\n",
    "        if len(word) > 10:\n",
    "            result.append(word)\n",
    "    return result\n",
    "\n",
    "str_more_than_10_char(my_list_of_words)"
   ]
  },
  {
   "cell_type": "markdown",
   "id": "505e1ab3",
   "metadata": {},
   "source": [
    "27. Write a function that takes a list of integers as input and returns a new list containing only the prime numbers in the input list."
   ]
  },
  {
   "cell_type": "code",
   "execution_count": 221,
   "id": "dd3dba69",
   "metadata": {},
   "outputs": [
    {
     "name": "stdout",
     "output_type": "stream",
     "text": [
      "[67, 59, 11, 41, 31, 71, 97, 2, 79, 23, 5, 11, 19, 3, 19, 59, 79, 5, 59, 59, 97, 5, 97, 2, 29, 11, 79, 5, 47, 97, 17, 97, 83, 47, 53, 71, 71]\n"
     ]
    }
   ],
   "source": [
    "list_1 = [randint(1,100) for i in range(0,100)]\n",
    "# print(list_1)\n",
    "\n",
    "def is_prime(number):\n",
    "    \"\"\"\n",
    "    Used to check if a number is prime or not\n",
    "    \n",
    "    Parameters :\n",
    "    number (integer) : The number which is required to check \n",
    "    \n",
    "    Return:\n",
    "    Bool: If the number is prime >> True and False if number passed is a non-prime\n",
    "    \n",
    "    \"\"\"\n",
    "    if number < 2:\n",
    "        return False\n",
    "    for i in range(2,int(math.sqrt(number))+1):\n",
    "        if number % i == 0:\n",
    "            return False\n",
    "    return True\n",
    "\n",
    "prime_numbers = list(filter(is_prime,list_1))\n",
    "print(prime_numbers)"
   ]
  },
  {
   "cell_type": "markdown",
   "id": "7e7bda88",
   "metadata": {},
   "source": [
    "28. Write a function that takes a list of strings as input and returns a new list containing only the strings that contain the letter 'e'."
   ]
  },
  {
   "cell_type": "code",
   "execution_count": 222,
   "id": "97415e1a",
   "metadata": {},
   "outputs": [
    {
     "name": "stdout",
     "output_type": "stream",
     "text": [
      "['the', 'heart', 'the', 'where', 'the', 'hurried', 'footsteps', 'create', 'there', 'lies', 'little', 'bookstore.', 'shelves,', 'adorned', 'shapes', 'sizes,', 'tell', 'stories', 'forgotten', 'unexplored', 'galaxies.', 'the', 'evening', 'sets,', 'the', 'skyscrapers,', 'the', 'bookstore', 'becomes', 'refuge', 'those', 'seeking', 'solace', 'the', 'pages', 'The', 'scent', 'aged', 'paper', 'the', 'rustle', 'pages', 'create', 'atmosphere,', 'readers', 'wanderers', 'embark', 'literary', 'journeys', 'transcend', 'time', 'space']\n"
     ]
    }
   ],
   "source": [
    "def find(string_to_find, my_string):\n",
    "    return string_to_find in my_string\n",
    "\n",
    "list_of_strings_with_e_in_it = list(filter(lambda word : find('e',word) , my_list_of_words))\n",
    "\n",
    "print(list_of_strings_with_e_in_it)\n",
    "\n",
    "# Best"
   ]
  },
  {
   "cell_type": "markdown",
   "id": "a6061a84",
   "metadata": {},
   "source": [
    "29. Write a function that takes a list of numbers as input and returns the average of the numbers that are greater than 10."
   ]
  },
  {
   "cell_type": "code",
   "execution_count": 223,
   "id": "f57feccd",
   "metadata": {},
   "outputs": [
    {
     "name": "stdout",
     "output_type": "stream",
     "text": [
      "[67, 59, 11, 41, 31, 71, 97, 79, 23, 11, 19, 19, 59, 79, 59, 59, 97, 97, 29, 11, 79, 47, 97, 17, 97, 83, 47, 53, 71, 71]\n"
     ]
    },
    {
     "data": {
      "text/plain": [
       "56"
      ]
     },
     "execution_count": 223,
     "metadata": {},
     "output_type": "execute_result"
    }
   ],
   "source": [
    "def find_greater_than(treshold, my_num):\n",
    "    return my_num > treshold\n",
    "\n",
    "numbers_greater_than_10 = list(filter(lambda num : find_greater_than(10,num), prime_numbers ))\n",
    "import statistics\n",
    "print(numbers_greater_than_10)\n",
    "statistics.mean(numbers_greater_than_10)"
   ]
  },
  {
   "cell_type": "markdown",
   "id": "ff760a35",
   "metadata": {},
   "source": [
    "30.   Write a function that takes a list of strings as input and returns a new list containing only the strings that contain only letters (no numbers or symbols)."
   ]
  },
  {
   "cell_type": "code",
   "execution_count": 224,
   "id": "40ceb84b",
   "metadata": {},
   "outputs": [
    {
     "data": {
      "text/plain": [
       "['apple',\n",
       " 'grape',\n",
       " 'kiwi',\n",
       " 'python',\n",
       " 'java',\n",
       " 'javascript',\n",
       " 'programming',\n",
       " 'code',\n",
       " 'test',\n",
       " 'challenge',\n",
       " 'openai']"
      ]
     },
     "execution_count": 224,
     "metadata": {},
     "output_type": "execute_result"
    }
   ],
   "source": [
    "def filter_strings_only_letters(input_list):\n",
    "    return [word for word in input_list if word.isalpha()]\n",
    "\n",
    "large_list = [\n",
    "    \"apple\", \"123banana\", \"grape\", \"!orange\", \"kiwi\",\n",
    "    \"python\", \"java\", \"c++\", \"javascript\", \"@typescript\",\n",
    "    \"programming\", \"12345\", \"!@#%\", \"code\", \"test\", \"123\",\n",
    "    \"challenge\", \"openai\", \"gpt-3.5\", \"12345\", \"!@#%\"\n",
    "]\n",
    "\n",
    "only_alpha_strings = filter_strings_only_letters(large_list)\n",
    "only_alpha_strings"
   ]
  },
  {
   "cell_type": "markdown",
   "id": "89acb2c4",
   "metadata": {},
   "source": [
    "31.   Write a function that takes a list of integers as input and returns a new list containing the difference between each pair of adjacent numbers in the input list."
   ]
  },
  {
   "cell_type": "code",
   "execution_count": 225,
   "id": "aca02c9f",
   "metadata": {},
   "outputs": [
    {
     "data": {
      "text/plain": [
       "[3, 4, -8, 6]"
      ]
     },
     "execution_count": 225,
     "metadata": {},
     "output_type": "execute_result"
    }
   ],
   "source": [
    "def calculate_adj_differences(input_list):\n",
    "    differences = []\n",
    "    for i in range(len(input_list)-1):\n",
    "        diff = input_list[i+1] - input_list[i]\n",
    "        differences.append(diff)\n",
    "    return differences\n",
    "\n",
    "input_numbers = [5, 8, 12, 4, 10]\n",
    "\n",
    "calculate_adj_differences(input_numbers)"
   ]
  },
  {
   "cell_type": "markdown",
   "id": "1b4392fc",
   "metadata": {},
   "source": [
    "32.   Write a function that takes a list of strings as input and returns a new list containing only the strings that are all uppercase."
   ]
  },
  {
   "cell_type": "code",
   "execution_count": 226,
   "id": "54d3bb6d",
   "metadata": {},
   "outputs": [
    {
     "name": "stdout",
     "output_type": "stream",
     "text": [
      "['HELLO', 'PYTHON', '3.5', 'UPPERCASE', 'OPENAI']\n"
     ]
    }
   ],
   "source": [
    "def filter_uppercase_strings(input_strings):\n",
    "    return [word for word in input_strings if word == word.upper()]\n",
    "\n",
    "input_strings = [\"HELLO\", \"world\", \"PYTHON\", \"3.5\", \"UPPERCASE\", \"lowercase\", \"OPENAI\", \"gpt-3.5\"]\n",
    "\n",
    "\n",
    "result = filter_uppercase_strings(input_strings)\n",
    "print(result)"
   ]
  },
  {
   "cell_type": "code",
   "execution_count": 227,
   "id": "1138fd55",
   "metadata": {},
   "outputs": [
    {
     "name": "stdout",
     "output_type": "stream",
     "text": [
      "['HELLO', 'PYTHON', '3.5', 'UPPERCASE', 'OPENAI', 'TEST', 'CASE', 'STRING', 'FUNCTION', 'LIST', 'ELEMENTS', 'FILTER', 'UPPERCASE', 'EXAMPLE', 'PYTHONIC', 'PROGRAMMING', 'LANGUAGE', 'DEVELOPMENT', 'CODE', 'GITHUB', 'STACKOVERFLOW', 'PYTHONISTA', 'PYTHONIC', 'CLOUD', 'COMPUTING', 'DATA']\n"
     ]
    }
   ],
   "source": [
    "large_list_of_strings = [\n",
    "    \"HELLO\", \"world\", \"PYTHON\", \"3.5\", \"UPPERCASE\", \"lowercase\",\n",
    "    \"OPENAI\", \"gpt-3.5\", \"TEST\", \"CASE\", \"STRING\", \"FUNCTION\",\n",
    "    \"LIST\", \"ELEMENTS\", \"FILTER\", \"UPPERCASE\", \"EXAMPLE\", \"PYTHONIC\",\n",
    "    \"PROGRAMMING\", \"LANGUAGE\", \"DEVELOPMENT\", \"CODE\", \"GITHUB\",\n",
    "    \"STACKOVERFLOW\", \"PYTHONISTA\", \"PYTHONIC\", \"CLOUD\", \"COMPUTING\",\n",
    "    \"DATA\"\n",
    "]\n",
    "\n",
    "result = filter_uppercase_strings(large_list_of_strings)\n",
    "print(result)"
   ]
  },
  {
   "cell_type": "markdown",
   "id": "fff71a28",
   "metadata": {},
   "source": [
    "33.   Write a function that takes a list of integers as input and returns the median value of the input list."
   ]
  },
  {
   "cell_type": "code",
   "execution_count": 228,
   "id": "c1ae9044",
   "metadata": {},
   "outputs": [
    {
     "name": "stdout",
     "output_type": "stream",
     "text": [
      "[1, 5, 6, 6, 8, 8, 14, 14, 16, 21, 24, 25, 31, 36, 36, 41, 48, 49, 49, 50, 50, 52, 52, 54, 55, 55, 68, 69, 71, 74, 74, 74, 75, 75, 77, 79, 80, 81, 81, 87, 88, 90, 90, 90, 92, 92, 93, 93, 96, 97, 98]\n",
      "55\n",
      "55\n"
     ]
    }
   ],
   "source": [
    "list_1 = [randint(1,100) for i in range(0,51)]\n",
    "print(sorted(list_1))\n",
    "\n",
    "def median(input_list):\n",
    "    sorted_list = sorted(input_list)\n",
    "    elements_in_input_list = len(input_list)\n",
    "    if elements_in_input_list%2 == 0:\n",
    "        num_1 = sorted_list[int(elements_in_input_list/2)-1]\n",
    "        num_2 = sorted_list[int(elements_in_input_list/2)]\n",
    "        return add(num_1,num_2)/2\n",
    "    else:\n",
    "        return sorted_list[(int(elements_in_input_list/2))]\n",
    "    \n",
    "\n",
    "print(median(list_1))\n",
    "\n",
    "\n",
    "# Using the statistics library methods \n",
    "print(statistics.median(list_1)) # For cross checking "
   ]
  },
  {
   "cell_type": "markdown",
   "id": "8e19c7fe",
   "metadata": {},
   "source": [
    "34.   Write a function that takes a string as input and returns the number of times the letter 'a' appears in the string."
   ]
  },
  {
   "cell_type": "code",
   "execution_count": 229,
   "id": "f4473715",
   "metadata": {},
   "outputs": [
    {
     "name": "stdout",
     "output_type": "stream",
     "text": [
      "['UPPERCASE', 'lowercase', 'OPENAI', 'CASE', 'UPPERCASE', 'EXAMPLE', 'PROGRAMMING', 'LANGUAGE', 'STACKOVERFLOW', 'PYTHONISTA', 'DATA']\n"
     ]
    }
   ],
   "source": [
    "def check_a (input_list):\n",
    "    return [word for word in input_list if 'a' in word.lower()]\n",
    "\n",
    "\n",
    "print(check_a(large_list_of_strings))"
   ]
  },
  {
   "cell_type": "markdown",
   "id": "135ab8af",
   "metadata": {},
   "source": [
    "35.   Write a function that takes a list of strings as input and returns a new list containing only the strings that end with the letter 's'."
   ]
  },
  {
   "cell_type": "code",
   "execution_count": 230,
   "id": "bdf5bc64",
   "metadata": {},
   "outputs": [
    {
     "name": "stdout",
     "output_type": "stream",
     "text": [
      "['sounds', 'footsteps', 'lies', 'Its', 'books', 'shapes', 'stories', 'worlds', 'As', \"city's\", 'becomes', 'pages', 'pages', 'readers', 'curious', 'wanderers', 'journeys']\n"
     ]
    }
   ],
   "source": [
    "def ends_with_s(input_list):\n",
    "    return [word for word in input_list if word[-1] == 's']\n",
    "\n",
    "print(ends_with_s(my_list_of_words))"
   ]
  },
  {
   "cell_type": "markdown",
   "id": "b85180e9",
   "metadata": {},
   "source": [
    "36.   Write a function that takes a list of integers as input and returns the product of all the numbers that are greater than 5 and less than 10."
   ]
  },
  {
   "cell_type": "code",
   "execution_count": 231,
   "id": "e5acff6b",
   "metadata": {},
   "outputs": [
    {
     "name": "stdout",
     "output_type": "stream",
     "text": [
      "[6, 8, 7, 7, 8, 7, 7, 7, 6, 6, 9, 7, 6, 8, 6, 6, 7, 6, 7, 7]\n"
     ]
    },
    {
     "data": {
      "text/plain": [
       "52053937132732416"
      ]
     },
     "execution_count": 231,
     "metadata": {},
     "output_type": "execute_result"
    }
   ],
   "source": [
    "my_list = [randint(3,15) for i in range(50)]\n",
    "\n",
    "\n",
    "def less_to_5_greater_to_10(input_list):\n",
    "    return [num for num in input_list if num>5 and num <10]\n",
    "\n",
    "between5and10 = less_to_5_greater_to_10(my_list)\n",
    "print(between5and10)\n",
    "\n",
    "from functools import reduce\n",
    "\n",
    "reduce(lambda x,y: x*y, between5and10)"
   ]
  },
  {
   "cell_type": "markdown",
   "id": "5317fc7d",
   "metadata": {},
   "source": [
    "37.   Write a function that takes a list of strings as input and returns a new list containing only the strings that are all lowercase."
   ]
  },
  {
   "cell_type": "code",
   "execution_count": 232,
   "id": "460a9c83",
   "metadata": {},
   "outputs": [
    {
     "data": {
      "text/plain": [
       "['hello', 'python', 'lowercase', 'gpt-3.5']"
      ]
     },
     "execution_count": 232,
     "metadata": {},
     "output_type": "execute_result"
    }
   ],
   "source": [
    "input_strings = [\"hello\", \"World\", \"python\", \"UPPERCASE\", \"lowercase\", \"OpenAI\", \"gpt-3.5\"]\n",
    "\n",
    "def get_lower_case(input_list):\n",
    "    return [word for word in input_list if word== word.lower()]\n",
    "\n",
    "get_lower_case(input_strings)"
   ]
  },
  {
   "cell_type": "markdown",
   "id": "922bec47",
   "metadata": {},
   "source": [
    "38.   Write a function that takes a list of integers as input and returns the second smallest number in the list."
   ]
  },
  {
   "cell_type": "code",
   "execution_count": 233,
   "id": "9cb393ff",
   "metadata": {},
   "outputs": [
    {
     "name": "stdout",
     "output_type": "stream",
     "text": [
      "[6, 8, 7, 7, 8, 7, 7, 7, 6, 6, 9, 7, 6, 8, 6, 6, 7, 6, 7, 7]\n"
     ]
    },
    {
     "data": {
      "text/plain": [
       "7"
      ]
     },
     "execution_count": 233,
     "metadata": {},
     "output_type": "execute_result"
    }
   ],
   "source": [
    "print(between5and10)\n",
    "\n",
    "def second_smallest(my_list):\n",
    "    sorted_list = sorted(list(set(between5and10))) # removing the duplicates and sorting\n",
    "    return sorted_list[1]    # selecting the value in the index 1\n",
    "\n",
    "second_smallest(between5and10)"
   ]
  },
  {
   "cell_type": "markdown",
   "id": "65ae570c",
   "metadata": {},
   "source": [
    "39.   Write a function that takes a list of strings as input and returns a new list containing the length of each string in the input list, sorted in increasing order."
   ]
  },
  {
   "cell_type": "code",
   "execution_count": 234,
   "id": "2660c1e3",
   "metadata": {},
   "outputs": [
    {
     "data": {
      "text/plain": [
       "[5, 5, 6, 6, 7, 9, 9]"
      ]
     },
     "execution_count": 234,
     "metadata": {},
     "output_type": "execute_result"
    }
   ],
   "source": [
    "def func_1 (input_list):\n",
    "    return sorted([len(word) for word in input_list ])\n",
    "\n",
    "func_1(input_strings)"
   ]
  },
  {
   "cell_type": "markdown",
   "id": "8e4d725a",
   "metadata": {},
   "source": [
    "40.   Write a function that takes a list of numbers as input and returns the difference between the largest and smallest numbers in the list."
   ]
  },
  {
   "cell_type": "code",
   "execution_count": 235,
   "id": "3427d1e7",
   "metadata": {},
   "outputs": [
    {
     "name": "stdout",
     "output_type": "stream",
     "text": [
      "12\n"
     ]
    }
   ],
   "source": [
    "def diff_in_extremes(input_list):\n",
    "    return max(input_list)-min(input_list)\n",
    "\n",
    "print(diff_in_extremes(my_list))"
   ]
  },
  {
   "cell_type": "markdown",
   "id": "b07494aa",
   "metadata": {},
   "source": [
    "41.   Write a function that takes a string as input and returns True if the string contains only letters (no numbers or symbols), False otherwise."
   ]
  },
  {
   "cell_type": "code",
   "execution_count": 236,
   "id": "adab956f",
   "metadata": {},
   "outputs": [
    {
     "data": {
      "text/plain": [
       "True"
      ]
     },
     "execution_count": 236,
     "metadata": {},
     "output_type": "execute_result"
    }
   ],
   "source": [
    "def is_letters(input_string):\n",
    "    return input_string.isalpha()\n",
    "\n",
    "is_letters('Hima')"
   ]
  },
  {
   "cell_type": "markdown",
   "id": "b83a05f7",
   "metadata": {},
   "source": [
    "42.   Write a function that takes a list of integers as input and returns a new list containing only the numbers that are divisible by 7 and 9."
   ]
  },
  {
   "cell_type": "code",
   "execution_count": 237,
   "id": "0d235abe",
   "metadata": {},
   "outputs": [
    {
     "data": {
      "text/plain": [
       "[2268, 2205, 7245]"
      ]
     },
     "execution_count": 237,
     "metadata": {},
     "output_type": "execute_result"
    }
   ],
   "source": [
    "def divisible_7_9(input_list):\n",
    "    return [num for num in input_list if (num%7 == 0) and (num%9 ==0)]\n",
    "\n",
    "my_list = [randint(1,10000) for num in range(200)]\n",
    "\n",
    "divisible_7_9(my_list)"
   ]
  },
  {
   "cell_type": "markdown",
   "id": "e5b1ae8f",
   "metadata": {},
   "source": [
    "43.   Write a function that takes a list of strings as input and returns a new list containing only the strings that contain at least one digit (number)."
   ]
  },
  {
   "cell_type": "code",
   "execution_count": 238,
   "id": "4a0056c6",
   "metadata": {},
   "outputs": [
    {
     "data": {
      "text/plain": [
       "['banana123', 'orange9']"
      ]
     },
     "execution_count": 238,
     "metadata": {},
     "output_type": "execute_result"
    }
   ],
   "source": [
    "input_strings = [\"apple\", \"banana123\", \"kiwi\", \"grape\", \"orange9\"]\n",
    "\n",
    "\n",
    "def filter_strings_with_digits(input_list):\n",
    "    return [word for word in input_list if any(char.isdigit() for char in word)]\n",
    "\n",
    "filter_strings_with_digits(input_strings)"
   ]
  },
  {
   "cell_type": "markdown",
   "id": "3bb60e15",
   "metadata": {},
   "source": [
    "44.   Write a function that takes a list of integers as input and returns a new list containing the difference between each pair of adjacent even numbers in the input list."
   ]
  },
  {
   "cell_type": "code",
   "execution_count": 239,
   "id": "2c24c5d4",
   "metadata": {},
   "outputs": [
    {
     "name": "stdout",
     "output_type": "stream",
     "text": [
      "[20, 77, 87, 2, 80, 52, 57, 51, 57, 58, 68, 1, 73, 96, 47, 52, 61, 91, 85, 31]\n"
     ]
    },
    {
     "data": {
      "text/plain": [
       "[-78, 28, -10]"
      ]
     },
     "execution_count": 239,
     "metadata": {},
     "output_type": "execute_result"
    }
   ],
   "source": [
    "my_intergers = [randint(1,100) for i in range(20)]\n",
    "print(my_intergers)\n",
    "\n",
    "def is_even(input_integer):\n",
    "    return input_integer %2 ==0\n",
    "\n",
    "def get_adj_integers(input_list):\n",
    "    result = []\n",
    "    for i in range(len(input_list)-1):\n",
    "        num_1 = input_list[i]\n",
    "        num_2 = input_list[i+1]\n",
    "                \n",
    "        if is_even(num_1):\n",
    "            if is_even(num_2):\n",
    "                diff = num_1-num_2\n",
    "                result.append(diff)\n",
    "                \n",
    "    return result\n",
    "        \n",
    "get_adj_integers(my_intergers)"
   ]
  },
  {
   "cell_type": "markdown",
   "id": "88a12f51",
   "metadata": {},
   "source": [
    "45.   Write a function that takes a string as input and returns a new string that is the same as the input string, but with all the vowels removed."
   ]
  },
  {
   "cell_type": "code",
   "execution_count": 240,
   "id": "cb4f584c",
   "metadata": {},
   "outputs": [
    {
     "data": {
      "text/plain": [
       "'Srdhr'"
      ]
     },
     "execution_count": 240,
     "metadata": {},
     "output_type": "execute_result"
    }
   ],
   "source": [
    "my_string = 'Sridhar'\n",
    "\n",
    "def remove_vowels(input_string):\n",
    "    vowels = 'aeiouAEIOU'\n",
    "    return ''.join(char for char in input_string if char not in vowels)\n",
    "\n",
    "\n",
    "remove_vowels(my_string)"
   ]
  },
  {
   "cell_type": "markdown",
   "id": "17f21979",
   "metadata": {},
   "source": [
    "46.   Write a function that takes a list of strings as input and returns a new list containing the first two letters of each string in the input list."
   ]
  },
  {
   "cell_type": "code",
   "execution_count": 241,
   "id": "be7aaf70",
   "metadata": {},
   "outputs": [
    {
     "name": "stdout",
     "output_type": "stream",
     "text": [
      "['In', 'th', 'he', 'of', 'th', 'bu', 'ci', 'wh', 'th', 'so', 'of', 'tr', 'an', 'hu', 'fo', 'cr', 'a', 'rh', 'ur', 'sy', 'th', 'li', 'a', 'qu', 'li', 'bo', 'It', 'sh', 'ad', 'wi', 'bo', 'of', 'al', 'sh', 'an', 'si', 'te', 'st', 'of', 'fo', 'wo', 'an', 'un', 'ga', 'As', 'th', 'ev', 'su', 'se', 'ca', 'a', 'wa', 'gl', 'on', 'th', 'ci', 'sk', 'th', 'bo', 'be', 'a', 're', 'fo', 'th', 'se', 'so', 'in', 'th', 'pa', 'of', 'a', 'go', 'bo', 'Th', 'sc', 'of', 'ag', 'pa', 'an', 'th', 'so', 'ru', 'of', 'tu', 'pa', 'cr', 'a', 'co', 'at', 'in', 'bo', 'av', 're', 'an', 'cu', 'wa', 'to', 'em', 'on', 'li', 'jo', 'th', 'tr', 'ti', 'an', 'sp']\n"
     ]
    }
   ],
   "source": [
    "\n",
    "def first_two(input_strings):\n",
    "    return [word[:2] for word in input_strings ]\n",
    "    \n",
    "print(first_two(my_list_of_words))"
   ]
  },
  {
   "cell_type": "markdown",
   "id": "097cce78",
   "metadata": {},
   "source": [
    "47.   Write a function that takes a list of integers as input and returns a new list containing the numbers in the input list that appear more than once."
   ]
  },
  {
   "cell_type": "code",
   "execution_count": 242,
   "id": "ca910f76",
   "metadata": {},
   "outputs": [
    {
     "name": "stdout",
     "output_type": "stream",
     "text": [
      "['cr', 'sh', 'se', 'fo', 'th', 'pa', 'on', 'wa', 're', 'ci', 'in', 'an', 'so', 'of', 'li', 'tr', 'bo', 'a']\n"
     ]
    }
   ],
   "source": [
    "my_list_of_words = ['In', 'th', 'he', 'of', 'th', 'bu', 'ci', 'wh', 'th', 'so', 'of', 'tr', 'an', 'hu', 'fo', 'cr', 'a', 'rh', 'ur', 'sy', 'th', 'li', 'a', 'qu', 'li', 'bo', 'It', 'sh', 'ad', 'wi', 'bo', 'of', 'al', 'sh', 'an', 'si', 'te', 'st', 'of', 'fo', 'wo', 'an', 'un', 'ga', 'As', 'th', 'ev', 'su', 'se', 'ca', 'a', 'wa', 'gl', 'on', 'th', 'ci', 'sk', 'th', 'bo', 'be', 'a', 're', 'fo', 'th', 'se', 'so', 'in', 'th', 'pa', 'of', 'a', 'go', 'bo', 'Th', 'sc', 'of', 'ag', 'pa', 'an', 'th', 'so', 'ru', 'of', 'tu', 'pa', 'cr', 'a', 'co', 'at', 'in', 'bo', 'av', 're', 'an', 'cu', 'wa', 'to', 'em', 'on', 'li', 'jo', 'th', 'tr', 'ti', 'an', 'sp']\n",
    "\n",
    "def get_duplicates(input_list):\n",
    "    seen = set()\n",
    "    duplicates = set()\n",
    "    for word in input_list:\n",
    "        if word in seen:\n",
    "            duplicates.add(word)\n",
    "        else:\n",
    "            seen.add(word)\n",
    "    return list(duplicates)\n",
    "\n",
    "print(get_duplicates(my_list_of_words))"
   ]
  },
  {
   "cell_type": "markdown",
   "id": "44910bb6",
   "metadata": {},
   "source": [
    "\n",
    "\n",
    "48.   Write a function that takes a list of strings as input and returns a new list containing only the strings that contain at least one uppercase letter."
   ]
  },
  {
   "cell_type": "code",
   "execution_count": 243,
   "id": "229ef147",
   "metadata": {},
   "outputs": [
    {
     "data": {
      "text/plain": [
       "['Sridhar', 'Goa', 'India', 'Hyderabad', 'Linda']"
      ]
     },
     "execution_count": 243,
     "metadata": {},
     "output_type": "execute_result"
    }
   ],
   "source": [
    "my_list = ['Sridhar','Goa',\"India\",'is','good','Hyderabad','Linda']\n",
    "\n",
    "def get_names(input_list):\n",
    "    return [word for word in input_list if word == word.capitalize()]\n",
    "\n",
    "get_names(my_list)"
   ]
  },
  {
   "cell_type": "markdown",
   "id": "a5c28d7a",
   "metadata": {},
   "source": [
    "49.   Write a function that takes a list of integers as input and returns a new list containing only the numbers that are perfect cubes."
   ]
  },
  {
   "cell_type": "code",
   "execution_count": 244,
   "id": "9c14b6a3",
   "metadata": {},
   "outputs": [
    {
     "name": "stdout",
     "output_type": "stream",
     "text": [
      "216\n",
      "27\n",
      "343\n"
     ]
    }
   ],
   "source": [
    "my_list = [randint(1,2000) for i in range(500)]\n",
    "\n",
    "my_list.append(216)\n",
    "\n",
    "my_list.append(27)\n",
    "\n",
    "my_list.append(343)\n",
    "\n",
    "# print(my_list)\n",
    "\n",
    "perfect_cubes = []\n",
    "for num in my_list:\n",
    "    if round(num**(1/3))**3 == num:\n",
    "        print(num)"
   ]
  },
  {
   "cell_type": "markdown",
   "id": "2f05fe74",
   "metadata": {},
   "source": [
    "50.   Write a function that takes a string as input and returns a new string that is the same as the input string, but with each letter replaced by its corresponding number in the alphabet (a=1, b=2, c=3, etc.)."
   ]
  },
  {
   "cell_type": "code",
   "execution_count": 266,
   "id": "f21597ea",
   "metadata": {},
   "outputs": [
    {
     "name": "stdout",
     "output_type": "stream",
     "text": [
      "85121215, 231518124!\n"
     ]
    }
   ],
   "source": [
    "letter_to_number = {chr(i): i - ord('a') + 1 for i in range(ord('a'), ord('z') + 1)}\n",
    "letter_to_number\n",
    "\n",
    "\n",
    "def alphabet_to_numbers(input_string):\n",
    "    # Define a dictionary mapping letters to their corresponding numbers\n",
    "    letter_to_number = {chr(i): i - ord('a') + 1 for i in range(ord('a'), ord('z') + 1)}\n",
    "\n",
    "    # Convert each letter in the input string to its corresponding number\n",
    "    # If the character is not a lowercase letter, keep it unchanged\n",
    "    return ''.join(str(letter_to_number.get(char.lower(), char)) for char in input_string)\n",
    "\n",
    "# Test the function\n",
    "input_str = \"Hello, World!\"\n",
    "result = alphabet_to_numbers(input_str)\n",
    "print(result)\n"
   ]
  },
  {
   "cell_type": "markdown",
   "id": "7a56036c",
   "metadata": {},
   "source": [
    "1. Write a lambda function that returns the square of a number."
   ]
  },
  {
   "cell_type": "code",
   "execution_count": 280,
   "id": "59648165",
   "metadata": {},
   "outputs": [
    {
     "name": "stdout",
     "output_type": "stream",
     "text": [
      "[1, 4, 9, 16, 25, 36, 49, 64, 81, 100]\n"
     ]
    }
   ],
   "source": [
    "square = lambda x : x**2\n",
    "my_list = [i for i in range(1,11)]\n",
    "\n",
    "squares_list = list(map(square, my_list))\n",
    "print(squares_list)"
   ]
  },
  {
   "cell_type": "markdown",
   "id": "bf48f71d",
   "metadata": {},
   "source": [
    "2. Write a lambda function that returns the sum of two numbers."
   ]
  },
  {
   "cell_type": "code",
   "execution_count": 281,
   "id": "2a4d2372",
   "metadata": {},
   "outputs": [
    {
     "data": {
      "text/plain": [
       "55"
      ]
     },
     "execution_count": 281,
     "metadata": {},
     "output_type": "execute_result"
    }
   ],
   "source": [
    "add_lambda  = lambda x,y: x+y\n",
    "\n",
    "reduce(add_lambda, my_list)"
   ]
  },
  {
   "cell_type": "markdown",
   "id": "af3a06de",
   "metadata": {},
   "source": [
    "3. Write a lambda function that returns the product of two numbers."
   ]
  },
  {
   "cell_type": "code",
   "execution_count": 282,
   "id": "41c616d8",
   "metadata": {},
   "outputs": [
    {
     "data": {
      "text/plain": [
       "3628800"
      ]
     },
     "execution_count": 282,
     "metadata": {},
     "output_type": "execute_result"
    }
   ],
   "source": [
    "get_product = lambda x,y : x*y\n",
    "\n",
    "reduce(get_product,my_list)"
   ]
  },
  {
   "cell_type": "markdown",
   "id": "c65f3f96",
   "metadata": {},
   "source": [
    "4. Write a lambda function that returns the difference of two numbers."
   ]
  },
  {
   "cell_type": "code",
   "execution_count": 283,
   "id": "179b7bd3",
   "metadata": {},
   "outputs": [
    {
     "data": {
      "text/plain": [
       "17"
      ]
     },
     "execution_count": 283,
     "metadata": {},
     "output_type": "execute_result"
    }
   ],
   "source": [
    "difference = lambda x,y: x-y\n",
    "\n",
    "difference(45,28)"
   ]
  },
  {
   "cell_type": "markdown",
   "id": "3e433bd3",
   "metadata": {},
   "source": [
    "5. Write a lambda function that returns the modulus of two numbers."
   ]
  },
  {
   "cell_type": "code",
   "execution_count": 285,
   "id": "a9e75eba",
   "metadata": {},
   "outputs": [
    {
     "data": {
      "text/plain": [
       "1"
      ]
     },
     "execution_count": 285,
     "metadata": {},
     "output_type": "execute_result"
    }
   ],
   "source": [
    "get_mod = lambda x,y: x%y\n",
    "\n",
    "get_mod(10,3)"
   ]
  },
  {
   "cell_type": "markdown",
   "id": "a63867da",
   "metadata": {},
   "source": [
    "6. Write a lambda function that checks whether a number is even."
   ]
  },
  {
   "cell_type": "code",
   "execution_count": 287,
   "id": "a62cb495",
   "metadata": {},
   "outputs": [
    {
     "data": {
      "text/plain": [
       "True"
      ]
     },
     "execution_count": 287,
     "metadata": {},
     "output_type": "execute_result"
    }
   ],
   "source": [
    "check_even = lambda x: x%2 == 0\n",
    "\n",
    "check_even(22)"
   ]
  },
  {
   "cell_type": "markdown",
   "id": "d28a8bb3",
   "metadata": {},
   "source": [
    "7. Write a lambda function that checks whether a number is odd."
   ]
  },
  {
   "cell_type": "code",
   "execution_count": 290,
   "id": "95866efd",
   "metadata": {},
   "outputs": [
    {
     "data": {
      "text/plain": [
       "False"
      ]
     },
     "execution_count": 290,
     "metadata": {},
     "output_type": "execute_result"
    }
   ],
   "source": [
    "check_odd  = lambda x : x%2!=0 # A lambda function to check if the number passed is even or odd\n",
    "\n",
    "check_odd(24)"
   ]
  },
  {
   "cell_type": "markdown",
   "id": "a379f772",
   "metadata": {},
   "source": [
    "8. Write a lambda function that checks whether a string is a palindrome."
   ]
  },
  {
   "cell_type": "code",
   "execution_count": 301,
   "id": "d0ca7ec2",
   "metadata": {},
   "outputs": [
    {
     "data": {
      "text/plain": [
       "True"
      ]
     },
     "execution_count": 301,
     "metadata": {},
     "output_type": "execute_result"
    }
   ],
   "source": [
    "check_palindrome = lambda x : x[::-1].lower() == x.lower() # checks whether the string passed is a palindrome (lower)\n",
    "\n",
    "check_palindrome('Madam')"
   ]
  },
  {
   "cell_type": "markdown",
   "id": "5fb8b539",
   "metadata": {},
   "source": [
    "9. Write a lambda function that checks whether a string is all lowercase."
   ]
  },
  {
   "cell_type": "code",
   "execution_count": 303,
   "id": "55900478",
   "metadata": {},
   "outputs": [
    {
     "data": {
      "text/plain": [
       "False"
      ]
     },
     "execution_count": 303,
     "metadata": {},
     "output_type": "execute_result"
    }
   ],
   "source": [
    "check_lower = lambda x: x == x.lower()\n",
    "\n",
    "check_lower('ssRdhar')"
   ]
  },
  {
   "cell_type": "markdown",
   "id": "a6455840",
   "metadata": {},
   "source": [
    "10. Write a lambda function that checks whether a string is all uppercase."
   ]
  },
  {
   "cell_type": "code",
   "execution_count": 306,
   "id": "bae6dc3e",
   "metadata": {},
   "outputs": [
    {
     "data": {
      "text/plain": [
       "True"
      ]
     },
     "execution_count": 306,
     "metadata": {},
     "output_type": "execute_result"
    }
   ],
   "source": [
    "all_upper = lambda x: x == x.upper()\n",
    "\n",
    "all_upper('SRIDHAR')"
   ]
  },
  {
   "cell_type": "markdown",
   "id": "3edc7d18",
   "metadata": {},
   "source": [
    "11. Write a lambda function that returns the length of a string."
   ]
  },
  {
   "cell_type": "code",
   "execution_count": 309,
   "id": "a050e4f7",
   "metadata": {},
   "outputs": [
    {
     "data": {
      "text/plain": [
       "70"
      ]
     },
     "execution_count": 309,
     "metadata": {},
     "output_type": "execute_result"
    }
   ],
   "source": [
    "get_length = lambda x: len(x)\n",
    "\n",
    "get_length('Wakeup to reality, nothing ever goes as planned in this accursed world')"
   ]
  },
  {
   "cell_type": "markdown",
   "id": "8d3a1a32",
   "metadata": {},
   "source": [
    "12. Write a lambda function that returns the first character of a string."
   ]
  },
  {
   "cell_type": "code",
   "execution_count": 310,
   "id": "4e712e50",
   "metadata": {},
   "outputs": [
    {
     "data": {
      "text/plain": [
       "'S'"
      ]
     },
     "execution_count": 310,
     "metadata": {},
     "output_type": "execute_result"
    }
   ],
   "source": [
    "get_first_char = lambda x : x[0]\n",
    "\n",
    "get_first_char('Sridhar')"
   ]
  },
  {
   "cell_type": "markdown",
   "id": "cb530cd0",
   "metadata": {},
   "source": [
    "13. Write a lambda function that returns the last character of a string."
   ]
  },
  {
   "cell_type": "code",
   "execution_count": 311,
   "id": "f66e51fe",
   "metadata": {},
   "outputs": [
    {
     "data": {
      "text/plain": [
       "'r'"
      ]
     },
     "execution_count": 311,
     "metadata": {},
     "output_type": "execute_result"
    }
   ],
   "source": [
    "get_last_char = lambda x : x[-1]\n",
    "\n",
    "get_last_char('Sridhar')"
   ]
  },
  {
   "cell_type": "markdown",
   "id": "a1839f17",
   "metadata": {},
   "source": [
    "14. Write a lambda function that sorts a list of numbers in ascending order."
   ]
  },
  {
   "cell_type": "code",
   "execution_count": null,
   "id": "34391eb1",
   "metadata": {},
   "outputs": [],
   "source": []
  },
  {
   "cell_type": "markdown",
   "id": "a9f20801",
   "metadata": {},
   "source": [
    "15. Write a lambda function that sorts a list of numbers in descending order."
   ]
  },
  {
   "cell_type": "code",
   "execution_count": null,
   "id": "a990a97c",
   "metadata": {},
   "outputs": [],
   "source": []
  },
  {
   "cell_type": "markdown",
   "id": "7733da5a",
   "metadata": {},
   "source": [
    "16. Write a lambda function that sorts a list of strings in alphabetical order."
   ]
  },
  {
   "cell_type": "code",
   "execution_count": null,
   "id": "70935aa8",
   "metadata": {},
   "outputs": [],
   "source": []
  },
  {
   "cell_type": "markdown",
   "id": "6b52e139",
   "metadata": {},
   "source": [
    "17. Write a lambda function that sorts a list of strings in reverse alphabetical order."
   ]
  },
  {
   "cell_type": "code",
   "execution_count": null,
   "id": "67edbd8e",
   "metadata": {},
   "outputs": [],
   "source": []
  },
  {
   "cell_type": "markdown",
   "id": "904b31ce",
   "metadata": {},
   "source": [
    "18. Write a lambda function that returns the maximum value in a list of numbers."
   ]
  },
  {
   "cell_type": "code",
   "execution_count": null,
   "id": "538d51bf",
   "metadata": {},
   "outputs": [],
   "source": []
  },
  {
   "cell_type": "markdown",
   "id": "57de3cdf",
   "metadata": {},
   "source": [
    "19. Write a lambda function that returns the minimum value in a list of numbers."
   ]
  },
  {
   "cell_type": "code",
   "execution_count": null,
   "id": "5568e135",
   "metadata": {},
   "outputs": [],
   "source": []
  },
  {
   "cell_type": "markdown",
   "id": "4e018619",
   "metadata": {},
   "source": [
    "20. Write a lambda function that returns the sum of a list of numbers."
   ]
  },
  {
   "cell_type": "code",
   "execution_count": null,
   "id": "6a19ff80",
   "metadata": {},
   "outputs": [],
   "source": []
  },
  {
   "cell_type": "markdown",
   "id": "c94ce7b4",
   "metadata": {},
   "source": [
    "1. Write a recursive function to calculate the sum of a list of integers."
   ]
  },
  {
   "cell_type": "code",
   "execution_count": null,
   "id": "2dd7aac2",
   "metadata": {},
   "outputs": [],
   "source": []
  },
  {
   "cell_type": "markdown",
   "id": "62606c2c",
   "metadata": {},
   "source": [
    "2. Write a recursive function to calculate the factorial of a number."
   ]
  },
  {
   "cell_type": "code",
   "execution_count": null,
   "id": "a5b643c0",
   "metadata": {},
   "outputs": [],
   "source": []
  },
  {
   "cell_type": "markdown",
   "id": "c425323b",
   "metadata": {},
   "source": [
    "3. Write a recursive function to calculate the nth Fibonacci number."
   ]
  },
  {
   "cell_type": "code",
   "execution_count": null,
   "id": "3b238bdc",
   "metadata": {},
   "outputs": [],
   "source": []
  },
  {
   "cell_type": "markdown",
   "id": "8e47560e",
   "metadata": {},
   "source": [
    "4. Write a recursive function to calculate the greatest common divisor (GCD) of two numbers."
   ]
  },
  {
   "cell_type": "code",
   "execution_count": null,
   "id": "60a9cdc0",
   "metadata": {},
   "outputs": [],
   "source": []
  },
  {
   "cell_type": "markdown",
   "id": "7706e7b1",
   "metadata": {},
   "source": [
    "5. Write a recursive function to calculate the least common multiple (LCM) of two numbers."
   ]
  },
  {
   "cell_type": "code",
   "execution_count": null,
   "id": "0824d954",
   "metadata": {},
   "outputs": [],
   "source": []
  },
  {
   "cell_type": "markdown",
   "id": "73f7c9cf",
   "metadata": {},
   "source": [
    "6. Write a recursive function to reverse a string."
   ]
  },
  {
   "cell_type": "code",
   "execution_count": null,
   "id": "8fdfd41d",
   "metadata": {},
   "outputs": [],
   "source": []
  },
  {
   "cell_type": "markdown",
   "id": "1b93de10",
   "metadata": {},
   "source": [
    "7. Write a recursive function to check if a string is a palindrome."
   ]
  },
  {
   "cell_type": "code",
   "execution_count": null,
   "id": "9adff041",
   "metadata": {},
   "outputs": [],
   "source": []
  },
  {
   "cell_type": "markdown",
   "id": "7bc5db24",
   "metadata": {},
   "source": [
    "8. Write a recursive function to find the maximum value in a list of integers."
   ]
  },
  {
   "cell_type": "code",
   "execution_count": null,
   "id": "0ed23bc8",
   "metadata": {},
   "outputs": [],
   "source": []
  },
  {
   "cell_type": "markdown",
   "id": "ee1d9de7",
   "metadata": {},
   "source": [
    "9. Write a recursive function to find the minimum value in a list of integers."
   ]
  },
  {
   "cell_type": "code",
   "execution_count": null,
   "id": "6039600b",
   "metadata": {},
   "outputs": [],
   "source": []
  },
  {
   "cell_type": "markdown",
   "id": "d70523e2",
   "metadata": {},
   "source": [
    "10. Write a recursive function to calculate the power of a number."
   ]
  },
  {
   "cell_type": "code",
   "execution_count": null,
   "id": "fbfaef04",
   "metadata": {},
   "outputs": [],
   "source": []
  },
  {
   "cell_type": "markdown",
   "id": "2ae2550e",
   "metadata": {},
   "source": [
    "11. Write a recursive function to flatten a nested list."
   ]
  },
  {
   "cell_type": "code",
   "execution_count": null,
   "id": "dc9bcb20",
   "metadata": {},
   "outputs": [],
   "source": []
  },
  {
   "cell_type": "markdown",
   "id": "5f0010d4",
   "metadata": {},
   "source": [
    "12. Write a recursive function to calculate the sum of digits of a number."
   ]
  },
  {
   "cell_type": "code",
   "execution_count": null,
   "id": "537807df",
   "metadata": {},
   "outputs": [],
   "source": []
  },
  {
   "cell_type": "markdown",
   "id": "992e1d94",
   "metadata": {},
   "source": [
    "13. Write a recursive function to find the number of occurrences of an element in a list."
   ]
  },
  {
   "cell_type": "code",
   "execution_count": null,
   "id": "e431e4c7",
   "metadata": {},
   "outputs": [],
   "source": []
  },
  {
   "cell_type": "markdown",
   "id": "e3d6e2bd",
   "metadata": {},
   "source": [
    "14. Write a recursive function to merge two sorted lists."
   ]
  },
  {
   "cell_type": "code",
   "execution_count": null,
   "id": "d0031a63",
   "metadata": {},
   "outputs": [],
   "source": []
  },
  {
   "cell_type": "markdown",
   "id": "f4a1c351",
   "metadata": {},
   "source": [
    "15. Write a recursive function to generate all possible combinations of a list of integers."
   ]
  },
  {
   "cell_type": "code",
   "execution_count": null,
   "id": "e3fc6ef3",
   "metadata": {},
   "outputs": [],
   "source": []
  },
  {
   "cell_type": "markdown",
   "id": "9f0c12b0",
   "metadata": {},
   "source": [
    "1. Write a program that opens a file named \"example.txt\" and reads its contents."
   ]
  },
  {
   "cell_type": "code",
   "execution_count": null,
   "id": "1d16f0ec",
   "metadata": {},
   "outputs": [],
   "source": []
  },
  {
   "cell_type": "markdown",
   "id": "d70a1e2a",
   "metadata": {},
   "source": [
    "2. Write a program that opens a file named \"output.txt\" and writes \"Hello, world!\" to it."
   ]
  },
  {
   "cell_type": "code",
   "execution_count": null,
   "id": "e619b9b7",
   "metadata": {},
   "outputs": [],
   "source": []
  },
  {
   "cell_type": "markdown",
   "id": "f709723c",
   "metadata": {},
   "source": [
    "3. Write a program that opens a file named \"output.txt\" and appends \"Hello, world!\" to it."
   ]
  },
  {
   "cell_type": "code",
   "execution_count": null,
   "id": "bc7ef311",
   "metadata": {},
   "outputs": [],
   "source": []
  },
  {
   "cell_type": "markdown",
   "id": "2eb14fdc",
   "metadata": {},
   "source": [
    "4. Write a program that opens a file named \"input.txt\" and copies its contents to a new file named \"output.txt\"."
   ]
  },
  {
   "cell_type": "code",
   "execution_count": null,
   "id": "f772bb65",
   "metadata": {},
   "outputs": [],
   "source": []
  },
  {
   "cell_type": "markdown",
   "id": "d2787084",
   "metadata": {},
   "source": [
    "5. Write a program that opens a file named \"example.txt\" and displays the number of words in it."
   ]
  },
  {
   "cell_type": "code",
   "execution_count": null,
   "id": "b0799d04",
   "metadata": {},
   "outputs": [],
   "source": []
  },
  {
   "cell_type": "markdown",
   "id": "ac331c11",
   "metadata": {},
   "source": [
    "6. Write a program that opens a file named \"example.txt\" and displays the number of lines in it."
   ]
  },
  {
   "cell_type": "code",
   "execution_count": null,
   "id": "f7a88f81",
   "metadata": {},
   "outputs": [],
   "source": []
  },
  {
   "cell_type": "markdown",
   "id": "45e63083",
   "metadata": {},
   "source": [
    "7. Write a program that opens a file named \"example.txt\" and displays the longest line in it."
   ]
  },
  {
   "cell_type": "code",
   "execution_count": null,
   "id": "22e23a72",
   "metadata": {},
   "outputs": [],
   "source": []
  },
  {
   "cell_type": "markdown",
   "id": "cb786d2a",
   "metadata": {},
   "source": [
    "8. Write a program that opens a file named \"input.txt\" and replaces all occurrences of the word \"hello\" with \"hi\"."
   ]
  },
  {
   "cell_type": "code",
   "execution_count": null,
   "id": "ef289f4b",
   "metadata": {},
   "outputs": [],
   "source": []
  },
  {
   "cell_type": "markdown",
   "id": "15e07cdf",
   "metadata": {},
   "source": [
    "9. Write a program that opens a file named \"input.txt\" and sorts its lines alphabetically, and then writes the sorted lines to a new file named \"output.txt\"."
   ]
  },
  {
   "cell_type": "code",
   "execution_count": null,
   "id": "b1836ef6",
   "metadata": {},
   "outputs": [],
   "source": []
  },
  {
   "cell_type": "markdown",
   "id": "34df18ed",
   "metadata": {},
   "source": [
    "10. Write a program that opens a file named \"input.txt\" and reads its contents, and then creates a new file named \"output.txt\" with the same contents in reverse order."
   ]
  },
  {
   "cell_type": "code",
   "execution_count": null,
   "id": "6d10857d",
   "metadata": {},
   "outputs": [],
   "source": []
  },
  {
   "cell_type": "markdown",
   "id": "372ed10a",
   "metadata": {},
   "source": [
    "11. Write a program that opens a file named \"example.txt\" and displays the number of characters in it."
   ]
  },
  {
   "cell_type": "code",
   "execution_count": null,
   "id": "0a7f7c9c",
   "metadata": {},
   "outputs": [],
   "source": []
  },
  {
   "cell_type": "markdown",
   "id": "4410b304",
   "metadata": {},
   "source": [
    "12. Write a program that opens a file named \"example.txt\" and displays the number of times a specific word appears in it."
   ]
  },
  {
   "cell_type": "code",
   "execution_count": null,
   "id": "45e635d1",
   "metadata": {},
   "outputs": [],
   "source": []
  },
  {
   "cell_type": "markdown",
   "id": "e36fcf4e",
   "metadata": {},
   "source": [
    "13. Write a program that opens a file named \"input.txt\" and removes all empty lines from it, and then writes the remaining lines to a new file named \"output.txt\"."
   ]
  },
  {
   "cell_type": "code",
   "execution_count": null,
   "id": "0efe8f1a",
   "metadata": {},
   "outputs": [],
   "source": []
  },
  {
   "cell_type": "markdown",
   "id": "d5039f79",
   "metadata": {},
   "source": [
    "14. Write a program that opens a file named \"input.txt\" and calculates the average word length in it."
   ]
  },
  {
   "cell_type": "code",
   "execution_count": null,
   "id": "6ef78fcb",
   "metadata": {},
   "outputs": [],
   "source": []
  },
  {
   "cell_type": "markdown",
   "id": "2f93f9d8",
   "metadata": {},
   "source": [
    "15. Write a program that opens a file named \"input.txt\" and removes all occurrences of a specific word from it, and then writes the remaining lines to a new file named \"output.txt\"."
   ]
  },
  {
   "cell_type": "code",
   "execution_count": null,
   "id": "302b5761",
   "metadata": {},
   "outputs": [],
   "source": []
  },
  {
   "cell_type": "markdown",
   "id": "950422d8",
   "metadata": {},
   "source": [
    "16. Write a program that opens a file named \"input.txt\" and displays the number of unique words in it."
   ]
  },
  {
   "cell_type": "code",
   "execution_count": null,
   "id": "d522990e",
   "metadata": {},
   "outputs": [],
   "source": []
  },
  {
   "cell_type": "markdown",
   "id": "be43880c",
   "metadata": {},
   "source": [
    "17. Write a program that opens a file named \"example.txt\" and displays the number of times each word appears in it."
   ]
  },
  {
   "cell_type": "code",
   "execution_count": null,
   "id": "8dfa76e7",
   "metadata": {},
   "outputs": [],
   "source": []
  },
  {
   "cell_type": "markdown",
   "id": "7dd87be7",
   "metadata": {},
   "source": [
    "18. Write a program that opens a file named \"input.txt\" and removes all non-alphanumeric characters from it, and then writes the remaining lines to a new file named \"output.txt\"."
   ]
  },
  {
   "cell_type": "code",
   "execution_count": null,
   "id": "aaf51c74",
   "metadata": {},
   "outputs": [],
   "source": []
  },
  {
   "cell_type": "markdown",
   "id": "d0a87635",
   "metadata": {},
   "source": [
    "19. Write a program that opens a file named \"input.txt\" and displays the average line length in it."
   ]
  },
  {
   "cell_type": "code",
   "execution_count": null,
   "id": "fed4d514",
   "metadata": {},
   "outputs": [],
   "source": []
  },
  {
   "cell_type": "markdown",
   "id": "cfd68a8f",
   "metadata": {},
   "source": [
    "20. Write a program that opens a file named \"example.txt\" and replaces all occurrences of a specific word with a user input word."
   ]
  },
  {
   "cell_type": "code",
   "execution_count": null,
   "id": "b2e55e42",
   "metadata": {},
   "outputs": [],
   "source": []
  },
  {
   "cell_type": "markdown",
   "id": "acf9f0ef",
   "metadata": {},
   "source": [
    "1. Create a module named \"math_ops\" that contains functions to add, subtract, multiply and divide two numbers."
   ]
  },
  {
   "cell_type": "code",
   "execution_count": null,
   "id": "b998ca08",
   "metadata": {},
   "outputs": [],
   "source": []
  },
  {
   "cell_type": "markdown",
   "id": "a0f01740",
   "metadata": {},
   "source": [
    "2. Create a package named \"my_package\" that contains a module named \"my_module\" which prints \"Hello, World!\" when imported."
   ]
  },
  {
   "cell_type": "code",
   "execution_count": null,
   "id": "5685c7c8",
   "metadata": {},
   "outputs": [],
   "source": []
  },
  {
   "cell_type": "markdown",
   "id": "f0a1fa0e",
   "metadata": {},
   "source": [
    "3. Create a module named \"string_ops\" that contains a function to reverse a string."
   ]
  },
  {
   "cell_type": "code",
   "execution_count": null,
   "id": "01c7f52f",
   "metadata": {},
   "outputs": [],
   "source": []
  },
  {
   "cell_type": "markdown",
   "id": "9fe73a85",
   "metadata": {},
   "source": [
    "4. Create a package named \"my_package\" that contains a module named \"my_module\" which calculates the area of a circle."
   ]
  },
  {
   "cell_type": "code",
   "execution_count": null,
   "id": "13a68831",
   "metadata": {},
   "outputs": [],
   "source": []
  },
  {
   "cell_type": "markdown",
   "id": "fc254e71",
   "metadata": {},
   "source": [
    "5. Create a module named \"file_ops\" that contains a function to read a file and return its contents."
   ]
  },
  {
   "cell_type": "code",
   "execution_count": null,
   "id": "eb00a21f",
   "metadata": {},
   "outputs": [],
   "source": []
  },
  {
   "cell_type": "markdown",
   "id": "51d16b03",
   "metadata": {},
   "source": [
    "6. Create a package named \"my_package\" that contains a module named \"my_module\" which prints the Fibonacci sequence up to a specified number."
   ]
  },
  {
   "cell_type": "code",
   "execution_count": null,
   "id": "236813c3",
   "metadata": {},
   "outputs": [],
   "source": []
  },
  {
   "cell_type": "markdown",
   "id": "bc6c268e",
   "metadata": {},
   "source": [
    "7. Create a module named \"date_ops\" that contains functions to get the current date and time, and to convert a date string to a datetime object."
   ]
  },
  {
   "cell_type": "code",
   "execution_count": null,
   "id": "73a28022",
   "metadata": {},
   "outputs": [],
   "source": []
  },
  {
   "cell_type": "markdown",
   "id": "57b7a5ff",
   "metadata": {},
   "source": [
    "8. Create a package named \"my_package\" that contains a module named \"my_module\" which calculates the factorial of a number."
   ]
  },
  {
   "cell_type": "code",
   "execution_count": null,
   "id": "0aeed15b",
   "metadata": {},
   "outputs": [],
   "source": []
  },
  {
   "cell_type": "markdown",
   "id": "9ccf04f5",
   "metadata": {},
   "source": [
    "9. Create a module named \"list_ops\" that contains a function to sort a list in ascending order."
   ]
  },
  {
   "cell_type": "code",
   "execution_count": null,
   "id": "1f5923b8",
   "metadata": {},
   "outputs": [],
   "source": []
  },
  {
   "cell_type": "markdown",
   "id": "e5f012c7",
   "metadata": {},
   "source": [
    "10. Create a package named \"my_package\" that contains a module named \"my_module\" which calculates the sum of the first n numbers."
   ]
  },
  {
   "cell_type": "code",
   "execution_count": null,
   "id": "1bc09fe4",
   "metadata": {},
   "outputs": [],
   "source": []
  },
  {
   "cell_type": "markdown",
   "id": "2279d734",
   "metadata": {},
   "source": [
    "11. Create a module named \"random_ops\" that contains a function to generate a random number between two specified values."
   ]
  },
  {
   "cell_type": "code",
   "execution_count": null,
   "id": "7bd82cbc",
   "metadata": {},
   "outputs": [],
   "source": []
  },
  {
   "cell_type": "markdown",
   "id": "6b18f2e8",
   "metadata": {},
   "source": [
    "12. Create a package named \"my_package\" that contains a module named \"my_module\" which calculates the area of a rectangle."
   ]
  },
  {
   "cell_type": "code",
   "execution_count": null,
   "id": "ed096781",
   "metadata": {},
   "outputs": [],
   "source": []
  },
  {
   "cell_type": "markdown",
   "id": "6173e20b",
   "metadata": {},
   "source": [
    "13. Create a module named \"string_ops\" that contains a function to count the number of vowels in a string."
   ]
  },
  {
   "cell_type": "code",
   "execution_count": null,
   "id": "6427078f",
   "metadata": {},
   "outputs": [],
   "source": []
  },
  {
   "cell_type": "markdown",
   "id": "b2395712",
   "metadata": {},
   "source": [
    "14. Create a package named \"my_package\" that contains a module named \"my_module\" which calculates the area of a triangle."
   ]
  },
  {
   "cell_type": "code",
   "execution_count": null,
   "id": "7b387a80",
   "metadata": {},
   "outputs": [],
   "source": []
  },
  {
   "cell_type": "markdown",
   "id": "7b52be12",
   "metadata": {},
   "source": [
    "15. Create a module named \"file_ops\" that contains a function to write a list of strings to a file."
   ]
  },
  {
   "cell_type": "code",
   "execution_count": null,
   "id": "d468c8ec",
   "metadata": {},
   "outputs": [],
   "source": []
  },
  {
   "cell_type": "markdown",
   "id": "9be16c21",
   "metadata": {},
   "source": [
    "16. Create a package named \"my_package\" that contains a module named \"my_module\" which checks whether a number is prime."
   ]
  },
  {
   "cell_type": "code",
   "execution_count": null,
   "id": "8f2c7331",
   "metadata": {},
   "outputs": [],
   "source": []
  },
  {
   "cell_type": "markdown",
   "id": "0e6663b3",
   "metadata": {},
   "source": [
    "17. Create a module named \"date_ops\" that contains a function to calculate the difference between two dates in days."
   ]
  },
  {
   "cell_type": "code",
   "execution_count": null,
   "id": "b6e2af30",
   "metadata": {},
   "outputs": [],
   "source": []
  },
  {
   "cell_type": "markdown",
   "id": "f185204d",
   "metadata": {},
   "source": [
    "18. Create a package named \"my_package\" that contains a module named \"my_module\" which calculates the area of a square."
   ]
  },
  {
   "cell_type": "code",
   "execution_count": null,
   "id": "3c8874ea",
   "metadata": {},
   "outputs": [],
   "source": []
  },
  {
   "cell_type": "markdown",
   "id": "a761b6e4",
   "metadata": {},
   "source": [
    "19. Create a module named \"list_ops\" that contains a function to remove duplicates from a list."
   ]
  },
  {
   "cell_type": "code",
   "execution_count": null,
   "id": "719ca603",
   "metadata": {},
   "outputs": [],
   "source": []
  },
  {
   "cell_type": "markdown",
   "id": "de6226d2",
   "metadata": {},
   "source": [
    "20. Create a package named \"my_package\" that contains a module named \"my_module\" which calculates the sum of a list of numbers."
   ]
  },
  {
   "cell_type": "code",
   "execution_count": null,
   "id": "bc420d26",
   "metadata": {},
   "outputs": [],
   "source": []
  },
  {
   "cell_type": "markdown",
   "id": "ddd47a14",
   "metadata": {},
   "source": [
    "1. Write a Python program that catches a ZeroDivisionError and prints a message to the user."
   ]
  },
  {
   "cell_type": "code",
   "execution_count": null,
   "id": "257e1785",
   "metadata": {},
   "outputs": [],
   "source": []
  },
  {
   "cell_type": "markdown",
   "id": "74036740",
   "metadata": {},
   "source": [
    "2. Write a Python function that takes a list as input and returns the first element of the list. If the list is empty, raise an IndexError."
   ]
  },
  {
   "cell_type": "code",
   "execution_count": null,
   "id": "7199b749",
   "metadata": {},
   "outputs": [],
   "source": []
  },
  {
   "cell_type": "markdown",
   "id": "a7edc590",
   "metadata": {},
   "source": [
    "3. Write a Python program that uses a try-except block to handle a NameError."
   ]
  },
  {
   "cell_type": "code",
   "execution_count": null,
   "id": "afd3f37c",
   "metadata": {},
   "outputs": [],
   "source": []
  },
  {
   "cell_type": "markdown",
   "id": "835626a7",
   "metadata": {},
   "source": [
    "4. Write a Python program that reads a file and catches a FileNotFoundError. If the file is found, print the contents of the file."
   ]
  },
  {
   "cell_type": "code",
   "execution_count": null,
   "id": "059a6e47",
   "metadata": {},
   "outputs": [],
   "source": []
  },
  {
   "cell_type": "markdown",
   "id": "6f11c452",
   "metadata": {},
   "source": [
    "5. Write a Python function that takes two integers as input and returns their sum. If the input is not an integer, raise a TypeError."
   ]
  },
  {
   "cell_type": "code",
   "execution_count": null,
   "id": "8021bb8c",
   "metadata": {},
   "outputs": [],
   "source": []
  },
  {
   "cell_type": "markdown",
   "id": "4584c30e",
   "metadata": {},
   "source": [
    "6. Write a Python program that connects to a database and catches a ConnectionError."
   ]
  },
  {
   "cell_type": "code",
   "execution_count": null,
   "id": "7c191dd9",
   "metadata": {},
   "outputs": [],
   "source": []
  },
  {
   "cell_type": "markdown",
   "id": "2b2e00c0",
   "metadata": {},
   "source": [
    "7. Write a Python function that takes a string as input and returns the string in all uppercase letters. If the input is not a string, raise a TypeError."
   ]
  },
  {
   "cell_type": "code",
   "execution_count": null,
   "id": "3f22654d",
   "metadata": {},
   "outputs": [],
   "source": []
  },
  {
   "cell_type": "markdown",
   "id": "f4c978a0",
   "metadata": {},
   "source": [
    "8. Write a Python program that reads a file and catches an IOError. If the file is found, print the contents of the file."
   ]
  },
  {
   "cell_type": "code",
   "execution_count": null,
   "id": "e560aacb",
   "metadata": {},
   "outputs": [],
   "source": []
  },
  {
   "cell_type": "markdown",
   "id": "a3b3326f",
   "metadata": {},
   "source": [
    "9. Write a Python function that takes a list as input and returns the last element of the list. If the list is empty, raise an IndexError."
   ]
  },
  {
   "cell_type": "code",
   "execution_count": null,
   "id": "905c05e2",
   "metadata": {},
   "outputs": [],
   "source": []
  },
  {
   "cell_type": "markdown",
   "id": "c46c252d",
   "metadata": {},
   "source": [
    "10. Write a Python program that catches a KeyError and prints a message to the user."
   ]
  },
  {
   "cell_type": "code",
   "execution_count": null,
   "id": "0cb6bc20",
   "metadata": {},
   "outputs": [],
   "source": []
  },
  {
   "cell_type": "markdown",
   "id": "d3ffdb45",
   "metadata": {},
   "source": [
    "11. Write a Python function that takes a number as input and returns the square of the number. If the input is not a number, raise a TypeError."
   ]
  },
  {
   "cell_type": "code",
   "execution_count": null,
   "id": "d56a2fb1",
   "metadata": {},
   "outputs": [],
   "source": []
  },
  {
   "cell_type": "markdown",
   "id": "8d261e7d",
   "metadata": {},
   "source": [
    "12. Write a Python program that catches an EOFError and prints a message to the user."
   ]
  },
  {
   "cell_type": "code",
   "execution_count": null,
   "id": "a6703cd9",
   "metadata": {},
   "outputs": [],
   "source": []
  },
  {
   "cell_type": "markdown",
   "id": "db01a6a9",
   "metadata": {},
   "source": [
    "13. Write a Python function that takes a string as input and returns the string in all lowercase letters. If the input is not a string, raise a TypeError."
   ]
  },
  {
   "cell_type": "code",
   "execution_count": null,
   "id": "cafd7d1d",
   "metadata": {},
   "outputs": [],
   "source": []
  },
  {
   "cell_type": "markdown",
   "id": "8d2a11bc",
   "metadata": {},
   "source": [
    "14. Write a Python program that reads a file and catches a UnicodeError. If the file is found, print the contents of the file."
   ]
  },
  {
   "cell_type": "code",
   "execution_count": null,
   "id": "7494a5d8",
   "metadata": {},
   "outputs": [],
   "source": []
  },
  {
   "cell_type": "markdown",
   "id": "9faa93a7",
   "metadata": {},
   "source": [
    "15. Write a Python function that takes a list as input and returns the length of the list. If the input is not a list, raise a TypeError."
   ]
  },
  {
   "cell_type": "code",
   "execution_count": null,
   "id": "3fe04570",
   "metadata": {},
   "outputs": [],
   "source": []
  },
  {
   "cell_type": "markdown",
   "id": "5c09d47d",
   "metadata": {},
   "source": [
    "1. Create a Person class with attributes name and age. Write a method that prints the name and age of a person object."
   ]
  },
  {
   "cell_type": "code",
   "execution_count": null,
   "id": "40253ae2",
   "metadata": {},
   "outputs": [],
   "source": []
  },
  {
   "cell_type": "markdown",
   "id": "ccd59c38",
   "metadata": {},
   "source": [
    "2. Create a Rectangle class with attributes width and height. Write a method that calculates the area of a rectangle object."
   ]
  },
  {
   "cell_type": "code",
   "execution_count": null,
   "id": "91c48600",
   "metadata": {},
   "outputs": [],
   "source": []
  },
  {
   "cell_type": "markdown",
   "id": "881aee4e",
   "metadata": {},
   "source": [
    "3. Create a BankAccount class with attributes balance and owner. Write methods that allow a user to deposit and withdraw money from their account."
   ]
  },
  {
   "cell_type": "code",
   "execution_count": null,
   "id": "22e87705",
   "metadata": {},
   "outputs": [],
   "source": []
  },
  {
   "cell_type": "markdown",
   "id": "b357bb6c",
   "metadata": {},
   "source": [
    "4. Create a Car class with attributes make, model, and year. Write a method that prints the make, model, and year of a car object."
   ]
  },
  {
   "cell_type": "code",
   "execution_count": null,
   "id": "eb991d95",
   "metadata": {},
   "outputs": [],
   "source": []
  },
  {
   "cell_type": "markdown",
   "id": "3c44f4be",
   "metadata": {},
   "source": [
    "5. Create a Dog class with attributes name, breed, and age. Write a method that prints the name, breed, and age of a dog object."
   ]
  },
  {
   "cell_type": "code",
   "execution_count": null,
   "id": "b58aa70a",
   "metadata": {},
   "outputs": [],
   "source": []
  },
  {
   "cell_type": "markdown",
   "id": "3ac9c9b2",
   "metadata": {},
   "source": [
    "6. Create a Student class with attributes name, id, and courses. Write a method that adds a new course to a student object's course list."
   ]
  },
  {
   "cell_type": "code",
   "execution_count": null,
   "id": "a6e6c2b3",
   "metadata": {},
   "outputs": [],
   "source": []
  },
  {
   "cell_type": "markdown",
   "id": "66aaeba2",
   "metadata": {},
   "source": [
    "7. Create a Book class with attributes title, author, and year_published. Write a method that prints the title, author, and year of publication of a book object."
   ]
  },
  {
   "cell_type": "code",
   "execution_count": null,
   "id": "adcb038b",
   "metadata": {},
   "outputs": [],
   "source": []
  },
  {
   "cell_type": "markdown",
   "id": "4c5db1c9",
   "metadata": {},
   "source": [
    "8. Create a Bank class with attributes name and accounts. Write a method that adds a new account to the bank's account list."
   ]
  },
  {
   "cell_type": "code",
   "execution_count": null,
   "id": "31118975",
   "metadata": {},
   "outputs": [],
   "source": []
  },
  {
   "cell_type": "markdown",
   "id": "b84d5725",
   "metadata": {},
   "source": [
    "9. Create a Shape class with a method that calculates the area of a shape object. Create subclasses Triangle, Rectangle, and Circle that inherit from Shape and define their own methods for calculating area."
   ]
  },
  {
   "cell_type": "code",
   "execution_count": null,
   "id": "a2e98145",
   "metadata": {},
   "outputs": [],
   "source": []
  },
  {
   "cell_type": "markdown",
   "id": "e5b6ff56",
   "metadata": {},
   "source": [
    "10. Create a Song class with attributes title, artist, and album. Write a method that prints the title, artist, and album of a song object."
   ]
  },
  {
   "cell_type": "code",
   "execution_count": null,
   "id": "d55185c8",
   "metadata": {},
   "outputs": [],
   "source": []
  },
  {
   "cell_type": "markdown",
   "id": "fc6ce743",
   "metadata": {},
   "source": [
    "11. Create a Computer class with attributes brand, model, and price. Write a method that prints the brand, model, and price of a computer object."
   ]
  },
  {
   "cell_type": "code",
   "execution_count": null,
   "id": "ca8a2935",
   "metadata": {},
   "outputs": [],
   "source": []
  },
  {
   "cell_type": "markdown",
   "id": "c31f9667",
   "metadata": {},
   "source": [
    "12. Create a Movie class with attributes title, director, and year. Write a method that prints the title, director, and year of a movie object."
   ]
  },
  {
   "cell_type": "code",
   "execution_count": null,
   "id": "0e85a4e1",
   "metadata": {},
   "outputs": [],
   "source": []
  },
  {
   "cell_type": "markdown",
   "id": "ffba7274",
   "metadata": {},
   "source": [
    "13. Create a BankCustomer class with attributes name, address, and accounts. Write a method that adds a new account to a customer's account list."
   ]
  },
  {
   "cell_type": "code",
   "execution_count": null,
   "id": "35bd7b59",
   "metadata": {},
   "outputs": [],
   "source": []
  },
  {
   "cell_type": "markdown",
   "id": "c832661e",
   "metadata": {},
   "source": [
    "14. Create a Animal class with a method that prints the sound that the animal makes. Create subclasses Dog, Cat, and Bird that inherit from Animal and define their own methods for making sound."
   ]
  },
  {
   "cell_type": "code",
   "execution_count": null,
   "id": "77c72c14",
   "metadata": {},
   "outputs": [],
   "source": []
  },
  {
   "cell_type": "markdown",
   "id": "3ec64dd8",
   "metadata": {},
   "source": [
    "15. Create a Person class with attributes name, age, and gender. Write a method that prints the name, age, and gender of a person object. Create a subclass Employee that inherits from Person and adds an attribute salary. Write a method that prints the salary of an employee object."
   ]
  },
  {
   "cell_type": "code",
   "execution_count": null,
   "id": "b5be7d5f",
   "metadata": {},
   "outputs": [],
   "source": []
  },
  {
   "cell_type": "markdown",
   "id": "532519ed",
   "metadata": {},
   "source": [
    "1. Write a program that defines a class Animal with a method speak() that prints out a message. Then, create a subclass Dog and override the speak() method to bark. Finally, create an instance of the Dog class and call the speak() method."
   ]
  },
  {
   "cell_type": "code",
   "execution_count": null,
   "id": "aade6d6d",
   "metadata": {},
   "outputs": [],
   "source": []
  },
  {
   "cell_type": "markdown",
   "id": "cd80e01f",
   "metadata": {},
   "source": [
    "2. Create a class Shape with an instance variable area and a method calculate_area(). Then, create subclasses Rectangle and Triangle that override the calculate_area() method. The Rectangle class should have instance variables length and width, while the Triangle class should have instance variables base and height."
   ]
  },
  {
   "cell_type": "code",
   "execution_count": null,
   "id": "ea47a232",
   "metadata": {},
   "outputs": [],
   "source": []
  },
  {
   "cell_type": "markdown",
   "id": "f17c8144",
   "metadata": {},
   "source": [
    "3. Create a class Person with instance variables name and age, and a method greet() that prints a greeting message. Then, create a subclass Student with instance variables student_id and courses, and override the greet() method to print a different greeting message."
   ]
  },
  {
   "cell_type": "code",
   "execution_count": null,
   "id": "6f179427",
   "metadata": {},
   "outputs": [],
   "source": []
  },
  {
   "cell_type": "markdown",
   "id": "24b67527",
   "metadata": {},
   "source": [
    "4. Create a class Calculator with instance methods add() and subtract(). Then, create a subclass ScientificCalculator that inherits from Calculator and adds instance methods sin() and cos(). Finally, create an instance of the ScientificCalculator class and call the sin() method."
   ]
  },
  {
   "cell_type": "code",
   "execution_count": null,
   "id": "0a8bc1b5",
   "metadata": {},
   "outputs": [],
   "source": []
  },
  {
   "cell_type": "markdown",
   "id": "9e60246c",
   "metadata": {},
   "source": [
    "5. Create a class Employee with instance variables name and salary, and a method get_details() that prints out the employee's details. Then, create a subclass Manager that overrides the get_details() method to print additional information about the manager."
   ]
  },
  {
   "cell_type": "code",
   "execution_count": null,
   "id": "3d2d309a",
   "metadata": {},
   "outputs": [],
   "source": []
  },
  {
   "cell_type": "markdown",
   "id": "1488bd09",
   "metadata": {},
   "source": [
    "6. Create a class Animal with instance variables name and species, and a method move(). Then, create a subclass Bird with an additional instance variable wingspan and an overridden move() method that prints \"flying\". Finally, create an instance of the Bird class and call the move() method."
   ]
  },
  {
   "cell_type": "code",
   "execution_count": null,
   "id": "fee71fc5",
   "metadata": {},
   "outputs": [],
   "source": []
  },
  {
   "cell_type": "markdown",
   "id": "ada6496c",
   "metadata": {},
   "source": [
    "7. Create a class BankAccount with instance variables balance and interest_rate, and methods deposit() and withdraw(). Then, create a subclass CheckingAccount that overrides the withdraw() method to deduct a transaction fee. Finally, create an instance of the CheckingAccount class and call the withdraw() method."
   ]
  },
  {
   "cell_type": "code",
   "execution_count": null,
   "id": "8cebad9c",
   "metadata": {},
   "outputs": [],
   "source": []
  },
  {
   "cell_type": "markdown",
   "id": "fb2d9c09",
   "metadata": {},
   "source": [
    "8. Create a class Vehicle with instance variables make, model, and year, and a method drive(). Then, create a subclass Car with an additional instance variable color and an overridden drive() method that prints \"driving a car\". Finally, create an instance of the Car class and call the drive() method."
   ]
  },
  {
   "cell_type": "code",
   "execution_count": null,
   "id": "a90d15be",
   "metadata": {},
   "outputs": [],
   "source": []
  },
  {
   "cell_type": "markdown",
   "id": "e5ffda07",
   "metadata": {},
   "source": [
    "9. Create a class Shape with instance variables length and width, and a method area(). Then, create subclasses Rectangle and Square that override the area() method. The Rectangle class should have an additional instance variable height, while the Square class should have only one instance variable side."
   ]
  },
  {
   "cell_type": "code",
   "execution_count": null,
   "id": "2b4e3fc3",
   "metadata": {},
   "outputs": [],
   "source": []
  },
  {
   "cell_type": "markdown",
   "id": "33451868",
   "metadata": {},
   "source": [
    "10. Create a class Person with instance variables name and age, and a method introduce() that prints a message introducing the person. Then, create a subclass Student with an additional instance variable school and an overridden introduce() method that includes the school name."
   ]
  },
  {
   "cell_type": "code",
   "execution_count": null,
   "id": "59ab0aba",
   "metadata": {},
   "outputs": [],
   "source": []
  },
  {
   "cell_type": "markdown",
   "id": "ef5b6397",
   "metadata": {},
   "source": [
    "1. Create a decorator that prints the execution time of a function."
   ]
  },
  {
   "cell_type": "code",
   "execution_count": null,
   "id": "19202bc5",
   "metadata": {},
   "outputs": [],
   "source": []
  },
  {
   "cell_type": "markdown",
   "id": "9d315a26",
   "metadata": {},
   "source": [
    "2. Create a decorator that logs the input arguments and return value of a function."
   ]
  },
  {
   "cell_type": "code",
   "execution_count": null,
   "id": "1c8f95bf",
   "metadata": {},
   "outputs": [],
   "source": []
  },
  {
   "cell_type": "markdown",
   "id": "d06c687c",
   "metadata": {},
   "source": [
    "3. Create a decorator that adds a prefix to the output of a function."
   ]
  },
  {
   "cell_type": "code",
   "execution_count": null,
   "id": "bcd72e1c",
   "metadata": {},
   "outputs": [],
   "source": []
  },
  {
   "cell_type": "markdown",
   "id": "c2fcc95f",
   "metadata": {},
   "source": [
    "4. Create a decorator that transforms the output of a function into uppercase."
   ]
  },
  {
   "cell_type": "code",
   "execution_count": null,
   "id": "b345b7db",
   "metadata": {},
   "outputs": [],
   "source": []
  },
  {
   "cell_type": "markdown",
   "id": "8a986129",
   "metadata": {},
   "source": [
    "5. Create a decorator that validates the input arguments of a function."
   ]
  },
  {
   "cell_type": "code",
   "execution_count": null,
   "id": "66a57559",
   "metadata": {},
   "outputs": [],
   "source": []
  },
  {
   "cell_type": "markdown",
   "id": "50fc9f5f",
   "metadata": {},
   "source": [
    "6. Create a decorator that times the execution of a function and logs the result to a file."
   ]
  },
  {
   "cell_type": "code",
   "execution_count": null,
   "id": "abb99a44",
   "metadata": {},
   "outputs": [],
   "source": []
  },
  {
   "cell_type": "markdown",
   "id": "5214f1c6",
   "metadata": {},
   "source": [
    "7. Create a decorator that validates the return value of a function."
   ]
  },
  {
   "cell_type": "code",
   "execution_count": null,
   "id": "85438b46",
   "metadata": {},
   "outputs": [],
   "source": []
  },
  {
   "cell_type": "markdown",
   "id": "e0da1661",
   "metadata": {},
   "source": [
    "8. Create a decorator that adds a suffix to the output of a function."
   ]
  },
  {
   "cell_type": "code",
   "execution_count": null,
   "id": "10518217",
   "metadata": {},
   "outputs": [],
   "source": []
  },
  {
   "cell_type": "markdown",
   "id": "e83c3ee7",
   "metadata": {},
   "source": [
    "1. Define a class Person with a class-level variable count that keeps track of the number of instances of the class created. Implement a method get_count that returns the value of count."
   ]
  },
  {
   "cell_type": "code",
   "execution_count": null,
   "id": "b7e3abf5",
   "metadata": {},
   "outputs": [],
   "source": []
  },
  {
   "cell_type": "markdown",
   "id": "4fdce959",
   "metadata": {},
   "source": [
    "2. Create a class Rectangle with class-level variables width and height. Implement a method get_area that returns the area of the rectangle."
   ]
  },
  {
   "cell_type": "code",
   "execution_count": null,
   "id": "920508b1",
   "metadata": {},
   "outputs": [],
   "source": []
  },
  {
   "cell_type": "markdown",
   "id": "988a73a1",
   "metadata": {},
   "source": [
    "3. Define a class Shape with a class-level variable count that keeps track of the number of instances of the class created. Implement a class method get_count that returns the value of count."
   ]
  },
  {
   "cell_type": "code",
   "execution_count": null,
   "id": "f3022489",
   "metadata": {},
   "outputs": [],
   "source": []
  },
  {
   "cell_type": "markdown",
   "id": "c2866314",
   "metadata": {},
   "source": [
    "4. Create a class Employee with class-level variables name and salary. Implement a static method calculate_bonus that calculates the bonus for an employee based on their salary."
   ]
  },
  {
   "cell_type": "code",
   "execution_count": null,
   "id": "3a8596f1",
   "metadata": {},
   "outputs": [],
   "source": []
  },
  {
   "cell_type": "markdown",
   "id": "58f64f2c",
   "metadata": {},
   "source": [
    "5. Define a class Vehicle with class-level variables wheels and speed. Implement a method get_max_speed that returns the maximum speed of the vehicle."
   ]
  },
  {
   "cell_type": "code",
   "execution_count": null,
   "id": "ac855e5b",
   "metadata": {},
   "outputs": [],
   "source": []
  },
  {
   "cell_type": "markdown",
   "id": "b7a9741e",
   "metadata": {},
   "source": [
    "6. Create a class BankAccount with class-level variables interest_rate and balance. Implement a method add_interest that adds interest to the account based on the interest rate."
   ]
  },
  {
   "cell_type": "code",
   "execution_count": null,
   "id": "015c66d3",
   "metadata": {},
   "outputs": [],
   "source": []
  },
  {
   "cell_type": "markdown",
   "id": "ffcd5b78",
   "metadata": {},
   "source": [
    "7. Define a class School with a class-level variable students that stores the number of students in the school. Implement a class method get_average_student_age that returns the average age of the students in the school."
   ]
  },
  {
   "cell_type": "code",
   "execution_count": null,
   "id": "89f9237b",
   "metadata": {},
   "outputs": [],
   "source": []
  },
  {
   "cell_type": "markdown",
   "id": "eb1b34c2",
   "metadata": {},
   "source": [
    "8. Create a class Book with class-level variables title, author, and publisher. Implement a static method search_by_author that returns a list of all books written by a given author."
   ]
  },
  {
   "cell_type": "code",
   "execution_count": null,
   "id": "127b858e",
   "metadata": {},
   "outputs": [],
   "source": []
  },
  {
   "cell_type": "markdown",
   "id": "61305f41",
   "metadata": {},
   "source": [
    "9. Define a class Animal with class-level variables name and species. Implement a method get_habitat that returns the habitat of the animal based on its species."
   ]
  },
  {
   "cell_type": "code",
   "execution_count": null,
   "id": "ec04e65a",
   "metadata": {},
   "outputs": [],
   "source": []
  },
  {
   "cell_type": "markdown",
   "id": "d588c5dc",
   "metadata": {},
   "source": [
    "10. Create a class Circle with class-level variables radius and pi (set to 3.14). Implement a method get_circumference that returns the circumference of the circle."
   ]
  },
  {
   "cell_type": "code",
   "execution_count": null,
   "id": "91da100b",
   "metadata": {},
   "outputs": [],
   "source": []
  },
  {
   "cell_type": "markdown",
   "id": "2fb24b70",
   "metadata": {},
   "source": [
    "11.   Define a class Game with class-level variables players and scoreboard. Implement a method add_player that adds a player to the game and updates the scoreboard accordingly."
   ]
  },
  {
   "cell_type": "code",
   "execution_count": null,
   "id": "cf46f139",
   "metadata": {},
   "outputs": [],
   "source": []
  },
  {
   "cell_type": "markdown",
   "id": "d3edcdba",
   "metadata": {},
   "source": [
    "12.   Create a class Bank with class-level variables accounts and transactions. Implement a static method get_account_balance that returns the balance of a given account number."
   ]
  },
  {
   "cell_type": "code",
   "execution_count": null,
   "id": "d7ec31d5",
   "metadata": {},
   "outputs": [],
   "source": []
  },
  {
   "cell_type": "markdown",
   "id": "6cf92231",
   "metadata": {},
   "source": [
    "13.   Define a class Playlist with class-level variables songs and current_song. Implement a method add_song that adds a song to the playlist and updates the current song accordingly."
   ]
  },
  {
   "cell_type": "code",
   "execution_count": null,
   "id": "b0b2532f",
   "metadata": {},
   "outputs": [],
   "source": []
  },
  {
   "cell_type": "markdown",
   "id": "6c049b4f",
   "metadata": {},
   "source": [
    "14.   Create a class Store with class-level variables inventory and sales. Implement a static method get_product_price that returns the price of a given product."
   ]
  },
  {
   "cell_type": "code",
   "execution_count": null,
   "id": "bd2f7abf",
   "metadata": {},
   "outputs": [],
   "source": []
  },
  {
   "cell_type": "markdown",
   "id": "4fa9a341",
   "metadata": {},
   "source": [
    "15.   Define a class Course with class-level variables students and assignments. Implement a method add_student that adds a student to the course and updates the assignments accordingly."
   ]
  },
  {
   "cell_type": "code",
   "execution_count": null,
   "id": "260d3c2e",
   "metadata": {},
   "outputs": [],
   "source": []
  },
  {
   "cell_type": "markdown",
   "id": "b7aa2366",
   "metadata": {},
   "source": [
    "16.   Create a class BankCard with class-level variables card_type and card_limit. Implement a static method get_card_balance that returns the available balance on a given bank card."
   ]
  },
  {
   "cell_type": "code",
   "execution_count": null,
   "id": "5472b20d",
   "metadata": {},
   "outputs": [],
   "source": []
  },
  {
   "cell_type": "markdown",
   "id": "8da3504d",
   "metadata": {},
   "source": [
    "17.   Define a class Playlist with class-level variables songs and current_song. Implement a class method get_song_count that returns the total number of songs in the playlist."
   ]
  },
  {
   "cell_type": "code",
   "execution_count": null,
   "id": "84918bda",
   "metadata": {},
   "outputs": [],
   "source": []
  },
  {
   "cell_type": "markdown",
   "id": "56768ffe",
   "metadata": {},
   "source": [
    "18.   Create a class Store with class-level variables inventory and sales. Implement a method add_sale that updates the inventory and sales when a product is sold."
   ]
  },
  {
   "cell_type": "code",
   "execution_count": null,
   "id": "b73487cd",
   "metadata": {},
   "outputs": [],
   "source": []
  },
  {
   "cell_type": "markdown",
   "id": "0eed8cfd",
   "metadata": {},
   "source": [
    "19.   Define a class Car with class-level variables make and model. Implement a static method get_car_info that returns a string with the make and model of the car."
   ]
  },
  {
   "cell_type": "code",
   "execution_count": null,
   "id": "9c328a7a",
   "metadata": {},
   "outputs": [],
   "source": []
  },
  {
   "cell_type": "markdown",
   "id": "a4ecdf01",
   "metadata": {},
   "source": [
    "20.   Create a class Bookstore with class-level variables books and book_sales. Implement a method add_book that adds a book to the bookstore and updates the book sales accordingly."
   ]
  },
  {
   "cell_type": "code",
   "execution_count": null,
   "id": "a99f4b2c",
   "metadata": {},
   "outputs": [],
   "source": []
  },
  {
   "cell_type": "markdown",
   "id": "b0089fe0",
   "metadata": {},
   "source": [
    "1. Write a Python class EvenNumbers that implements an iterator which returns even numbers from 0 to a given limit n. The class should have a constructor that takes n as a parameter."
   ]
  },
  {
   "cell_type": "code",
   "execution_count": null,
   "id": "1ba08c20",
   "metadata": {},
   "outputs": [],
   "source": []
  },
  {
   "cell_type": "markdown",
   "id": "c838efea",
   "metadata": {},
   "source": [
    "2. Implement a Python class Squares that generates an iterator for the squares of numbers from 1 to a given limit n. The class should have a constructor that takes n as a parameter."
   ]
  },
  {
   "cell_type": "code",
   "execution_count": null,
   "id": "aeebb041",
   "metadata": {},
   "outputs": [],
   "source": []
  },
  {
   "cell_type": "markdown",
   "id": "7b10ddc1",
   "metadata": {},
   "source": [
    "3. Write a Python program that uses the zip() built-in function and a custom iterator to iterate over two lists simultaneously. Define a class MyZip that takes two lists as input and generates tuples containing elements from the two lists at corresponding positions."
   ]
  },
  {
   "cell_type": "code",
   "execution_count": null,
   "id": "c5dd3c81",
   "metadata": {},
   "outputs": [],
   "source": []
  },
  {
   "cell_type": "markdown",
   "id": "2484a914",
   "metadata": {},
   "source": [
    "4. Implement a Python class Fibonacci that generates an iterator for the Fibonacci sequence up to a given limit n. The class should have a constructor that takes n as a parameter."
   ]
  },
  {
   "cell_type": "code",
   "execution_count": null,
   "id": "4f830c9b",
   "metadata": {},
   "outputs": [],
   "source": []
  },
  {
   "cell_type": "markdown",
   "id": "61ddda34",
   "metadata": {},
   "source": [
    "5. Create a Python class MyRange that implements an iterator that returns numbers from a given start to a given end with a given step size. The class should have a constructor that takes start, stop, and step as parameters."
   ]
  },
  {
   "cell_type": "code",
   "execution_count": null,
   "id": "5aaa114f",
   "metadata": {},
   "outputs": [],
   "source": []
  },
  {
   "cell_type": "markdown",
   "id": "c98d93d4",
   "metadata": {},
   "source": [
    "6. Write a Python program that uses a custom iterator to iterate over a dictionary in reverse order. Define a class ReverseDict that takes a dictionary as input and generates key-value pairs in reverse order."
   ]
  },
  {
   "cell_type": "code",
   "execution_count": null,
   "id": "abb26515",
   "metadata": {},
   "outputs": [],
   "source": []
  },
  {
   "cell_type": "markdown",
   "id": "ad366061",
   "metadata": {},
   "source": [
    "7. Implement a Python class Primes that generates an iterator for prime numbers up to a given limit n. The class should have a constructor that takes n as a parameter."
   ]
  },
  {
   "cell_type": "code",
   "execution_count": null,
   "id": "710de409",
   "metadata": {},
   "outputs": [],
   "source": []
  },
  {
   "cell_type": "markdown",
   "id": "fde1ad8c",
   "metadata": {},
   "source": [
    "8. Write a Python program that uses a custom iterator to iterate over a string in reverse order. Define a class ReverseString that takes a string as input and generates characters in reverse order."
   ]
  },
  {
   "cell_type": "code",
   "execution_count": null,
   "id": "ee20430b",
   "metadata": {},
   "outputs": [],
   "source": []
  },
  {
   "cell_type": "markdown",
   "id": "dc5a332b",
   "metadata": {},
   "source": [
    "9. Create a Python class MyEnumerate that implements an iterator that returns tuples containing the index and value of each element in a given list. The class should have a constructor that takes a list as a parameter."
   ]
  },
  {
   "cell_type": "code",
   "execution_count": null,
   "id": "36e58fb3",
   "metadata": {},
   "outputs": [],
   "source": []
  },
  {
   "cell_type": "markdown",
   "id": "7080fcc5",
   "metadata": {},
   "source": [
    "10. Implement a Python class Palindrome that generates an iterator for palindrome numbers up to a given limit n. The class should have a constructor that takes n as a parameter. A palindrome number is a number that remains the same when its digits are reversed."
   ]
  },
  {
   "cell_type": "code",
   "execution_count": null,
   "id": "1b0a2ac2",
   "metadata": {},
   "outputs": [],
   "source": []
  },
  {
   "cell_type": "markdown",
   "id": "fa1b8d08",
   "metadata": {},
   "source": [
    "1. Write a Python function that accepts a NumPy array and returns the sum of all the even numbers in the array."
   ]
  },
  {
   "cell_type": "code",
   "execution_count": null,
   "id": "c3f0ce8a",
   "metadata": {},
   "outputs": [],
   "source": []
  },
  {
   "cell_type": "markdown",
   "id": "47742a74",
   "metadata": {},
   "source": [
    "2. Write a Python function that accepts two NumPy arrays and returns their dot product."
   ]
  },
  {
   "cell_type": "code",
   "execution_count": null,
   "id": "6728446c",
   "metadata": {},
   "outputs": [],
   "source": []
  },
  {
   "cell_type": "markdown",
   "id": "2de2db65",
   "metadata": {},
   "source": [
    "3. Write a Python function that accepts a NumPy array and returns a new array with all the elements sorted in descending order."
   ]
  },
  {
   "cell_type": "code",
   "execution_count": null,
   "id": "49f6ab7c",
   "metadata": {},
   "outputs": [],
   "source": []
  },
  {
   "cell_type": "markdown",
   "id": "2c4fc45b",
   "metadata": {},
   "source": [
    "4. Write a Python function that accepts a NumPy array and returns the mean of the elements in the array."
   ]
  },
  {
   "cell_type": "code",
   "execution_count": null,
   "id": "edf9f6d8",
   "metadata": {},
   "outputs": [],
   "source": []
  },
  {
   "cell_type": "markdown",
   "id": "c1e88a45",
   "metadata": {},
   "source": [
    "5. Write a Python function that accepts a NumPy array and returns the standard deviation of the elements in the array."
   ]
  },
  {
   "cell_type": "code",
   "execution_count": null,
   "id": "3525fcac",
   "metadata": {},
   "outputs": [],
   "source": []
  },
  {
   "cell_type": "markdown",
   "id": "489f1a26",
   "metadata": {},
   "source": [
    "6. Write a Python function that accepts a NumPy array and returns the maximum value and its index in the array."
   ]
  },
  {
   "cell_type": "code",
   "execution_count": null,
   "id": "c7d78ffa",
   "metadata": {},
   "outputs": [],
   "source": []
  },
  {
   "cell_type": "markdown",
   "id": "1f1040fd",
   "metadata": {},
   "source": [
    "7. Write a Python function that accepts a NumPy array and returns a new array with only the unique elements in the original array."
   ]
  },
  {
   "cell_type": "code",
   "execution_count": null,
   "id": "e80f753d",
   "metadata": {},
   "outputs": [],
   "source": []
  },
  {
   "cell_type": "markdown",
   "id": "01574231",
   "metadata": {},
   "source": [
    "8. Write a Python function that accepts a NumPy array and returns a new array with all the elements raised to the power of two."
   ]
  },
  {
   "cell_type": "code",
   "execution_count": null,
   "id": "e14b8a05",
   "metadata": {},
   "outputs": [],
   "source": []
  },
  {
   "cell_type": "markdown",
   "id": "a9c05d3a",
   "metadata": {},
   "source": [
    "9. Write a Python function that accepts a NumPy array and returns a new array with only the elements that are greater than 5."
   ]
  },
  {
   "cell_type": "code",
   "execution_count": null,
   "id": "b36246e5",
   "metadata": {},
   "outputs": [],
   "source": []
  },
  {
   "cell_type": "markdown",
   "id": "c8bbcf7d",
   "metadata": {},
   "source": [
    "10. Write a Python function that accepts a NumPy array and returns a new array with the cumulative sum of the elements."
   ]
  },
  {
   "cell_type": "code",
   "execution_count": null,
   "id": "342ac3b4",
   "metadata": {},
   "outputs": [],
   "source": []
  },
  {
   "cell_type": "markdown",
   "id": "de5d99f0",
   "metadata": {},
   "source": [
    "\"#Series of sales amount with inconsistent data"
   ]
  },
  {
   "cell_type": "code",
   "execution_count": null,
   "id": "1abcbeed",
   "metadata": {},
   "outputs": [],
   "source": []
  },
  {
   "cell_type": "markdown",
   "id": "9ebb4544",
   "metadata": {},
   "source": [
    "[1000, 2000, 3000, 4000, '5000', '6000a', '7000b', '8000', '9000c', np.nan]1.      Use describe method and info method\""
   ]
  },
  {
   "cell_type": "code",
   "execution_count": null,
   "id": "473b1879",
   "metadata": {},
   "outputs": [],
   "source": []
  },
  {
   "cell_type": "markdown",
   "id": "cda6d7f2",
   "metadata": {},
   "source": [
    "\"#Series of sales amount with inconsistent data"
   ]
  },
  {
   "cell_type": "code",
   "execution_count": null,
   "id": "92147083",
   "metadata": {},
   "outputs": [],
   "source": []
  },
  {
   "cell_type": "markdown",
   "id": "b8453ad8",
   "metadata": {},
   "source": [
    "[1000, 2000, 3000, 4000, '5000', '6000a', '7000b', '8000', '9000c', np.nan]2.      Find duplicate value\""
   ]
  },
  {
   "cell_type": "code",
   "execution_count": null,
   "id": "ed965711",
   "metadata": {},
   "outputs": [],
   "source": []
  },
  {
   "cell_type": "markdown",
   "id": "c59f88ba",
   "metadata": {},
   "source": [
    "\"#Series of sales amount with inconsistent data"
   ]
  },
  {
   "cell_type": "code",
   "execution_count": null,
   "id": "3d215def",
   "metadata": {},
   "outputs": [],
   "source": []
  },
  {
   "cell_type": "markdown",
   "id": "ecc2441f",
   "metadata": {},
   "source": [
    "[1000, 2000, 3000, 4000, '5000', '6000a', '7000b', '8000', '9000c', np.nan]3.      Removing invalid values which are not numeric\""
   ]
  },
  {
   "cell_type": "code",
   "execution_count": null,
   "id": "131461e6",
   "metadata": {},
   "outputs": [],
   "source": []
  },
  {
   "cell_type": "markdown",
   "id": "dabf00d3",
   "metadata": {},
   "source": [
    "\"#Series of sales amount with inconsistent data"
   ]
  },
  {
   "cell_type": "code",
   "execution_count": null,
   "id": "c09a754a",
   "metadata": {},
   "outputs": [],
   "source": []
  },
  {
   "cell_type": "markdown",
   "id": "608cb782",
   "metadata": {},
   "source": [
    "[1000, 2000, 3000, 4000, '5000', '6000a', '7000b', '8000', '9000c', np.nan]4.      Handle missing values\""
   ]
  },
  {
   "cell_type": "code",
   "execution_count": null,
   "id": "935d514f",
   "metadata": {},
   "outputs": [],
   "source": []
  },
  {
   "cell_type": "markdown",
   "id": "28a5c4a3",
   "metadata": {},
   "source": [
    "\"#Series of sales amount with inconsistent data"
   ]
  },
  {
   "cell_type": "code",
   "execution_count": null,
   "id": "a69f2179",
   "metadata": {},
   "outputs": [],
   "source": []
  },
  {
   "cell_type": "markdown",
   "id": "813e8bd3",
   "metadata": {},
   "source": [
    "[1000, 2000, 3000, 4000, '5000', '6000a', '7000b', '8000', '9000c', np.nan]5.      Convert into int\""
   ]
  },
  {
   "cell_type": "code",
   "execution_count": null,
   "id": "45945b82",
   "metadata": {},
   "outputs": [],
   "source": []
  },
  {
   "cell_type": "markdown",
   "id": "f3ee65c2",
   "metadata": {},
   "source": [
    "\"#Series of sales amount with inconsistent data"
   ]
  },
  {
   "cell_type": "code",
   "execution_count": null,
   "id": "5e0e343e",
   "metadata": {},
   "outputs": [],
   "source": []
  },
  {
   "cell_type": "markdown",
   "id": "09c29005",
   "metadata": {},
   "source": [
    "[1000, 2000, 3000, 4000, '5000', '6000a', '7000b', '8000', '9000c', np.nan]6.      Print the cleaned Series\""
   ]
  },
  {
   "cell_type": "code",
   "execution_count": null,
   "id": "80aca957",
   "metadata": {},
   "outputs": [],
   "source": []
  },
  {
   "cell_type": "markdown",
   "id": "f1120671",
   "metadata": {},
   "source": [
    "\"#Series of sales amount with inconsistent data"
   ]
  },
  {
   "cell_type": "code",
   "execution_count": null,
   "id": "5715f8dc",
   "metadata": {},
   "outputs": [],
   "source": []
  },
  {
   "cell_type": "markdown",
   "id": "353cd8fe",
   "metadata": {},
   "source": [
    "[1000, 2000, 3000, 4000, '5000', '6000a', '7000b', '8000', '9000c', np.nan]7.      Find the amount greater than 5000\""
   ]
  },
  {
   "cell_type": "code",
   "execution_count": null,
   "id": "00d741c2",
   "metadata": {},
   "outputs": [],
   "source": []
  },
  {
   "cell_type": "markdown",
   "id": "bbc33a00",
   "metadata": {},
   "source": [
    "\"#Series of sales amount with inconsistent data"
   ]
  },
  {
   "cell_type": "code",
   "execution_count": null,
   "id": "6d54b4ac",
   "metadata": {},
   "outputs": [],
   "source": []
  },
  {
   "cell_type": "markdown",
   "id": "06e0e653",
   "metadata": {},
   "source": [
    "[1000, 2000, 3000, 4000, '5000', '6000a', '7000b', '8000', '9000c', np.nan]8.      Plot a bar graph\""
   ]
  },
  {
   "cell_type": "code",
   "execution_count": null,
   "id": "e0a6f893",
   "metadata": {},
   "outputs": [],
   "source": []
  }
 ],
 "metadata": {
  "kernelspec": {
   "display_name": "Python 3 (ipykernel)",
   "language": "python",
   "name": "python3"
  },
  "language_info": {
   "codemirror_mode": {
    "name": "ipython",
    "version": 3
   },
   "file_extension": ".py",
   "mimetype": "text/x-python",
   "name": "python",
   "nbconvert_exporter": "python",
   "pygments_lexer": "ipython3",
   "version": "3.10.9"
  }
 },
 "nbformat": 4,
 "nbformat_minor": 5
}
