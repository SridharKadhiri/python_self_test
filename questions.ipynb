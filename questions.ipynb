{
 "cells": [
  {
   "cell_type": "markdown",
   "id": "9f34656b",
   "metadata": {},
   "source": [
    "1. How do you create an empty list in Python?"
   ]
  },
  {
   "cell_type": "code",
   "execution_count": null,
   "id": "45a3bfbd",
   "metadata": {},
   "outputs": [],
   "source": []
  },
  {
   "cell_type": "markdown",
   "id": "b223d527",
   "metadata": {},
   "source": [
    "2. How do you create a list with initial values in Python?"
   ]
  },
  {
   "cell_type": "code",
   "execution_count": null,
   "id": "67cb9969",
   "metadata": {},
   "outputs": [],
   "source": []
  },
  {
   "cell_type": "markdown",
   "id": "55f1a88c",
   "metadata": {},
   "source": [
    "3. How do you access the first element of a list in Python?"
   ]
  },
  {
   "cell_type": "code",
   "execution_count": null,
   "id": "8ec02945",
   "metadata": {},
   "outputs": [],
   "source": []
  },
  {
   "cell_type": "markdown",
   "id": "6788db48",
   "metadata": {},
   "source": [
    "4. How do you access the last element of a list in Python?"
   ]
  },
  {
   "cell_type": "code",
   "execution_count": null,
   "id": "d46537d4",
   "metadata": {},
   "outputs": [],
   "source": []
  },
  {
   "cell_type": "markdown",
   "id": "a7e4da32",
   "metadata": {},
   "source": [
    "5. How do you access a specific element of a list in Python?"
   ]
  },
  {
   "cell_type": "code",
   "execution_count": null,
   "id": "e5545924",
   "metadata": {},
   "outputs": [],
   "source": []
  },
  {
   "cell_type": "markdown",
   "id": "4b4c5444",
   "metadata": {},
   "source": [
    "6. How do you append an element to the end of a list in Python?"
   ]
  },
  {
   "cell_type": "code",
   "execution_count": null,
   "id": "d85bc712",
   "metadata": {},
   "outputs": [],
   "source": []
  },
  {
   "cell_type": "markdown",
   "id": "de2fe87d",
   "metadata": {},
   "source": [
    "7. How do you insert an element at a specific index in a list in Python?"
   ]
  },
  {
   "cell_type": "code",
   "execution_count": null,
   "id": "97f483e7",
   "metadata": {},
   "outputs": [],
   "source": []
  },
  {
   "cell_type": "markdown",
   "id": "6c683c8a",
   "metadata": {},
   "source": [
    "8. How do you remove an element from a list in Python?"
   ]
  },
  {
   "cell_type": "code",
   "execution_count": null,
   "id": "15b60320",
   "metadata": {},
   "outputs": [],
   "source": []
  },
  {
   "cell_type": "markdown",
   "id": "ef2b88a6",
   "metadata": {},
   "source": [
    "9. How do you remove the last element from a list in Python?"
   ]
  },
  {
   "cell_type": "code",
   "execution_count": null,
   "id": "c5f88a96",
   "metadata": {},
   "outputs": [],
   "source": []
  },
  {
   "cell_type": "markdown",
   "id": "4660d02d",
   "metadata": {},
   "source": [
    "10. How do you remove an element at a specific index from a list in Python?"
   ]
  },
  {
   "cell_type": "code",
   "execution_count": null,
   "id": "09989b08",
   "metadata": {},
   "outputs": [],
   "source": []
  },
  {
   "cell_type": "markdown",
   "id": "c9e077a8",
   "metadata": {},
   "source": [
    "11. How do you check if an element is in a list in Python?"
   ]
  },
  {
   "cell_type": "code",
   "execution_count": null,
   "id": "8999ad14",
   "metadata": {},
   "outputs": [],
   "source": []
  },
  {
   "cell_type": "markdown",
   "id": "078a4d0d",
   "metadata": {},
   "source": [
    "12. How do you count the number of occurrences of an element in a list in Python?"
   ]
  },
  {
   "cell_type": "code",
   "execution_count": null,
   "id": "c56fd13c",
   "metadata": {},
   "outputs": [],
   "source": []
  },
  {
   "cell_type": "markdown",
   "id": "89297546",
   "metadata": {},
   "source": [
    "13. How do you find the index of the first occurrence of an element in a list in Python?"
   ]
  },
  {
   "cell_type": "code",
   "execution_count": null,
   "id": "de1c3c19",
   "metadata": {},
   "outputs": [],
   "source": []
  },
  {
   "cell_type": "markdown",
   "id": "8c3b0d60",
   "metadata": {},
   "source": [
    "14. How do you find the index of the last occurrence of an element in a list in Python?"
   ]
  },
  {
   "cell_type": "code",
   "execution_count": null,
   "id": "a7cc6902",
   "metadata": {},
   "outputs": [],
   "source": []
  },
  {
   "cell_type": "markdown",
   "id": "aae1f684",
   "metadata": {},
   "source": [
    "15. How do you reverse the order of a list in Python?"
   ]
  },
  {
   "cell_type": "code",
   "execution_count": null,
   "id": "63660a89",
   "metadata": {},
   "outputs": [],
   "source": []
  },
  {
   "cell_type": "markdown",
   "id": "9486a1b7",
   "metadata": {},
   "source": [
    "16. How do you sort a list in Python?"
   ]
  },
  {
   "cell_type": "code",
   "execution_count": null,
   "id": "19974660",
   "metadata": {},
   "outputs": [],
   "source": []
  },
  {
   "cell_type": "markdown",
   "id": "79d36eb4",
   "metadata": {},
   "source": [
    "17. How do you sort a list in descending order in Python?"
   ]
  },
  {
   "cell_type": "code",
   "execution_count": null,
   "id": "2205b834",
   "metadata": {},
   "outputs": [],
   "source": []
  },
  {
   "cell_type": "markdown",
   "id": "7be1001d",
   "metadata": {},
   "source": [
    "18. How do you join two lists in Python?"
   ]
  },
  {
   "cell_type": "code",
   "execution_count": null,
   "id": "b05286bc",
   "metadata": {},
   "outputs": [],
   "source": []
  },
  {
   "cell_type": "markdown",
   "id": "5e29e267",
   "metadata": {},
   "source": [
    "19. How do you copy a list in Python?"
   ]
  },
  {
   "cell_type": "code",
   "execution_count": null,
   "id": "e8a728dc",
   "metadata": {},
   "outputs": [],
   "source": []
  },
  {
   "cell_type": "markdown",
   "id": "480360dc",
   "metadata": {},
   "source": [
    "20. How do you check if two lists are equal in Python?"
   ]
  },
  {
   "cell_type": "code",
   "execution_count": null,
   "id": "c11f071d",
   "metadata": {},
   "outputs": [],
   "source": []
  },
  {
   "cell_type": "markdown",
   "id": "f4ef5d05",
   "metadata": {},
   "source": [
    "21. How do you iterate over a list in Python?"
   ]
  },
  {
   "cell_type": "code",
   "execution_count": null,
   "id": "5d5dde1f",
   "metadata": {},
   "outputs": [],
   "source": []
  },
  {
   "cell_type": "markdown",
   "id": "cd56c3f4",
   "metadata": {},
   "source": [
    "22. How do you iterate over a list in reverse order in Python?"
   ]
  },
  {
   "cell_type": "code",
   "execution_count": null,
   "id": "1460e6a2",
   "metadata": {},
   "outputs": [],
   "source": []
  },
  {
   "cell_type": "markdown",
   "id": "74197a63",
   "metadata": {},
   "source": [
    "23. How do you create a sublist from a list in Python?"
   ]
  },
  {
   "cell_type": "code",
   "execution_count": null,
   "id": "b8562b75",
   "metadata": {},
   "outputs": [],
   "source": []
  },
  {
   "cell_type": "markdown",
   "id": "12158516",
   "metadata": {},
   "source": [
    "24. How do you concatenate a sublist to a list in Python?"
   ]
  },
  {
   "cell_type": "code",
   "execution_count": null,
   "id": "0707c474",
   "metadata": {},
   "outputs": [],
   "source": []
  },
  {
   "cell_type": "markdown",
   "id": "fb1be872",
   "metadata": {},
   "source": [
    "25. How do you find the maximum value in a list in Python?"
   ]
  },
  {
   "cell_type": "code",
   "execution_count": null,
   "id": "8ebe1ba9",
   "metadata": {},
   "outputs": [],
   "source": []
  },
  {
   "cell_type": "markdown",
   "id": "691d2563",
   "metadata": {},
   "source": [
    "26. How do you find the minimum value in a list in Python?"
   ]
  },
  {
   "cell_type": "code",
   "execution_count": null,
   "id": "8eac124c",
   "metadata": {},
   "outputs": [],
   "source": []
  },
  {
   "cell_type": "markdown",
   "id": "0566efd0",
   "metadata": {},
   "source": [
    "27. How do you find the sum of a list in Python?"
   ]
  },
  {
   "cell_type": "code",
   "execution_count": null,
   "id": "f41c6af5",
   "metadata": {},
   "outputs": [],
   "source": []
  },
  {
   "cell_type": "markdown",
   "id": "a6dcb78f",
   "metadata": {},
   "source": [
    "28. How do you find the average of a list in Python?"
   ]
  },
  {
   "cell_type": "code",
   "execution_count": null,
   "id": "8a4db1fc",
   "metadata": {},
   "outputs": [],
   "source": []
  },
  {
   "cell_type": "markdown",
   "id": "a6028a96",
   "metadata": {},
   "source": [
    "29. How do you remove duplicates from a list in Python?"
   ]
  },
  {
   "cell_type": "code",
   "execution_count": null,
   "id": "a5d9354d",
   "metadata": {},
   "outputs": [],
   "source": []
  },
  {
   "cell_type": "markdown",
   "id": "caea56db",
   "metadata": {},
   "source": [
    "30. How do you create a list of unique elements from two lists in Python?"
   ]
  },
  {
   "cell_type": "code",
   "execution_count": null,
   "id": "f0f017a5",
   "metadata": {},
   "outputs": [],
   "source": []
  },
  {
   "cell_type": "markdown",
   "id": "a09a41c0",
   "metadata": {},
   "source": [
    "31. How do you create a list of unique elements from multiple lists in Python?"
   ]
  },
  {
   "cell_type": "code",
   "execution_count": null,
   "id": "bbaa74dd",
   "metadata": {},
   "outputs": [],
   "source": []
  },
  {
   "cell_type": "markdown",
   "id": "a88a1669",
   "metadata": {},
   "source": [
    "32. How do you create a list of all combinations of elements from two lists in Python?"
   ]
  },
  {
   "cell_type": "code",
   "execution_count": null,
   "id": "5ca02b40",
   "metadata": {},
   "outputs": [],
   "source": []
  },
  {
   "cell_type": "markdown",
   "id": "819d3a58",
   "metadata": {},
   "source": [
    "33. How do you create a list of all permutations of elements from a list in Python?"
   ]
  },
  {
   "cell_type": "code",
   "execution_count": null,
   "id": "7a897e25",
   "metadata": {},
   "outputs": [],
   "source": []
  },
  {
   "cell_type": "markdown",
   "id": "bada4300",
   "metadata": {},
   "source": [
    "34. How do you find the intersection of two lists in Python?"
   ]
  },
  {
   "cell_type": "code",
   "execution_count": null,
   "id": "18246bd8",
   "metadata": {},
   "outputs": [],
   "source": []
  },
  {
   "cell_type": "markdown",
   "id": "ec9f33f4",
   "metadata": {},
   "source": [
    "35. How do you find the union of two lists in Python?"
   ]
  },
  {
   "cell_type": "code",
   "execution_count": null,
   "id": "5d5674d3",
   "metadata": {},
   "outputs": [],
   "source": []
  },
  {
   "cell_type": "markdown",
   "id": "21d93476",
   "metadata": {},
   "source": [
    "36. How do you find the difference between two lists in Python?"
   ]
  },
  {
   "cell_type": "code",
   "execution_count": null,
   "id": "3a5df91a",
   "metadata": {},
   "outputs": [],
   "source": []
  },
  {
   "cell_type": "markdown",
   "id": "9b486c04",
   "metadata": {},
   "source": [
    "37. How do you find the symmetric difference between two lists in Python?"
   ]
  },
  {
   "cell_type": "code",
   "execution_count": null,
   "id": "3efd858a",
   "metadata": {},
   "outputs": [],
   "source": []
  },
  {
   "cell_type": "markdown",
   "id": "d1646eba",
   "metadata": {},
   "source": [
    "38. How do you check if a list is a subset of another list in Python?"
   ]
  },
  {
   "cell_type": "code",
   "execution_count": null,
   "id": "dc5751d0",
   "metadata": {},
   "outputs": [],
   "source": []
  },
  {
   "cell_type": "markdown",
   "id": "e67b528f",
   "metadata": {},
   "source": [
    "39. How do you check if a list is a superset of another list in Python?"
   ]
  },
  {
   "cell_type": "code",
   "execution_count": null,
   "id": "01f54ee8",
   "metadata": {},
   "outputs": [],
   "source": []
  },
  {
   "cell_type": "markdown",
   "id": "bd92aa52",
   "metadata": {},
   "source": [
    "40. How do you check if two lists have any common elements in Python?"
   ]
  },
  {
   "cell_type": "code",
   "execution_count": null,
   "id": "662a1c38",
   "metadata": {},
   "outputs": [],
   "source": []
  },
  {
   "cell_type": "markdown",
   "id": "f606abf6",
   "metadata": {},
   "source": [
    "41. How do you flatten a nested list in Python?"
   ]
  },
  {
   "cell_type": "code",
   "execution_count": null,
   "id": "31ef6ec4",
   "metadata": {},
   "outputs": [],
   "source": []
  },
  {
   "cell_type": "markdown",
   "id": "b94a7775",
   "metadata": {},
   "source": [
    "42. How do you group elements in a list by a certain criterion in Python?"
   ]
  },
  {
   "cell_type": "code",
   "execution_count": null,
   "id": "94cc2cb0",
   "metadata": {},
   "outputs": [],
   "source": []
  },
  {
   "cell_type": "markdown",
   "id": "d5e3c853",
   "metadata": {},
   "source": [
    "43. How do you partition a list into two parts based on a condition in Python?"
   ]
  },
  {
   "cell_type": "code",
   "execution_count": null,
   "id": "c7ee006a",
   "metadata": {},
   "outputs": [],
   "source": []
  },
  {
   "cell_type": "markdown",
   "id": "aeb75c4d",
   "metadata": {},
   "source": [
    "44. How do you randomly shuffle the elements of a list in Python?"
   ]
  },
  {
   "cell_type": "code",
   "execution_count": null,
   "id": "a58a97a5",
   "metadata": {},
   "outputs": [],
   "source": []
  },
  {
   "cell_type": "markdown",
   "id": "f6f4ca75",
   "metadata": {},
   "source": [
    "45. How do you find the second largest element in a list in Python?"
   ]
  },
  {
   "cell_type": "code",
   "execution_count": null,
   "id": "00813892",
   "metadata": {},
   "outputs": [],
   "source": []
  },
  {
   "cell_type": "markdown",
   "id": "9b4c96c4",
   "metadata": {},
   "source": [
    "46. How do you find the second smallest element in a list in Python?"
   ]
  },
  {
   "cell_type": "code",
   "execution_count": null,
   "id": "f8752cc4",
   "metadata": {},
   "outputs": [],
   "source": []
  },
  {
   "cell_type": "markdown",
   "id": "7fb5e4c5",
   "metadata": {},
   "source": [
    "47. How do you find the kth largest element in a list in Python?"
   ]
  },
  {
   "cell_type": "code",
   "execution_count": null,
   "id": "e3391b5c",
   "metadata": {},
   "outputs": [],
   "source": []
  },
  {
   "cell_type": "markdown",
   "id": "bbe71ed2",
   "metadata": {},
   "source": [
    "48. How do you find the kth smallest element in a list in Python?Bottom of Form"
   ]
  },
  {
   "cell_type": "code",
   "execution_count": null,
   "id": "6ee79205",
   "metadata": {},
   "outputs": [],
   "source": []
  },
  {
   "cell_type": "markdown",
   "id": "2f32c427",
   "metadata": {},
   "source": [
    "1. Create a tuple with three elements."
   ]
  },
  {
   "cell_type": "code",
   "execution_count": null,
   "id": "71c2090b",
   "metadata": {},
   "outputs": [],
   "source": []
  },
  {
   "cell_type": "markdown",
   "id": "a32b5d61",
   "metadata": {},
   "source": [
    "2. Print the second element of the tuple."
   ]
  },
  {
   "cell_type": "code",
   "execution_count": null,
   "id": "a6cea147",
   "metadata": {},
   "outputs": [],
   "source": []
  },
  {
   "cell_type": "markdown",
   "id": "a0417fe6",
   "metadata": {},
   "source": [
    "3. Create a tuple of integers and convert it to a string. Tup = (1,2,3) à (‘1’, ‘2’, ‘3’)"
   ]
  },
  {
   "cell_type": "code",
   "execution_count": null,
   "id": "d47304b5",
   "metadata": {},
   "outputs": [],
   "source": []
  },
  {
   "cell_type": "markdown",
   "id": "f22c11c9",
   "metadata": {},
   "source": [
    "4. Concatenate two tuples."
   ]
  },
  {
   "cell_type": "code",
   "execution_count": null,
   "id": "244a1ae1",
   "metadata": {},
   "outputs": [],
   "source": []
  },
  {
   "cell_type": "markdown",
   "id": "3fd9fd2c",
   "metadata": {},
   "source": [
    "5. Find the length of a tuple."
   ]
  },
  {
   "cell_type": "code",
   "execution_count": null,
   "id": "efad96ed",
   "metadata": {},
   "outputs": [],
   "source": []
  },
  {
   "cell_type": "markdown",
   "id": "bdc19af1",
   "metadata": {},
   "source": [
    "6. Check if an element exists in a tuple."
   ]
  },
  {
   "cell_type": "code",
   "execution_count": null,
   "id": "a3478cdc",
   "metadata": {},
   "outputs": [],
   "source": []
  },
  {
   "cell_type": "markdown",
   "id": "743dd64f",
   "metadata": {},
   "source": [
    "7. Iterate over a tuple and print each element."
   ]
  },
  {
   "cell_type": "code",
   "execution_count": null,
   "id": "fefc23ef",
   "metadata": {},
   "outputs": [],
   "source": []
  },
  {
   "cell_type": "markdown",
   "id": "2c965242",
   "metadata": {},
   "source": [
    "8. Create a tuple with one element and print its type."
   ]
  },
  {
   "cell_type": "code",
   "execution_count": null,
   "id": "1eefe994",
   "metadata": {},
   "outputs": [],
   "source": []
  },
  {
   "cell_type": "markdown",
   "id": "a7b95995",
   "metadata": {},
   "source": [
    "9. Create a tuple with repeated elements."
   ]
  },
  {
   "cell_type": "code",
   "execution_count": null,
   "id": "72721cfe",
   "metadata": {},
   "outputs": [],
   "source": []
  },
  {
   "cell_type": "markdown",
   "id": "17af68f5",
   "metadata": {},
   "source": [
    "10. Unpack a tuple into variables."
   ]
  },
  {
   "cell_type": "code",
   "execution_count": null,
   "id": "477a19ff",
   "metadata": {},
   "outputs": [],
   "source": []
  },
  {
   "cell_type": "markdown",
   "id": "edebd14a",
   "metadata": {},
   "source": [
    "11. Create a nested tuple."
   ]
  },
  {
   "cell_type": "code",
   "execution_count": null,
   "id": "f8c12769",
   "metadata": {},
   "outputs": [],
   "source": []
  },
  {
   "cell_type": "markdown",
   "id": "482a03be",
   "metadata": {},
   "source": [
    "12. Access an element of a nested tuple."
   ]
  },
  {
   "cell_type": "code",
   "execution_count": null,
   "id": "aae4e277",
   "metadata": {},
   "outputs": [],
   "source": []
  },
  {
   "cell_type": "markdown",
   "id": "3dfb33ab",
   "metadata": {},
   "source": [
    "13. Create a tuple with mixed data types."
   ]
  },
  {
   "cell_type": "code",
   "execution_count": null,
   "id": "dabbec9e",
   "metadata": {},
   "outputs": [],
   "source": []
  },
  {
   "cell_type": "markdown",
   "id": "b9b9ef4b",
   "metadata": {},
   "source": [
    "14. Check the data type of each element in a tuple."
   ]
  },
  {
   "cell_type": "code",
   "execution_count": null,
   "id": "c681da0c",
   "metadata": {},
   "outputs": [],
   "source": []
  },
  {
   "cell_type": "markdown",
   "id": "c5b481f9",
   "metadata": {},
   "source": [
    "15. Create a tuple with a single element."
   ]
  },
  {
   "cell_type": "code",
   "execution_count": null,
   "id": "0a9bb2e5",
   "metadata": {},
   "outputs": [],
   "source": []
  },
  {
   "cell_type": "markdown",
   "id": "13ef68c4",
   "metadata": {},
   "source": [
    "16. Compare two tuples."
   ]
  },
  {
   "cell_type": "code",
   "execution_count": null,
   "id": "109e941c",
   "metadata": {},
   "outputs": [],
   "source": []
  },
  {
   "cell_type": "markdown",
   "id": "682910ff",
   "metadata": {},
   "source": [
    "17. Return the largest element in a tuple."
   ]
  },
  {
   "cell_type": "code",
   "execution_count": null,
   "id": "2aa1e0d8",
   "metadata": {},
   "outputs": [],
   "source": []
  },
  {
   "cell_type": "markdown",
   "id": "ba85aa99",
   "metadata": {},
   "source": [
    "18. Return the smallest element in a tuple."
   ]
  },
  {
   "cell_type": "code",
   "execution_count": null,
   "id": "d260b096",
   "metadata": {},
   "outputs": [],
   "source": []
  },
  {
   "cell_type": "markdown",
   "id": "47c291b1",
   "metadata": {},
   "source": [
    "19. Remove an element from a tuple."
   ]
  },
  {
   "cell_type": "code",
   "execution_count": null,
   "id": "82afad2e",
   "metadata": {},
   "outputs": [],
   "source": []
  },
  {
   "cell_type": "markdown",
   "id": "9e13d12d",
   "metadata": {},
   "source": [
    "20. Reverse a tuple."
   ]
  },
  {
   "cell_type": "code",
   "execution_count": null,
   "id": "76c29497",
   "metadata": {},
   "outputs": [],
   "source": []
  },
  {
   "cell_type": "markdown",
   "id": "73088439",
   "metadata": {},
   "source": [
    "21. Count the number of occurrences of an element in a tuple."
   ]
  },
  {
   "cell_type": "code",
   "execution_count": null,
   "id": "7a3c0784",
   "metadata": {},
   "outputs": [],
   "source": []
  },
  {
   "cell_type": "markdown",
   "id": "c0c6e741",
   "metadata": {},
   "source": [
    "22. Check if all elements in a tuple are equal."
   ]
  },
  {
   "cell_type": "code",
   "execution_count": null,
   "id": "25c3770c",
   "metadata": {},
   "outputs": [],
   "source": []
  },
  {
   "cell_type": "markdown",
   "id": "2a03b760",
   "metadata": {},
   "source": [
    "23. Find the index of an element in a tuple."
   ]
  },
  {
   "cell_type": "code",
   "execution_count": null,
   "id": "d2ea0e58",
   "metadata": {},
   "outputs": [],
   "source": []
  },
  {
   "cell_type": "markdown",
   "id": "44e79d19",
   "metadata": {},
   "source": [
    "24. Create a tuple from a list."
   ]
  },
  {
   "cell_type": "code",
   "execution_count": null,
   "id": "8740ca7f",
   "metadata": {},
   "outputs": [],
   "source": []
  },
  {
   "cell_type": "markdown",
   "id": "ced8a650",
   "metadata": {},
   "source": [
    "25. Convert a tuple to a list."
   ]
  },
  {
   "cell_type": "code",
   "execution_count": null,
   "id": "b06a87bf",
   "metadata": {},
   "outputs": [],
   "source": []
  },
  {
   "cell_type": "markdown",
   "id": "2ca1a8a3",
   "metadata": {},
   "source": [
    "26. Convert a list of tuples to a list of strings."
   ]
  },
  {
   "cell_type": "code",
   "execution_count": null,
   "id": "3a01a4c8",
   "metadata": {},
   "outputs": [],
   "source": []
  },
  {
   "cell_type": "markdown",
   "id": "d2f6a07f",
   "metadata": {},
   "source": [
    "27. Concatenate a tuple and a list."
   ]
  },
  {
   "cell_type": "code",
   "execution_count": null,
   "id": "467f3622",
   "metadata": {},
   "outputs": [],
   "source": []
  },
  {
   "cell_type": "markdown",
   "id": "fd6425c6",
   "metadata": {},
   "source": [
    "28. Create a tuple from a string."
   ]
  },
  {
   "cell_type": "code",
   "execution_count": null,
   "id": "b7c7ff2a",
   "metadata": {},
   "outputs": [],
   "source": []
  },
  {
   "cell_type": "markdown",
   "id": "4330447a",
   "metadata": {},
   "source": [
    "29. Create a new tuple with only unique elements."
   ]
  },
  {
   "cell_type": "code",
   "execution_count": null,
   "id": "e4daeddc",
   "metadata": {},
   "outputs": [],
   "source": []
  },
  {
   "cell_type": "markdown",
   "id": "d62309c6",
   "metadata": {},
   "source": [
    "30. Sort a tuple of numbers in descending order."
   ]
  },
  {
   "cell_type": "code",
   "execution_count": null,
   "id": "575ad6ee",
   "metadata": {},
   "outputs": [],
   "source": []
  },
  {
   "cell_type": "markdown",
   "id": "abbd54c2",
   "metadata": {},
   "source": [
    "31. Create a tuple with elements in reverse order."
   ]
  },
  {
   "cell_type": "code",
   "execution_count": null,
   "id": "50dcc2e9",
   "metadata": {},
   "outputs": [],
   "source": []
  },
  {
   "cell_type": "markdown",
   "id": "b8e14afe",
   "metadata": {},
   "source": [
    "32. Swap the first and last elements of a tuple."
   ]
  },
  {
   "cell_type": "code",
   "execution_count": null,
   "id": "12aeb3df",
   "metadata": {},
   "outputs": [],
   "source": []
  },
  {
   "cell_type": "markdown",
   "id": "0a9bbe9b",
   "metadata": {},
   "source": [
    "33. Merge two sorted tuples into one sorted tuple."
   ]
  },
  {
   "cell_type": "code",
   "execution_count": null,
   "id": "41f607ee",
   "metadata": {},
   "outputs": [],
   "source": []
  },
  {
   "cell_type": "markdown",
   "id": "e8d975e7",
   "metadata": {},
   "source": [
    "34. Find the second largest element in a tuple."
   ]
  },
  {
   "cell_type": "code",
   "execution_count": null,
   "id": "0417a500",
   "metadata": {},
   "outputs": [],
   "source": []
  },
  {
   "cell_type": "markdown",
   "id": "0dd64942",
   "metadata": {},
   "source": [
    "35. Find the second smallest element in a tuple."
   ]
  },
  {
   "cell_type": "code",
   "execution_count": null,
   "id": "0c9ec954",
   "metadata": {},
   "outputs": [],
   "source": []
  },
  {
   "cell_type": "markdown",
   "id": "e107eb46",
   "metadata": {},
   "source": [
    "36. Find the sum of all elements in a tuple."
   ]
  },
  {
   "cell_type": "code",
   "execution_count": null,
   "id": "fdd188bf",
   "metadata": {},
   "outputs": [],
   "source": []
  },
  {
   "cell_type": "markdown",
   "id": "f6f5d9e4",
   "metadata": {},
   "source": [
    "37. Multiply all elements in a tuple."
   ]
  },
  {
   "cell_type": "code",
   "execution_count": null,
   "id": "2d77f160",
   "metadata": {},
   "outputs": [],
   "source": []
  },
  {
   "cell_type": "markdown",
   "id": "980b9b8a",
   "metadata": {},
   "source": [
    "38. Check if a tuple is empty."
   ]
  },
  {
   "cell_type": "code",
   "execution_count": null,
   "id": "6c34b688",
   "metadata": {},
   "outputs": [],
   "source": []
  },
  {
   "cell_type": "markdown",
   "id": "a56fe307",
   "metadata": {},
   "source": [
    "39. Check if a tuple is a subset of another tuple."
   ]
  },
  {
   "cell_type": "code",
   "execution_count": null,
   "id": "8bd1f6f3",
   "metadata": {},
   "outputs": [],
   "source": []
  },
  {
   "cell_type": "markdown",
   "id": "b46a6a43",
   "metadata": {},
   "source": [
    "40. Check if a tuple is a superset of another tuple."
   ]
  },
  {
   "cell_type": "code",
   "execution_count": null,
   "id": "65c20bac",
   "metadata": {},
   "outputs": [],
   "source": []
  },
  {
   "cell_type": "markdown",
   "id": "adcb56c0",
   "metadata": {},
   "source": [
    "41. Find the common elements between two tuples."
   ]
  },
  {
   "cell_type": "code",
   "execution_count": null,
   "id": "9110c0ce",
   "metadata": {},
   "outputs": [],
   "source": []
  },
  {
   "cell_type": "markdown",
   "id": "bc102b22",
   "metadata": {},
   "source": [
    "42. Find the uncommon elements between two tuples."
   ]
  },
  {
   "cell_type": "code",
   "execution_count": null,
   "id": "df679d7d",
   "metadata": {},
   "outputs": [],
   "source": []
  },
  {
   "cell_type": "markdown",
   "id": "008f7905",
   "metadata": {},
   "source": [
    "43. Check if two tuples have any common elements."
   ]
  },
  {
   "cell_type": "code",
   "execution_count": null,
   "id": "3b805bc6",
   "metadata": {},
   "outputs": [],
   "source": []
  },
  {
   "cell_type": "markdown",
   "id": "16300047",
   "metadata": {},
   "source": [
    "44. Find the difference between two tuples."
   ]
  },
  {
   "cell_type": "code",
   "execution_count": null,
   "id": "85d888ae",
   "metadata": {},
   "outputs": [],
   "source": []
  },
  {
   "cell_type": "markdown",
   "id": "7ea658a2",
   "metadata": {},
   "source": [
    "45. Find the intersection of two tuples."
   ]
  },
  {
   "cell_type": "code",
   "execution_count": null,
   "id": "b1b35978",
   "metadata": {},
   "outputs": [],
   "source": []
  },
  {
   "cell_type": "markdown",
   "id": "e46a2b87",
   "metadata": {},
   "source": [
    "46. Check if two tuples are disjoint."
   ]
  },
  {
   "cell_type": "code",
   "execution_count": null,
   "id": "d81bb430",
   "metadata": {},
   "outputs": [],
   "source": []
  },
  {
   "cell_type": "markdown",
   "id": "aa6d132d",
   "metadata": {},
   "source": [
    "47. Concatenate a tuple of tuples into a single tuple."
   ]
  },
  {
   "cell_type": "code",
   "execution_count": null,
   "id": "05c6ad57",
   "metadata": {},
   "outputs": [],
   "source": []
  },
  {
   "cell_type": "markdown",
   "id": "0e2b00a4",
   "metadata": {},
   "source": [
    "48. Convert a tuple of tuples to a list of lists."
   ]
  },
  {
   "cell_type": "code",
   "execution_count": null,
   "id": "e0e60d94",
   "metadata": {},
   "outputs": [],
   "source": []
  },
  {
   "cell_type": "markdown",
   "id": "a777e825",
   "metadata": {},
   "source": [
    "49. Find the union of two tuples. Check if two tuples are identical."
   ]
  },
  {
   "cell_type": "code",
   "execution_count": null,
   "id": "96fc1922",
   "metadata": {},
   "outputs": [],
   "source": []
  },
  {
   "cell_type": "markdown",
   "id": "2404cfdf",
   "metadata": {},
   "source": [
    "1. What is a set in Python? What is its purpose?"
   ]
  },
  {
   "cell_type": "code",
   "execution_count": null,
   "id": "516936c1",
   "metadata": {},
   "outputs": [],
   "source": []
  },
  {
   "cell_type": "markdown",
   "id": "7d8e14bf",
   "metadata": {},
   "source": [
    "2. What is the difference between a set and a list in Python?"
   ]
  },
  {
   "cell_type": "code",
   "execution_count": null,
   "id": "fbb92f2e",
   "metadata": {},
   "outputs": [],
   "source": []
  },
  {
   "cell_type": "markdown",
   "id": "29bf0112",
   "metadata": {},
   "source": [
    "3. Can a set contain duplicate values?"
   ]
  },
  {
   "cell_type": "code",
   "execution_count": null,
   "id": "51afe477",
   "metadata": {},
   "outputs": [],
   "source": []
  },
  {
   "cell_type": "markdown",
   "id": "1c2afb86",
   "metadata": {},
   "source": [
    "4. How do you create a set in Python?"
   ]
  },
  {
   "cell_type": "code",
   "execution_count": null,
   "id": "36b2fbec",
   "metadata": {},
   "outputs": [],
   "source": []
  },
  {
   "cell_type": "markdown",
   "id": "38c7a070",
   "metadata": {},
   "source": [
    "5. How do you add an element to a set in Python?"
   ]
  },
  {
   "cell_type": "code",
   "execution_count": null,
   "id": "5f57c8c2",
   "metadata": {},
   "outputs": [],
   "source": []
  },
  {
   "cell_type": "markdown",
   "id": "8eec91d6",
   "metadata": {},
   "source": [
    "6. How do you remove an element from a set in Python?"
   ]
  },
  {
   "cell_type": "code",
   "execution_count": null,
   "id": "16606fc4",
   "metadata": {},
   "outputs": [],
   "source": []
  },
  {
   "cell_type": "markdown",
   "id": "57c1da2f",
   "metadata": {},
   "source": [
    "7. What happens when you try to remove an element from a set that doesn't exist?"
   ]
  },
  {
   "cell_type": "code",
   "execution_count": null,
   "id": "05f167a2",
   "metadata": {},
   "outputs": [],
   "source": []
  },
  {
   "cell_type": "markdown",
   "id": "4f4bfb08",
   "metadata": {},
   "source": [
    "8. How do you check if an element is in a set in Python?"
   ]
  },
  {
   "cell_type": "code",
   "execution_count": null,
   "id": "9b924247",
   "metadata": {},
   "outputs": [],
   "source": []
  },
  {
   "cell_type": "markdown",
   "id": "29275bc2",
   "metadata": {},
   "source": [
    "9. How do you iterate over the elements in a set in Python?"
   ]
  },
  {
   "cell_type": "code",
   "execution_count": null,
   "id": "23b4cd4a",
   "metadata": {},
   "outputs": [],
   "source": []
  },
  {
   "cell_type": "markdown",
   "id": "0545bd8a",
   "metadata": {},
   "source": [
    "10. How do you find the length of a set in Python?"
   ]
  },
  {
   "cell_type": "code",
   "execution_count": null,
   "id": "7aaa4d07",
   "metadata": {},
   "outputs": [],
   "source": []
  },
  {
   "cell_type": "markdown",
   "id": "1771fd5e",
   "metadata": {},
   "source": [
    "11. What is the union of two sets in Python?"
   ]
  },
  {
   "cell_type": "code",
   "execution_count": null,
   "id": "faf19b0e",
   "metadata": {},
   "outputs": [],
   "source": []
  },
  {
   "cell_type": "markdown",
   "id": "bed20967",
   "metadata": {},
   "source": [
    "12. How do you find the union of multiple sets in Python?"
   ]
  },
  {
   "cell_type": "code",
   "execution_count": null,
   "id": "be438c21",
   "metadata": {},
   "outputs": [],
   "source": []
  },
  {
   "cell_type": "markdown",
   "id": "5032e2be",
   "metadata": {},
   "source": [
    "13. What is the intersection of two sets in Python?"
   ]
  },
  {
   "cell_type": "code",
   "execution_count": null,
   "id": "1acf3937",
   "metadata": {},
   "outputs": [],
   "source": []
  },
  {
   "cell_type": "markdown",
   "id": "e447bcab",
   "metadata": {},
   "source": [
    "14. How do you find the intersection of multiple sets in Python?"
   ]
  },
  {
   "cell_type": "code",
   "execution_count": null,
   "id": "473c28c1",
   "metadata": {},
   "outputs": [],
   "source": []
  },
  {
   "cell_type": "markdown",
   "id": "601bbd48",
   "metadata": {},
   "source": [
    "15. What is the difference between two sets in Python?"
   ]
  },
  {
   "cell_type": "code",
   "execution_count": null,
   "id": "2394fb5c",
   "metadata": {},
   "outputs": [],
   "source": []
  },
  {
   "cell_type": "markdown",
   "id": "228d4195",
   "metadata": {},
   "source": [
    "16. How do you find the difference between multiple sets in Python?"
   ]
  },
  {
   "cell_type": "code",
   "execution_count": null,
   "id": "297b661a",
   "metadata": {},
   "outputs": [],
   "source": []
  },
  {
   "cell_type": "markdown",
   "id": "cc1d5d68",
   "metadata": {},
   "source": [
    "17. What is the symmetric difference of two sets in Python?"
   ]
  },
  {
   "cell_type": "code",
   "execution_count": null,
   "id": "171a7d8e",
   "metadata": {},
   "outputs": [],
   "source": []
  },
  {
   "cell_type": "markdown",
   "id": "3c0b21e6",
   "metadata": {},
   "source": [
    "18. How do you find the symmetric difference of multiple sets in Python?"
   ]
  },
  {
   "cell_type": "code",
   "execution_count": null,
   "id": "da517d83",
   "metadata": {},
   "outputs": [],
   "source": []
  },
  {
   "cell_type": "markdown",
   "id": "96db7df0",
   "metadata": {},
   "source": [
    "19. What is a subset in Python?"
   ]
  },
  {
   "cell_type": "code",
   "execution_count": null,
   "id": "8f9d8b75",
   "metadata": {},
   "outputs": [],
   "source": []
  },
  {
   "cell_type": "markdown",
   "id": "1cab6985",
   "metadata": {},
   "source": [
    "20. How do you check if one set is a subset of another in Python?"
   ]
  },
  {
   "cell_type": "code",
   "execution_count": null,
   "id": "d826d0e3",
   "metadata": {},
   "outputs": [],
   "source": []
  },
  {
   "cell_type": "markdown",
   "id": "2c304190",
   "metadata": {},
   "source": [
    "21. What is a superset in Python?"
   ]
  },
  {
   "cell_type": "code",
   "execution_count": null,
   "id": "4edf2f8b",
   "metadata": {},
   "outputs": [],
   "source": []
  },
  {
   "cell_type": "markdown",
   "id": "a88f69ac",
   "metadata": {},
   "source": [
    "22. How do you check if one set is a superset of another in Python?"
   ]
  },
  {
   "cell_type": "code",
   "execution_count": null,
   "id": "524052ee",
   "metadata": {},
   "outputs": [],
   "source": []
  },
  {
   "cell_type": "markdown",
   "id": "b165f568",
   "metadata": {},
   "source": [
    "23. How do you update a set in Python with another set?"
   ]
  },
  {
   "cell_type": "code",
   "execution_count": null,
   "id": "c8ef9296",
   "metadata": {},
   "outputs": [],
   "source": []
  },
  {
   "cell_type": "markdown",
   "id": "321c8cd8",
   "metadata": {},
   "source": [
    "24. How do you clear a set in Python?"
   ]
  },
  {
   "cell_type": "code",
   "execution_count": null,
   "id": "0de66f13",
   "metadata": {},
   "outputs": [],
   "source": []
  },
  {
   "cell_type": "markdown",
   "id": "58e88983",
   "metadata": {},
   "source": [
    "25. How do you copy a set in Python?"
   ]
  },
  {
   "cell_type": "code",
   "execution_count": null,
   "id": "4f03ac88",
   "metadata": {},
   "outputs": [],
   "source": []
  },
  {
   "cell_type": "markdown",
   "id": "38d86bc2",
   "metadata": {},
   "source": [
    "26. How do you remove all duplicates from a list in Python using a set?"
   ]
  },
  {
   "cell_type": "code",
   "execution_count": null,
   "id": "a28b14f6",
   "metadata": {},
   "outputs": [],
   "source": []
  },
  {
   "cell_type": "markdown",
   "id": "dab731c9",
   "metadata": {},
   "source": [
    "27. How do you remove all duplicates from a list in Python while preserving the order?"
   ]
  },
  {
   "cell_type": "code",
   "execution_count": null,
   "id": "6d00ee66",
   "metadata": {},
   "outputs": [],
   "source": []
  },
  {
   "cell_type": "markdown",
   "id": "7fc5217d",
   "metadata": {},
   "source": [
    "28. How do you convert a list to a set in Python?"
   ]
  },
  {
   "cell_type": "code",
   "execution_count": null,
   "id": "f586965e",
   "metadata": {},
   "outputs": [],
   "source": []
  },
  {
   "cell_type": "markdown",
   "id": "fcde46d8",
   "metadata": {},
   "source": [
    "29. How do you convert a set to a list in Python?"
   ]
  },
  {
   "cell_type": "code",
   "execution_count": null,
   "id": "ccee4c4f",
   "metadata": {},
   "outputs": [],
   "source": []
  },
  {
   "cell_type": "markdown",
   "id": "98e16fd8",
   "metadata": {},
   "source": [
    "30. How do you find the maximum and minimum values in a set in Python?"
   ]
  },
  {
   "cell_type": "code",
   "execution_count": null,
   "id": "19e34681",
   "metadata": {},
   "outputs": [],
   "source": []
  },
  {
   "cell_type": "markdown",
   "id": "6848adcc",
   "metadata": {},
   "source": [
    "31. How do you find the sum of all elements in a set in Python?"
   ]
  },
  {
   "cell_type": "code",
   "execution_count": null,
   "id": "55cbc6a2",
   "metadata": {},
   "outputs": [],
   "source": []
  },
  {
   "cell_type": "markdown",
   "id": "235af378",
   "metadata": {},
   "source": [
    "32. How do you find the average of all elements in a set in Python?"
   ]
  },
  {
   "cell_type": "code",
   "execution_count": null,
   "id": "b6592bd5",
   "metadata": {},
   "outputs": [],
   "source": []
  },
  {
   "cell_type": "markdown",
   "id": "fcef347e",
   "metadata": {},
   "source": [
    "33. How do you find the median of all elements in a set in Python?"
   ]
  },
  {
   "cell_type": "code",
   "execution_count": null,
   "id": "6e2da761",
   "metadata": {},
   "outputs": [],
   "source": []
  },
  {
   "cell_type": "markdown",
   "id": "df358e55",
   "metadata": {},
   "source": [
    "34. How do you find the mode of all elements in a set in Python?"
   ]
  },
  {
   "cell_type": "code",
   "execution_count": null,
   "id": "d130d948",
   "metadata": {},
   "outputs": [],
   "source": []
  },
  {
   "cell_type": "markdown",
   "id": "aabd7541",
   "metadata": {},
   "source": [
    "35. How do you find the variance of all elements in a set in Python?"
   ]
  },
  {
   "cell_type": "code",
   "execution_count": null,
   "id": "74ca55bd",
   "metadata": {},
   "outputs": [],
   "source": []
  },
  {
   "cell_type": "markdown",
   "id": "03e26a75",
   "metadata": {},
   "source": [
    "36. How do you find the standard deviation of all elements in a set in Python?"
   ]
  },
  {
   "cell_type": "code",
   "execution_count": null,
   "id": "77b5bf76",
   "metadata": {},
   "outputs": [],
   "source": []
  },
  {
   "cell_type": "markdown",
   "id": "4c82f92c",
   "metadata": {},
   "source": [
    "37. How do you find the frequency of each element in a set in Python?"
   ]
  },
  {
   "cell_type": "code",
   "execution_count": null,
   "id": "34c078cd",
   "metadata": {},
   "outputs": [],
   "source": []
  },
  {
   "cell_type": "markdown",
   "id": "7918d805",
   "metadata": {},
   "source": [
    "38. How do you remove all elements from a set except for a specific set of elements in Python?"
   ]
  },
  {
   "cell_type": "code",
   "execution_count": null,
   "id": "7a251966",
   "metadata": {},
   "outputs": [],
   "source": []
  },
  {
   "cell_type": "markdown",
   "id": "5d3a1fd5",
   "metadata": {},
   "source": [
    "39. How do you check if two sets are equal in Python?"
   ]
  },
  {
   "cell_type": "code",
   "execution_count": null,
   "id": "4f359315",
   "metadata": {},
   "outputs": [],
   "source": []
  },
  {
   "cell_type": "markdown",
   "id": "25df61e3",
   "metadata": {},
   "source": [
    "40. How do you check if two sets are not equal in Python?"
   ]
  },
  {
   "cell_type": "code",
   "execution_count": null,
   "id": "7cd0245b",
   "metadata": {},
   "outputs": [],
   "source": []
  },
  {
   "cell_type": "markdown",
   "id": "3ccacf7b",
   "metadata": {},
   "source": [
    "41. How do you find the common elements between two sets in Python?"
   ]
  },
  {
   "cell_type": "code",
   "execution_count": null,
   "id": "15c5fa65",
   "metadata": {},
   "outputs": [],
   "source": []
  },
  {
   "cell_type": "markdown",
   "id": "4fd5aad9",
   "metadata": {},
   "source": [
    "42. How do you find the unique elements between two sets in Python?"
   ]
  },
  {
   "cell_type": "code",
   "execution_count": null,
   "id": "8a22cb59",
   "metadata": {},
   "outputs": [],
   "source": []
  },
  {
   "cell_type": "markdown",
   "id": "c051b7ce",
   "metadata": {},
   "source": [
    "43. How do you find the difference between the common and unique elements between two sets in Python?"
   ]
  },
  {
   "cell_type": "code",
   "execution_count": null,
   "id": "5c046be4",
   "metadata": {},
   "outputs": [],
   "source": []
  },
  {
   "cell_type": "markdown",
   "id": "cd4ccc5e",
   "metadata": {},
   "source": [
    "44. How do you find the elements that exist in one set but not in another in Python?"
   ]
  },
  {
   "cell_type": "code",
   "execution_count": null,
   "id": "ff42cb87",
   "metadata": {},
   "outputs": [],
   "source": []
  },
  {
   "cell_type": "markdown",
   "id": "9ffbdf18",
   "metadata": {},
   "source": [
    "45. How do you find the elements that exist in one or more sets in Python?"
   ]
  },
  {
   "cell_type": "code",
   "execution_count": null,
   "id": "95d048e3",
   "metadata": {},
   "outputs": [],
   "source": []
  },
  {
   "cell_type": "markdown",
   "id": "3aaba4ff",
   "metadata": {},
   "source": [
    "46. How do you find the elements that exist in all sets in Python?"
   ]
  },
  {
   "cell_type": "code",
   "execution_count": null,
   "id": "80211950",
   "metadata": {},
   "outputs": [],
   "source": []
  },
  {
   "cell_type": "markdown",
   "id": "1c9046f1",
   "metadata": {},
   "source": [
    "47. How do you check if a set is empty in Python?"
   ]
  },
  {
   "cell_type": "code",
   "execution_count": null,
   "id": "c95995d9",
   "metadata": {},
   "outputs": [],
   "source": []
  },
  {
   "cell_type": "markdown",
   "id": "3db487a9",
   "metadata": {},
   "source": [
    "48. How do you find the largest n elements in a set in Python?"
   ]
  },
  {
   "cell_type": "code",
   "execution_count": null,
   "id": "8f4b6911",
   "metadata": {},
   "outputs": [],
   "source": []
  },
  {
   "cell_type": "markdown",
   "id": "4f829cdb",
   "metadata": {},
   "source": [
    "49. How do you find the smallest n elements in a set in Python?"
   ]
  },
  {
   "cell_type": "code",
   "execution_count": null,
   "id": "70a213b6",
   "metadata": {},
   "outputs": [],
   "source": []
  },
  {
   "cell_type": "markdown",
   "id": "e142a891",
   "metadata": {},
   "source": [
    "   50. How do you find the nth largest or nth smallest element in a set in Python?"
   ]
  },
  {
   "cell_type": "code",
   "execution_count": null,
   "id": "a348b5eb",
   "metadata": {},
   "outputs": [],
   "source": []
  },
  {
   "cell_type": "markdown",
   "id": "a214d960",
   "metadata": {},
   "source": [
    "1. What is a dictionary in Python?"
   ]
  },
  {
   "cell_type": "code",
   "execution_count": null,
   "id": "d89d0c8f",
   "metadata": {},
   "outputs": [],
   "source": []
  },
  {
   "cell_type": "markdown",
   "id": "69b150c8",
   "metadata": {},
   "source": [
    "2. How do you create an empty dictionary in Python?"
   ]
  },
  {
   "cell_type": "code",
   "execution_count": null,
   "id": "9b70f3b2",
   "metadata": {},
   "outputs": [],
   "source": []
  },
  {
   "cell_type": "markdown",
   "id": "21c088fc",
   "metadata": {},
   "source": [
    "3. How do you add a key-value pair to a dictionary in Python?"
   ]
  },
  {
   "cell_type": "code",
   "execution_count": null,
   "id": "e632accb",
   "metadata": {},
   "outputs": [],
   "source": []
  },
  {
   "cell_type": "markdown",
   "id": "157cbb70",
   "metadata": {},
   "source": [
    "4. How do you access a value in a dictionary using its key in Python?"
   ]
  },
  {
   "cell_type": "code",
   "execution_count": null,
   "id": "0e36faca",
   "metadata": {},
   "outputs": [],
   "source": []
  },
  {
   "cell_type": "markdown",
   "id": "7bac1734",
   "metadata": {},
   "source": [
    "5. How do you check if a key exists in a dictionary in Python?"
   ]
  },
  {
   "cell_type": "code",
   "execution_count": null,
   "id": "92d2091e",
   "metadata": {},
   "outputs": [],
   "source": []
  },
  {
   "cell_type": "markdown",
   "id": "1a264f82",
   "metadata": {},
   "source": [
    "6. How do you remove a key-value pair from a dictionary in Python?"
   ]
  },
  {
   "cell_type": "code",
   "execution_count": null,
   "id": "e57b4d3d",
   "metadata": {},
   "outputs": [],
   "source": []
  },
  {
   "cell_type": "markdown",
   "id": "0a951b5a",
   "metadata": {},
   "source": [
    "7. How do you iterate over a dictionary in Python?"
   ]
  },
  {
   "cell_type": "code",
   "execution_count": null,
   "id": "45923bfb",
   "metadata": {},
   "outputs": [],
   "source": []
  },
  {
   "cell_type": "markdown",
   "id": "53894467",
   "metadata": {},
   "source": [
    "8. How do you get the number of items in a dictionary in Python?"
   ]
  },
  {
   "cell_type": "code",
   "execution_count": null,
   "id": "3dc628bd",
   "metadata": {},
   "outputs": [],
   "source": []
  },
  {
   "cell_type": "markdown",
   "id": "71c26058",
   "metadata": {},
   "source": [
    "9. How do you copy a dictionary in Python?"
   ]
  },
  {
   "cell_type": "code",
   "execution_count": null,
   "id": "81084a40",
   "metadata": {},
   "outputs": [],
   "source": []
  },
  {
   "cell_type": "markdown",
   "id": "ea71d7e0",
   "metadata": {},
   "source": [
    "10. How do you merge two dictionaries in Python?"
   ]
  },
  {
   "cell_type": "code",
   "execution_count": null,
   "id": "b5de82f7",
   "metadata": {},
   "outputs": [],
   "source": []
  },
  {
   "cell_type": "markdown",
   "id": "6300ccae",
   "metadata": {},
   "source": [
    "11. How do you get a list of keys in a dictionary in Python?"
   ]
  },
  {
   "cell_type": "code",
   "execution_count": null,
   "id": "f9e3acca",
   "metadata": {},
   "outputs": [],
   "source": []
  },
  {
   "cell_type": "markdown",
   "id": "605283f5",
   "metadata": {},
   "source": [
    "12. How do you get a list of values in a dictionary in Python?"
   ]
  },
  {
   "cell_type": "code",
   "execution_count": null,
   "id": "328d620b",
   "metadata": {},
   "outputs": [],
   "source": []
  },
  {
   "cell_type": "markdown",
   "id": "d593fab8",
   "metadata": {},
   "source": [
    "13. How do you get a list of key-value pairs in a dictionary in Python?"
   ]
  },
  {
   "cell_type": "code",
   "execution_count": null,
   "id": "26adcb83",
   "metadata": {},
   "outputs": [],
   "source": []
  },
  {
   "cell_type": "markdown",
   "id": "9dd1ac85",
   "metadata": {},
   "source": [
    "14. How do you sort a dictionary by its keys in Python?"
   ]
  },
  {
   "cell_type": "code",
   "execution_count": null,
   "id": "6272e2fc",
   "metadata": {},
   "outputs": [],
   "source": []
  },
  {
   "cell_type": "markdown",
   "id": "054f2a72",
   "metadata": {},
   "source": [
    "15. How do you sort a dictionary by its values in Python?"
   ]
  },
  {
   "cell_type": "code",
   "execution_count": null,
   "id": "5745c49d",
   "metadata": {},
   "outputs": [],
   "source": []
  },
  {
   "cell_type": "markdown",
   "id": "410b6061",
   "metadata": {},
   "source": [
    "16. How do you create a dictionary from a list of keys and a list of values in Python?"
   ]
  },
  {
   "cell_type": "code",
   "execution_count": null,
   "id": "a33797a8",
   "metadata": {},
   "outputs": [],
   "source": []
  },
  {
   "cell_type": "markdown",
   "id": "2189e119",
   "metadata": {},
   "source": [
    "17. How do you create a dictionary from two lists in Python?"
   ]
  },
  {
   "cell_type": "code",
   "execution_count": null,
   "id": "9bd69614",
   "metadata": {},
   "outputs": [],
   "source": []
  },
  {
   "cell_type": "markdown",
   "id": "7a7d7dd6",
   "metadata": {},
   "source": [
    "18. How do you create a dictionary from a list of tuples in Python?"
   ]
  },
  {
   "cell_type": "code",
   "execution_count": null,
   "id": "e4283181",
   "metadata": {},
   "outputs": [],
   "source": []
  },
  {
   "cell_type": "markdown",
   "id": "4b17e367",
   "metadata": {},
   "source": [
    "19. How do you create a dictionary from a tuple of keys and a tuple of values in Python?"
   ]
  },
  {
   "cell_type": "code",
   "execution_count": null,
   "id": "2c06b5d4",
   "metadata": {},
   "outputs": [],
   "source": []
  },
  {
   "cell_type": "markdown",
   "id": "d4632719",
   "metadata": {},
   "source": [
    "20. How do you get the maximum key in a dictionary in Python?"
   ]
  },
  {
   "cell_type": "code",
   "execution_count": null,
   "id": "d30630fd",
   "metadata": {},
   "outputs": [],
   "source": []
  },
  {
   "cell_type": "markdown",
   "id": "83707c70",
   "metadata": {},
   "source": [
    "21. How do you get the maximum value in a dictionary in Python?"
   ]
  },
  {
   "cell_type": "code",
   "execution_count": null,
   "id": "98caa6ed",
   "metadata": {},
   "outputs": [],
   "source": []
  },
  {
   "cell_type": "markdown",
   "id": "3b43c794",
   "metadata": {},
   "source": [
    "22. How do you get the minimum key in a dictionary in Python?"
   ]
  },
  {
   "cell_type": "code",
   "execution_count": null,
   "id": "7f984eca",
   "metadata": {},
   "outputs": [],
   "source": []
  },
  {
   "cell_type": "markdown",
   "id": "910b718b",
   "metadata": {},
   "source": [
    "23. How do you get the minimum value in a dictionary in Python?"
   ]
  },
  {
   "cell_type": "code",
   "execution_count": null,
   "id": "b187c6da",
   "metadata": {},
   "outputs": [],
   "source": []
  },
  {
   "cell_type": "markdown",
   "id": "b1b49389",
   "metadata": {},
   "source": [
    "24. How do you check if a value exists in a dictionary in Python?"
   ]
  },
  {
   "cell_type": "code",
   "execution_count": null,
   "id": "9acf23fc",
   "metadata": {},
   "outputs": [],
   "source": []
  },
  {
   "cell_type": "markdown",
   "id": "5e271be0",
   "metadata": {},
   "source": [
    "25. How do you get a default value for a non-existing key in a dictionary in Python?"
   ]
  },
  {
   "cell_type": "code",
   "execution_count": null,
   "id": "896ab398",
   "metadata": {},
   "outputs": [],
   "source": []
  },
  {
   "cell_type": "markdown",
   "id": "04663251",
   "metadata": {},
   "source": [
    "26. How do you clear all items in a dictionary in Python?"
   ]
  },
  {
   "cell_type": "code",
   "execution_count": null,
   "id": "20b5e25b",
   "metadata": {},
   "outputs": [],
   "source": []
  },
  {
   "cell_type": "markdown",
   "id": "1356d5ff",
   "metadata": {},
   "source": [
    "27. How do you update a dictionary with another dictionary in Python?"
   ]
  },
  {
   "cell_type": "code",
   "execution_count": null,
   "id": "d04ca56a",
   "metadata": {},
   "outputs": [],
   "source": []
  },
  {
   "cell_type": "markdown",
   "id": "7735e3ff",
   "metadata": {},
   "source": [
    "28. How do you create a dictionary with default values in Python?"
   ]
  },
  {
   "cell_type": "code",
   "execution_count": null,
   "id": "66e5584e",
   "metadata": {},
   "outputs": [],
   "source": []
  },
  {
   "cell_type": "markdown",
   "id": "2eb46387",
   "metadata": {},
   "source": [
    "29. How do you create a nested dictionary in Python?"
   ]
  },
  {
   "cell_type": "code",
   "execution_count": null,
   "id": "e6a6279b",
   "metadata": {},
   "outputs": [],
   "source": []
  },
  {
   "cell_type": "markdown",
   "id": "17427aa1",
   "metadata": {},
   "source": [
    "30. How do you access a value in a nested dictionary in Python?"
   ]
  },
  {
   "cell_type": "code",
   "execution_count": null,
   "id": "308b63bd",
   "metadata": {},
   "outputs": [],
   "source": []
  },
  {
   "cell_type": "markdown",
   "id": "9a47fe2d",
   "metadata": {},
   "source": [
    "31. How do you add a new key-value pair to a nested dictionary in Python?"
   ]
  },
  {
   "cell_type": "code",
   "execution_count": null,
   "id": "59daa320",
   "metadata": {},
   "outputs": [],
   "source": []
  },
  {
   "cell_type": "markdown",
   "id": "1cb77d15",
   "metadata": {},
   "source": [
    "32. How do you remove a key-value pair from a nested dictionary in Python?"
   ]
  },
  {
   "cell_type": "code",
   "execution_count": null,
   "id": "63443ded",
   "metadata": {},
   "outputs": [],
   "source": []
  },
  {
   "cell_type": "markdown",
   "id": "42905f07",
   "metadata": {},
   "source": [
    "33. How do you iterate over a nested dictionary in Python?"
   ]
  },
  {
   "cell_type": "code",
   "execution_count": null,
   "id": "c703ab77",
   "metadata": {},
   "outputs": [],
   "source": []
  },
  {
   "cell_type": "markdown",
   "id": "5571b448",
   "metadata": {},
   "source": [
    "34. How do you sort a nested dictionary by its keys in Python?"
   ]
  },
  {
   "cell_type": "code",
   "execution_count": null,
   "id": "870c1578",
   "metadata": {},
   "outputs": [],
   "source": []
  },
  {
   "cell_type": "markdown",
   "id": "7fcb2631",
   "metadata": {},
   "source": [
    "35. How do you sort a nested dictionary by its values in Python?"
   ]
  },
  {
   "cell_type": "code",
   "execution_count": null,
   "id": "7fcc738c",
   "metadata": {},
   "outputs": [],
   "source": []
  },
  {
   "cell_type": "markdown",
   "id": "bed89034",
   "metadata": {},
   "source": [
    "36. How do you convert a dictionary to a list of tuples in Python?"
   ]
  },
  {
   "cell_type": "code",
   "execution_count": null,
   "id": "5f4bf0ca",
   "metadata": {},
   "outputs": [],
   "source": []
  },
  {
   "cell_type": "markdown",
   "id": "4898d3ab",
   "metadata": {},
   "source": [
    "37. How do you convert a dictionary to a list of keys in Python?"
   ]
  },
  {
   "cell_type": "code",
   "execution_count": null,
   "id": "9841c225",
   "metadata": {},
   "outputs": [],
   "source": []
  },
  {
   "cell_type": "markdown",
   "id": "c4588606",
   "metadata": {},
   "source": [
    "38. How do you convert a dictionary to a list of values in Python?"
   ]
  },
  {
   "cell_type": "code",
   "execution_count": null,
   "id": "0a135c0b",
   "metadata": {},
   "outputs": [],
   "source": []
  },
  {
   "cell_type": "markdown",
   "id": "0b4e8102",
   "metadata": {},
   "source": [
    "39. How do you convert a list of tuples to a dictionary in Python?"
   ]
  },
  {
   "cell_type": "code",
   "execution_count": null,
   "id": "501e2cc6",
   "metadata": {},
   "outputs": [],
   "source": []
  },
  {
   "cell_type": "markdown",
   "id": "f04efbec",
   "metadata": {},
   "source": [
    "   40. How do you convert two lists to a dictionary in Python?"
   ]
  },
  {
   "cell_type": "code",
   "execution_count": null,
   "id": "4c8c1f15",
   "metadata": {},
   "outputs": [],
   "source": []
  },
  {
   "cell_type": "markdown",
   "id": "df83b28f",
   "metadata": {},
   "source": [
    "1. Write a function that takes a number as input and returns its square."
   ]
  },
  {
   "cell_type": "code",
   "execution_count": null,
   "id": "13b27ec2",
   "metadata": {},
   "outputs": [],
   "source": []
  },
  {
   "cell_type": "markdown",
   "id": "d984ca8d",
   "metadata": {},
   "source": [
    "2. Write a function that takes two numbers as input and returns their sum."
   ]
  },
  {
   "cell_type": "code",
   "execution_count": null,
   "id": "b09838f3",
   "metadata": {},
   "outputs": [],
   "source": []
  },
  {
   "cell_type": "markdown",
   "id": "5fad4334",
   "metadata": {},
   "source": [
    "3. Write a function that takes a list of numbers as input and returns their average."
   ]
  },
  {
   "cell_type": "code",
   "execution_count": null,
   "id": "ef396dc7",
   "metadata": {},
   "outputs": [],
   "source": []
  },
  {
   "cell_type": "markdown",
   "id": "59a850bc",
   "metadata": {},
   "source": [
    "4. Write a function that takes a string as input and returns its length."
   ]
  },
  {
   "cell_type": "code",
   "execution_count": null,
   "id": "58c5ab39",
   "metadata": {},
   "outputs": [],
   "source": []
  },
  {
   "cell_type": "markdown",
   "id": "c38e4d75",
   "metadata": {},
   "source": [
    "5. Write a function that takes two strings as input and returns the concatenation of the two strings."
   ]
  },
  {
   "cell_type": "code",
   "execution_count": null,
   "id": "57c3fc72",
   "metadata": {},
   "outputs": [],
   "source": []
  },
  {
   "cell_type": "markdown",
   "id": "94f4381e",
   "metadata": {},
   "source": [
    "6. Write a function that takes a list of strings as input and returns the concatenation of all the strings in the list."
   ]
  },
  {
   "cell_type": "code",
   "execution_count": null,
   "id": "eb344b53",
   "metadata": {},
   "outputs": [],
   "source": []
  },
  {
   "cell_type": "markdown",
   "id": "99de71b3",
   "metadata": {},
   "source": [
    "7. Write a function that takes a list of numbers as input and returns the sum of all the even numbers in the list."
   ]
  },
  {
   "cell_type": "code",
   "execution_count": null,
   "id": "e80a6b9e",
   "metadata": {},
   "outputs": [],
   "source": []
  },
  {
   "cell_type": "markdown",
   "id": "027e5b60",
   "metadata": {},
   "source": [
    "8. Write a function that takes a list of strings as input and returns the number of strings in the list that are longer than 5 characters."
   ]
  },
  {
   "cell_type": "code",
   "execution_count": null,
   "id": "c5a6c6bf",
   "metadata": {},
   "outputs": [],
   "source": []
  },
  {
   "cell_type": "markdown",
   "id": "a6f0a396",
   "metadata": {},
   "source": [
    "9. Write a function that takes a list of numbers as input and returns the sum of all the numbers that are divisible by 3 or 5."
   ]
  },
  {
   "cell_type": "code",
   "execution_count": null,
   "id": "8cee0859",
   "metadata": {},
   "outputs": [],
   "source": []
  },
  {
   "cell_type": "markdown",
   "id": "944396d4",
   "metadata": {},
   "source": [
    "10. Write a function that takes a list of integers as input and returns the product of all the integers in the list."
   ]
  },
  {
   "cell_type": "code",
   "execution_count": null,
   "id": "19cd7440",
   "metadata": {},
   "outputs": [],
   "source": []
  },
  {
   "cell_type": "markdown",
   "id": "8a7e5de1",
   "metadata": {},
   "source": [
    "11. Write a function that takes a list of strings as input and returns the first string in the list that contains the letter 'a'."
   ]
  },
  {
   "cell_type": "code",
   "execution_count": null,
   "id": "e2f03cdc",
   "metadata": {},
   "outputs": [],
   "source": []
  },
  {
   "cell_type": "markdown",
   "id": "0f561498",
   "metadata": {},
   "source": [
    "12. Write a function that takes a list of numbers as input and returns the second largest number in the list."
   ]
  },
  {
   "cell_type": "code",
   "execution_count": null,
   "id": "55c560dc",
   "metadata": {},
   "outputs": [],
   "source": []
  },
  {
   "cell_type": "markdown",
   "id": "96ee6cb4",
   "metadata": {},
   "source": [
    "13. Write a function that takes a string as input and returns True if the string is a palindrome, False otherwise."
   ]
  },
  {
   "cell_type": "code",
   "execution_count": null,
   "id": "4b876c7b",
   "metadata": {},
   "outputs": [],
   "source": []
  },
  {
   "cell_type": "markdown",
   "id": "a96b1295",
   "metadata": {},
   "source": [
    "14. Write a function that takes a list of strings as input and returns a new list containing only the strings that start with the letter 'a'."
   ]
  },
  {
   "cell_type": "code",
   "execution_count": null,
   "id": "924446c8",
   "metadata": {},
   "outputs": [],
   "source": []
  },
  {
   "cell_type": "markdown",
   "id": "3035fa92",
   "metadata": {},
   "source": [
    "15. Write a function that takes a list of numbers as input and returns the sum of the first and last numbers in the list."
   ]
  },
  {
   "cell_type": "code",
   "execution_count": null,
   "id": "1432dfb4",
   "metadata": {},
   "outputs": [],
   "source": []
  },
  {
   "cell_type": "markdown",
   "id": "84d8b1d4",
   "metadata": {},
   "source": [
    "16. Write a function that takes a list of integers as input and returns a new list containing only the even numbers in the input list."
   ]
  },
  {
   "cell_type": "code",
   "execution_count": null,
   "id": "43d29c2a",
   "metadata": {},
   "outputs": [],
   "source": []
  },
  {
   "cell_type": "markdown",
   "id": "ce69d8b0",
   "metadata": {},
   "source": [
    "17. Write a function that takes a list of strings as input and returns a new list containing the reverse of each string in the input list."
   ]
  },
  {
   "cell_type": "code",
   "execution_count": null,
   "id": "0aeeb95a",
   "metadata": {},
   "outputs": [],
   "source": []
  },
  {
   "cell_type": "markdown",
   "id": "53b64132",
   "metadata": {},
   "source": [
    "18. Write a function that takes a list of integers as input and returns a new list containing the square of each integer in the input list."
   ]
  },
  {
   "cell_type": "code",
   "execution_count": null,
   "id": "21bf7dc4",
   "metadata": {},
   "outputs": [],
   "source": []
  },
  {
   "cell_type": "markdown",
   "id": "45cdc3c8",
   "metadata": {},
   "source": [
    "19. Write a function that takes a list of strings as input and returns the number of strings in the list that start with a vowel."
   ]
  },
  {
   "cell_type": "code",
   "execution_count": null,
   "id": "e9474608",
   "metadata": {},
   "outputs": [],
   "source": []
  },
  {
   "cell_type": "markdown",
   "id": "4739e486",
   "metadata": {},
   "source": [
    "20. Write a function that takes a list of numbers as input and returns the largest number in the list that is less than 100."
   ]
  },
  {
   "cell_type": "code",
   "execution_count": null,
   "id": "f8477a06",
   "metadata": {},
   "outputs": [],
   "source": []
  },
  {
   "cell_type": "markdown",
   "id": "65e1ef72",
   "metadata": {},
   "source": [
    "21. Write a function that takes a list of strings as input and returns a new list containing only the strings that are palindromes."
   ]
  },
  {
   "cell_type": "code",
   "execution_count": null,
   "id": "9cfe9af9",
   "metadata": {},
   "outputs": [],
   "source": []
  },
  {
   "cell_type": "markdown",
   "id": "11e24ae1",
   "metadata": {},
   "source": [
    "22. Write a function that takes a list of integers as input and returns a new list containing the integers in sorted order."
   ]
  },
  {
   "cell_type": "code",
   "execution_count": null,
   "id": "f9fd69df",
   "metadata": {},
   "outputs": [],
   "source": []
  },
  {
   "cell_type": "markdown",
   "id": "1b10448f",
   "metadata": {},
   "source": [
    "23. Write a function that takes a string as input and returns a new string that is the reverse of the input string."
   ]
  },
  {
   "cell_type": "code",
   "execution_count": null,
   "id": "1d988452",
   "metadata": {},
   "outputs": [],
   "source": []
  },
  {
   "cell_type": "markdown",
   "id": "c2d02873",
   "metadata": {},
   "source": [
    "24. Write a function that takes a list of strings as input and returns a new list containing the lengths of each string in the input list."
   ]
  },
  {
   "cell_type": "code",
   "execution_count": null,
   "id": "c2081a4d",
   "metadata": {},
   "outputs": [],
   "source": []
  },
  {
   "cell_type": "markdown",
   "id": "45255a76",
   "metadata": {},
   "source": [
    "25. Write a function that takes a list of numbers as input and returns a new list containing only the numbers that are perfect squares."
   ]
  },
  {
   "cell_type": "code",
   "execution_count": null,
   "id": "fc70d2f5",
   "metadata": {},
   "outputs": [],
   "source": []
  },
  {
   "cell_type": "markdown",
   "id": "11926416",
   "metadata": {},
   "source": [
    "26. Write a function that takes a list of strings as input and returns a new list containing only the strings that are longer than 10 characters."
   ]
  },
  {
   "cell_type": "code",
   "execution_count": null,
   "id": "e81fe08e",
   "metadata": {},
   "outputs": [],
   "source": []
  },
  {
   "cell_type": "markdown",
   "id": "505e1ab3",
   "metadata": {},
   "source": [
    "27. Write a function that takes a list of integers as input and returns a new list containing only the prime numbers in the input list."
   ]
  },
  {
   "cell_type": "code",
   "execution_count": null,
   "id": "dd3dba69",
   "metadata": {},
   "outputs": [],
   "source": []
  },
  {
   "cell_type": "markdown",
   "id": "7e7bda88",
   "metadata": {},
   "source": [
    "28. Write a function that takes a list of strings as input and returns a new list containing only the strings that contain the letter 'e'."
   ]
  },
  {
   "cell_type": "code",
   "execution_count": null,
   "id": "97415e1a",
   "metadata": {},
   "outputs": [],
   "source": []
  },
  {
   "cell_type": "markdown",
   "id": "a6061a84",
   "metadata": {},
   "source": [
    "29. Write a function that takes a list of numbers as input and returns the average of the numbers that are greater than 10."
   ]
  },
  {
   "cell_type": "code",
   "execution_count": null,
   "id": "f57feccd",
   "metadata": {},
   "outputs": [],
   "source": []
  },
  {
   "cell_type": "markdown",
   "id": "ff760a35",
   "metadata": {},
   "source": [
    "30.   Write a function that takes a list of strings as input and returns a new list containing only the strings that contain only letters (no numbers or symbols)."
   ]
  },
  {
   "cell_type": "code",
   "execution_count": null,
   "id": "40ceb84b",
   "metadata": {},
   "outputs": [],
   "source": []
  },
  {
   "cell_type": "markdown",
   "id": "89acb2c4",
   "metadata": {},
   "source": [
    "31.   Write a function that takes a list of integers as input and returns a new list containing the difference between each pair of adjacent numbers in the input list."
   ]
  },
  {
   "cell_type": "code",
   "execution_count": null,
   "id": "aca02c9f",
   "metadata": {},
   "outputs": [],
   "source": []
  },
  {
   "cell_type": "markdown",
   "id": "1b4392fc",
   "metadata": {},
   "source": [
    "32.   Write a function that takes a list of strings as input and returns a new list containing only the strings that are all uppercase."
   ]
  },
  {
   "cell_type": "code",
   "execution_count": null,
   "id": "54d3bb6d",
   "metadata": {},
   "outputs": [],
   "source": []
  },
  {
   "cell_type": "markdown",
   "id": "fff71a28",
   "metadata": {},
   "source": [
    "33.   Write a function that takes a list of integers as input and returns the median value of the input list."
   ]
  },
  {
   "cell_type": "code",
   "execution_count": null,
   "id": "c1ae9044",
   "metadata": {},
   "outputs": [],
   "source": []
  },
  {
   "cell_type": "markdown",
   "id": "8e19c7fe",
   "metadata": {},
   "source": [
    "34.   Write a function that takes a string as input and returns the number of times the letter 'a' appears in the string."
   ]
  },
  {
   "cell_type": "code",
   "execution_count": null,
   "id": "f4473715",
   "metadata": {},
   "outputs": [],
   "source": []
  },
  {
   "cell_type": "markdown",
   "id": "135ab8af",
   "metadata": {},
   "source": [
    "35.   Write a function that takes a list of strings as input and returns a new list containing only the strings that end with the letter 's'."
   ]
  },
  {
   "cell_type": "code",
   "execution_count": null,
   "id": "bdf5bc64",
   "metadata": {},
   "outputs": [],
   "source": []
  },
  {
   "cell_type": "markdown",
   "id": "b85180e9",
   "metadata": {},
   "source": [
    "36.   Write a function that takes a list of integers as input and returns the product of all the numbers that are greater than 5 and less than 10."
   ]
  },
  {
   "cell_type": "code",
   "execution_count": null,
   "id": "e5acff6b",
   "metadata": {},
   "outputs": [],
   "source": []
  },
  {
   "cell_type": "markdown",
   "id": "5317fc7d",
   "metadata": {},
   "source": [
    "37.   Write a function that takes a list of strings as input and returns a new list containing only the strings that are all lowercase."
   ]
  },
  {
   "cell_type": "code",
   "execution_count": null,
   "id": "460a9c83",
   "metadata": {},
   "outputs": [],
   "source": []
  },
  {
   "cell_type": "markdown",
   "id": "922bec47",
   "metadata": {},
   "source": [
    "38.   Write a function that takes a list of integers as input and returns the second smallest number in the list."
   ]
  },
  {
   "cell_type": "code",
   "execution_count": null,
   "id": "9cb393ff",
   "metadata": {},
   "outputs": [],
   "source": []
  },
  {
   "cell_type": "markdown",
   "id": "65ae570c",
   "metadata": {},
   "source": [
    "39.   Write a function that takes a list of strings as input and returns a new list containing the length of each string in the input list, sorted in increasing order."
   ]
  },
  {
   "cell_type": "code",
   "execution_count": null,
   "id": "2660c1e3",
   "metadata": {},
   "outputs": [],
   "source": []
  },
  {
   "cell_type": "markdown",
   "id": "8e4d725a",
   "metadata": {},
   "source": [
    "40.   Write a function that takes a list of numbers as input and returns the difference between the largest and smallest numbers in the list."
   ]
  },
  {
   "cell_type": "code",
   "execution_count": null,
   "id": "3427d1e7",
   "metadata": {},
   "outputs": [],
   "source": []
  },
  {
   "cell_type": "markdown",
   "id": "b07494aa",
   "metadata": {},
   "source": [
    "41.   Write a function that takes a string as input and returns True if the string contains only letters (no numbers or symbols), False otherwise."
   ]
  },
  {
   "cell_type": "code",
   "execution_count": null,
   "id": "adab956f",
   "metadata": {},
   "outputs": [],
   "source": []
  },
  {
   "cell_type": "markdown",
   "id": "b83a05f7",
   "metadata": {},
   "source": [
    "42.   Write a function that takes a list of integers as input and returns a new list containing only the numbers that are divisible by 7 and 9."
   ]
  },
  {
   "cell_type": "code",
   "execution_count": null,
   "id": "0d235abe",
   "metadata": {},
   "outputs": [],
   "source": []
  },
  {
   "cell_type": "markdown",
   "id": "e5b1ae8f",
   "metadata": {},
   "source": [
    "43.   Write a function that takes a list of strings as input and returns a new list containing only the strings that contain at least one digit (number)."
   ]
  },
  {
   "cell_type": "code",
   "execution_count": null,
   "id": "4a0056c6",
   "metadata": {},
   "outputs": [],
   "source": []
  },
  {
   "cell_type": "markdown",
   "id": "3bb60e15",
   "metadata": {},
   "source": [
    "44.   Write a function that takes a list of integers as input and returns a new list containing the difference between each pair of adjacent even numbers in the input list."
   ]
  },
  {
   "cell_type": "code",
   "execution_count": null,
   "id": "2c24c5d4",
   "metadata": {},
   "outputs": [],
   "source": []
  },
  {
   "cell_type": "markdown",
   "id": "88a12f51",
   "metadata": {},
   "source": [
    "45.   Write a function that takes a string as input and returns a new string that is the same as the input string, but with all the vowels removed."
   ]
  },
  {
   "cell_type": "code",
   "execution_count": null,
   "id": "cb4f584c",
   "metadata": {},
   "outputs": [],
   "source": []
  },
  {
   "cell_type": "markdown",
   "id": "17f21979",
   "metadata": {},
   "source": [
    "46.   Write a function that takes a list of strings as input and returns a new list containing the first two letters of each string in the input list."
   ]
  },
  {
   "cell_type": "code",
   "execution_count": null,
   "id": "be7aaf70",
   "metadata": {},
   "outputs": [],
   "source": []
  },
  {
   "cell_type": "markdown",
   "id": "097cce78",
   "metadata": {},
   "source": [
    "47.   Write a function that takes a list of integers as input and returns a new list containing the numbers in the input list that appear more than once."
   ]
  },
  {
   "cell_type": "code",
   "execution_count": null,
   "id": "ca910f76",
   "metadata": {},
   "outputs": [],
   "source": []
  },
  {
   "cell_type": "markdown",
   "id": "44910bb6",
   "metadata": {},
   "source": [
    "48.   Write a function that takes a list of strings as input and returns a new list containing only the strings that contain at least one uppercase letter."
   ]
  },
  {
   "cell_type": "code",
   "execution_count": null,
   "id": "229ef147",
   "metadata": {},
   "outputs": [],
   "source": []
  },
  {
   "cell_type": "markdown",
   "id": "a5c28d7a",
   "metadata": {},
   "source": [
    "49.   Write a function that takes a list of integers as input and returns a new list containing only the numbers that are perfect cubes."
   ]
  },
  {
   "cell_type": "code",
   "execution_count": null,
   "id": "9c14b6a3",
   "metadata": {},
   "outputs": [],
   "source": []
  },
  {
   "cell_type": "markdown",
   "id": "2f05fe74",
   "metadata": {},
   "source": [
    "50.   Write a function that takes a string as input and returns a new string that is the same as the input string, but with each letter replaced by its corresponding number in the alphabet (a=1, b=2, c=3, etc.)."
   ]
  },
  {
   "cell_type": "code",
   "execution_count": null,
   "id": "f21597ea",
   "metadata": {},
   "outputs": [],
   "source": []
  },
  {
   "cell_type": "markdown",
   "id": "7a56036c",
   "metadata": {},
   "source": [
    "1. Write a lambda function that returns the square of a number."
   ]
  },
  {
   "cell_type": "code",
   "execution_count": null,
   "id": "59648165",
   "metadata": {},
   "outputs": [],
   "source": []
  },
  {
   "cell_type": "markdown",
   "id": "bf48f71d",
   "metadata": {},
   "source": [
    "2. Write a lambda function that returns the sum of two numbers."
   ]
  },
  {
   "cell_type": "code",
   "execution_count": null,
   "id": "2a4d2372",
   "metadata": {},
   "outputs": [],
   "source": []
  },
  {
   "cell_type": "markdown",
   "id": "af3a06de",
   "metadata": {},
   "source": [
    "3. Write a lambda function that returns the product of two numbers."
   ]
  },
  {
   "cell_type": "code",
   "execution_count": null,
   "id": "41c616d8",
   "metadata": {},
   "outputs": [],
   "source": []
  },
  {
   "cell_type": "markdown",
   "id": "c65f3f96",
   "metadata": {},
   "source": [
    "4. Write a lambda function that returns the difference of two numbers."
   ]
  },
  {
   "cell_type": "code",
   "execution_count": null,
   "id": "179b7bd3",
   "metadata": {},
   "outputs": [],
   "source": []
  },
  {
   "cell_type": "markdown",
   "id": "3e433bd3",
   "metadata": {},
   "source": [
    "5. Write a lambda function that returns the modulus of two numbers."
   ]
  },
  {
   "cell_type": "code",
   "execution_count": null,
   "id": "a9e75eba",
   "metadata": {},
   "outputs": [],
   "source": []
  },
  {
   "cell_type": "markdown",
   "id": "a63867da",
   "metadata": {},
   "source": [
    "6. Write a lambda function that checks whether a number is even."
   ]
  },
  {
   "cell_type": "code",
   "execution_count": null,
   "id": "a62cb495",
   "metadata": {},
   "outputs": [],
   "source": []
  },
  {
   "cell_type": "markdown",
   "id": "d28a8bb3",
   "metadata": {},
   "source": [
    "7. Write a lambda function that checks whether a number is odd."
   ]
  },
  {
   "cell_type": "code",
   "execution_count": null,
   "id": "95866efd",
   "metadata": {},
   "outputs": [],
   "source": []
  },
  {
   "cell_type": "markdown",
   "id": "a379f772",
   "metadata": {},
   "source": [
    "8. Write a lambda function that checks whether a string is a palindrome."
   ]
  },
  {
   "cell_type": "code",
   "execution_count": null,
   "id": "d0ca7ec2",
   "metadata": {},
   "outputs": [],
   "source": []
  },
  {
   "cell_type": "markdown",
   "id": "5fb8b539",
   "metadata": {},
   "source": [
    "9. Write a lambda function that checks whether a string is all lowercase."
   ]
  },
  {
   "cell_type": "code",
   "execution_count": null,
   "id": "55900478",
   "metadata": {},
   "outputs": [],
   "source": []
  },
  {
   "cell_type": "markdown",
   "id": "a6455840",
   "metadata": {},
   "source": [
    "10. Write a lambda function that checks whether a string is all uppercase."
   ]
  },
  {
   "cell_type": "code",
   "execution_count": null,
   "id": "bae6dc3e",
   "metadata": {},
   "outputs": [],
   "source": []
  },
  {
   "cell_type": "markdown",
   "id": "3edc7d18",
   "metadata": {},
   "source": [
    "11. Write a lambda function that returns the length of a string."
   ]
  },
  {
   "cell_type": "code",
   "execution_count": null,
   "id": "a050e4f7",
   "metadata": {},
   "outputs": [],
   "source": []
  },
  {
   "cell_type": "markdown",
   "id": "8d3a1a32",
   "metadata": {},
   "source": [
    "12. Write a lambda function that returns the first character of a string."
   ]
  },
  {
   "cell_type": "code",
   "execution_count": null,
   "id": "4e712e50",
   "metadata": {},
   "outputs": [],
   "source": []
  },
  {
   "cell_type": "markdown",
   "id": "cb530cd0",
   "metadata": {},
   "source": [
    "13. Write a lambda function that returns the last character of a string."
   ]
  },
  {
   "cell_type": "code",
   "execution_count": null,
   "id": "f66e51fe",
   "metadata": {},
   "outputs": [],
   "source": []
  },
  {
   "cell_type": "markdown",
   "id": "a1839f17",
   "metadata": {},
   "source": [
    "14. Write a lambda function that sorts a list of numbers in ascending order."
   ]
  },
  {
   "cell_type": "code",
   "execution_count": null,
   "id": "34391eb1",
   "metadata": {},
   "outputs": [],
   "source": []
  },
  {
   "cell_type": "markdown",
   "id": "a9f20801",
   "metadata": {},
   "source": [
    "15. Write a lambda function that sorts a list of numbers in descending order."
   ]
  },
  {
   "cell_type": "code",
   "execution_count": null,
   "id": "a990a97c",
   "metadata": {},
   "outputs": [],
   "source": []
  },
  {
   "cell_type": "markdown",
   "id": "7733da5a",
   "metadata": {},
   "source": [
    "16. Write a lambda function that sorts a list of strings in alphabetical order."
   ]
  },
  {
   "cell_type": "code",
   "execution_count": null,
   "id": "70935aa8",
   "metadata": {},
   "outputs": [],
   "source": []
  },
  {
   "cell_type": "markdown",
   "id": "6b52e139",
   "metadata": {},
   "source": [
    "17. Write a lambda function that sorts a list of strings in reverse alphabetical order."
   ]
  },
  {
   "cell_type": "code",
   "execution_count": null,
   "id": "67edbd8e",
   "metadata": {},
   "outputs": [],
   "source": []
  },
  {
   "cell_type": "markdown",
   "id": "904b31ce",
   "metadata": {},
   "source": [
    "18. Write a lambda function that returns the maximum value in a list of numbers."
   ]
  },
  {
   "cell_type": "code",
   "execution_count": null,
   "id": "538d51bf",
   "metadata": {},
   "outputs": [],
   "source": []
  },
  {
   "cell_type": "markdown",
   "id": "57de3cdf",
   "metadata": {},
   "source": [
    "19. Write a lambda function that returns the minimum value in a list of numbers."
   ]
  },
  {
   "cell_type": "code",
   "execution_count": null,
   "id": "5568e135",
   "metadata": {},
   "outputs": [],
   "source": []
  },
  {
   "cell_type": "markdown",
   "id": "4e018619",
   "metadata": {},
   "source": [
    "20. Write a lambda function that returns the sum of a list of numbers."
   ]
  },
  {
   "cell_type": "code",
   "execution_count": null,
   "id": "6a19ff80",
   "metadata": {},
   "outputs": [],
   "source": []
  },
  {
   "cell_type": "markdown",
   "id": "c94ce7b4",
   "metadata": {},
   "source": [
    "1. Write a recursive function to calculate the sum of a list of integers."
   ]
  },
  {
   "cell_type": "code",
   "execution_count": null,
   "id": "2dd7aac2",
   "metadata": {},
   "outputs": [],
   "source": []
  },
  {
   "cell_type": "markdown",
   "id": "62606c2c",
   "metadata": {},
   "source": [
    "2. Write a recursive function to calculate the factorial of a number."
   ]
  },
  {
   "cell_type": "code",
   "execution_count": null,
   "id": "a5b643c0",
   "metadata": {},
   "outputs": [],
   "source": []
  },
  {
   "cell_type": "markdown",
   "id": "c425323b",
   "metadata": {},
   "source": [
    "3. Write a recursive function to calculate the nth Fibonacci number."
   ]
  },
  {
   "cell_type": "code",
   "execution_count": null,
   "id": "3b238bdc",
   "metadata": {},
   "outputs": [],
   "source": []
  },
  {
   "cell_type": "markdown",
   "id": "8e47560e",
   "metadata": {},
   "source": [
    "4. Write a recursive function to calculate the greatest common divisor (GCD) of two numbers."
   ]
  },
  {
   "cell_type": "code",
   "execution_count": null,
   "id": "60a9cdc0",
   "metadata": {},
   "outputs": [],
   "source": []
  },
  {
   "cell_type": "markdown",
   "id": "7706e7b1",
   "metadata": {},
   "source": [
    "5. Write a recursive function to calculate the least common multiple (LCM) of two numbers."
   ]
  },
  {
   "cell_type": "code",
   "execution_count": null,
   "id": "0824d954",
   "metadata": {},
   "outputs": [],
   "source": []
  },
  {
   "cell_type": "markdown",
   "id": "73f7c9cf",
   "metadata": {},
   "source": [
    "6. Write a recursive function to reverse a string."
   ]
  },
  {
   "cell_type": "code",
   "execution_count": null,
   "id": "8fdfd41d",
   "metadata": {},
   "outputs": [],
   "source": []
  },
  {
   "cell_type": "markdown",
   "id": "1b93de10",
   "metadata": {},
   "source": [
    "7. Write a recursive function to check if a string is a palindrome."
   ]
  },
  {
   "cell_type": "code",
   "execution_count": null,
   "id": "9adff041",
   "metadata": {},
   "outputs": [],
   "source": []
  },
  {
   "cell_type": "markdown",
   "id": "7bc5db24",
   "metadata": {},
   "source": [
    "8. Write a recursive function to find the maximum value in a list of integers."
   ]
  },
  {
   "cell_type": "code",
   "execution_count": null,
   "id": "0ed23bc8",
   "metadata": {},
   "outputs": [],
   "source": []
  },
  {
   "cell_type": "markdown",
   "id": "ee1d9de7",
   "metadata": {},
   "source": [
    "9. Write a recursive function to find the minimum value in a list of integers."
   ]
  },
  {
   "cell_type": "code",
   "execution_count": null,
   "id": "6039600b",
   "metadata": {},
   "outputs": [],
   "source": []
  },
  {
   "cell_type": "markdown",
   "id": "d70523e2",
   "metadata": {},
   "source": [
    "10. Write a recursive function to calculate the power of a number."
   ]
  },
  {
   "cell_type": "code",
   "execution_count": null,
   "id": "fbfaef04",
   "metadata": {},
   "outputs": [],
   "source": []
  },
  {
   "cell_type": "markdown",
   "id": "2ae2550e",
   "metadata": {},
   "source": [
    "11. Write a recursive function to flatten a nested list."
   ]
  },
  {
   "cell_type": "code",
   "execution_count": null,
   "id": "dc9bcb20",
   "metadata": {},
   "outputs": [],
   "source": []
  },
  {
   "cell_type": "markdown",
   "id": "5f0010d4",
   "metadata": {},
   "source": [
    "12. Write a recursive function to calculate the sum of digits of a number."
   ]
  },
  {
   "cell_type": "code",
   "execution_count": null,
   "id": "537807df",
   "metadata": {},
   "outputs": [],
   "source": []
  },
  {
   "cell_type": "markdown",
   "id": "992e1d94",
   "metadata": {},
   "source": [
    "13. Write a recursive function to find the number of occurrences of an element in a list."
   ]
  },
  {
   "cell_type": "code",
   "execution_count": null,
   "id": "e431e4c7",
   "metadata": {},
   "outputs": [],
   "source": []
  },
  {
   "cell_type": "markdown",
   "id": "e3d6e2bd",
   "metadata": {},
   "source": [
    "14. Write a recursive function to merge two sorted lists."
   ]
  },
  {
   "cell_type": "code",
   "execution_count": null,
   "id": "d0031a63",
   "metadata": {},
   "outputs": [],
   "source": []
  },
  {
   "cell_type": "markdown",
   "id": "f4a1c351",
   "metadata": {},
   "source": [
    "15. Write a recursive function to generate all possible combinations of a list of integers."
   ]
  },
  {
   "cell_type": "code",
   "execution_count": null,
   "id": "e3fc6ef3",
   "metadata": {},
   "outputs": [],
   "source": []
  },
  {
   "cell_type": "markdown",
   "id": "9f0c12b0",
   "metadata": {},
   "source": [
    "1. Write a program that opens a file named \"example.txt\" and reads its contents."
   ]
  },
  {
   "cell_type": "code",
   "execution_count": null,
   "id": "1d16f0ec",
   "metadata": {},
   "outputs": [],
   "source": []
  },
  {
   "cell_type": "markdown",
   "id": "d70a1e2a",
   "metadata": {},
   "source": [
    "2. Write a program that opens a file named \"output.txt\" and writes \"Hello, world!\" to it."
   ]
  },
  {
   "cell_type": "code",
   "execution_count": null,
   "id": "e619b9b7",
   "metadata": {},
   "outputs": [],
   "source": []
  },
  {
   "cell_type": "markdown",
   "id": "f709723c",
   "metadata": {},
   "source": [
    "3. Write a program that opens a file named \"output.txt\" and appends \"Hello, world!\" to it."
   ]
  },
  {
   "cell_type": "code",
   "execution_count": null,
   "id": "bc7ef311",
   "metadata": {},
   "outputs": [],
   "source": []
  },
  {
   "cell_type": "markdown",
   "id": "2eb14fdc",
   "metadata": {},
   "source": [
    "4. Write a program that opens a file named \"input.txt\" and copies its contents to a new file named \"output.txt\"."
   ]
  },
  {
   "cell_type": "code",
   "execution_count": null,
   "id": "f772bb65",
   "metadata": {},
   "outputs": [],
   "source": []
  },
  {
   "cell_type": "markdown",
   "id": "d2787084",
   "metadata": {},
   "source": [
    "5. Write a program that opens a file named \"example.txt\" and displays the number of words in it."
   ]
  },
  {
   "cell_type": "code",
   "execution_count": null,
   "id": "b0799d04",
   "metadata": {},
   "outputs": [],
   "source": []
  },
  {
   "cell_type": "markdown",
   "id": "ac331c11",
   "metadata": {},
   "source": [
    "6. Write a program that opens a file named \"example.txt\" and displays the number of lines in it."
   ]
  },
  {
   "cell_type": "code",
   "execution_count": null,
   "id": "f7a88f81",
   "metadata": {},
   "outputs": [],
   "source": []
  },
  {
   "cell_type": "markdown",
   "id": "45e63083",
   "metadata": {},
   "source": [
    "7. Write a program that opens a file named \"example.txt\" and displays the longest line in it."
   ]
  },
  {
   "cell_type": "code",
   "execution_count": null,
   "id": "22e23a72",
   "metadata": {},
   "outputs": [],
   "source": []
  },
  {
   "cell_type": "markdown",
   "id": "cb786d2a",
   "metadata": {},
   "source": [
    "8. Write a program that opens a file named \"input.txt\" and replaces all occurrences of the word \"hello\" with \"hi\"."
   ]
  },
  {
   "cell_type": "code",
   "execution_count": null,
   "id": "ef289f4b",
   "metadata": {},
   "outputs": [],
   "source": []
  },
  {
   "cell_type": "markdown",
   "id": "15e07cdf",
   "metadata": {},
   "source": [
    "9. Write a program that opens a file named \"input.txt\" and sorts its lines alphabetically, and then writes the sorted lines to a new file named \"output.txt\"."
   ]
  },
  {
   "cell_type": "code",
   "execution_count": null,
   "id": "b1836ef6",
   "metadata": {},
   "outputs": [],
   "source": []
  },
  {
   "cell_type": "markdown",
   "id": "34df18ed",
   "metadata": {},
   "source": [
    "10. Write a program that opens a file named \"input.txt\" and reads its contents, and then creates a new file named \"output.txt\" with the same contents in reverse order."
   ]
  },
  {
   "cell_type": "code",
   "execution_count": null,
   "id": "6d10857d",
   "metadata": {},
   "outputs": [],
   "source": []
  },
  {
   "cell_type": "markdown",
   "id": "372ed10a",
   "metadata": {},
   "source": [
    "11. Write a program that opens a file named \"example.txt\" and displays the number of characters in it."
   ]
  },
  {
   "cell_type": "code",
   "execution_count": null,
   "id": "0a7f7c9c",
   "metadata": {},
   "outputs": [],
   "source": []
  },
  {
   "cell_type": "markdown",
   "id": "4410b304",
   "metadata": {},
   "source": [
    "12. Write a program that opens a file named \"example.txt\" and displays the number of times a specific word appears in it."
   ]
  },
  {
   "cell_type": "code",
   "execution_count": null,
   "id": "45e635d1",
   "metadata": {},
   "outputs": [],
   "source": []
  },
  {
   "cell_type": "markdown",
   "id": "e36fcf4e",
   "metadata": {},
   "source": [
    "13. Write a program that opens a file named \"input.txt\" and removes all empty lines from it, and then writes the remaining lines to a new file named \"output.txt\"."
   ]
  },
  {
   "cell_type": "code",
   "execution_count": null,
   "id": "0efe8f1a",
   "metadata": {},
   "outputs": [],
   "source": []
  },
  {
   "cell_type": "markdown",
   "id": "d5039f79",
   "metadata": {},
   "source": [
    "14. Write a program that opens a file named \"input.txt\" and calculates the average word length in it."
   ]
  },
  {
   "cell_type": "code",
   "execution_count": null,
   "id": "6ef78fcb",
   "metadata": {},
   "outputs": [],
   "source": []
  },
  {
   "cell_type": "markdown",
   "id": "2f93f9d8",
   "metadata": {},
   "source": [
    "15. Write a program that opens a file named \"input.txt\" and removes all occurrences of a specific word from it, and then writes the remaining lines to a new file named \"output.txt\"."
   ]
  },
  {
   "cell_type": "code",
   "execution_count": null,
   "id": "302b5761",
   "metadata": {},
   "outputs": [],
   "source": []
  },
  {
   "cell_type": "markdown",
   "id": "950422d8",
   "metadata": {},
   "source": [
    "16. Write a program that opens a file named \"input.txt\" and displays the number of unique words in it."
   ]
  },
  {
   "cell_type": "code",
   "execution_count": null,
   "id": "d522990e",
   "metadata": {},
   "outputs": [],
   "source": []
  },
  {
   "cell_type": "markdown",
   "id": "be43880c",
   "metadata": {},
   "source": [
    "17. Write a program that opens a file named \"example.txt\" and displays the number of times each word appears in it."
   ]
  },
  {
   "cell_type": "code",
   "execution_count": null,
   "id": "8dfa76e7",
   "metadata": {},
   "outputs": [],
   "source": []
  },
  {
   "cell_type": "markdown",
   "id": "7dd87be7",
   "metadata": {},
   "source": [
    "18. Write a program that opens a file named \"input.txt\" and removes all non-alphanumeric characters from it, and then writes the remaining lines to a new file named \"output.txt\"."
   ]
  },
  {
   "cell_type": "code",
   "execution_count": null,
   "id": "aaf51c74",
   "metadata": {},
   "outputs": [],
   "source": []
  },
  {
   "cell_type": "markdown",
   "id": "d0a87635",
   "metadata": {},
   "source": [
    "19. Write a program that opens a file named \"input.txt\" and displays the average line length in it."
   ]
  },
  {
   "cell_type": "code",
   "execution_count": null,
   "id": "fed4d514",
   "metadata": {},
   "outputs": [],
   "source": []
  },
  {
   "cell_type": "markdown",
   "id": "cfd68a8f",
   "metadata": {},
   "source": [
    "20. Write a program that opens a file named \"example.txt\" and replaces all occurrences of a specific word with a user input word."
   ]
  },
  {
   "cell_type": "code",
   "execution_count": null,
   "id": "b2e55e42",
   "metadata": {},
   "outputs": [],
   "source": []
  },
  {
   "cell_type": "markdown",
   "id": "acf9f0ef",
   "metadata": {},
   "source": [
    "1. Create a module named \"math_ops\" that contains functions to add, subtract, multiply and divide two numbers."
   ]
  },
  {
   "cell_type": "code",
   "execution_count": null,
   "id": "b998ca08",
   "metadata": {},
   "outputs": [],
   "source": []
  },
  {
   "cell_type": "markdown",
   "id": "a0f01740",
   "metadata": {},
   "source": [
    "2. Create a package named \"my_package\" that contains a module named \"my_module\" which prints \"Hello, World!\" when imported."
   ]
  },
  {
   "cell_type": "code",
   "execution_count": null,
   "id": "5685c7c8",
   "metadata": {},
   "outputs": [],
   "source": []
  },
  {
   "cell_type": "markdown",
   "id": "f0a1fa0e",
   "metadata": {},
   "source": [
    "3. Create a module named \"string_ops\" that contains a function to reverse a string."
   ]
  },
  {
   "cell_type": "code",
   "execution_count": null,
   "id": "01c7f52f",
   "metadata": {},
   "outputs": [],
   "source": []
  },
  {
   "cell_type": "markdown",
   "id": "9fe73a85",
   "metadata": {},
   "source": [
    "4. Create a package named \"my_package\" that contains a module named \"my_module\" which calculates the area of a circle."
   ]
  },
  {
   "cell_type": "code",
   "execution_count": null,
   "id": "13a68831",
   "metadata": {},
   "outputs": [],
   "source": []
  },
  {
   "cell_type": "markdown",
   "id": "fc254e71",
   "metadata": {},
   "source": [
    "5. Create a module named \"file_ops\" that contains a function to read a file and return its contents."
   ]
  },
  {
   "cell_type": "code",
   "execution_count": null,
   "id": "eb00a21f",
   "metadata": {},
   "outputs": [],
   "source": []
  },
  {
   "cell_type": "markdown",
   "id": "51d16b03",
   "metadata": {},
   "source": [
    "6. Create a package named \"my_package\" that contains a module named \"my_module\" which prints the Fibonacci sequence up to a specified number."
   ]
  },
  {
   "cell_type": "code",
   "execution_count": null,
   "id": "236813c3",
   "metadata": {},
   "outputs": [],
   "source": []
  },
  {
   "cell_type": "markdown",
   "id": "bc6c268e",
   "metadata": {},
   "source": [
    "7. Create a module named \"date_ops\" that contains functions to get the current date and time, and to convert a date string to a datetime object."
   ]
  },
  {
   "cell_type": "code",
   "execution_count": null,
   "id": "73a28022",
   "metadata": {},
   "outputs": [],
   "source": []
  },
  {
   "cell_type": "markdown",
   "id": "57b7a5ff",
   "metadata": {},
   "source": [
    "8. Create a package named \"my_package\" that contains a module named \"my_module\" which calculates the factorial of a number."
   ]
  },
  {
   "cell_type": "code",
   "execution_count": null,
   "id": "0aeed15b",
   "metadata": {},
   "outputs": [],
   "source": []
  },
  {
   "cell_type": "markdown",
   "id": "9ccf04f5",
   "metadata": {},
   "source": [
    "9. Create a module named \"list_ops\" that contains a function to sort a list in ascending order."
   ]
  },
  {
   "cell_type": "code",
   "execution_count": null,
   "id": "1f5923b8",
   "metadata": {},
   "outputs": [],
   "source": []
  },
  {
   "cell_type": "markdown",
   "id": "e5f012c7",
   "metadata": {},
   "source": [
    "10. Create a package named \"my_package\" that contains a module named \"my_module\" which calculates the sum of the first n numbers."
   ]
  },
  {
   "cell_type": "code",
   "execution_count": null,
   "id": "1bc09fe4",
   "metadata": {},
   "outputs": [],
   "source": []
  },
  {
   "cell_type": "markdown",
   "id": "2279d734",
   "metadata": {},
   "source": [
    "11. Create a module named \"random_ops\" that contains a function to generate a random number between two specified values."
   ]
  },
  {
   "cell_type": "code",
   "execution_count": null,
   "id": "7bd82cbc",
   "metadata": {},
   "outputs": [],
   "source": []
  },
  {
   "cell_type": "markdown",
   "id": "6b18f2e8",
   "metadata": {},
   "source": [
    "12. Create a package named \"my_package\" that contains a module named \"my_module\" which calculates the area of a rectangle."
   ]
  },
  {
   "cell_type": "code",
   "execution_count": null,
   "id": "ed096781",
   "metadata": {},
   "outputs": [],
   "source": []
  },
  {
   "cell_type": "markdown",
   "id": "6173e20b",
   "metadata": {},
   "source": [
    "13. Create a module named \"string_ops\" that contains a function to count the number of vowels in a string."
   ]
  },
  {
   "cell_type": "code",
   "execution_count": null,
   "id": "6427078f",
   "metadata": {},
   "outputs": [],
   "source": []
  },
  {
   "cell_type": "markdown",
   "id": "b2395712",
   "metadata": {},
   "source": [
    "14. Create a package named \"my_package\" that contains a module named \"my_module\" which calculates the area of a triangle."
   ]
  },
  {
   "cell_type": "code",
   "execution_count": null,
   "id": "7b387a80",
   "metadata": {},
   "outputs": [],
   "source": []
  },
  {
   "cell_type": "markdown",
   "id": "7b52be12",
   "metadata": {},
   "source": [
    "15. Create a module named \"file_ops\" that contains a function to write a list of strings to a file."
   ]
  },
  {
   "cell_type": "code",
   "execution_count": null,
   "id": "d468c8ec",
   "metadata": {},
   "outputs": [],
   "source": []
  },
  {
   "cell_type": "markdown",
   "id": "9be16c21",
   "metadata": {},
   "source": [
    "16. Create a package named \"my_package\" that contains a module named \"my_module\" which checks whether a number is prime."
   ]
  },
  {
   "cell_type": "code",
   "execution_count": null,
   "id": "8f2c7331",
   "metadata": {},
   "outputs": [],
   "source": []
  },
  {
   "cell_type": "markdown",
   "id": "0e6663b3",
   "metadata": {},
   "source": [
    "17. Create a module named \"date_ops\" that contains a function to calculate the difference between two dates in days."
   ]
  },
  {
   "cell_type": "code",
   "execution_count": null,
   "id": "b6e2af30",
   "metadata": {},
   "outputs": [],
   "source": []
  },
  {
   "cell_type": "markdown",
   "id": "f185204d",
   "metadata": {},
   "source": [
    "18. Create a package named \"my_package\" that contains a module named \"my_module\" which calculates the area of a square."
   ]
  },
  {
   "cell_type": "code",
   "execution_count": null,
   "id": "3c8874ea",
   "metadata": {},
   "outputs": [],
   "source": []
  },
  {
   "cell_type": "markdown",
   "id": "a761b6e4",
   "metadata": {},
   "source": [
    "19. Create a module named \"list_ops\" that contains a function to remove duplicates from a list."
   ]
  },
  {
   "cell_type": "code",
   "execution_count": null,
   "id": "719ca603",
   "metadata": {},
   "outputs": [],
   "source": []
  },
  {
   "cell_type": "markdown",
   "id": "de6226d2",
   "metadata": {},
   "source": [
    "20. Create a package named \"my_package\" that contains a module named \"my_module\" which calculates the sum of a list of numbers."
   ]
  },
  {
   "cell_type": "code",
   "execution_count": null,
   "id": "bc420d26",
   "metadata": {},
   "outputs": [],
   "source": []
  },
  {
   "cell_type": "markdown",
   "id": "ddd47a14",
   "metadata": {},
   "source": [
    "1. Write a Python program that catches a ZeroDivisionError and prints a message to the user."
   ]
  },
  {
   "cell_type": "code",
   "execution_count": null,
   "id": "257e1785",
   "metadata": {},
   "outputs": [],
   "source": []
  },
  {
   "cell_type": "markdown",
   "id": "74036740",
   "metadata": {},
   "source": [
    "2. Write a Python function that takes a list as input and returns the first element of the list. If the list is empty, raise an IndexError."
   ]
  },
  {
   "cell_type": "code",
   "execution_count": null,
   "id": "7199b749",
   "metadata": {},
   "outputs": [],
   "source": []
  },
  {
   "cell_type": "markdown",
   "id": "a7edc590",
   "metadata": {},
   "source": [
    "3. Write a Python program that uses a try-except block to handle a NameError."
   ]
  },
  {
   "cell_type": "code",
   "execution_count": null,
   "id": "afd3f37c",
   "metadata": {},
   "outputs": [],
   "source": []
  },
  {
   "cell_type": "markdown",
   "id": "835626a7",
   "metadata": {},
   "source": [
    "4. Write a Python program that reads a file and catches a FileNotFoundError. If the file is found, print the contents of the file."
   ]
  },
  {
   "cell_type": "code",
   "execution_count": null,
   "id": "059a6e47",
   "metadata": {},
   "outputs": [],
   "source": []
  },
  {
   "cell_type": "markdown",
   "id": "6f11c452",
   "metadata": {},
   "source": [
    "5. Write a Python function that takes two integers as input and returns their sum. If the input is not an integer, raise a TypeError."
   ]
  },
  {
   "cell_type": "code",
   "execution_count": null,
   "id": "8021bb8c",
   "metadata": {},
   "outputs": [],
   "source": []
  },
  {
   "cell_type": "markdown",
   "id": "4584c30e",
   "metadata": {},
   "source": [
    "6. Write a Python program that connects to a database and catches a ConnectionError."
   ]
  },
  {
   "cell_type": "code",
   "execution_count": null,
   "id": "7c191dd9",
   "metadata": {},
   "outputs": [],
   "source": []
  },
  {
   "cell_type": "markdown",
   "id": "2b2e00c0",
   "metadata": {},
   "source": [
    "7. Write a Python function that takes a string as input and returns the string in all uppercase letters. If the input is not a string, raise a TypeError."
   ]
  },
  {
   "cell_type": "code",
   "execution_count": null,
   "id": "3f22654d",
   "metadata": {},
   "outputs": [],
   "source": []
  },
  {
   "cell_type": "markdown",
   "id": "f4c978a0",
   "metadata": {},
   "source": [
    "8. Write a Python program that reads a file and catches an IOError. If the file is found, print the contents of the file."
   ]
  },
  {
   "cell_type": "code",
   "execution_count": null,
   "id": "e560aacb",
   "metadata": {},
   "outputs": [],
   "source": []
  },
  {
   "cell_type": "markdown",
   "id": "a3b3326f",
   "metadata": {},
   "source": [
    "9. Write a Python function that takes a list as input and returns the last element of the list. If the list is empty, raise an IndexError."
   ]
  },
  {
   "cell_type": "code",
   "execution_count": null,
   "id": "905c05e2",
   "metadata": {},
   "outputs": [],
   "source": []
  },
  {
   "cell_type": "markdown",
   "id": "c46c252d",
   "metadata": {},
   "source": [
    "10. Write a Python program that catches a KeyError and prints a message to the user."
   ]
  },
  {
   "cell_type": "code",
   "execution_count": null,
   "id": "0cb6bc20",
   "metadata": {},
   "outputs": [],
   "source": []
  },
  {
   "cell_type": "markdown",
   "id": "d3ffdb45",
   "metadata": {},
   "source": [
    "11. Write a Python function that takes a number as input and returns the square of the number. If the input is not a number, raise a TypeError."
   ]
  },
  {
   "cell_type": "code",
   "execution_count": null,
   "id": "d56a2fb1",
   "metadata": {},
   "outputs": [],
   "source": []
  },
  {
   "cell_type": "markdown",
   "id": "8d261e7d",
   "metadata": {},
   "source": [
    "12. Write a Python program that catches an EOFError and prints a message to the user."
   ]
  },
  {
   "cell_type": "code",
   "execution_count": null,
   "id": "a6703cd9",
   "metadata": {},
   "outputs": [],
   "source": []
  },
  {
   "cell_type": "markdown",
   "id": "db01a6a9",
   "metadata": {},
   "source": [
    "13. Write a Python function that takes a string as input and returns the string in all lowercase letters. If the input is not a string, raise a TypeError."
   ]
  },
  {
   "cell_type": "code",
   "execution_count": null,
   "id": "cafd7d1d",
   "metadata": {},
   "outputs": [],
   "source": []
  },
  {
   "cell_type": "markdown",
   "id": "8d2a11bc",
   "metadata": {},
   "source": [
    "14. Write a Python program that reads a file and catches a UnicodeError. If the file is found, print the contents of the file."
   ]
  },
  {
   "cell_type": "code",
   "execution_count": null,
   "id": "7494a5d8",
   "metadata": {},
   "outputs": [],
   "source": []
  },
  {
   "cell_type": "markdown",
   "id": "9faa93a7",
   "metadata": {},
   "source": [
    "15. Write a Python function that takes a list as input and returns the length of the list. If the input is not a list, raise a TypeError."
   ]
  },
  {
   "cell_type": "code",
   "execution_count": null,
   "id": "3fe04570",
   "metadata": {},
   "outputs": [],
   "source": []
  },
  {
   "cell_type": "markdown",
   "id": "5c09d47d",
   "metadata": {},
   "source": [
    "1. Create a Person class with attributes name and age. Write a method that prints the name and age of a person object."
   ]
  },
  {
   "cell_type": "code",
   "execution_count": null,
   "id": "40253ae2",
   "metadata": {},
   "outputs": [],
   "source": []
  },
  {
   "cell_type": "markdown",
   "id": "ccd59c38",
   "metadata": {},
   "source": [
    "2. Create a Rectangle class with attributes width and height. Write a method that calculates the area of a rectangle object."
   ]
  },
  {
   "cell_type": "code",
   "execution_count": null,
   "id": "91c48600",
   "metadata": {},
   "outputs": [],
   "source": []
  },
  {
   "cell_type": "markdown",
   "id": "881aee4e",
   "metadata": {},
   "source": [
    "3. Create a BankAccount class with attributes balance and owner. Write methods that allow a user to deposit and withdraw money from their account."
   ]
  },
  {
   "cell_type": "code",
   "execution_count": null,
   "id": "22e87705",
   "metadata": {},
   "outputs": [],
   "source": []
  },
  {
   "cell_type": "markdown",
   "id": "b357bb6c",
   "metadata": {},
   "source": [
    "4. Create a Car class with attributes make, model, and year. Write a method that prints the make, model, and year of a car object."
   ]
  },
  {
   "cell_type": "code",
   "execution_count": null,
   "id": "eb991d95",
   "metadata": {},
   "outputs": [],
   "source": []
  },
  {
   "cell_type": "markdown",
   "id": "3c44f4be",
   "metadata": {},
   "source": [
    "5. Create a Dog class with attributes name, breed, and age. Write a method that prints the name, breed, and age of a dog object."
   ]
  },
  {
   "cell_type": "code",
   "execution_count": null,
   "id": "b58aa70a",
   "metadata": {},
   "outputs": [],
   "source": []
  },
  {
   "cell_type": "markdown",
   "id": "3ac9c9b2",
   "metadata": {},
   "source": [
    "6. Create a Student class with attributes name, id, and courses. Write a method that adds a new course to a student object's course list."
   ]
  },
  {
   "cell_type": "code",
   "execution_count": null,
   "id": "a6e6c2b3",
   "metadata": {},
   "outputs": [],
   "source": []
  },
  {
   "cell_type": "markdown",
   "id": "66aaeba2",
   "metadata": {},
   "source": [
    "7. Create a Book class with attributes title, author, and year_published. Write a method that prints the title, author, and year of publication of a book object."
   ]
  },
  {
   "cell_type": "code",
   "execution_count": null,
   "id": "adcb038b",
   "metadata": {},
   "outputs": [],
   "source": []
  },
  {
   "cell_type": "markdown",
   "id": "4c5db1c9",
   "metadata": {},
   "source": [
    "8. Create a Bank class with attributes name and accounts. Write a method that adds a new account to the bank's account list."
   ]
  },
  {
   "cell_type": "code",
   "execution_count": null,
   "id": "31118975",
   "metadata": {},
   "outputs": [],
   "source": []
  },
  {
   "cell_type": "markdown",
   "id": "b84d5725",
   "metadata": {},
   "source": [
    "9. Create a Shape class with a method that calculates the area of a shape object. Create subclasses Triangle, Rectangle, and Circle that inherit from Shape and define their own methods for calculating area."
   ]
  },
  {
   "cell_type": "code",
   "execution_count": null,
   "id": "a2e98145",
   "metadata": {},
   "outputs": [],
   "source": []
  },
  {
   "cell_type": "markdown",
   "id": "e5b6ff56",
   "metadata": {},
   "source": [
    "10. Create a Song class with attributes title, artist, and album. Write a method that prints the title, artist, and album of a song object."
   ]
  },
  {
   "cell_type": "code",
   "execution_count": null,
   "id": "d55185c8",
   "metadata": {},
   "outputs": [],
   "source": []
  },
  {
   "cell_type": "markdown",
   "id": "fc6ce743",
   "metadata": {},
   "source": [
    "11. Create a Computer class with attributes brand, model, and price. Write a method that prints the brand, model, and price of a computer object."
   ]
  },
  {
   "cell_type": "code",
   "execution_count": null,
   "id": "ca8a2935",
   "metadata": {},
   "outputs": [],
   "source": []
  },
  {
   "cell_type": "markdown",
   "id": "c31f9667",
   "metadata": {},
   "source": [
    "12. Create a Movie class with attributes title, director, and year. Write a method that prints the title, director, and year of a movie object."
   ]
  },
  {
   "cell_type": "code",
   "execution_count": null,
   "id": "0e85a4e1",
   "metadata": {},
   "outputs": [],
   "source": []
  },
  {
   "cell_type": "markdown",
   "id": "ffba7274",
   "metadata": {},
   "source": [
    "13. Create a BankCustomer class with attributes name, address, and accounts. Write a method that adds a new account to a customer's account list."
   ]
  },
  {
   "cell_type": "code",
   "execution_count": null,
   "id": "35bd7b59",
   "metadata": {},
   "outputs": [],
   "source": []
  },
  {
   "cell_type": "markdown",
   "id": "c832661e",
   "metadata": {},
   "source": [
    "14. Create a Animal class with a method that prints the sound that the animal makes. Create subclasses Dog, Cat, and Bird that inherit from Animal and define their own methods for making sound."
   ]
  },
  {
   "cell_type": "code",
   "execution_count": null,
   "id": "77c72c14",
   "metadata": {},
   "outputs": [],
   "source": []
  },
  {
   "cell_type": "markdown",
   "id": "3ec64dd8",
   "metadata": {},
   "source": [
    "15. Create a Person class with attributes name, age, and gender. Write a method that prints the name, age, and gender of a person object. Create a subclass Employee that inherits from Person and adds an attribute salary. Write a method that prints the salary of an employee object."
   ]
  },
  {
   "cell_type": "code",
   "execution_count": null,
   "id": "b5be7d5f",
   "metadata": {},
   "outputs": [],
   "source": []
  },
  {
   "cell_type": "markdown",
   "id": "532519ed",
   "metadata": {},
   "source": [
    "1. Write a program that defines a class Animal with a method speak() that prints out a message. Then, create a subclass Dog and override the speak() method to bark. Finally, create an instance of the Dog class and call the speak() method."
   ]
  },
  {
   "cell_type": "code",
   "execution_count": null,
   "id": "aade6d6d",
   "metadata": {},
   "outputs": [],
   "source": []
  },
  {
   "cell_type": "markdown",
   "id": "cd80e01f",
   "metadata": {},
   "source": [
    "2. Create a class Shape with an instance variable area and a method calculate_area(). Then, create subclasses Rectangle and Triangle that override the calculate_area() method. The Rectangle class should have instance variables length and width, while the Triangle class should have instance variables base and height."
   ]
  },
  {
   "cell_type": "code",
   "execution_count": null,
   "id": "ea47a232",
   "metadata": {},
   "outputs": [],
   "source": []
  },
  {
   "cell_type": "markdown",
   "id": "f17c8144",
   "metadata": {},
   "source": [
    "3. Create a class Person with instance variables name and age, and a method greet() that prints a greeting message. Then, create a subclass Student with instance variables student_id and courses, and override the greet() method to print a different greeting message."
   ]
  },
  {
   "cell_type": "code",
   "execution_count": null,
   "id": "6f179427",
   "metadata": {},
   "outputs": [],
   "source": []
  },
  {
   "cell_type": "markdown",
   "id": "24b67527",
   "metadata": {},
   "source": [
    "4. Create a class Calculator with instance methods add() and subtract(). Then, create a subclass ScientificCalculator that inherits from Calculator and adds instance methods sin() and cos(). Finally, create an instance of the ScientificCalculator class and call the sin() method."
   ]
  },
  {
   "cell_type": "code",
   "execution_count": null,
   "id": "0a8bc1b5",
   "metadata": {},
   "outputs": [],
   "source": []
  },
  {
   "cell_type": "markdown",
   "id": "9e60246c",
   "metadata": {},
   "source": [
    "5. Create a class Employee with instance variables name and salary, and a method get_details() that prints out the employee's details. Then, create a subclass Manager that overrides the get_details() method to print additional information about the manager."
   ]
  },
  {
   "cell_type": "code",
   "execution_count": null,
   "id": "3d2d309a",
   "metadata": {},
   "outputs": [],
   "source": []
  },
  {
   "cell_type": "markdown",
   "id": "1488bd09",
   "metadata": {},
   "source": [
    "6. Create a class Animal with instance variables name and species, and a method move(). Then, create a subclass Bird with an additional instance variable wingspan and an overridden move() method that prints \"flying\". Finally, create an instance of the Bird class and call the move() method."
   ]
  },
  {
   "cell_type": "code",
   "execution_count": null,
   "id": "fee71fc5",
   "metadata": {},
   "outputs": [],
   "source": []
  },
  {
   "cell_type": "markdown",
   "id": "ada6496c",
   "metadata": {},
   "source": [
    "7. Create a class BankAccount with instance variables balance and interest_rate, and methods deposit() and withdraw(). Then, create a subclass CheckingAccount that overrides the withdraw() method to deduct a transaction fee. Finally, create an instance of the CheckingAccount class and call the withdraw() method."
   ]
  },
  {
   "cell_type": "code",
   "execution_count": null,
   "id": "8cebad9c",
   "metadata": {},
   "outputs": [],
   "source": []
  },
  {
   "cell_type": "markdown",
   "id": "fb2d9c09",
   "metadata": {},
   "source": [
    "8. Create a class Vehicle with instance variables make, model, and year, and a method drive(). Then, create a subclass Car with an additional instance variable color and an overridden drive() method that prints \"driving a car\". Finally, create an instance of the Car class and call the drive() method."
   ]
  },
  {
   "cell_type": "code",
   "execution_count": null,
   "id": "a90d15be",
   "metadata": {},
   "outputs": [],
   "source": []
  },
  {
   "cell_type": "markdown",
   "id": "e5ffda07",
   "metadata": {},
   "source": [
    "9. Create a class Shape with instance variables length and width, and a method area(). Then, create subclasses Rectangle and Square that override the area() method. The Rectangle class should have an additional instance variable height, while the Square class should have only one instance variable side."
   ]
  },
  {
   "cell_type": "code",
   "execution_count": null,
   "id": "2b4e3fc3",
   "metadata": {},
   "outputs": [],
   "source": []
  },
  {
   "cell_type": "markdown",
   "id": "33451868",
   "metadata": {},
   "source": [
    "10. Create a class Person with instance variables name and age, and a method introduce() that prints a message introducing the person. Then, create a subclass Student with an additional instance variable school and an overridden introduce() method that includes the school name."
   ]
  },
  {
   "cell_type": "code",
   "execution_count": null,
   "id": "59ab0aba",
   "metadata": {},
   "outputs": [],
   "source": []
  },
  {
   "cell_type": "markdown",
   "id": "ef5b6397",
   "metadata": {},
   "source": [
    "1. Create a decorator that prints the execution time of a function."
   ]
  },
  {
   "cell_type": "code",
   "execution_count": null,
   "id": "19202bc5",
   "metadata": {},
   "outputs": [],
   "source": []
  },
  {
   "cell_type": "markdown",
   "id": "9d315a26",
   "metadata": {},
   "source": [
    "2. Create a decorator that logs the input arguments and return value of a function."
   ]
  },
  {
   "cell_type": "code",
   "execution_count": null,
   "id": "1c8f95bf",
   "metadata": {},
   "outputs": [],
   "source": []
  },
  {
   "cell_type": "markdown",
   "id": "d06c687c",
   "metadata": {},
   "source": [
    "3. Create a decorator that adds a prefix to the output of a function."
   ]
  },
  {
   "cell_type": "code",
   "execution_count": null,
   "id": "bcd72e1c",
   "metadata": {},
   "outputs": [],
   "source": []
  },
  {
   "cell_type": "markdown",
   "id": "c2fcc95f",
   "metadata": {},
   "source": [
    "4. Create a decorator that transforms the output of a function into uppercase."
   ]
  },
  {
   "cell_type": "code",
   "execution_count": null,
   "id": "b345b7db",
   "metadata": {},
   "outputs": [],
   "source": []
  },
  {
   "cell_type": "markdown",
   "id": "8a986129",
   "metadata": {},
   "source": [
    "5. Create a decorator that validates the input arguments of a function."
   ]
  },
  {
   "cell_type": "code",
   "execution_count": null,
   "id": "66a57559",
   "metadata": {},
   "outputs": [],
   "source": []
  },
  {
   "cell_type": "markdown",
   "id": "50fc9f5f",
   "metadata": {},
   "source": [
    "6. Create a decorator that times the execution of a function and logs the result to a file."
   ]
  },
  {
   "cell_type": "code",
   "execution_count": null,
   "id": "abb99a44",
   "metadata": {},
   "outputs": [],
   "source": []
  },
  {
   "cell_type": "markdown",
   "id": "5214f1c6",
   "metadata": {},
   "source": [
    "7. Create a decorator that validates the return value of a function."
   ]
  },
  {
   "cell_type": "code",
   "execution_count": null,
   "id": "85438b46",
   "metadata": {},
   "outputs": [],
   "source": []
  },
  {
   "cell_type": "markdown",
   "id": "e0da1661",
   "metadata": {},
   "source": [
    "8. Create a decorator that adds a suffix to the output of a function."
   ]
  },
  {
   "cell_type": "code",
   "execution_count": null,
   "id": "10518217",
   "metadata": {},
   "outputs": [],
   "source": []
  },
  {
   "cell_type": "markdown",
   "id": "e83c3ee7",
   "metadata": {},
   "source": [
    "1. Define a class Person with a class-level variable count that keeps track of the number of instances of the class created. Implement a method get_count that returns the value of count."
   ]
  },
  {
   "cell_type": "code",
   "execution_count": null,
   "id": "b7e3abf5",
   "metadata": {},
   "outputs": [],
   "source": []
  },
  {
   "cell_type": "markdown",
   "id": "4fdce959",
   "metadata": {},
   "source": [
    "2. Create a class Rectangle with class-level variables width and height. Implement a method get_area that returns the area of the rectangle."
   ]
  },
  {
   "cell_type": "code",
   "execution_count": null,
   "id": "920508b1",
   "metadata": {},
   "outputs": [],
   "source": []
  },
  {
   "cell_type": "markdown",
   "id": "988a73a1",
   "metadata": {},
   "source": [
    "3. Define a class Shape with a class-level variable count that keeps track of the number of instances of the class created. Implement a class method get_count that returns the value of count."
   ]
  },
  {
   "cell_type": "code",
   "execution_count": null,
   "id": "f3022489",
   "metadata": {},
   "outputs": [],
   "source": []
  },
  {
   "cell_type": "markdown",
   "id": "c2866314",
   "metadata": {},
   "source": [
    "4. Create a class Employee with class-level variables name and salary. Implement a static method calculate_bonus that calculates the bonus for an employee based on their salary."
   ]
  },
  {
   "cell_type": "code",
   "execution_count": null,
   "id": "3a8596f1",
   "metadata": {},
   "outputs": [],
   "source": []
  },
  {
   "cell_type": "markdown",
   "id": "58f64f2c",
   "metadata": {},
   "source": [
    "5. Define a class Vehicle with class-level variables wheels and speed. Implement a method get_max_speed that returns the maximum speed of the vehicle."
   ]
  },
  {
   "cell_type": "code",
   "execution_count": null,
   "id": "ac855e5b",
   "metadata": {},
   "outputs": [],
   "source": []
  },
  {
   "cell_type": "markdown",
   "id": "b7a9741e",
   "metadata": {},
   "source": [
    "6. Create a class BankAccount with class-level variables interest_rate and balance. Implement a method add_interest that adds interest to the account based on the interest rate."
   ]
  },
  {
   "cell_type": "code",
   "execution_count": null,
   "id": "015c66d3",
   "metadata": {},
   "outputs": [],
   "source": []
  },
  {
   "cell_type": "markdown",
   "id": "ffcd5b78",
   "metadata": {},
   "source": [
    "7. Define a class School with a class-level variable students that stores the number of students in the school. Implement a class method get_average_student_age that returns the average age of the students in the school."
   ]
  },
  {
   "cell_type": "code",
   "execution_count": null,
   "id": "89f9237b",
   "metadata": {},
   "outputs": [],
   "source": []
  },
  {
   "cell_type": "markdown",
   "id": "eb1b34c2",
   "metadata": {},
   "source": [
    "8. Create a class Book with class-level variables title, author, and publisher. Implement a static method search_by_author that returns a list of all books written by a given author."
   ]
  },
  {
   "cell_type": "code",
   "execution_count": null,
   "id": "127b858e",
   "metadata": {},
   "outputs": [],
   "source": []
  },
  {
   "cell_type": "markdown",
   "id": "61305f41",
   "metadata": {},
   "source": [
    "9. Define a class Animal with class-level variables name and species. Implement a method get_habitat that returns the habitat of the animal based on its species."
   ]
  },
  {
   "cell_type": "code",
   "execution_count": null,
   "id": "ec04e65a",
   "metadata": {},
   "outputs": [],
   "source": []
  },
  {
   "cell_type": "markdown",
   "id": "d588c5dc",
   "metadata": {},
   "source": [
    "10. Create a class Circle with class-level variables radius and pi (set to 3.14). Implement a method get_circumference that returns the circumference of the circle."
   ]
  },
  {
   "cell_type": "code",
   "execution_count": null,
   "id": "91da100b",
   "metadata": {},
   "outputs": [],
   "source": []
  },
  {
   "cell_type": "markdown",
   "id": "2fb24b70",
   "metadata": {},
   "source": [
    "11.   Define a class Game with class-level variables players and scoreboard. Implement a method add_player that adds a player to the game and updates the scoreboard accordingly."
   ]
  },
  {
   "cell_type": "code",
   "execution_count": null,
   "id": "cf46f139",
   "metadata": {},
   "outputs": [],
   "source": []
  },
  {
   "cell_type": "markdown",
   "id": "d3edcdba",
   "metadata": {},
   "source": [
    "12.   Create a class Bank with class-level variables accounts and transactions. Implement a static method get_account_balance that returns the balance of a given account number."
   ]
  },
  {
   "cell_type": "code",
   "execution_count": null,
   "id": "d7ec31d5",
   "metadata": {},
   "outputs": [],
   "source": []
  },
  {
   "cell_type": "markdown",
   "id": "6cf92231",
   "metadata": {},
   "source": [
    "13.   Define a class Playlist with class-level variables songs and current_song. Implement a method add_song that adds a song to the playlist and updates the current song accordingly."
   ]
  },
  {
   "cell_type": "code",
   "execution_count": null,
   "id": "b0b2532f",
   "metadata": {},
   "outputs": [],
   "source": []
  },
  {
   "cell_type": "markdown",
   "id": "6c049b4f",
   "metadata": {},
   "source": [
    "14.   Create a class Store with class-level variables inventory and sales. Implement a static method get_product_price that returns the price of a given product."
   ]
  },
  {
   "cell_type": "code",
   "execution_count": null,
   "id": "bd2f7abf",
   "metadata": {},
   "outputs": [],
   "source": []
  },
  {
   "cell_type": "markdown",
   "id": "4fa9a341",
   "metadata": {},
   "source": [
    "15.   Define a class Course with class-level variables students and assignments. Implement a method add_student that adds a student to the course and updates the assignments accordingly."
   ]
  },
  {
   "cell_type": "code",
   "execution_count": null,
   "id": "260d3c2e",
   "metadata": {},
   "outputs": [],
   "source": []
  },
  {
   "cell_type": "markdown",
   "id": "b7aa2366",
   "metadata": {},
   "source": [
    "16.   Create a class BankCard with class-level variables card_type and card_limit. Implement a static method get_card_balance that returns the available balance on a given bank card."
   ]
  },
  {
   "cell_type": "code",
   "execution_count": null,
   "id": "5472b20d",
   "metadata": {},
   "outputs": [],
   "source": []
  },
  {
   "cell_type": "markdown",
   "id": "8da3504d",
   "metadata": {},
   "source": [
    "17.   Define a class Playlist with class-level variables songs and current_song. Implement a class method get_song_count that returns the total number of songs in the playlist."
   ]
  },
  {
   "cell_type": "code",
   "execution_count": null,
   "id": "84918bda",
   "metadata": {},
   "outputs": [],
   "source": []
  },
  {
   "cell_type": "markdown",
   "id": "56768ffe",
   "metadata": {},
   "source": [
    "18.   Create a class Store with class-level variables inventory and sales. Implement a method add_sale that updates the inventory and sales when a product is sold."
   ]
  },
  {
   "cell_type": "code",
   "execution_count": null,
   "id": "b73487cd",
   "metadata": {},
   "outputs": [],
   "source": []
  },
  {
   "cell_type": "markdown",
   "id": "0eed8cfd",
   "metadata": {},
   "source": [
    "19.   Define a class Car with class-level variables make and model. Implement a static method get_car_info that returns a string with the make and model of the car."
   ]
  },
  {
   "cell_type": "code",
   "execution_count": null,
   "id": "9c328a7a",
   "metadata": {},
   "outputs": [],
   "source": []
  },
  {
   "cell_type": "markdown",
   "id": "a4ecdf01",
   "metadata": {},
   "source": [
    "20.   Create a class Bookstore with class-level variables books and book_sales. Implement a method add_book that adds a book to the bookstore and updates the book sales accordingly."
   ]
  },
  {
   "cell_type": "code",
   "execution_count": null,
   "id": "a99f4b2c",
   "metadata": {},
   "outputs": [],
   "source": []
  },
  {
   "cell_type": "markdown",
   "id": "b0089fe0",
   "metadata": {},
   "source": [
    "1. Write a Python class EvenNumbers that implements an iterator which returns even numbers from 0 to a given limit n. The class should have a constructor that takes n as a parameter."
   ]
  },
  {
   "cell_type": "code",
   "execution_count": null,
   "id": "1ba08c20",
   "metadata": {},
   "outputs": [],
   "source": []
  },
  {
   "cell_type": "markdown",
   "id": "c838efea",
   "metadata": {},
   "source": [
    "2. Implement a Python class Squares that generates an iterator for the squares of numbers from 1 to a given limit n. The class should have a constructor that takes n as a parameter."
   ]
  },
  {
   "cell_type": "code",
   "execution_count": null,
   "id": "aeebb041",
   "metadata": {},
   "outputs": [],
   "source": []
  },
  {
   "cell_type": "markdown",
   "id": "7b10ddc1",
   "metadata": {},
   "source": [
    "3. Write a Python program that uses the zip() built-in function and a custom iterator to iterate over two lists simultaneously. Define a class MyZip that takes two lists as input and generates tuples containing elements from the two lists at corresponding positions."
   ]
  },
  {
   "cell_type": "code",
   "execution_count": null,
   "id": "c5dd3c81",
   "metadata": {},
   "outputs": [],
   "source": []
  },
  {
   "cell_type": "markdown",
   "id": "2484a914",
   "metadata": {},
   "source": [
    "4. Implement a Python class Fibonacci that generates an iterator for the Fibonacci sequence up to a given limit n. The class should have a constructor that takes n as a parameter."
   ]
  },
  {
   "cell_type": "code",
   "execution_count": null,
   "id": "4f830c9b",
   "metadata": {},
   "outputs": [],
   "source": []
  },
  {
   "cell_type": "markdown",
   "id": "61ddda34",
   "metadata": {},
   "source": [
    "5. Create a Python class MyRange that implements an iterator that returns numbers from a given start to a given end with a given step size. The class should have a constructor that takes start, stop, and step as parameters."
   ]
  },
  {
   "cell_type": "code",
   "execution_count": null,
   "id": "5aaa114f",
   "metadata": {},
   "outputs": [],
   "source": []
  },
  {
   "cell_type": "markdown",
   "id": "c98d93d4",
   "metadata": {},
   "source": [
    "6. Write a Python program that uses a custom iterator to iterate over a dictionary in reverse order. Define a class ReverseDict that takes a dictionary as input and generates key-value pairs in reverse order."
   ]
  },
  {
   "cell_type": "code",
   "execution_count": null,
   "id": "abb26515",
   "metadata": {},
   "outputs": [],
   "source": []
  },
  {
   "cell_type": "markdown",
   "id": "ad366061",
   "metadata": {},
   "source": [
    "7. Implement a Python class Primes that generates an iterator for prime numbers up to a given limit n. The class should have a constructor that takes n as a parameter."
   ]
  },
  {
   "cell_type": "code",
   "execution_count": null,
   "id": "710de409",
   "metadata": {},
   "outputs": [],
   "source": []
  },
  {
   "cell_type": "markdown",
   "id": "fde1ad8c",
   "metadata": {},
   "source": [
    "8. Write a Python program that uses a custom iterator to iterate over a string in reverse order. Define a class ReverseString that takes a string as input and generates characters in reverse order."
   ]
  },
  {
   "cell_type": "code",
   "execution_count": null,
   "id": "ee20430b",
   "metadata": {},
   "outputs": [],
   "source": []
  },
  {
   "cell_type": "markdown",
   "id": "dc5a332b",
   "metadata": {},
   "source": [
    "9. Create a Python class MyEnumerate that implements an iterator that returns tuples containing the index and value of each element in a given list. The class should have a constructor that takes a list as a parameter."
   ]
  },
  {
   "cell_type": "code",
   "execution_count": null,
   "id": "36e58fb3",
   "metadata": {},
   "outputs": [],
   "source": []
  },
  {
   "cell_type": "markdown",
   "id": "7080fcc5",
   "metadata": {},
   "source": [
    "10. Implement a Python class Palindrome that generates an iterator for palindrome numbers up to a given limit n. The class should have a constructor that takes n as a parameter. A palindrome number is a number that remains the same when its digits are reversed."
   ]
  },
  {
   "cell_type": "code",
   "execution_count": null,
   "id": "1b0a2ac2",
   "metadata": {},
   "outputs": [],
   "source": []
  },
  {
   "cell_type": "markdown",
   "id": "fa1b8d08",
   "metadata": {},
   "source": [
    "1. Write a Python function that accepts a NumPy array and returns the sum of all the even numbers in the array."
   ]
  },
  {
   "cell_type": "code",
   "execution_count": null,
   "id": "c3f0ce8a",
   "metadata": {},
   "outputs": [],
   "source": []
  },
  {
   "cell_type": "markdown",
   "id": "47742a74",
   "metadata": {},
   "source": [
    "2. Write a Python function that accepts two NumPy arrays and returns their dot product."
   ]
  },
  {
   "cell_type": "code",
   "execution_count": null,
   "id": "6728446c",
   "metadata": {},
   "outputs": [],
   "source": []
  },
  {
   "cell_type": "markdown",
   "id": "2de2db65",
   "metadata": {},
   "source": [
    "3. Write a Python function that accepts a NumPy array and returns a new array with all the elements sorted in descending order."
   ]
  },
  {
   "cell_type": "code",
   "execution_count": null,
   "id": "49f6ab7c",
   "metadata": {},
   "outputs": [],
   "source": []
  },
  {
   "cell_type": "markdown",
   "id": "2c4fc45b",
   "metadata": {},
   "source": [
    "4. Write a Python function that accepts a NumPy array and returns the mean of the elements in the array."
   ]
  },
  {
   "cell_type": "code",
   "execution_count": null,
   "id": "edf9f6d8",
   "metadata": {},
   "outputs": [],
   "source": []
  },
  {
   "cell_type": "markdown",
   "id": "c1e88a45",
   "metadata": {},
   "source": [
    "5. Write a Python function that accepts a NumPy array and returns the standard deviation of the elements in the array."
   ]
  },
  {
   "cell_type": "code",
   "execution_count": null,
   "id": "3525fcac",
   "metadata": {},
   "outputs": [],
   "source": []
  },
  {
   "cell_type": "markdown",
   "id": "489f1a26",
   "metadata": {},
   "source": [
    "6. Write a Python function that accepts a NumPy array and returns the maximum value and its index in the array."
   ]
  },
  {
   "cell_type": "code",
   "execution_count": null,
   "id": "c7d78ffa",
   "metadata": {},
   "outputs": [],
   "source": []
  },
  {
   "cell_type": "markdown",
   "id": "1f1040fd",
   "metadata": {},
   "source": [
    "7. Write a Python function that accepts a NumPy array and returns a new array with only the unique elements in the original array."
   ]
  },
  {
   "cell_type": "code",
   "execution_count": null,
   "id": "e80f753d",
   "metadata": {},
   "outputs": [],
   "source": []
  },
  {
   "cell_type": "markdown",
   "id": "01574231",
   "metadata": {},
   "source": [
    "8. Write a Python function that accepts a NumPy array and returns a new array with all the elements raised to the power of two."
   ]
  },
  {
   "cell_type": "code",
   "execution_count": null,
   "id": "e14b8a05",
   "metadata": {},
   "outputs": [],
   "source": []
  },
  {
   "cell_type": "markdown",
   "id": "a9c05d3a",
   "metadata": {},
   "source": [
    "9. Write a Python function that accepts a NumPy array and returns a new array with only the elements that are greater than 5."
   ]
  },
  {
   "cell_type": "code",
   "execution_count": null,
   "id": "b36246e5",
   "metadata": {},
   "outputs": [],
   "source": []
  },
  {
   "cell_type": "markdown",
   "id": "c8bbcf7d",
   "metadata": {},
   "source": [
    "10. Write a Python function that accepts a NumPy array and returns a new array with the cumulative sum of the elements."
   ]
  },
  {
   "cell_type": "code",
   "execution_count": null,
   "id": "342ac3b4",
   "metadata": {},
   "outputs": [],
   "source": []
  },
  {
   "cell_type": "markdown",
   "id": "de5d99f0",
   "metadata": {},
   "source": [
    "\"#Series of sales amount with inconsistent data"
   ]
  },
  {
   "cell_type": "code",
   "execution_count": null,
   "id": "1abcbeed",
   "metadata": {},
   "outputs": [],
   "source": []
  },
  {
   "cell_type": "markdown",
   "id": "9ebb4544",
   "metadata": {},
   "source": [
    "[1000, 2000, 3000, 4000, '5000', '6000a', '7000b', '8000', '9000c', np.nan]1.      Use describe method and info method\""
   ]
  },
  {
   "cell_type": "code",
   "execution_count": null,
   "id": "473b1879",
   "metadata": {},
   "outputs": [],
   "source": []
  },
  {
   "cell_type": "markdown",
   "id": "cda6d7f2",
   "metadata": {},
   "source": [
    "\"#Series of sales amount with inconsistent data"
   ]
  },
  {
   "cell_type": "code",
   "execution_count": null,
   "id": "92147083",
   "metadata": {},
   "outputs": [],
   "source": []
  },
  {
   "cell_type": "markdown",
   "id": "b8453ad8",
   "metadata": {},
   "source": [
    "[1000, 2000, 3000, 4000, '5000', '6000a', '7000b', '8000', '9000c', np.nan]2.      Find duplicate value\""
   ]
  },
  {
   "cell_type": "code",
   "execution_count": null,
   "id": "ed965711",
   "metadata": {},
   "outputs": [],
   "source": []
  },
  {
   "cell_type": "markdown",
   "id": "c59f88ba",
   "metadata": {},
   "source": [
    "\"#Series of sales amount with inconsistent data"
   ]
  },
  {
   "cell_type": "code",
   "execution_count": null,
   "id": "3d215def",
   "metadata": {},
   "outputs": [],
   "source": []
  },
  {
   "cell_type": "markdown",
   "id": "ecc2441f",
   "metadata": {},
   "source": [
    "[1000, 2000, 3000, 4000, '5000', '6000a', '7000b', '8000', '9000c', np.nan]3.      Removing invalid values which are not numeric\""
   ]
  },
  {
   "cell_type": "code",
   "execution_count": null,
   "id": "131461e6",
   "metadata": {},
   "outputs": [],
   "source": []
  },
  {
   "cell_type": "markdown",
   "id": "dabf00d3",
   "metadata": {},
   "source": [
    "\"#Series of sales amount with inconsistent data"
   ]
  },
  {
   "cell_type": "code",
   "execution_count": null,
   "id": "c09a754a",
   "metadata": {},
   "outputs": [],
   "source": []
  },
  {
   "cell_type": "markdown",
   "id": "608cb782",
   "metadata": {},
   "source": [
    "[1000, 2000, 3000, 4000, '5000', '6000a', '7000b', '8000', '9000c', np.nan]4.      Handle missing values\""
   ]
  },
  {
   "cell_type": "code",
   "execution_count": null,
   "id": "935d514f",
   "metadata": {},
   "outputs": [],
   "source": []
  },
  {
   "cell_type": "markdown",
   "id": "28a5c4a3",
   "metadata": {},
   "source": [
    "\"#Series of sales amount with inconsistent data"
   ]
  },
  {
   "cell_type": "code",
   "execution_count": null,
   "id": "a69f2179",
   "metadata": {},
   "outputs": [],
   "source": []
  },
  {
   "cell_type": "markdown",
   "id": "813e8bd3",
   "metadata": {},
   "source": [
    "[1000, 2000, 3000, 4000, '5000', '6000a', '7000b', '8000', '9000c', np.nan]5.      Convert into int\""
   ]
  },
  {
   "cell_type": "code",
   "execution_count": null,
   "id": "45945b82",
   "metadata": {},
   "outputs": [],
   "source": []
  },
  {
   "cell_type": "markdown",
   "id": "f3ee65c2",
   "metadata": {},
   "source": [
    "\"#Series of sales amount with inconsistent data"
   ]
  },
  {
   "cell_type": "code",
   "execution_count": null,
   "id": "5e0e343e",
   "metadata": {},
   "outputs": [],
   "source": []
  },
  {
   "cell_type": "markdown",
   "id": "09c29005",
   "metadata": {},
   "source": [
    "[1000, 2000, 3000, 4000, '5000', '6000a', '7000b', '8000', '9000c', np.nan]6.      Print the cleaned Series\""
   ]
  },
  {
   "cell_type": "code",
   "execution_count": null,
   "id": "80aca957",
   "metadata": {},
   "outputs": [],
   "source": []
  },
  {
   "cell_type": "markdown",
   "id": "f1120671",
   "metadata": {},
   "source": [
    "\"#Series of sales amount with inconsistent data"
   ]
  },
  {
   "cell_type": "code",
   "execution_count": null,
   "id": "5715f8dc",
   "metadata": {},
   "outputs": [],
   "source": []
  },
  {
   "cell_type": "markdown",
   "id": "353cd8fe",
   "metadata": {},
   "source": [
    "[1000, 2000, 3000, 4000, '5000', '6000a', '7000b', '8000', '9000c', np.nan]7.      Find the amount greater than 5000\""
   ]
  },
  {
   "cell_type": "code",
   "execution_count": null,
   "id": "00d741c2",
   "metadata": {},
   "outputs": [],
   "source": []
  },
  {
   "cell_type": "markdown",
   "id": "bbc33a00",
   "metadata": {},
   "source": [
    "\"#Series of sales amount with inconsistent data"
   ]
  },
  {
   "cell_type": "code",
   "execution_count": null,
   "id": "6d54b4ac",
   "metadata": {},
   "outputs": [],
   "source": []
  },
  {
   "cell_type": "markdown",
   "id": "06e0e653",
   "metadata": {},
   "source": [
    "[1000, 2000, 3000, 4000, '5000', '6000a', '7000b', '8000', '9000c', np.nan]8.      Plot a bar graph\""
   ]
  },
  {
   "cell_type": "code",
   "execution_count": null,
   "id": "e0a6f893",
   "metadata": {},
   "outputs": [],
   "source": []
  }
 ],
 "metadata": {
  "kernelspec": {
   "display_name": "Python 3 (ipykernel)",
   "language": "python",
   "name": "python3"
  },
  "language_info": {
   "codemirror_mode": {
    "name": "ipython",
    "version": 3
   },
   "file_extension": ".py",
   "mimetype": "text/x-python",
   "name": "python",
   "nbconvert_exporter": "python",
   "pygments_lexer": "ipython3",
   "version": "3.10.9"
  }
 },
 "nbformat": 4,
 "nbformat_minor": 5
}
